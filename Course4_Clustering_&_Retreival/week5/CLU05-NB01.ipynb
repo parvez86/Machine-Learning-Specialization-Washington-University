{
 "cells": [
  {
   "cell_type": "markdown",
   "metadata": {},
   "source": [
    "# Latent Dirichlet Allocation for Text Data\n",
    "\n",
    "In this assignment you will\n",
    "\n",
    "* apply standard preprocessing techniques on Wikipedia text data\n",
    "* use Turi Create to fit a Latent Dirichlet allocation (LDA) model\n",
    "* explore and interpret the results, including topic keywords and topic assignments for documents\n",
    "\n",
    "Recall that a major feature distinguishing the LDA model from our previously explored methods is the notion of *mixed membership*. Throughout the course so far, our models have assumed that each data point belongs to a single cluster. k-means determines membership simply by shortest distance to the cluster center, and Gaussian mixture models suppose that each data point is drawn from one of their component mixture distributions. In many cases, though, it is more realistic to think of data as genuinely belonging to more than one cluster or category - for example, if we have a model for text data that includes both \"Politics\" and \"World News\" categories, then an article about a recent meeting of the United Nations should have membership in both categories rather than being forced into just one.\n",
    "\n",
    "With this in mind, we will use Turi Create tools to fit an LDA model to a corpus of Wikipedia articles and examine the results to analyze the impact of a mixed membership approach. In particular, we want to identify the topics discovered by the model in terms of their most important words, and we want to use the model to predict the topic membership distribution for a given document. "
   ]
  },
  {
   "cell_type": "markdown",
   "metadata": {},
   "source": [
    "**Note to Amazon EC2 users**: To conserve memory, make sure to stop all the other notebooks before running this notebook."
   ]
  },
  {
   "cell_type": "markdown",
   "metadata": {},
   "source": [
    "## Text Data Preprocessing\n",
    "We'll start by importing our familiar Wikipedia dataset."
   ]
  },
  {
   "cell_type": "code",
   "execution_count": 1,
   "metadata": {},
   "outputs": [],
   "source": [
    "from __future__ import print_function # to conform python 2.x print to python 3.x\n",
    "import turicreate\n",
    "import numpy as np\n",
    "import matplotlib.pyplot as plt\n",
    "\n",
    "%matplotlib inline"
   ]
  },
  {
   "cell_type": "code",
   "execution_count": 2,
   "metadata": {},
   "outputs": [
    {
     "data": {
      "text/html": [
       "<div style=\"max-height:1000px;max-width:1500px;overflow:auto;\"><table frame=\"box\" rules=\"cols\">\n",
       "    <tr>\n",
       "        <th style=\"padding-left: 1em; padding-right: 1em; text-align: center\">URI</th>\n",
       "        <th style=\"padding-left: 1em; padding-right: 1em; text-align: center\">name</th>\n",
       "        <th style=\"padding-left: 1em; padding-right: 1em; text-align: center\">text</th>\n",
       "    </tr>\n",
       "    <tr>\n",
       "        <td style=\"padding-left: 1em; padding-right: 1em; text-align: center; vertical-align: top\">&lt;http://dbpedia.org/resou<br>rce/Digby_Morrell&gt; ...</td>\n",
       "        <td style=\"padding-left: 1em; padding-right: 1em; text-align: center; vertical-align: top\">Digby Morrell</td>\n",
       "        <td style=\"padding-left: 1em; padding-right: 1em; text-align: center; vertical-align: top\">digby morrell born 10<br>october 1979 is a former ...</td>\n",
       "    </tr>\n",
       "    <tr>\n",
       "        <td style=\"padding-left: 1em; padding-right: 1em; text-align: center; vertical-align: top\">&lt;http://dbpedia.org/resou<br>rce/Alfred_J._Lewy&gt; ...</td>\n",
       "        <td style=\"padding-left: 1em; padding-right: 1em; text-align: center; vertical-align: top\">Alfred J. Lewy</td>\n",
       "        <td style=\"padding-left: 1em; padding-right: 1em; text-align: center; vertical-align: top\">alfred j lewy aka sandy<br>lewy graduated from ...</td>\n",
       "    </tr>\n",
       "    <tr>\n",
       "        <td style=\"padding-left: 1em; padding-right: 1em; text-align: center; vertical-align: top\">&lt;http://dbpedia.org/resou<br>rce/Harpdog_Brown&gt; ...</td>\n",
       "        <td style=\"padding-left: 1em; padding-right: 1em; text-align: center; vertical-align: top\">Harpdog Brown</td>\n",
       "        <td style=\"padding-left: 1em; padding-right: 1em; text-align: center; vertical-align: top\">harpdog brown is a singer<br>and harmonica player who ...</td>\n",
       "    </tr>\n",
       "    <tr>\n",
       "        <td style=\"padding-left: 1em; padding-right: 1em; text-align: center; vertical-align: top\">&lt;http://dbpedia.org/resou<br>rce/Franz_Rottensteiner&gt; ...</td>\n",
       "        <td style=\"padding-left: 1em; padding-right: 1em; text-align: center; vertical-align: top\">Franz Rottensteiner</td>\n",
       "        <td style=\"padding-left: 1em; padding-right: 1em; text-align: center; vertical-align: top\">franz rottensteiner born<br>in waidmannsfeld lower ...</td>\n",
       "    </tr>\n",
       "    <tr>\n",
       "        <td style=\"padding-left: 1em; padding-right: 1em; text-align: center; vertical-align: top\">&lt;http://dbpedia.org/resou<br>rce/G-Enka&gt; ...</td>\n",
       "        <td style=\"padding-left: 1em; padding-right: 1em; text-align: center; vertical-align: top\">G-Enka</td>\n",
       "        <td style=\"padding-left: 1em; padding-right: 1em; text-align: center; vertical-align: top\">henry krvits born 30<br>december 1974 in tallinn ...</td>\n",
       "    </tr>\n",
       "    <tr>\n",
       "        <td style=\"padding-left: 1em; padding-right: 1em; text-align: center; vertical-align: top\">&lt;http://dbpedia.org/resou<br>rce/Sam_Henderson&gt; ...</td>\n",
       "        <td style=\"padding-left: 1em; padding-right: 1em; text-align: center; vertical-align: top\">Sam Henderson</td>\n",
       "        <td style=\"padding-left: 1em; padding-right: 1em; text-align: center; vertical-align: top\">sam henderson born<br>october 18 1969 is an ...</td>\n",
       "    </tr>\n",
       "    <tr>\n",
       "        <td style=\"padding-left: 1em; padding-right: 1em; text-align: center; vertical-align: top\">&lt;http://dbpedia.org/resou<br>rce/Aaron_LaCrate&gt; ...</td>\n",
       "        <td style=\"padding-left: 1em; padding-right: 1em; text-align: center; vertical-align: top\">Aaron LaCrate</td>\n",
       "        <td style=\"padding-left: 1em; padding-right: 1em; text-align: center; vertical-align: top\">aaron lacrate is an<br>american music producer ...</td>\n",
       "    </tr>\n",
       "    <tr>\n",
       "        <td style=\"padding-left: 1em; padding-right: 1em; text-align: center; vertical-align: top\">&lt;http://dbpedia.org/resou<br>rce/Trevor_Ferguson&gt; ...</td>\n",
       "        <td style=\"padding-left: 1em; padding-right: 1em; text-align: center; vertical-align: top\">Trevor Ferguson</td>\n",
       "        <td style=\"padding-left: 1em; padding-right: 1em; text-align: center; vertical-align: top\">trevor ferguson aka john<br>farrow born 11 november ...</td>\n",
       "    </tr>\n",
       "    <tr>\n",
       "        <td style=\"padding-left: 1em; padding-right: 1em; text-align: center; vertical-align: top\">&lt;http://dbpedia.org/resou<br>rce/Grant_Nelson&gt; ...</td>\n",
       "        <td style=\"padding-left: 1em; padding-right: 1em; text-align: center; vertical-align: top\">Grant Nelson</td>\n",
       "        <td style=\"padding-left: 1em; padding-right: 1em; text-align: center; vertical-align: top\">grant nelson born 27<br>april 1971 in london  ...</td>\n",
       "    </tr>\n",
       "    <tr>\n",
       "        <td style=\"padding-left: 1em; padding-right: 1em; text-align: center; vertical-align: top\">&lt;http://dbpedia.org/resou<br>rce/Cathy_Caruth&gt; ...</td>\n",
       "        <td style=\"padding-left: 1em; padding-right: 1em; text-align: center; vertical-align: top\">Cathy Caruth</td>\n",
       "        <td style=\"padding-left: 1em; padding-right: 1em; text-align: center; vertical-align: top\">cathy caruth born 1955 is<br>frank h t rhodes ...</td>\n",
       "    </tr>\n",
       "</table>\n",
       "[59071 rows x 3 columns]<br/>Note: Only the head of the SFrame is printed.<br/>You can use print_rows(num_rows=m, num_columns=n) to print more rows and columns.\n",
       "</div>"
      ],
      "text/plain": [
       "Columns:\n",
       "\tURI\tstr\n",
       "\tname\tstr\n",
       "\ttext\tstr\n",
       "\n",
       "Rows: 59071\n",
       "\n",
       "Data:\n",
       "+-------------------------------+---------------------+\n",
       "|              URI              |         name        |\n",
       "+-------------------------------+---------------------+\n",
       "| <http://dbpedia.org/resour... |    Digby Morrell    |\n",
       "| <http://dbpedia.org/resour... |    Alfred J. Lewy   |\n",
       "| <http://dbpedia.org/resour... |    Harpdog Brown    |\n",
       "| <http://dbpedia.org/resour... | Franz Rottensteiner |\n",
       "| <http://dbpedia.org/resour... |        G-Enka       |\n",
       "| <http://dbpedia.org/resour... |    Sam Henderson    |\n",
       "| <http://dbpedia.org/resour... |    Aaron LaCrate    |\n",
       "| <http://dbpedia.org/resour... |   Trevor Ferguson   |\n",
       "| <http://dbpedia.org/resour... |     Grant Nelson    |\n",
       "| <http://dbpedia.org/resour... |     Cathy Caruth    |\n",
       "+-------------------------------+---------------------+\n",
       "+-------------------------------+\n",
       "|              text             |\n",
       "+-------------------------------+\n",
       "| digby morrell born 10 octo... |\n",
       "| alfred j lewy aka sandy le... |\n",
       "| harpdog brown is a singer ... |\n",
       "| franz rottensteiner born i... |\n",
       "| henry krvits born 30 decem... |\n",
       "| sam henderson born october... |\n",
       "| aaron lacrate is an americ... |\n",
       "| trevor ferguson aka john f... |\n",
       "| grant nelson born 27 april... |\n",
       "| cathy caruth born 1955 is ... |\n",
       "+-------------------------------+\n",
       "[59071 rows x 3 columns]\n",
       "Note: Only the head of the SFrame is printed.\n",
       "You can use print_rows(num_rows=m, num_columns=n) to print more rows and columns."
      ]
     },
     "execution_count": 2,
     "metadata": {},
     "output_type": "execute_result"
    }
   ],
   "source": [
    "# import wiki data\n",
    "wiki = turicreate.SFrame('people_wiki.sframe/')\n",
    "wiki"
   ]
  },
  {
   "cell_type": "markdown",
   "metadata": {},
   "source": [
    "In the original data, each Wikipedia article is represented by a URI, a name, and a string containing the entire text of the article. Recall from the video lectures that LDA requires documents to be represented as a _bag of words_, which ignores word ordering in the document but retains information on how many times each word appears. As we have seen in our previous encounters with text data, words such as 'the', 'a', or 'and' are by far the most frequent, but they appear so commonly in the English language that they tell us almost nothing about how similar or dissimilar two documents might be. \n",
    "\n",
    "Therefore, before we train our LDA model, we will preprocess the Wikipedia data in two steps: first, we will create a bag of words representation for each article, and then we will remove the common words that don't help us to distinguish between documents. For both of these tasks we can use pre-implemented tools from Turi Create:"
   ]
  },
  {
   "cell_type": "code",
   "execution_count": 3,
   "metadata": {},
   "outputs": [],
   "source": [
    "wiki_docs = turicreate.text_analytics.count_words(wiki['text'])\n",
    "wiki_docs = wiki_docs.dict_trim_by_keys(turicreate.text_analytics.stop_words(), exclude=True)"
   ]
  },
  {
   "cell_type": "code",
   "execution_count": 47,
   "metadata": {},
   "outputs": [
    {
     "data": {
      "text/plain": [
       "dtype: dict\n",
       "Rows: 59071\n",
       "[{'melbourne': 1.0, 'parade': 1.0, 'education': 1.0, 'physical': 1.0, 'teaches': 1.0, 'coburg': 1.0, '2014': 1.0, 'premiership': 1.0, 'division': 1.0, '2011': 1.0, 'edflhe': 1.0, 'district': 1.0, '2013': 1.0, '2009': 1.0, 'retiring': 1.0, 'hill': 1.0, 'coached': 1.0, 'box': 1.0, 'strathmore': 1.0, '2008': 1.0, '2007': 1.0, 'assistant': 1.0, 'hawks': 1.0, '2006': 1.0, 'vflaffiliate': 1.0, 'acted': 1.0, 'carltons': 1.0, 'bullants': 1.0, 'northern': 1.0, 'vfl': 1.0, '21': 1.0, 'rookie': 1.0, 'western': 1.0, 'goalkicker': 1.0, 'senior': 3.0, 'leading': 2.0, '2001': 1.0, 'falcons': 1.0, '44game': 1.0, 'kicked': 1.0, 'age': 1.0, 'early': 1.0, 'afl': 1.0, '32': 1.0, '10': 1.0, 'losing': 1.0, 'october': 1.0, 'played': 3.0, 'aflfrom': 1.0, 'brisbaneafter': 1.0, 'australian': 3.0, 'kangaroos': 3.0, 'premier': 1.0, '2000': 1.0, 'west': 2.0, '1979': 1.0, 'morrell': 5.0, 'sydney': 1.0, 'digby': 1.0, 'clubs': 1.0, 'continued': 1.0, '19982000': 1.0, 'rules': 1.0, '2003': 1.0, 'footballer': 1.0, 'spanned': 1.0, 'essendon': 1.0, 'draft': 1.0, 'recruited': 1.0, 'australia': 1.0, 'born': 1.0, 'david': 1.0, 'play': 1.0, 'shifted': 1.0, 'league': 4.0, 'club': 5.0, 'coach': 2.0, 'playing': 2.0, 'selection': 1.0, 'forward': 1.0, 'football': 10.0, 'goals': 1.0, 'season': 3.0, 'time': 1.0, '2002': 1.0, 'drawn': 1.0, 'game': 1.0, 'traded': 1.0, 'perth': 1.0, 'teague': 1.0, 'exchange': 1.0, 'college': 1.0, 'corey': 1.0, 'mckernan': 1.0, 'career': 1.0, 'round': 1.0, 'games': 1.0, 'carlton': 2.0, 'end': 2.0, 'blues': 1.0, 'delisted': 1.0, '2005': 1.0, 'victorian': 1.0}, {'time': 1.0, 'hour': 1.0, 'rhythms': 1.0, 'individuals': 1.0, 'blind': 1.0, 'phasedelay': 1.0, 'shifts': 2.0, 'phaseadvance': 1.0, 'evening': 2.0, 'scheduled': 1.0, 'precisely': 1.0, 'exposure': 3.0, 'focused': 1.0, 'current': 1.0, 'assessed': 1.0, 'treatment': 3.0, 'biological': 1.0, 'secretion': 1.0, 'pattern': 1.0, '24hour': 1.0, 'defined': 1.0, 'hormone': 1.0, 'day': 2.0, 'aka': 1.0, 'include': 1.0, 'prior': 1.0, 'phd': 1.0, 'wehr': 1.0, 'light': 3.0, 'science': 1.0, 'health': 2.0, 'bright': 1.0, 'ohsu': 1.0, 'department': 1.0, 'circadian': 3.0, 'working': 1.0, 'maladaptation': 1.0, 'pubmed': 1.0, 'rhythm': 1.0, 'monitored': 1.0, 'psychiatry': 2.0, 'administration': 3.0, 'moving': 1.0, 'developing': 1.0, 'oregon': 3.0, 'chicago': 1.0, 'assay': 1.0, 'national': 1.0, 'ophthalmology': 1.0, 'lewy': 3.0, 'laboratory': 1.0, 'sandy': 1.0, 'nimh': 1.0, 'full': 1.0, 'melatonin': 5.0, 'maryland': 1.0, 'university': 2.0, 'studying': 1.0, 'relying': 1.0, 'alfred': 1.0, 'colleague': 1.0, 'disorders': 4.0, 'sleep': 2.0, 'pharmacology': 1.0, 'institute': 1.0, 'jet': 1.0, 'capsule': 1.0, '25hour': 1.0, 'professor': 1.0, 'thomas': 1.0, 'publications': 1.0, '1973': 1.0, 'senior': 1.0, 'mood': 1.0, 'morning': 2.0, 'bethesda': 1.0, 'worked': 1.0, 'describes': 1.0, 'closely': 1.0, 'drifting': 1.0, 'robert': 1.0, 'chronobiologic': 1.0, 'sack': 1.0, 'december': 1.0, '2005': 1.0, 'modalities': 1.0, 'types': 1.0, 'holds': 1.0, '94': 1.0, 'studies': 1.0, 'research': 2.0, 'vicechair': 1.0, 'mental': 1.0, 'md': 1.0, 'totally': 1.0, 'graduated': 1.0, 'winter': 1.0, 'depression': 1.0, '1981': 1.0, 'shift': 1.0, 'work': 1.0, 'disturbances': 1.0, 'precise': 1.0, 'lag': 1.0, 'plasma': 1.0}, {'society': 1.0, 'hamilton': 1.0, 'membership': 1.0, 'life': 1.0, 'maple': 1.0, 'awarded': 1.0, 'albumhe': 1.0, 'petersen': 1.0, 'holger': 1.0, 'broadcaster': 1.0, 'influential': 1.0, 'honored': 1.0, 'classic': 1.0, 'songs': 1.0, 'original': 1.0, 'comprising': 1.0, '2014': 2.0, 'leads': 1.0, 'big': 1.0, 'venues': 1.0, 'working': 1.0, 'released': 1.0, 'band': 3.0, 'full': 1.0, 'duo': 1.0, 'gutsy': 1.0, 'piano': 1.0, 'year': 1.0, 'promoter': 1.0, 'playing': 1.0, 'dates': 1.0, 'club': 1.0, 'crossed': 1.0, 'traditional': 1.0, 'combos': 1.0, 'years': 1.0, 'miles': 1.0, 'issued': 1.0, 'thousands': 1.0, 'festivals': 1.0, 'award': 2.0, 'canada': 2.0, 'portland': 1.0, '1995': 1.0, 'northwestern': 1.0, 'harmonica': 2.0, 'singer': 1.0, 'vancouver': 1.0, 'cd': 1.0, 'hailing': 1.0, 'player': 2.0, 'won': 1.0, 'brown': 2.0, 'harpdog': 2.0, 'guitarist': 1.0, 'cds': 1.0, 'active': 1.0, 'nominated': 1.0, 'guest': 1.0, '2010': 1.0, 'performing': 1.0, 'blues': 9.0, 'tens': 1.0, 'juno': 1.0, 'canadian': 2.0, 'juggles': 1.0, 'canadas': 1.0, 'scene': 1.0, 'germanyover': 1.0, 'united': 1.0, 'muddy': 1.0, 'covers': 1.0, 'voted': 1.0, 'nw': 1.0, 'graham': 1.0, 'cascade': 1.0, 'release': 1.0, 'association': 1.0, '1982': 1.0, 'oregon': 1.0, 'states': 1.0, 'bluesgospel': 1.0, 'time': 1.0, 'surveybrown': 1.0, 'recording': 1.0, 'harp': 1.0, 'teamed': 1.0, 'toronto': 1.0, 'arthur': 1.0, 'naturally': 1.0, '1': 1.0, 'home': 2.0, 'blind': 1.0, 'called': 1.0, 'album': 1.0, 'lemon': 1.0, 'tours': 1.0, 'small': 1.0, 'extensively': 1.0, 'edmonds': 1.0, 'browns': 1.0, 'electric': 1.0, 'mid1950s': 1.0, 'chicago': 2.0}, {'kurdlawitzpreis': 1.0, 'awarded': 1.0, '2004': 1.0, 'journal': 2.0, 'critical': 1.0, 'language': 1.0, 'quarber': 1.0, 'hundredth': 1.0, 'statesrottensteiner': 1.0, '1995': 1.0, 'promotion': 1.0, 'close': 1.0, 'special': 1.0, 'reference': 1.0, 'numerous': 1.0, 'working': 1.0, 'jeanpierre': 1.0, 'university': 1.0, 'englishreading': 1.0, '1973': 1.0, 'view': 1.0, '18': 1.0, 'continental': 1.0, 'york': 1.0, 'bibliothek': 1.0, 'kobo': 1.0, 'english': 1.0, 'dick': 2.0, 'philip': 2.0, 'lem': 4.0, 'volumes': 2.0, 'stanislaw': 2.0, 'franke': 1.0, 'translations': 1.0, '28': 1.0, 'books': 2.0, 'josef': 1.0, 'public': 1.0, 'strugatski': 1.0, 'institut': 1.0, 'number': 3.0, 'andrevonthe': 1.0, '1998': 1.0, 'anthology': 1.0, 'highest': 1.0, 'fantasticrottensteiner': 1.0, 'fiction': 7.0, 'addition': 1.0, 'science': 6.0, 'including': 1.0, 'fifteen': 1.0, '1969': 1.0, 'austrian': 1.0, 'klein': 1.0, 'german': 2.0, 'cordwainer': 1.0, 'sf': 2.0, 'wellss': 1.0, 'doctorate': 1.0, 'phantastische': 1.0, 'hundred': 1.0, 'born': 1.0, 'phantastischen': 1.0, 'waidmannsfeld': 1.0, 'work': 1.0, 'january': 1.0, 'figure': 1.0, 'publisher': 1.0, 'rottensteiner': 3.0, 'asimov': 1.0, 'brothersin': 1.0, 'abe': 1.0, 'sterreichisches': 1.0, 'gerard': 1.0, 'franz': 1.0, 'herbert': 1.0, 'hg': 1.0, 'typical': 1.0, 'austria': 2.0, 'fields': 1.0, 'critic': 1.0, 'journalism': 1.0, 'karel': 1.0, 'fr': 1.0, '1942': 1.0, '1980': 1.0, 'shore': 1.0, 'authors': 3.0, 'history': 1.0, 'olaf': 1.0, 'vienna': 2.0, 'seriesrottensteiner': 1.0, 'lower': 1.0, 'achievements': 1.0, 'advisor': 1.0, 'receiving': 1.0, 'brian': 1.0, 'eighteen': 1.0, '1963': 1.0, 'anthologies': 1.0, 'provoked': 1.0, 'european': 1.0, 'served': 1.0, 'ending': 1.0, 'leading': 2.0, 'association': 1.0, 'years': 3.0, 'fantasy': 1.0, 'librarian': 1.0, 'editor': 2.0, 'und': 1.0, 'bauforschung': 1.0, '1975': 2.0, 'die': 1.0, 'series': 1.0, 'trnaslations': 1.0, 'romane': 1.0, 'edited': 1.0, '1978': 1.0, 'republished': 1.0, 'heinlein': 1.0, 'works': 3.0, 'smith': 1.0, 'lesser': 1.0, 'start': 1.0, 'writers': 2.0, 'barry': 1.0, 'introduced': 1.0, 'greatest': 1.0, 'total': 1.0, '19791985': 1.0, 'brought': 2.0, 'malzberg': 1.0, 'aldiss': 1.0, 'listing': 1.0, 'studied': 1.0, 'verlags': 1.0, 'produced': 2.0, 'praised': 1.0, 'negative': 1.0, 'factor': 1.0, 'assessment': 1.0, 'american': 1.0, 'matters': 1.0, 'recognition': 1.0, 'betterknown': 1.0, 'fifty': 1.0, 'produce': 1.0, 'comparable': 1.0, 'wells': 1.0, 'stapledon': 1.0, 'apek': 1.0, 'stanisaw': 1.0, 'describedroger': 1.0, 'zelazny': 1.0, 'robert': 1.0, 'occasion': 1.0, 'silverberg': 1.0, 'producing': 1.0, 'travesties': 1.0, 'stated': 1.0, 'merkur': 1.0, 'controversy': 1.0, 'nonwriter': 1.0, 'year': 1.0, 'andersonare': 1.0, 'united': 1.0, 'banal': 1.0, 'nesvadba': 1.0, 'suhrkamp': 1.0, 'illustrated': 1.0, 'book': 2.0}, {'curtis': 1.0, '2007': 1.0, 'cent': 1.0, 'performers': 1.0, 'records': 1.0, 'company': 1.0, 'armchair': 1.0, 'tugitooli': 1.0, 'island': 1.0, 'palm': 1.0, 'warmup': 1.0, 'real': 1.0, 'toe': 4.0, 'europe': 1.0, 'year': 2.0, 'oja': 2.0, '2006': 1.0, 'dj': 2.0, 'paul': 2.0, 'rapper': 1.0, 'revo': 2.0, '2004': 1.0, 'studio': 1.0, 'palmisaar': 1.0, 'producergenka': 1.0, 'born': 1.0, 'krvits': 1.0, 'started': 5.0, 'group': 1.0, 'kuhnja': 1.0, 'december': 1.0, '30': 1.0, '1998': 1.0, 'henry': 1.0, 'tag': 4.0, 'stagename': 1.0, 'genka': 5.0, 'promo': 1.0, 'album': 6.0, 'called': 1.0, 'genkas': 1.0, '50': 1.0, 'famous': 3.0, 'rapping': 1.0, 'homophobes': 1.0, 'gangstergenka': 1.0, 'bankruptcy': 1.0, 'rap': 1.0, 'arhm': 3.0, 'hit': 1.0, 'rapped': 1.0, 'released': 3.0, 'band': 1.0, 'droopy': 1.0, '2001': 1.0, 'leegion': 1.0, 'estonian': 3.0, 'tallinn': 3.0, 'making': 1.0, 'back': 1.0, 'big': 1.0, 'tour': 2.0, 'schoolmate': 1.0, 'joined': 1.0, 'gangster': 1.0, 'legendaarne': 3.0, 'record': 2.0, 'legendary': 1.0, 'vacation': 1.0, 'consisted': 1.0, '1996': 1.0, '18': 1.0, '1974': 1.0, 'pankrot': 1.0, 'songs': 5.0, 'solo': 1.0, '23': 1.0}, {'asses': 1.0, 'sic': 1.0, 'toilets': 1.0, '5009': 3.0, '4': 1.0, 'number': 1.0, 'awardshis': 1.0, 'emmy': 1.0, 'hour': 1.0, 'lives': 1.0, 'programming': 1.0, 'program': 1.0, 'animated': 1.0, 'nomination': 1.0, 'spongebob': 1.0, 'writing': 1.0, 'contained': 1.0, '2003': 1.0, 'work': 1.0, 'special': 1.0, '19992004in': 1.0, 'turned': 1.0, 'yorksince': 1.0, 'scratchings': 1.0, 'crude': 1.0, 'directing': 1.0, 'wrote': 1.0, 'expressnews': 1.0, 'antonio': 1.0, 'san': 1.0, 'bigger': 2.0, 'review': 1.0, 'sam': 1.0, '55th': 1.0, 'graduated': 1.0, '1993': 2.0, 'city': 1.0, 'minicomics': 2.0, 'due': 1.0, 'born': 2.0, 'visual': 1.0, '1987': 1.0, 'october': 1.0, 'magazines': 1.0, 'hendersons': 3.0, 'graduating': 1.0, 'niblit': 1.0, 'onteora': 1.0, 'earliest': 1.0, '1980': 1.0, 'henderson': 3.0, 'writer': 1.0, 'march': 1.0, 'award': 1.0, 'year': 1.0, 'xeroxed': 1.0, 'yorks': 1.0, 'journal': 1.0, 'weekly': 1.0, 'funniest': 1.0, '18': 1.0, 'school': 2.0, 'american': 2.0, 'cartoonist': 1.0, 'comedy': 1.0, '1988': 1.0, 'friend': 1.0, 'monroe': 1.0, 'reprinted': 1.0, '1980s': 1.0, 'squarepants': 1.0, 'nickelodeon': 1.0, 'spaz': 1.0, 'york': 2.0, 'woodstock': 2.0, 'heard': 1.0, 'man': 1.0, 'hometown': 1.0, '1969': 1.0, 'arts': 1.0, 'high': 1.0, 'attended': 1.0, 'selfpublishing': 2.0, 'drew': 2.0, '2010': 1.0, 'bear': 1.0, 'comic': 5.0, 'bestknown': 1.0, 'called': 1.0, 'nominated': 1.0, 'captain': 1.0, 'pink': 1.0, 'larger': 1.0, 'red': 1.0, 'humor': 1.0, 'midtolate': 1.0, 'bobby': 1.0, 'penises': 1.0, 'harvey': 1.0, 'featuring': 1.0, 'awards': 1.0, 'weiss': 1.0, 'series': 2.0, 'expert': 1.0, 'college': 2.0, 'busy': 1.0, 'junk': 1.0, 'collection': 1.0, 'simmons': 1.0, 'began': 2.0, 'blobby': 1.0, 'title': 1.0, '1991henderson': 1.0, 'whistle': 4.0, 'historyhenderson': 1.0, 'magic': 4.0, 'storyboard': 1.0, 'published': 3.0, 'alternative': 1.0, 'comics': 2.0, 'wordless': 1.0, 'strip': 2.0, 'scene': 1.0, 'boiceville': 1.0, 'starring': 1.0, 'ended': 1.0, 'magazine': 1.0, 'earned': 1.0, '2010in': 1.0, 'character': 1.0, 'longestrunning': 1.0}, {'streamz': 1.0, 'including': 1.0, 'artists': 1.0, 'doolittle': 1.0, 'vegas': 1.0, 'mr': 1.0, 'features': 1.0, 'starring': 1.0, 'verb': 1.0, 'report': 1.0, 'soundtrack': 1.0, 'videogame': 1.0, 'entourage': 1.0, 'featured': 1.0, 'ferrari': 1.0, 'mz': 1.0, 'ferrariwhich': 1.0, 'confused': 1.0, 'cocacola': 1.0, 'pellatfinet': 1.0, 'lucien': 1.0, 'cashmere': 1.0, 'jayz': 1.0, 'colette': 1.0, 'collaborations': 1.0, 'developed': 1.0, 'ronson': 1.0, 'mark': 1.0, 'toured': 1.0, 'showlacrate': 1.0, 'west': 1.0, '2005': 1.0, 'gutter': 2.0, 'album': 1.0, 'tracks': 1.0, 'hero': 1.0, 'young': 1.0, 'em': 1.0, 'rock': 1.0, '10': 1.0, 'blank': 1.0, 'delicious': 1.0, 'amanda': 1.0, 'fashion': 5.0, 'success': 1.0, 'lacrates': 1.0, 'early': 1.0, 'collaboration': 1.0, 'productions': 1.0, 'commissioned': 2.0, 'helping': 1.0, 'east': 1.0, 'recording': 1.0, 'performanceslacrate': 1.0, 'baltimores': 1.0, 'paris': 1.0, 'hbo': 4.0, 'nightclubs': 1.0, 'highly': 1.0, 'television': 1.0, 'vans': 1.0, 'road': 1.0, 'seth': 1.0, 'rascals': 1.0, 'star': 1.0, 'mixtapes': 1.0, 'clothing': 2.0, 'records': 2.0, 'support': 1.0, 'official': 2.0, 'series': 2.0, 'platinum': 1.0, 'recordings': 1.0, 'wide': 1.0, 'wire': 3.0, 'boy': 1.0, 'madonna': 1.0, 'director': 1.0, 'original': 1.0, 'baltimoreaaron': 1.0, 'remixed': 1.0, 'american': 1.0, 'quest': 1.0, 'vinyl': 1.0, 'athletics': 3.0, 'credited': 2.0, 'popularizing': 1.0, 'mndr': 1.0, 'music': 7.0, 'film': 1.0, 'grew': 1.0, 'kanye': 1.0, 'dizzee': 3.0, 'local': 1.0, 'launch': 1.0, 'role': 1.0, 'dazed': 1.0, 'lily': 3.0, 'working': 1.0, '2009': 1.0, 'experimenting': 1.0, 'record': 2.0, 'doolittleat': 1.0, 'maryland': 1.0, 'university': 1.0, 'mc': 1.0, 'epmd': 1.0, 'rogenrecently': 1.0, 'allen': 3.0, 'custom': 1.0, 'recently': 1.0, 'create': 1.0, 'specialedition': 1.0, 'diy': 1.0, 'artist': 1.0, 'lacrate': 12.0, 'vital': 1.0, 'range': 1.0, 'campus': 1.0, 'live': 1.0, 'produced': 3.0, 'age': 1.0, 'producer': 1.0, 'based': 1.0, 'rakim': 3.0, 'cable': 1.0, 'level': 1.0, 'graffiti': 1.0, 'life': 2.0, 'baltimore': 8.0, 'jayzs': 1.0, 'highlandtown': 1.0, 'observe': 1.0, 'bmore': 3.0, 'exclusive': 2.0, 'world': 1.0, 'ragehbo': 1.0, 'born': 1.0, 'djing': 1.0, 'streetwear': 2.0, 'attending': 1.0, 'collaborated': 2.0, 'milkcrate': 6.0, 'created': 1.0, 'aaron': 5.0, 'studio': 1.0, 'brandaaron': 1.0, 'interning': 1.0, 'pop': 1.0, 'black': 1.0, 'nightclub': 1.0, 'historical': 1.0, 'rascal': 2.0, 'time': 1.0, 'began': 2.0, 'marc': 1.0, 'club': 2.0, 'parties': 1.0, 'spank': 1.0, 'tour': 1.0, 'writing': 1.0, 'sold': 1.0, 'started': 1.0, 'making': 1.0, 'tshirts': 2.0, 'shows': 1.0, 'culture': 2.0, 'basement': 1.0, 'youngest': 1.0, 'cool': 1.0, 'house': 1.0, 'prior': 1.0, 'syracuse': 1.0, 'hard': 1.0, 'scene': 1.0, 'played': 1.0, 'king': 1.0, 'summers': 1.0, 'york': 1.0, 'city': 1.0, 'def': 1.0, 'jam': 1.0, 'song': 1.0, 'payday': 1.0, 'rocafella': 1.0, 'spent': 1.0, 'fade': 1.0, 'designer': 2.0, 'classic': 1.0, 'reasonable': 1.0, 'doubt': 1.0, 'knock': 1.0, 'eliza': 2.0, 'jay': 1.0, 'featuring': 1.0, 'tshirtin': 1.0, '1999': 1.0, 'successful': 1.0, 'kids': 1.0, 'tramps': 1.0, 'nyc': 2.0, 'tribe': 1.0, 'wutang': 1.0, 'sponsored': 1.0, 'eminems': 1.0, 'show': 2.0, 'called': 1.0, 'slick': 1.0, 'ricks': 1.0, 'jacobs': 1.0, 'clan': 1.0, 'released': 3.0, 'major': 2.0, 'prison': 1.0, 'outkast': 1.0, 'dj': 3.0, 'ultramagnetic': 1.0, 'mcs': 1.0, 'crack': 1.0, 'label': 2.0, 'gorillaz': 1.0, 'soulja': 1.0}, {'concordia': 1.0, 'creative': 1.0, 'teaches': 1.0, 'frequently': 1.0, 'centre': 1.0, 'banff': 1.0, 'americas': 1.0, 'festival': 1.0, '1999': 1.0, 'special': 1.0, 'livres': 1.0, 'salon': 1.0, 'guests': 1.0, 'university': 2.0, 'writerinresidence': 1.0, 'dhonneur': 1.0, 'chair': 1.0, '54': 1.0, 'bridge': 1.0, 'opens': 1.0, 'things': 1.0, 'zarathustra': 1.0, 'fourth': 1.0, '2004': 1.0, 'writers': 3.0, 'march': 1.0, 'run': 1.0, 'enjoyed': 1.0, 'paris': 2.0, 'coproduced': 1.0, 'west': 1.0, 'village': 1.0, 'tenth': 1.0, 'commemorate': 1.0, 'chosen': 1.0, 'sienna': 1.0, 'people': 1.0, '20000': 1.0, 'place': 1.0, '2005': 1.0, 'fall': 1.0, 'stage': 1.0, 'returned': 1.0, 'qubcoise': 1.0, 'english': 1.0, 'award': 1.0, 'sprung': 2.0, 'infinitheatre': 3.0, 'short': 1.0, 'long': 3.0, 'anniversary': 1.0, 'play': 5.0, '2002': 4.0, 'press': 1.0, 'booksst': 1.0, 'dunne': 1.0, 'thomas': 1.0, 'murders': 1.0, 'storm': 1.0, 'trilogy': 1.0, 'language': 1.0, 'arts': 2.0, 'raised': 1.0, 'chants': 1.0, '2013': 1.0, 'water': 1.0, 'major': 1.0, 'working': 1.0, 'taxi': 1.0, 'served': 1.0, '1985': 1.0, 'burns': 1.0, 'settled': 1.0, 'driving': 1.0, 'returning': 1.0, 'states': 1.0, 'dir': 2.0, 'huron': 1.0, 'writing': 2.0, 'united': 1.0, 'equally': 1.0, 'travelled': 1.0, 'twenties': 1.0, 'crime': 2.0, 'die': 1.0, 'night': 2.0, 'europe': 1.0, 'burnt': 1.0, 'film': 1.0, '1977': 1.0, 'received': 2.0, 'masque': 1.0, 'gangs': 1.0, 'worked': 2.0, 'bunkhousesin': 1.0, 'invit': 1.0, 'house': 1.0, 'french': 1.0, 'write': 2.0, 'developed': 1.0, 'author': 1.0, '2006': 1.0, 'ice': 2.0, 'early': 1.0, 'day': 1.0, 'toronto': 1.0, 'publication': 2.0, 'plays': 1.0, 'past': 1.0, 'penname': 1.0, 'barnacle': 1.0, 'des': 2.0, 'worlds': 1.0, 'text': 1.0, 'regarded': 1.0, 'praise': 1.0, 'nominated': 1.0, 'trevor': 3.0, 'november': 2.0, 'midteens': 1.0, 'writersextraordinary': 1.0, 'fiction': 3.0, 'john': 4.0, 'onyx': 1.0, 'sold': 1.0, 'northwest': 1.0, 'canada': 3.0, 'fair': 1.0, 'ontario': 1.0, 'high': 1.0, 'journal': 1.0, 'seaforth': 1.0, 'farrow': 3.0, 'company': 1.0, 'won': 1.0, 'called': 4.0, '2014city': 1.0, 'guy': 2.0, 'dennis': 1.0, 'canadas': 2.0, 'germany': 1.0, 'gravitated': 1.0, 'time': 1.0, 'began': 1.0, 'ferguson': 2.0, 'alberta': 1.0, '1000': 1.0, 'du': 1.0, 'lives': 1.0, 'aka': 1.0, 'starborn': 1.0, 'lee': 1.0, 'age': 1.0, 'books': 1.0, 'montreal': 6.0, 'hudson': 2.0, 'arguably': 1.0, 'highest': 1.0, 'produced': 3.0, 'faculty': 1.0, 'genre': 1.0, 'critical': 1.0, 'literature': 1.0, 'leon': 1.0, 'rooke': 1.0, 'twentieth': 1.0, 'sixteen': 1.0, 'years': 1.0, 'kinkajou': 1.0, 'caused': 1.0, 'wood': 1.0, 'booklist': 1.0, 'work': 1.0, 'highly': 2.0, 'invited': 2.0, 'hes': 1.0, 'maclennan': 1.0, 'declared': 1.0, 'cited': 1.0, 'successful': 1.0, 'fergusons': 2.0, 'studio': 2.0, '2015in': 1.0, 'century': 1.0, 'newspaper': 1.0, 'quebec': 2.0, 'preeminent': 1.0, 'martins': 1.0, 'acclaim': 1.0, 'written': 1.0, '11': 1.0, 'awaited': 1.0, 'sun': 1.0, 'timekeeper': 1.0, 'theatre': 3.0, 'ninth': 1.0, 'authors': 1.0, 'history': 2.0, 'hugh': 1.0, 'prize': 1.0, 'county': 1.0, '1': 1.0, 'railway': 1.0, 'river': 3.0, 'city': 3.0, 'france': 2.0, 'published': 3.0, '2011': 1.0, '17': 1.0, 'paperback': 1.0, 'option': 1.0, '1947': 2.0, 'miniseries': 1.0, 'beach': 1.0, 'agreed': 1.0, 'union': 1.0, 'simon': 1.0, 'schuster': 1.0, 'april': 2.0, 'countries': 1.0, 'lacadmie': 1.0, 'pages': 1.0, 'vancouver': 1.0, 'novels': 3.0, '2012': 1.0, 'book': 2.0, 'cultural': 1.0, 'canadian': 3.0, 'bestseller': 1.0, 'series': 3.0, 'lake': 1.0, 'york': 3.0, 'novelist': 2.0, 'today': 1.0, 'ziet': 1.0, 'library': 1.0, 'born': 1.0, 'claim': 1.0}, {'heavies': 1.0, 'brand': 1.0, 'beverley': 1.0, 'negrocan': 1.0, 'king': 1.0, 'champagne': 1.0, 'tei': 1.0, 'roberts': 1.0, 'gilberto': 1.0, 'juliet': 1.0, 'goldie': 1.0, 'level': 1.0, 'agnes': 1.0, 'houston': 1.0, 'mcneal': 1.0, 'dodger': 1.0, 'aaliyah': 1.0, 'evelyn': 1.0, 'misteeq': 1.0, 'kelis': 1.0, 'include': 1.0, 'remixed': 1.0, 'artists': 1.0, 'musicsome': 1.0, 'top': 1.0, 'consistently': 1.0, 'swing': 1.0, 'present': 1.0, 'continues': 1.0, 'days': 1.0, 'knight': 1.0, 'house': 2.0, 'remained': 1.0, 'brown': 2.0, 'delivers': 1.0, 'james': 2.0, 'ah': 1.0, 'funk': 1.0, 'began': 1.0, 'alterego': 1.0, '1993': 1.0, 'faithless': 1.0, '1990s': 1.0, 'sunday': 1.0, 'club': 1.0, 'frankie': 1.0, 'guy': 1.0, '2step': 1.0, 'garage': 1.0, 'towa': 1.0, 'rosie': 1.0, 'delivered': 2.0, 'uk': 3.0, 'liberty': 1.0, 'breakbeat': 1.0, 'due': 1.0, 'born': 1.0, '1971': 1.0, 'head': 1.0, 'early': 2.0, 'april': 1.0, 'bump': 2.0, 'gaines': 1.0, 'worked': 1.0, 'produce': 1.0, 'godfathers': 1.0, 'nng': 1.0, 'london': 2.0, 'jodeci': 1.0, 'scenes': 1.0, 'nelson': 4.0, '27': 1.0, 'roy': 1.0, 'grant': 1.0, 'ripe': 2.0, 'happy': 2.0, 'red': 1.0, 'jamiroquai': 1.0, 'evolved': 1.0, 'label': 3.0, 'english': 1.0, 'sound': 1.0, 'numerous': 1.0, 'drawer': 1.0, 'dj': 2.0, 'flex': 2.0, 'labels': 1.0, 'hits': 1.0, 'remixer': 1.0, 'heralded': 1.0, 'nice': 2.0, 'thelma': 1.0, '19901993': 1.0, 'wishdokta': 3.0, 'vibes': 2.0, 'producernelson': 1.0, 'birth': 1.0, 'scene': 1.0, 'ayers': 1.0, 'city': 1.0, 'asylum': 1.0, 'knuckles': 1.0, 'garagehe': 1.0, 'produced': 1.0, 'gave': 1.0, 'roll': 1.0, 'lutricia': 1.0, 'producing': 1.0, 'artful': 1.0, 'bass': 1.0, 'hardcoredrum': 1.0, 'started': 1.0, 'record': 2.0, 'legendary': 1.0, 'kickin': 1.0, 'records': 3.0, 'teamed': 1.0, 'hardcores': 1.0, 'simply': 1.0, 'biggest': 2.0, 'anthems': 1.0, 'music': 1.0, 'bebel': 1.0, 'including': 2.0, 'traxin': 1.0, '1997': 1.0}, {'2002': 1.0, 'harvard': 1.0, 'twentieth': 1.0, 'traumas': 1.0, 'pp': 1.0, 'shoshana': 1.0, 'question': 1.0, 'luckhurst': 1.0, 'roger': 1.0, '173182': 1.0, 'work': 1.0, 'caruths': 1.0, 'discussion': 1.0, 'good': 1.0, 'mysterious': 1.0, 'unconscious': 1.0, 'perceiving': 1.0, 'call': 1.0, 'previously': 1.0, 'cornell': 1.0, 'fictions': 1.0, 'comparative': 2.0, 'johns': 5.0, 'critical': 2.0, 'departments': 1.0, 'encounters': 1.0, 'author': 1.0, 'phd': 1.0, 'department': 1.0, 'build': 1.0, 'locke': 1.0, 'conceptualizing': 1.0, 'helped': 1.0, 'felman': 1.0, 'literature': 3.0, 'ways': 1.0, 'theory': 2.0, 'memory': 1.0, 'humane': 1.0, 'hopkins': 5.0, '1988': 1.0, 'truths': 1.0, 'born': 1.0, 'unclaimed': 1.0, 'responsibility': 1.0, 'experience': 2.0, 'forthcoming': 1.0, 'reference': 1.0, 'describes': 1.0, 'cathy': 1.0, 'caruth': 1.0, 'yale': 2.0, 'emory': 1.0, 'english': 1.0, 'rhodes': 1.0, 'professor': 1.0, 'editor': 1.0, 'explorations': 1.0, 'juridical': 1.0, 'taught': 1.0, 'century': 1.0, 'rutgers': 1.0, 'university': 5.0, 'writing': 1.0, 'letters': 1.0, '1996': 1.0, 'appointed': 1.0, 'ashes': 1.0, '1991': 1.0, 'press': 2.0, 'history': 2.0, 'empirical': 1.0, 'deconstructive': 1.0, 'jay': 1.0, '2013': 1.0, 'freud': 1.0, 'wordsworth': 1.0, 'conversations': 1.0, 'frank': 1.0, 'leaders': 1.0, 'treatment': 1.0, 'md': 1.0, 'narrative': 1.0, 'catastrophic': 1.0, '1995': 2.0, 'n3': 1.0, 'received': 1.0, 'phenomenon': 1.0, 'coeditor': 1.0, 'listening': 1.0, 'deborash': 1.0, 'esch': 1.0, 'robert': 1.0, 'lifton': 1.0, 'kant': 1.0, 'innovative': 1.0, '2014': 1.0, '1955': 1.0, 'trauma': 6.0, 'scholars': 1.0, 'trials': 1.0}, {'son': 1.0, 'worker': 1.0, 'construction': 1.0, 'husband': 1.0, 'lives': 1.0, 'languageshe': 1.0, 'teaching': 1.0, 'english': 1.0, 'tattoo': 1.0, 'sold': 1.0, '2009': 1.0, 'brooklyn': 1.0, 'circus': 1.0, 'french': 1.0, 'secondary': 1.0, 'nameafter': 1.0, 'daniel': 1.0, 'adaptation': 1.0, 'world': 1.0, 'comedydrama': 1.0, '2001': 1.0, 'village': 1.0, 'sauve': 1.0, 'family': 2.0, 'apprenticed': 1.0, 'relocated': 1.0, 'completing': 1.0, 'drawings': 1.0, 'foreign': 1.0, 'parents': 2.0, 'artists': 1.0, 'town': 1.0, 'original': 1.0, 'commissioned': 1.0, 'years': 1.0, '2010': 1.0, 'violet': 1.0, 'interview': 1.0, 'lived': 1.0, 'california': 1.0, 'street': 1.0, 'nearby': 1.0, 'woodland': 1.0, 'born': 3.0, 'kominskycrumbcrumb': 1.0, 'reported': 1.0, 'education': 1.0, 'father': 1.0, 'winters': 1.0, 'americanfrench': 1.0, 'acrobatics': 1.0, 'artist': 2.0, '1981': 1.0, 'underground': 1.0, 'crumb': 4.0, 'robert': 1.0, 'september': 1.0, 'serial': 1.0, 'mother': 1.0, 'remove': 1.0, '1991': 1.0, 'southern': 2.0, 'aline': 1.0, 'farming': 1.0, 'stage': 1.0, '1994': 1.0, 'school': 1.0, 'daughter': 1.0, 'comix': 1.0, 'fundamentalists': 1.0, 'turn': 1.0, 'political': 1.0, 'prepare': 1.0, 'clowning': 1.0, '27': 1.0, 'sophia': 1.0, 'france': 3.0, 'comics': 3.0, 'christian': 1.0, 'acclaimed': 1.0, 'sophies': 1.0, 'eli': 1.0, 'wanted': 1.0, 'sophie': 4.0, 'conservatives': 1.0, 'studied': 1.0, 'afraid': 1.0, 'states': 1.0, 'united': 1.0, 'philadelphia': 1.0, 'inquirer': 1.0, 'zwigoff': 2.0, 'clowes': 1.0, 'critically': 1.0, 'told': 1.0, 'valley': 1.0, 'girlit': 1.0, 'ghost': 1.0, 'living': 2.0, 'relocation': 1.0, 'earned': 1.0, 'mid2000s': 1.0, 'terry': 1.0, 'released': 1.0, 'documentary': 1.0, 'inclusion': 1.0, 'film': 1.0}, {'left': 1.0, 'christ': 1.0, 'home': 1.0, 'son': 1.0, 'lancastrian': 1.0, 'gospels': 1.0, 'memorial': 1.0, 'set': 1.0, 'circumstances': 1.0, 'boyfriend': 1.0, 'dies': 1.0, 'funny': 1.0, 'built': 1.0, 'anniversary': 1.0, 'light': 1.0, 'cold': 1.0, 'tenth': 1.0, 'universityashworths': 1.0, '2003': 1.0, 'winner': 1.0, 'dark': 1.0, '2004': 1.0, 'extract': 1.0, 'theft': 1.0, 'result': 1.0, 'betty': 1.0, 'violence': 1.0, 'church': 4.0, 'eventually': 1.0, 'tragedy': 1.0, 'friday': 1.0, 'comedy': 1.0, 'mission': 1.0, 'elements': 1.0, 'lds': 2.0, 'strong': 1.0, 'selfdeception': 1.0, 'full': 1.0, 'relate': 1.0, 'family': 1.0, 'grips': 1.0, 'welcoming': 1.0, '2010': 1.0, 'latterday': 1.0, 'hub': 1.0, 'closed': 1.0, 'lost': 2.0, 'coordinator': 1.0, 'called': 1.0, 'lancs': 1.0, 'renamed': 1.0, 'unpublished': 1.0, 'graduated': 1.0, 'founded': 1.0, 'suspicious': 1.0, 'sarah': 1.0, 'member': 1.0, 'born': 1.0, 'consultancy': 1.0, 'librarian': 1.0, 'computer': 1.0, 'works': 1.0, 'previously': 1.0, 'writers': 1.0, 'runs': 1.0, 'girls': 1.0, 'earlier': 1.0, 'english': 2.0, 'summerhouse': 1.0, 'literature': 1.0, 'prisonshe': 1.0, 'editor': 1.0, 'jenn': 2.0, 'central': 2.0, 'ashworth': 2.0, 'centre': 2.0, 'lecturer': 1.0, '1982': 1.0, 'preston': 2.0, 'lancashire': 1.0, 'network': 1.0, 'body': 1.0, 'unable': 1.0, 'worked': 2.0, 'featured': 1.0, 'kind': 1.0, 'bbc': 1.0, 'brought': 1.0, 'mens': 1.0, 'jesus': 1.0, 'twoyear': 1.0, 'quillercouch': 1.0, '2010two': 1.0, 'lonely': 1.0, 'writer': 1.0, 'tells': 1.0, 'department': 1.0, 'prize': 1.0, 'manchester': 2.0, 'imagines': 1.0, 'account': 1.0, 'woman': 1.0, 'university': 4.0, 'novelistsshe': 1.0, 'taught': 1.0, 'found': 1.0, 'writing': 8.0, 'cambridge': 2.0, 'creative': 4.0, 'teens': 1.0, 'award': 1.0, 'aims': 1.0, 'hymas': 1.0, 'teenage': 1.0, 'death': 1.0, 'january': 2.0, 'published': 2.0, 'written': 1.0, 'smithy': 1.0, 'poet': 1.0, 'lancasterin': 1.0, 'saints': 1.0, 'trask': 1.0, 'shows': 1.0, 'short': 1.0, 'odd': 1.0, 'march': 1.0, '2011': 2.0, 'culture': 1.0, 'novels': 1.0, 'won': 1.0, '12': 1.0, '2013': 1.0, 'stories': 1.0, 'reality': 1.0, '2009': 1.0, 'lancashireshe': 1.0, 'intimacy': 1.0, 'mentor': 1.0, 'february': 1.0, 'story': 2.0, 'failing': 1.0}, {'permanent': 1.0, 'museums': 1.0, 'sunday': 1.0, 'collection': 1.0, 'radio': 1.0, 'design': 2.0, 'contributions': 1.0, 'prix': 1.0, 'internationale': 1.0, 'association': 1.0, '2002': 1.0, 'cooperhewitt': 1.0, 'america': 1.0, 'designers': 1.0, 'designer': 2.0, 'typographique': 1.0, 'frerejones': 3.0, 'computer': 1.0, 'latterday': 1.0, 'typefaces': 2.0, '20052014': 1.0, 'work': 2.0, 'part': 2.0, 'operated': 1.0, 'hoefler': 8.0, 'working': 1.0, 'appearances': 1.0, 'began': 1.0, 'apple': 1.0, 'church': 1.0, 'appearing': 1.0, 'type': 4.0, 'illustrated': 1.0, 'public': 2.0, 'foundry': 2.0, 'saintsin': 1.0, 'tobias': 1.0, 'born': 1.0, '1970': 1.0, 'giants': 1.0, 'national': 2.0, 'jonathan': 1.0, 'guggenheim': 1.0, 'id': 1.0, 'peignot': 1.0, 'original': 1.0, 'current': 1.0, 'typeface': 1.0, 'influential': 1.0, 'american': 1.0, 'morninghoeflers': 1.0, 'band': 1.0, '1999': 1.0, 'designed': 3.0, 'system': 1.0, 'outstanding': 1.0, 'pronounced': 1.0, 'stone': 1.0, 'clients': 1.0, 'charles': 1.0, 'founded': 1.0, 'heffler': 1.0, 'bazaar': 1.0, 'company': 1.0, 'magazine': 5.0, 'macintosh': 1.0, 'family': 1.0, 'solomon': 1.0, 'time': 1.0, 'profiled': 1.0, 'presented': 1.0, 'harpers': 1.0, 'museum': 1.0, 'august': 1.0, 'york': 3.0, 'atypi': 1.0, 'times': 2.0, 'sports': 1.0, 'esquire': 2.0, 'text': 1.0, 'prestigious': 1.0, 'including': 1.0, 'institutional': 1.0, 'alternative': 1.0, 'cbs': 1.0, 'splithoefler': 1.0, 'bestknown': 1.0, 'operating': 1.0, 'award': 1.0, '22': 1.0, '1989': 1.0, 'wordmark': 1.0, '1995': 1.0, 'named': 1.0, 'rolling': 1.0, 'forty': 1.0}, {'port': 1.0, 'harbour': 1.0, 'pilots': 1.0, 'maritime': 1.0, 'uk': 1.0, 'laboratory': 1.0, 'plymouth': 1.0, 'european': 1.0, 'board': 1.0, 'freight': 3.0, 'chairman': 1.0, 'entitled': 1.0, 'questioned': 1.0, 'police': 1.0, 'trains': 1.0, 'president': 1.0, 'including': 1.0, 'tabled': 1.0, 'cycling': 1.0, 'marine': 1.0, 'parliamentary': 1.0, 'polruan': 1.0, 'party': 1.0, 'secretary': 1.0, 'sector': 1.0, '199697lord': 1.0, 'whip': 1.0, 'transport': 2.0, 'opposition': 2.0, 'entered': 1.0, 'bicycles': 1.0, 'cambridge': 1.0, 'rail': 3.0, 'college': 2.0, 'mice': 1.0, 'born': 1.0, 'september': 1.0, 'aunt': 1.0, 'questions': 2.0, 'lord': 1.0, 'peer': 3.0, 'spokesperson': 1.0, 'industry': 1.0, 'politician': 1.0, 'matters': 1.0, 'wimpey': 1.0, 'fowey': 1.0, 'cranford': 1.0, 'labour': 2.0, 'dsc': 1.0, 'body': 1.0, 'hon': 2.0, 'british': 1.0, 'obe': 1.0, 'eton': 1.0, 'hereditary': 2.0, 'gueterbock': 4.0, 'plc': 1.0, 'peerafter': 1.0, 'parliamentsince': 1.0, 'baron': 4.0, 'eurotunnel': 1.0, 'berkeley': 9.0, 'foleyberkeley': 1.0, 'sitting': 1.0, 'title': 1.0, 'life': 2.0, 'fcit': 1.0, 'succeeding': 1.0, 'peers': 2.0, 'ceng': 1.0, 'fitzhardinge': 1.0, 'positions': 1.0, 'created': 1.0, 'member': 1.0, 'liberties': 1.0, 'anthony': 1.0, 'seats': 1.0, '8595gueterbock': 1.0, 'restrictions': 1.0, 'asked': 1.0, 'fimeche': 1.0, 'borough': 1.0, 'frsa': 1.0, '20': 1.0, 'commissioner': 1.0, 'conduct': 1.0, '18th': 1.0, 'cornwalllord': 1.0, '199697': 1.0, 'engineer': 2.0, 'tony': 1.0, 'trinity': 1.0, 'years': 1.0, '1939': 1.0, 'english': 1.0, 'graduated': 1.0, 'representative': 1.0, 'guests': 1.0, 'educated': 1.0, 'career': 1.0, 'embarked': 1.0, 'civil': 2.0, 'engineering': 1.0, 'joining': 1.0, 'removal': 1.0, 'house': 4.0, 'hillingdon': 1.0, 'george': 1.0, '2000': 1.0, 'association': 2.0, 'bring': 1.0, 'worked': 2.0, '1985': 1.0, 'trustee': 1.0, 'ten': 1.0, 'lives': 1.0, 'held': 1.0, 'inherited': 1.0, 'ancestors': 1.0, 'ancient': 1.0, '1992': 2.0, 'mary': 1.0, 'group': 2.0, '17th': 1.0, 'baroness': 1.0, 'ma': 1.0, 'london': 1.0, 'remain': 1.0, 'lordshe': 1.0, 'automatic': 1.0, 'lords': 3.0}, {'won': 1.0, 'capital': 1.0, '2013chernushenko': 1.0, 'great': 1.0, '2008': 1.0, 'produced': 1.0, 'project': 1.0, 'launched': 1.0, 'make': 1.0, 'business': 1.0, 'time': 1.0, 'devote': 1.0, 'order': 1.0, '2007': 1.0, 'resigned': 1.0, '20082009chernushenko': 1.0, 'vicechair': 1.0, 'sectors': 1.0, 'society': 1.0, 'economic': 1.0, 'social': 1.0, 'excellence': 1.0, 'pursuit': 1.0, 'integrated': 1.0, 'films': 1.0, 'promote': 1.0, 'works': 1.0, 'advises': 1.0, 'panel': 1.0, 'economy': 1.0, 'canadas': 2.0, 'appointed': 1.0, 'harper': 1.0, 'november': 1.0, 'electionon': 1.0, 'south': 1.0, 'documentaries': 1.0, 'elections': 1.0, 'newspaper': 1.0, '1998': 2.0, 'government': 2.0, 'cooperativehe': 1.0, 'stephen': 1.0, 'local': 1.0, 'documentary': 2.0, '10': 2.0, 'bodieschernushenko': 1.0, 'groups': 1.0, 'committees': 2.0, 'advisory': 1.0, 'receiving': 1.0, 'served': 4.0, 'contestant': 1.0, 'gold': 1.0, 'environment': 4.0, 'department': 1.0, 'practices': 2.0, 'table': 1.0, 'consulting': 2.0, 'dfait': 1.0, 'trade': 1.0, 'canadian': 2.0, 'candidate': 4.0, 'worked': 1.0, 'building': 1.0, 'cambridge': 1.0, 'alumnus': 1.0, 'consultant': 1.0, 'science': 1.0, 'including': 1.0, 'political': 1.0, 'reimbursement': 1.0, 'university': 2.0, 'graduate': 1.0, 'elected': 1.0, '2001': 2.0, 'highest': 1.0, '2009': 1.0, 'deputy': 2.0, 'member': 1.0, 'games': 1.0, 'democratic': 1.0, 'canada': 4.0, 'program': 1.0, 'senior': 1.0, '1996': 1.0, 'housing': 1.0, 'organizations': 1.0, 'expenditures': 1.0, 'sustainability': 1.0, 'leadership': 2.0, 'june': 1.0, 'affairs': 1.0, 'professional': 2.0, 'nations': 1.0, '4134': 1.0, 'schools': 1.0, '4730': 1.0, '2010': 3.0, 'nonpartisan': 1.0, 'chernushenko': 7.0, 'endorsed': 1.0, 'management': 2.0, 'clean': 1.0, 'prime': 1.0, 'engages': 1.0, 'born': 1.0, 'civil': 1.0, 'david': 1.0, 'agency': 1.0, 'relations': 1.0, '1963': 1.0, 'election': 5.0, 'commission': 1.0, 'party': 6.0, 'boards': 1.0, 'energy': 3.0, 'health': 1.0, 'cida': 1.0, 'development': 1.0, 'councillor': 1.0, 'ottawa': 8.0, 'cofounded': 1.0, 'lightly': 1.0, 'leader': 2.0, 'council': 1.0, 'city': 4.0, 'partya': 1.0, 'powerful': 1.0, 'books': 1.0, 'running': 3.0, 'speaker': 1.0, 'leed': 1.0, 'programme': 1.0, 'campuses': 1.0, 'international': 5.0, 'policy': 1.0, 'filmmaker': 1.0, 'threshold': 1.0, 'reelection': 2.0, 'ontario': 2.0, 'ran': 3.0, 'municipal': 2.0, 'earth': 1.0, '2014': 2.0, 'adopting': 1.0, '2003': 1.0, 'sports': 1.0, 'certification': 1.0, 'socially': 1.0, 'july': 1.0, 'firm': 1.0, 'united': 1.0, 'green': 8.0, 'advised': 1.0, 'nrtee': 2.0, 'owner': 1.0, 'campaign': 1.0, 'public': 2.0, 'design': 1.0, 'private': 2.0, 'ward': 1.0, 'publication': 1.0, 'nonprofit': 1.0, 'dewar': 1.0, 'sustainable': 4.0, 'practicesfrom': 1.0, 'responsible': 1.0, '2004': 3.0, 'champions': 1.0, 'cost': 1.0, 'iisdacccunep': 1.0, 'sport': 2.0, 'accredited': 1.0, 'unep': 1.0, 'greening': 2.0, 'queens': 1.0, '102': 1.0, 'titled': 1.0, 'events': 1.0, 'centre': 2.0, 'facilities': 1.0, 'activity': 1.0, 'wont': 1.0, 'general': 1.0, 'centurion': 1.0, 'round': 1.0, '1994': 1.0, 'losing': 1.0, 'electronic': 1.0, 'calgary': 1.0, 'communities': 1.0, 'air': 2.0, 'national': 2.0, 'charity': 1.0, 'minister': 1.0, 'athletes': 1.0, 'raising': 1.0, 'pollution': 1.0, 'olympic': 1.0, '8': 1.0, 'climate': 1.0, 'change': 2.0, 'benefits': 1.0, 'physical': 1.0, 'director': 1.0, 'alberta': 1.0, 'federal': 3.0, 'finished': 1.0, 'environmental': 3.0, 'votes': 3.0, 'living': 1.0, 'citizen': 1.0, '2006': 5.0, 'paul': 1.0, 'bike': 1.0, 'ndp': 1.0, 'received': 1.0, 'written': 1.0, 'passed': 1.0, '6766': 1.0, 'vote': 2.0, 'multimedia': 1.0, 'foreign': 1.0, 'fourth': 2.0, 'count': 1.0, 'eligible': 1.0, 'politician': 1.0, 'awareness': 1.0, 'partial': 1.0}, {'gap': 1.0, 'project': 1.0, 'electronic': 1.0, 'content': 1.0, 'contributes': 1.0, 'thirteen': 1.0, 'age': 1.0, 'vhs': 1.0, 'childhood': 1.0, 'painting': 1.0, 'drawing': 1.0, 'topic': 1.0, 'time': 2.0, 'main': 1.0, 'stoner': 1.0, 'genre': 1.0, 'musical': 2.0, 'fans': 1.0, '2006': 1.0, 'exist': 1.0, 'truckfighters': 3.0, 'desert': 2.0, 'subcultures': 1.0, 'seeks': 1.0, 'genres': 1.0, 'short': 1.0, 'fictional': 1.0, 'films': 2.0, 'started': 1.0, 'filmmaker': 1.0, 'documentaries': 1.0, 'design': 1.0, 'produced': 1.0, 'artist': 1.0, 'designerartist': 1.0, 'steineck': 4.0, 'editor': 1.0, 'german': 1.0, 'media': 1.0, 'josh': 1.0, 'edge': 1.0, 'underground': 1.0, 'story': 1.0, 'combines': 1.0, 'people': 1.0, 'music': 3.0, 'film': 3.0, 'unconventional': 1.0, 'elements': 1.0, 'joerg': 1.0, 'common': 2.0, 'including': 1.0, 'influence': 1.0, 'berlinduring': 1.0, 'graphic': 2.0, 'shot': 1.0, 'bands': 1.0, 'parallel': 1.0, 'explores': 1.0, 'based': 1.0, 'release': 1.0, 'camera': 1.0, 'trailers': 1.0, 'extraordinary': 1.0, 'stories': 1.0, 'due': 1.0, 'generate': 1.0, 'appearances': 1.0, 'unique': 1.0, 'atmospheres': 1.0, 'works': 1.0, 'attention': 2.0, 'illustrator': 1.0, '84minute': 1.0, 'feature': 1.0, 'audiovisual': 1.0, 'creative': 2.0, 'swedish': 1.0, 'rock': 2.0, 'band': 1.0, 'manchu': 1.0, 'fuzzomentary': 1.0, 'guest': 1.0, 'study': 1.0, 'attracted': 2.0, 'musicians': 1.0, 'homme': 1.0, 'friends': 1.0, 'fu': 1.0, 'lo': 1.0, 'societyhe': 1.0, 'sound': 1.0, 'photographing': 1.0, 'development': 1.0, 'set': 1.0, 'documentary': 2.0, 'internet': 1.0, '2012': 1.0}, {'pocket': 1.0, 'lumen': 1.0, 'credo': 1.0, 'catechetical': 1.0, 'evangelium': 1.0, 'academic': 1.0, 'virtues': 1.0, 'ethics': 1.0, 'perspective': 1.0, 'book': 1.0, 'recent': 1.0, 'prominent': 1.0, 'written': 1.0, 'gifts': 1.0, 'faith': 1.0, 'college': 2.0, 'cognition': 1.0, 'louis': 1.0, 'physics': 3.0, 'focus': 1.0, 'diocese': 1.0, 'present': 1.0, 'pontifical': 1.0, 'catholic': 3.0, 'kingdom': 1.0, 'harris': 1.0, 'perception': 1.0, 'application': 1.0, 'fellow': 1.0, 'faculty': 1.0, 'member': 2.0, 'director': 1.0, 'moral': 1.0, 'autism': 1.0, 'priest': 1.0, 'experiment': 1.0, 'arundel': 1.0, '1966': 1.0, 'research': 4.0, 'centre': 1.0, 'apologia': 1.0, 'coauthor': 2.0, 'brighton': 1.0, '19': 1.0, 'manchester': 1.0, 'identified': 1.0, 'secondperson': 2.0, 'pinsent': 2.0, 'young': 1.0, 'andrew': 1.0, 'character': 1.0, 'aquinass': 1.0, 'gregorian': 1.0, 'england': 1.0, 'philosophy': 2.0, 'books': 1.0, 'routledge': 1.0, 'august': 1.0, 'ian': 1.0, 'phd': 1.0, 'fr': 1.0, 'issues': 1.0, 'theology': 2.0, 'herald': 1.0, 'oxford': 2.0, '2012': 1.0, 'tutor': 1.0, 'university': 3.0, 'media': 1.0, 'dphil': 1.0, 'accounts': 1.0, 'formation': 1.0, 'previous': 1.0, 'thirtyone': 1.0, 'merton': 1.0, 'contributed': 1.0, 'delphi': 1.0, 'collaborationfr': 1.0, 'institute': 2.0, 'social': 1.0, 'class': 1.0, 'rome': 1.0, 'publications': 2.0, 'degrees': 1.0, 'born': 1.0, 'maryvale': 1.0, 'religion': 1.0, 'degree': 1.0, 'high': 1.0, 'cern': 1.0, 'energy': 1.0, 'united': 1.0, 'scientific': 1.0, 'birmingham': 1.0, 'saint': 1.0, 'ramsey': 1.0, 'interviewed': 1.0, 'science': 2.0, 'including': 1.0, 'insights': 1.0, 'bbc': 1.0, 'ewtn': 1.0}, {'hall': 1.0, 'gaa': 1.0, 'inducted': 1.0, 'millennium': 1.0, 'selected': 2.0, 'blue': 1.0, 'dunnes': 1.0, 'lasting': 1.0, 'problema': 1.0, 'xv': 1.0, 'championship': 1.0, 'fame': 1.0, 'centre': 3.0, '6': 1.0, 'club': 2.0, '1950swith': 1.0, 'ireland': 2.0, 'due': 1.0, 'regarded': 1.0, 'widely': 1.0, 'tribute': 1.0, 'medals': 1.0, 'greatness': 1.0, 'meath': 1.0, 'play': 1.0, 'players': 1.0, '1953called': 1.0, '2008': 1.0, 'outstanding': 2.0, 'jersey': 2.0, 'railway': 1.0, '1952': 2.0, 'county': 1.0, 'paddy': 2.0, 'half': 2.0, '59': 1.0, 'back': 4.0, 'gaelic': 1.0, 'narrowly': 1.0, 'white': 1.0, 'position': 1.0, 'team': 4.0, 'selection': 1.0, 'titles': 1.0, 'player': 2.0, 'retired': 1.0, 'laoishe': 1.0, 'dunne': 2.0, 'years': 2.0, 'senior': 2.0, '1949': 1.0, 'captain': 1.0, 'performances': 1.0, 'won': 1.0, 'park': 3.0, 'played': 3.0, 'beaten': 1.0, 'leinster': 4.0, 'football': 6.0, '1954': 2.0, '1951': 1.0, 'laois': 8.0, 'final': 2.0, 'agonising': 1.0, 'rest': 1.0, 'famous': 2.0, 'recurring': 1.0, 'suffered': 1.0, 'finalhe': 1.0, 'consecutive': 1.0, 'field': 1.0, 'defeat': 1.0, 'backin': 1.0, '1959': 1.0, 'colm': 1.0, 'province': 1.0, 'winning': 1.0, 'cup': 1.0, 'emulate': 1.0, '1953': 2.0, 'featdunne': 1.0, 'browne': 1.0, 'managed': 1.0}, {'philharmonic': 1.0, 'performed': 1.0, 'released': 1.0, 'label': 1.0, 'unionnaxos': 1.0, 'directors': 1.0, 'board': 1.0, 'athenssince': 1.0, 'schools': 1.0, 'sofia': 1.0, 'top': 1.0, 'technology': 1.0, 'teaches': 1.0, 'projects': 1.0, 'cultural': 1.0, 'anax': 1.0, 'company': 1.0, 'runs': 1.0, 'imaginary': 1.0, 'ergon': 1.0, 'manager': 1.0, 'releases': 1.0, 'productions': 1.0, 'orchestrashe': 1.0, 'member': 2.0, 'dance': 2.0, 'lathos': 1.0, 'european': 1.0, 'important': 1.0, 'konstantinos': 1.0, 'group': 1.0, 'choreographer': 1.0, 'production': 2.0, 'michos': 1.0, 'commercials': 1.0, 'ensemblehe': 1.0, '2004': 2.0, 'received': 1.0, 'composed': 2.0, 'airesis': 1.0, 'videos': 1.0, 'organizations': 1.0, 'games': 1.0, 'composer': 1.0, 'olympic': 1.0, 'greek': 5.0, 'titled': 1.0, 'recent': 1.0, 'advanced': 1.0, '1998': 1.0, 'commissions': 1.0, 'dimitris': 1.0, 'orchestra': 1.0, 'vironas': 1.0, 'project': 1.0, '1962': 1.0, 'collaborated': 1.0, 'works': 1.0, 'days': 1.0, 'companyhis': 1.0, 'orchestral': 2.0, 'kinissi': 1.0, 'born': 1.0, 'xanthoudakis': 1.0, 'mouzas': 1.0, 'ensembles': 1.0, 'director': 1.0, 'theodore': 1.0, 'composers': 1.0, 'theory': 1.0, 'television': 2.0, 'antoniou': 1.0, 'haris': 1.0, '2003in': 1.0, 'electronic': 1.0, 'section': 1.0, 'programme': 1.0, 'cd': 2.0, 'trisha': 1.0, 'documentaries': 1.0, 'left': 1.0, 'papageno': 1.0, 'calamity': 1.0, 'original': 2.0, 'films': 1.0, 'dawn': 1.0, 'professional': 2.0, 'activities': 2.0, 'management': 1.0, 'include': 2.0, 'till': 1.0, 'imagerelated': 1.0, 'series': 1.0, 'written': 1.0, 'organizing': 1.0, 'short': 1.0, 'founding': 1.0, 'studied': 1.0, 'channelshe': 1.0, 'kamarotos': 1.0, 'artistic': 1.0, 'alexandros': 1.0, 'media': 1.0, 'edge': 1.0, 'commission': 1.0, 'home': 1.0, 'athens': 2.0, 'composition': 1.0, 'committee': 1.0, 'corporate': 1.0, 'film': 2.0, 'music': 9.0}, {'schoolboard': 1.0, 'serves': 1.0, '6806': 1.0, 'votes': 1.0, 'glenn': 1.0, 'results': 1.0, 'november': 1.0, 'held': 1.0, 'election': 1.0, 'closely': 1.0, 'study': 1.0, 'people': 2.0, 'thinking': 1.0, 'improve': 1.0, 'darwin': 1.0, 'considers': 1.0, 'curricula': 1.0, 'dealing': 1.0, 'interview': 1.0, 'telephone': 1.0, 'disclose': 1.0, 'establish': 1.0, 'restore': 1.0, 'services': 1.0, 'offered': 1.0, 'county': 1.0, 'north': 1.0, 'links': 1.0, 'designcampbell': 1.0, 'promotion': 1.0, 'engage': 1.0, 'journal': 1.0, 'design': 3.0, 'june': 1.0, 'board': 1.0, 'served': 1.0, 'campbell': 3.0, 'international': 1.0, 'students': 1.0, 'mason': 1.0, 'institute': 1.0, 'branch': 1.0, 'transparency': 1.0, 'culture': 2.0, 'rhetoric': 2.0, 'tank': 1.0, 'collection': 1.0, 'intelligent': 2.0, 'usa': 1.0, 'discovery': 1.0, '3194': 1.0, 'id': 1.0, 'christian': 1.0, 'landram': 1.0, 'seat': 1.0, '1406': 1.0, 'skills': 1.0, 'oregon': 1.0, 'demonizing': 1.0, 'conservative': 1.0, 'quoted': 1.0, 'angus': 1.0, 'ideas': 1.0, 'born': 1.0, 'complexity': 1.0, 'interest': 1.0, 'professional': 1.0, 'meyer': 1.0, 'communications': 2.0, 'debating': 1.0, '2': 1.0, 'darwinism': 2.0, '1942': 1.0, 'ran': 1.0, '2996': 1.0, '10': 1.0, 'john': 2.0, 'fellow': 2.0, 'science': 2.0, 'defense': 1.0, 'professor': 3.0, 'ways': 1.0, 'dover': 1.0, 'day': 1.0, 'memphis': 1.0, 'assistant': 1.0, 'university': 2.0, 'retirement': 1.0, 'center': 2.0, 'affairscampbell': 1.0, '19681995': 1.0, 'portland': 1.0, '1995': 1.0, 'unofficial': 1.0, 'society': 2.0, 'retired': 1.0, 'american': 1.0, 'school': 2.0, 'public': 2.0, 'washington': 2.0, '2005': 2.0, 'articles': 1.0, 'showed': 1.0, 'critical': 1.0, 'stephen': 1.0, '6': 1.0, 'dedicated': 1.0, 'march': 1.0, 'edited': 1.0, 'education': 1.0, 'darwinist': 1.0, 'associate': 1.0, 'slated': 1.0, '2007': 2.0, 'witness': 1.0, 'defeating': 1.0, 'scheduled': 1.0, 'kitzmiller': 1.0, 'trust': 1.0, 'district': 1.0, 'information': 1.0, 'area': 1.0, 'incumbent': 1.0, 'trial': 1.0, 'withdrew': 1.0, 'stated': 1.0, 'depositionin': 1.0}, {'video': 1.0, 'tribute': 1.0, 'unreleased': 1.0, 'walker': 1.0, 'cook': 1.0, 'bertram': 1.0, 'aaron': 1.0, 'albumchris': 1.0, 'world': 1.0, 'performed': 1.0, 'county': 1.0, 'orange': 1.0, 'hospital': 1.0, 'produced': 1.0, '2001': 1.0, 'batstone': 2.0, 'joined': 1.0, 'cowriting': 1.0, 'reportedly': 1.0, 'singer': 2.0, 'replaced': 1.0, 'left': 2.0, 'dallas': 1.0, 'recording': 2.0, 'lead': 2.0, 'credits': 1.0, 'suburban': 4.0, '20002002': 1.0, 'released': 1.0, 'tim': 4.0, 'band': 9.0, 'nights': 1.0, '2002': 2.0, 'benefit': 1.0, 'official': 1.0, 'chris': 3.0, 'song': 1.0, 'pursue': 1.0, 'compilation': 2.0, 'replacement': 1.0, 'origin': 1.0, '2000': 1.0, 'vince': 1.0, 'thirdwave': 1.0, 'maurer': 2.0, 'legends': 4.0, 'ep': 2.0, 'rose': 1.0, 'ska': 1.0, 'edition': 1.0, 'cover': 1.0, 'tracks': 1.0, 'found': 2.0, 'early': 1.0, 'childrens': 1.0, 'gummi': 1.0, 'increasingly': 1.0, 'direction': 1.0, 'taking': 1.0, 'compilations': 1.0, 'supporting': 1.0, 'decided': 1.0, 'remixchris': 1.0, 'care': 1.0, 'ephe': 1.0, 'dissatisfied': 1.0, 'directions': 1.0, 'acting': 1.0, 'musical': 1.0, 'careerhe': 1.0, 'vocal': 1.0, 'desperate': 1.0, 'rejoined': 1.0, 'rerecorded': 1.0, 'selftitled': 1.0, 'create': 1.0, 'songs': 1.0, 'singing': 2.0, 'scene': 1.0, 'tint': 1.0, 'bears': 1.0, 'recorded': 1.0}, {'resulting': 1.0, 'positions': 1.0, 'secondfiddle': 1.0, 'bench': 1.0, 'time': 2.0, '200809': 1.0, 'return': 1.0, 'france': 1.0, 'cup': 1.0, '2007': 1.0, 'duty': 1.0, 'jones': 3.0, 'starting': 1.0, 'pointsthomas': 1.0, '2008': 1.0, 'barry': 1.0, 'fullback': 1.0, 'berth': 1.0, 'sharing': 1.0, 'league': 3.0, 'magners': 3.0, '200607': 1.0, 'hold': 1.0, 'managed': 1.0, '200506': 1.0, 'priestland': 2.0, 'davies': 1.0, 'making': 1.0, 'favour': 1.0, 'world': 1.0, 'falling': 1.0, 'appearance': 2.0, 'lost': 1.0, 'months': 1.0, 'career': 1.0, '2006': 1.0, '14': 1.0, 'fullbackthomas': 1.0, 'celtic': 1.0, 'spent': 2.0, 'played': 2.0, 'born': 1.0, 'team': 1.0, 'position': 1.0, 'carnegie': 2.0, 'union': 1.0, '110': 1.0, 'play': 1.0, 'playing': 3.0, '950': 1.0, 'flyhalf': 4.0, '23': 1.0, 'pirates': 1.0, 'ceiron': 1.0, 'slovenia': 1.0, 'scored': 2.0, 'st': 1.0, 'thomas': 6.0, 'converting': 1.0, 'october': 1.0, 'june': 2.0, 'starts': 1.0, 'llanelli': 2.0, 'majority': 1.0, '1983': 1.0, 'stephen': 1.0, 'signing': 1.0, 'morgan': 1.0, 'ives': 1.0, 'transfer': 1.0, '200405': 1.0, '2012': 1.0, 'footballer': 1.0, 'rugby': 3.0, 'wales': 1.0, 'april': 2.0, 'total': 1.0, '10': 1.0, 'duties': 1.0, 'national': 1.0, 'season': 4.0, 'welsh': 1.0, 'december': 1.0, 'scoring': 1.0, 'llanellibased': 1.0, 'debut': 1.0, 'rival': 1.0, 'previous': 1.0, '25': 2.0, 'rhys': 1.0, 'region': 1.0, 'including': 2.0, '2003': 1.0, 'place': 1.0, 'cornish': 1.0, 'began': 2.0, 'appearances': 5.0, '2009': 2.0, 'stoddart': 1.0, 'wing': 1.0, 'friendly': 1.0, 'regular': 2.0, 'won': 1.0, 'game': 2.0, 'scarlets': 4.0, 'eleven': 1.0, 'penalty': 1.0, 'rfc': 1.0, 'bringing': 1.0, 'points': 1.0, 'leeds': 2.0, 'number': 1.0, '200304': 2.0, 'clubs': 1.0, 'leaguehowever': 1.0, 'regional': 1.0, 'made': 6.0, 'side': 2.0, '200708': 1.0, '2005': 1.0, '18': 1.0}, {'sport': 1.0, 'jendouba': 1.0, 'returned': 1.0, '31': 1.0, 'shortly': 2.0, 'sellimis': 1.0, 'turned': 1.0, 'korea': 1.0, 'brought': 1.0, 'teams': 1.0, 'coupled': 1.0, 'henri': 1.0, 'fallout': 1.0, 'mali': 1.0, 'missing': 1.0, '2001': 1.0, 'breaka': 1.0, 'winter': 1.0, 'goalscoring': 1.0, 'bundesligas': 1.0, 'scoring': 1.0, '19992000': 1.0, 'detractors': 1.0, 'recall': 1.0, 'year': 1.0, 'benslimane': 1.0, 'mehdi': 1.0, 'zoubeir': 1.0, 'internationals': 1.0, 'recently': 1.0, 'fellow': 1.0, 'freiburg': 2.0, 'steady': 1.0, 'put': 1.0, 'squad': 1.0, '1998': 1.0, 'form': 3.0, 'singularly': 1.0, 'dubbed': 1.0, 'matches': 2.0, 'professional': 1.0, 'determined': 1.0, 'modest': 1.0, 'level': 1.0, 'marked': 1.0, 'head': 1.0, 'discretion': 1.0, 'cap': 1.0, 'number': 1.0, 'permanent': 1.0, 'grew': 1.0, 'callup': 2.0, 'drew': 1.0, 'jan': 1.0, 'ball': 1.0, 'pitch': 1.0, 'born': 1.0, 'clocked': 1.0, 'olympic': 1.0, 'quick': 1.0, 'tunisia': 3.0, 'yearstunisians': 1.0, 'friendlies': 1.0, 'titles': 1.0, 'virtually': 1.0, 'tunisian': 2.0, 'strength': 1.0, 'national': 4.0, 'years': 1.0, 'performance': 1.0, '1978': 1.0, 'start': 1.0, 'countrys': 1.0, 'match': 2.0, '16': 1.0, 'anchorman': 1.0, 'atlanta': 1.0, '14': 1.0, 'picking': 1.0, 'premier': 1.0, 'pace': 1.0, 'striker': 1.0, 'fc': 1.0, 'season': 3.0, 'semifinal': 1.0, 'promising': 1.0, 'atlantique': 1.0, 'district': 1.0, 'move': 1.0, 'nation': 1.0, 'child': 1.0, 'adel': 2.0, 'germany': 1.0, 'drought': 1.0, 'stayed': 1.0, 'michel': 1.0, '1972': 1.0, 'football': 3.0, 'list': 1.0, 'wrong': 1.0, 'goals': 2.0, 'wayhis': 1.0, 'sellimi': 7.0, 'arabic': 1.0, 'inspiration': 1.0, 'distinguished': 1.0, 'household': 1.0, 'widely': 1.0, 'true': 1.0, 'movement': 1.0, 'team': 4.0, 'retired': 1.0, 'gaining': 1.0, 'earned': 4.0, 'headed': 1.0, 'final': 1.0, 'japan': 1.0, 'jedid': 1.0, 'enjoyed': 1.0, 'carried': 1.0, 'promotion': 1.0, 'carved': 1.0, 'creativity': 1.0, 'distance': 1.0, '10': 1.0, 'purchase': 1.0, 'mistaken': 1.0, 'cup': 7.0, 'gamble': 1.0, '199798': 1.0, 'african': 3.0, 'limelight': 1.0, 'tunis': 2.0, 'showing': 1.0, 'league': 1.0, 'lead': 1.0, 'finals': 1.0, 'age': 2.0, 'frenchmans': 1.0, 'win': 1.0, 'swansong': 1.0, 'hit': 1.0, 'club': 4.0, 'replacement': 1.0, 'international': 3.0, '1996': 2.0, 'competitions': 1.0, 'nations': 2.0, 'place': 1.0, 'south': 1.0, 'africa': 1.0, 'eleven': 1.0, 'players': 2.0, '2002': 2.0, 'proved': 1.0, 'tournament': 3.0, 'country': 1.0, 'africain': 2.0, 'games': 1.0, 'skillful': 1.0, 'bright': 1.0, 'home': 1.0, 'world': 4.0, 'bab': 1.0, 'achieve': 1.0, 'souayah': 1.0, 'zambia': 1.0, 'considered': 2.0, '1993': 1.0, 'tournamentthis': 1.0, 'september': 1.0, 'player': 2.0, 'talented': 1.0, 'history': 1.0, 'transfer': 1.0, 'finding': 1.0, 'french': 1.0, 'ligue': 2.0, 'partnered': 1.0, 'account': 1.0, '1': 2.0, 'side': 3.0, 'nantes': 3.0, 'struck': 1.0, 'impressive': 1.0, 'spark': 1.0, 'france': 1.0, 'ammar': 1.0, 'baya': 1.0, 'surge': 1.0, 'life': 1.0, 'firstclass': 1.0, 'belt': 1.0, 'barren': 1.0, 'appearances': 1.0, 'period': 1.0, 'long': 2.0, 'fans': 1.0, 'stop': 1.0, 'lung': 1.0, 'settled': 1.0, 'real': 1.0, '30': 1.0, 'failed': 1.0, 'england': 1.0, 'time': 2.0, 'kind': 1.0, 'success': 1.0, 'november': 1.0, 'back': 1.0, 'disappointing': 2.0, 'joined': 1.0, 'found': 1.0, 'left': 1.0, 'romaniabundesliga': 1.0, 'spanish': 1.0, 'coach': 2.0, 'division': 1.0, 'performances': 1.0, 'goal': 1.0, 'finally': 1.0}, {'active': 1.0, 'partner': 1.0, 'journey': 2.0, 'mothers': 1.0, 'nonbiological': 1.0, 'homefront': 1.0, 'lesbian': 1.0, 'anthology': 1.0, 'forthcoming': 1.0, 'loves': 1.0, 'essay': 1.0, '2002': 1.0, 'betsy': 2.0, 'daughter': 1.0, 'insemination': 1.0, 'artificial': 1.0, 'child': 1.0, 'conceive': 1.0, 'efforts': 1.0, 'couples': 1.0, 'entitled': 1.0, 'wrote': 2.0, 'aizley': 2.0, 'harlyn': 1.0, 'writer': 1.0, 'began': 1.0, 'work': 2.0, 'careerafter': 1.0, 'solo': 2.0, 'open': 1.0, 'creative': 1.0, 'dad': 1.0, 'hollywood': 2.0, 'scene': 1.0, 'jill': 1.0, 'shows': 1.0, 'cambridge': 1.0, 'stereotype': 1.0, 'bunch': 1.0, 'premiered': 1.0, 'songwriting': 1.0, 'life': 1.0, 'collaboration': 1.0, 'benefit': 1.0, 'soloways': 3.0, 'womans': 1.0, 'briefly': 1.0, 'musician': 2.0, 'soloway': 9.0, 'club': 1.0, 'interested': 1.0, 'performer': 1.0, 'sister': 1.0, 'tour': 1.0, 'theater': 3.0, 'camp': 1.0, 'years': 1.0, 'faith': 3.0, '1990': 1.0, 'jennifer': 1.0, 'born': 2.0, 'musicals': 2.0, 'march': 1.0, 'show': 2.0, 'rosenthal': 1.0, 'statement': 1.0, 'tales': 1.0, 'humorless': 1.0, 'original': 1.0, 'produce': 1.0, 'boston': 2.0, 'american': 1.0, 'school': 1.0, '28': 1.0, 'pursue': 1.0, 'creation': 1.0, 'folkrock': 2.0, 'moved': 2.0, 'indiana': 1.0, 'comedic': 1.0, 'wheels': 1.0, 'edited': 1.0, 'performed': 2.0, 'performing': 1.0, 'brady': 1.0, 'signature': 1.0, 'nights': 1.0, 'improv': 1.0, 'country': 1.0, 'songs': 1.0, 'city': 2.0, 'spent': 1.0, 'university': 1.0, 'mother': 1.0, 'creator': 1.0, 'regularly': 1.0, 'toured': 1.0, 'song': 3.0, 'musical': 1.0, 'leaving': 1.0, '1994': 1.0, 'tweaking': 1.0, 'massachusetts': 2.0, 'music': 3.0, 'television': 2.0, 'jesus': 1.0, 'producing': 1.0, 'sexuality': 1.0, 'miss': 2.0, 'series': 1.0, 'rock': 1.0, 'operas': 1.0, 'sisters': 2.0, 'couple': 1.0, 'started': 2.0, 'falcon': 1.0, 'potter': 1.0, 'decided': 1.0, 'studied': 1.0, 'harrie': 1.0, 'folk': 4.0, 'dover': 1.0, 'featured': 3.0, 'earnest': 1.0, 'queer': 1.0, 'revere': 1.0, 'debbie': 1.0, 'evans': 1.0, 'parodied': 1.0, 'compilation': 1.0, 'produced': 1.0, 'buying': 1.0, 'somerville': 1.0, 'catie': 1.0, 'kimballsoloway': 1.0, 'works': 1.0, '1964': 1.0, 'lone': 1.0, 'carol': 1.0, 'larger': 1.0, 'real': 1.0, 'band': 1.0, 'venue': 1.0, 'title': 1.0, 'refers': 1.0, 'continues': 1.0, 'controversial': 1.0, 'childrens': 1.0, 'bobbies': 1.0, 'america': 2.0, 'written': 1.0, 'led': 1.0, 'heather': 1.0, 'mike': 1.0, 'action': 1.0, 'notable': 1.0, 'musicians': 1.0, 'river': 1.0, 'curtis': 1.0, 'charles': 1.0, 'arts': 1.0, '2000': 1.0, 'program': 1.0, 'minimalist': 1.0, 'summer': 1.0, 'comedy': 1.0, 'departments': 1.0, 'features': 1.0, 'book': 2.0, 'norbert': 1.0, 'beany': 1.0, 'passim': 1.0, 'principal': 1.0, 'man': 1.0, 'area': 1.0, 'director': 1.0, 'training': 1.0, 'hamletta': 1.0, 'based': 1.0, 'tom': 1.0, 'album': 1.0, 'expartner': 1.0, 'lesbo': 1.0, 'mommies': 2.0, 'womens': 1.0, 'boyfriend': 1.0, 'ridge': 1.0, 'respond': 1.0, 'domestic': 1.0, 'violence': 1.0, 'perform': 1.0, 'separated': 1.0, 'crisissoloways': 1.0}, {'engineering': 1.0, 'arts': 1.0, 'irvines': 1.0, 'graduate': 1.0, 'university': 1.0, 'stehlik': 1.0, 'california': 2.0, 'resides': 1.0, 'south': 1.0, 'hands': 1.0, '512': 1.0, 'rarely': 1.0, 'internationally': 1.0, 'band': 1.0, 'yoyo': 1.0, 'computation': 1.0, 'films': 1.0, 'performed': 1.0, 'west': 1.0, 'issue': 1.0, 'movement': 1.0, 'popularizing': 1.0, 'instrumental': 1.0, 'publications': 1.0, 'appeared': 1.0, 'happening': 1.0, 'beat': 1.0, 'bands': 1.0, 'shows': 1.0, 'organizing': 1.0, 'activities': 1.0, 'editors': 1.0, 'nicoletta': 1.0, 'gb': 1.0, 'livermore': 1.0, 'larry': 1.0, 'dresch': 1.0, 'steve': 1.0, 'writers': 1.0, 'featured': 1.0, 'jds': 2.0, 'jones': 1.0, 'zines': 2.0, 'earliest': 1.0, 'homocore': 3.0, 'nihilson': 1.0, 'issues': 1.0, 'deke': 2.0, 'coeditor': 1.0, 'josh': 1.0, 'francisco': 1.0, 'pages': 1.0, 'influential': 2.0, '1955': 1.0, 'create': 1.0, 'boards': 1.0, 'fido': 1.0, 'kids': 1.0, 'massachusetts': 1.0, 'daniel': 2.0, 'abbott': 1.0, 'authors': 1.0, 'software': 1.0, 'wrote': 1.0, 'america': 2.0, 'early': 1.0, 'network': 1.0, 'zine': 2.0, 'networking': 2.0, 'authored': 1.0, 'program': 3.0, 'faculty': 1.0, 'bios': 2.0, 'file': 1.0, 'queer': 1.0, 'message': 1.0, 'rise': 1.0, 'implemented': 2.0, 'los': 2.0, 'thomas': 1.0, 'protocols': 1.0, 'creator': 1.0, 'boston': 1.0, 'arms': 1.0, 'comrade': 1.0, 'born': 1.0, 'jennings': 5.0, 'tom': 1.0, 'found': 1.0, 'writing': 1.0, 'provider': 1.0, 'internet': 2.0, 'angelesbased': 1.0, 'war': 1.0, 'donna': 1.0, 'apostles': 1.0, 'artist': 1.0, 'gang': 1.0, 'creating': 2.0, 'ultimately': 1.0, 'named': 1.0, 'technician': 2.0, 'fugazi': 1.0, 'fidonet': 2.0, 'service': 1.0, 'musicians': 1.0, 'technologywhile': 1.0, 'platformsaside': 1.0, 'technologies': 1.0, 'works': 1.0, 'computer': 1.0, 'angeles': 1.0, 'multiplicity': 1.0, 'punk': 1.0, 'publisher': 1.0, 'protocol': 1.0, 'wired': 1.0, 'system': 1.0, 'magazines': 1.0, 'calarts': 1.0, 'queercore': 4.0, 'presence': 1.0, 'portable': 1.0, 'arttechnology': 1.0, 'europejennings': 1.0, 'originally': 1.0, 'led': 1.0, 'phoenix': 1.0, 'built': 1.0, 'regional': 1.0, 'ran': 1.0, 'garden': 1.0, 'incorporated': 1.0, 'tlgnet': 1.0, 'maintains': 1.0, 'north': 1.0, 'informal': 1.0, 'archive': 1.0, 'including': 1.0, 'bulletin': 1.0, 'science': 1.0, 'cold': 1.0, 'partner': 1.0, 'lived': 1.0, 'bbses': 1.0, 'san': 1.0, '1988': 1.0, 'coast': 1.0, '1991': 1.0}, {'coaching4': 1.0, 'settling': 1.0, 'canucks': 1.0, 'reach': 1.0, 'scored': 1.0, 'bruins': 2.0, 'postseason': 1.0, 'quebec': 1.0, 'crown1in': 1.0, 'red': 3.0, 'league': 2.0, 'losses': 1.0, 'games': 2.0, 'career': 4.0, 'round': 1.0, 'season': 4.0, '1954': 1.0, 'goals': 1.0, 'retired': 1.0, '1952': 1.0, 'regular': 1.0, 'minors': 3.0, 'toiling': 1.0, 'participants': 1.0, 'indianapolis': 1.0, 'man': 1.0, 'points': 1.0, '195758': 1.0, 'defensiveoriented': 1.0, '42': 1.0, 'offensiverich': 1.0, '183': 1.0, 'viewed': 1.0, 'native': 1.0, 'horvath': 1.0, 'portion': 1.0, 'traded': 3.0, 'physical': 1.0, 'head': 2.0, 'coach': 1.0, 'playing': 1.0, 'nhl': 4.0, 'chemistry': 1.0, 'spent': 3.0, 'played': 4.0, 'stasiuk': 11.0, 'lethbridge': 1.0, 'born': 1.0, 'due': 1.0, 'signing': 1.0, 'uke': 1.0, 'wings': 4.0, 'junior': 2.0, 'time': 1.0, 'hockey': 4.0, '3': 1.0, 'twoway': 1.0, 'finished': 1.0, 'american': 1.0, 'stylistic': 1.0, 'winger': 1.0, 'boston': 2.0, '20': 1.0, 'ice': 1.0, 'john': 1.0, '23': 1.0, '1929': 1.0, 'black': 2.0, '1953': 1.0, 'canadian': 1.0, 'cup': 3.0, 'playoffs': 2.0, 'finals': 1.0, 'detroit': 4.0, 'players': 1.0, 'alberta': 1.0, 'significant': 1.0, 'eliminated': 1.0, 'chicago': 3.0, 'left': 2.0, 'sparingly': 1.0, 'hawks': 2.0, 'edmonton': 1.0, 'games2': 1.0, '1951': 1.0, 'high': 1.0, 'coaching': 2.0, 'job': 2.0, 'flyers': 3.0, 'philadelphia': 1.0, 'bucyk': 1.0, 'victor': 1.0, 'captured': 1.0, 'assists': 1.0, 'bronco': 1.0, 'grouping': 1.0, 'line': 2.0, 'ukrainian': 1.0, 'ancestry': 1.0, 'history': 1.0, 'year': 2.0, 'found': 1.0, '1961': 1.0, 'goal': 1.0, 'mark': 1.0, 'formidable': 1.0, 'professional': 1.0, 'presence': 1.0, '68': 1.0, '1960': 1.0, 'back': 1.0, 'recorded': 1.0, '1963': 1.0, 'finishing': 1.0, 'stanley': 2.0, '254': 1.0, '745': 1.0, 'backtoback': 1.0, 'earned': 1.0, 'instant': 1.0, 'retiring': 1.0, 'vancouver': 1.0, 'early': 1.0, 'pittsburgh': 1.0, 'hornets': 1.0, 'won': 1.0, 'moved': 1.0, 'seasons': 1.0, 'led': 1.0, 'club': 1.0, 'single': 1.0, 'leagues': 1.0, '196970': 1.0, 'aces': 1.0, 'seals': 1.0, 'difficult': 1.0, 'johnny': 1.0, 'team': 1.0, 'position': 1.0, '1955': 1.0, 'odd': 1.0, 'calder': 1.0, 'dubbed': 1.0, 'point': 1.0, 'fired': 2.0, '197071': 1.0, 'offered': 1.0, 'scouting': 1.0, 'capitals': 1.0, 'conflict': 1.0, 'california': 1.0, 'bench': 1.0, 'golden': 1.0, 'forward': 1.0, 'management': 1.0}, {'spoke': 1.0, 'topic': 1.0, 'speaks': 1.0, 'advice': 1.0, 'journo': 1.0, 'freelance': 2.0, 'successful': 1.0, 'blogging': 1.0, 'early': 1.0, 'segment': 1.0, 'geek': 1.0, 'radio': 1.0, '774': 1.0, 'program': 1.0, 'drive': 1.0, 'affairs': 1.0, 'commentator': 1.0, 'corporations': 1.0, 'appeared': 1.0, 'product': 1.0, 'nationally': 1.0, '2012': 3.0, 'techtarget': 1.0, 'start': 1.0, 'section': 1.0, 'anz': 1.0, 'commission': 1.0, 'thoughts': 1.0, 'raf': 1.0, 'chief': 1.0, 'melbourne': 3.0, 'editor': 3.0, 'au': 1.0, 'wrote': 1.0, 'april': 1.0, 'march': 1.0, 'news': 1.0, 'wire': 1.0, 'wednesday': 1.0, 'media': 1.0, 'addition': 1.0, 'broadcasting': 2.0, 'run': 1.0, '2011': 2.0, 'founding': 1.0, 'macworld': 1.0, 'writing': 1.0, '1968': 1.0, 'air': 1.0, 'club': 1.0, 'january': 2.0, 'age': 1.0, 'caruana': 3.0, 'broadcast': 1.0, 'anthony': 1.0, 'shows': 1.0, 'technology': 5.0, 'regular': 2.0, 'writes': 1.0, 'australian': 3.0, '2': 1.0, 'titles': 1.0, 'part': 1.0, 'regularly': 2.0, 'articles': 1.0, 'searchcio': 1.0, 'decisions': 1.0, 'business': 2.0, 'launched': 1.0, 'epsteins': 1.0, 'apc': 1.0, 'events': 1.0, 'contributor': 1.0, 'yearshe': 1.0, 'local': 1.0, 'october': 1.0, 'focuses': 1.0, '330pmsince': 1.0, 'magazine': 2.0, 'publications': 1.0, 'senior': 1.0, 'executives': 1.0, 'australia': 2.0, 'david': 1.0, 'born': 1.0, 'influencershe': 1.0, 'based': 1.0, 'made': 1.0, 'current': 1.0, 'original': 1.0, 'flynnin': 1.0, 'review': 1.0, 'team': 1.0, 'members': 1.0, 'pocket': 1.0, 'reviews': 1.0, 'pc': 1.0, 'journalist': 1.0, 'convention': 1.0, 'opportunity': 1.0, 'write': 1.0}, {'public': 1.0, 'places': 1.0, 'april': 1.0, 'russia': 1.0, 'works': 1.0, 'moscow': 2.0, 'themes': 1.0, 'years': 1.0, 'fifteen': 1.0, 'lived': 1.0, 'island': 1.0, 'defensemitchell': 1.0, 'office': 1.0, 'foreign': 1.0, 'assisted': 1.0, 'conservative': 1.0, 'exdeputy': 1.0, 'perjured': 1.0, 'brigadier': 1.0, 'orders': 1.0, 'illegally': 1.0, 'stalin': 1.0, 'refugees': 1.0, 'yugoslav': 1.0, 'thousands': 1.0, 'back': 1.0, 'children': 1.0, 'handed': 1.0, '1945': 2.0, 'staff': 1.0, 'operation': 1.0, 'reputation': 1.0, '6': 1.0, 'bodies': 1.0, 'point': 1.0, 'operate': 1.0, 'society': 1.0, 'environmental': 1.0, 'aldingtontolstoy': 1.0, 'broadcast': 1.0, 'apparentlyvirtuous': 1.0, 'aspects': 1.0, 'illegal': 1.0, 'author': 3.0, 'bureaucracymitchell': 1.0, 'ian': 1.0, 'royal': 1.0, 'called': 2.0, 'mitchell': 3.0, 'behavior': 1.0, 'trial': 2.0, 'lives': 1.0, 'aldington': 1.0, 'scottish': 2.0, 'forum': 1.0, 'ministry': 1.0, 'nazismitchell': 1.0, 'communities': 1.0, 'delivered': 1.0, 'part': 1.0, 'grew': 1.0, 'scotland': 2.0, 'south': 1.0, 'concerned': 3.0, 'dictators': 1.0, 'founded': 1.0, 'tens': 1.0, 'written': 1.0, 'damage': 1.0, 'realms': 1.0, 'view': 1.0, 'ele': 1.0, 'party': 1.0, 'place': 1.0, 'british': 1.0, 'islay': 1.0, 'centralized': 1.0, 'rural': 2.0, 'natural': 1.0, 'lord': 1.0, 'north': 1.0, 'books': 2.0, 'isles': 2.0, 'issued': 1.0, 'africa': 1.0, 'london': 2.0, 'west': 1.0, 'ngos': 1.0, 'organisation': 2.0, 'hebridean': 2.0, 'protection': 1.0, 'controversial': 1.0, '2007': 1.0, 'birds': 1.0, 'tito': 1.0, 'heritage': 1.0, 'compared': 1.0, 'voice': 1.0, 'chairman': 1.0, 'voyage': 2.0, 'director': 1.0, 'journalist': 1.0, 'people': 1.0, 'lecture': 1.0, 'founder': 1.0, 'historical': 1.0, 'cossack': 1.0, 'defend': 1.0, 'imposts': 1.0, 'book': 2.0, 'cost': 1.0, 'libel': 1.0, 'norse': 1.0, 'critic': 1.0, 'claims': 2.0, '1989': 1.0, 'army': 1.0}, {'foothills': 1.0, '2008': 1.0, 'american': 1.0, 'back': 1.0, 'hapgoodleon': 1.0, 'month': 1.0, 'initial': 1.0, 'rejoined': 2.0, '2007': 2.0, '2004on': 1.0, 'arsenal': 1.0, 'left': 2.0, '20072008': 1.0, 'extended': 1.0, 'injury': 1.0, 'recovered': 1.0, '2002': 1.0, 'october': 1.0, 'play': 1.0, 'uk': 1.0, 'starting': 1.0, 'states': 1.0, 'tydfil': 1.0, '2001': 2.0, 'athletic': 1.0, 'final': 1.0, 'vase': 1.0, '21': 1.0, 'returning': 1.0, 'russell': 1.0, '11': 1.0, 'break': 1.0, 'failing': 1.0, 'yeovil': 1.0, 'villa': 1.0, '2000': 2.0, 'february': 2.0, 'november': 1.0, 'loan': 2.0, 'substitute': 2.0, 'torquay': 7.0, 'initially': 1.0, 'musker': 1.0, 'june': 3.0, 'minute': 1.0, '30': 1.0, 'coming': 1.0, '1997': 1.0, 'eddie': 1.0, 'hapgood': 2.0, 'bidefordhe': 1.0, 'win': 2.0, 'academy': 1.0, '2003': 1.0, 'fa': 1.0, 'september': 1.0, 'played': 1.0, 'debut': 1.0, 'turned': 1.0, 'merthyr': 1.0, '38th': 1.0, 'argyle': 1.0, 'expired': 1.0, 'onemonth': 1.0, '1998': 1.0, 'amateur': 1.0, 'town': 4.0, 'injured': 1.0, '10': 1.0, 'teamin': 1.0, 'english': 1.0, 'side': 2.0, 'league': 1.0, 'steve': 1.0, 'work': 1.0, '1979is': 1.0, 'plainmoor': 1.0, 'serves': 1.0, 'clevedon': 1.0, 'apprentice': 2.0, 'coach': 1.0, 'playing': 1.0, 'career': 2.0, 'plymouth': 2.0, 'footballer': 1.0, 'began': 1.0, 'saunders': 1.0, 'moved': 4.0, 'conference': 1.0, 'leon': 1.0, 'soccer': 1.0, 'nephew': 1.0, 'march': 1.0, 'united': 3.0, 'north': 1.0, 'mccall': 1.0, 'represented': 1.0, 'brighton': 1.0, 'berkhamsted': 1.0, 'duane': 1.0, 'club': 1.0, 'january': 1.0, 'coaching': 1.0, 'parkhe': 1.0, 'threemonth': 1.0, 'hove': 1.0, 'subsequently': 2.0, 'albion': 1.0, 'professional': 1.0, 'manager': 2.0, 'schoolboyshapgood': 1.0, 'england': 2.0, 'trial': 1.0, 'peripheral': 1.0, '6': 1.0, 'noncontract': 1.0, 'role': 1.0, 'managed': 1.0, 'terms': 1.0, 'resumed': 1.0, 'wes': 1.0, 'december': 1.0, 'scoring': 1.0, 'join': 2.0, 'season': 3.0, 'released': 2.0, '1999': 2.0, '7': 2.0, 'offered': 1.0, 'teaming': 1.0, 'contract': 3.0, 'calgary': 1.0, 'joined': 1.0, 'immediately': 1.0, 'born': 2.0, 'kevin': 1.0, 'tauntons': 1.0, 'hodges': 1.0, 'liskeard': 1.0, 'allowed': 1.0, 'signed': 1.0, 'pilgrims': 1.0, 'taunton': 2.0, 'player': 2.0, 'great': 1.0, 'sean': 1.0, 'william': 1.0, 'joyces': 1.0, 'august': 3.0, 'bideford': 3.0}, {'19': 1.0, 'entitled': 1.0, '8': 1.0, 'june': 1.0, 'friends': 1.0, 'single': 2.0, 'lovesick': 1.0, 'lead': 1.0, 'features': 1.0, 'windup': 1.0, '5': 1.0, 'october': 2.0, 'released': 3.0, 'album': 2.0, 'debut': 1.0, 'musso': 1.0, 'alongside': 1.0, 'lets': 1.0, 'teen': 1.0, 'rock': 1.0, 'music': 1.0, 'pop': 2.0, 'repertoire': 1.0, 'expanded': 1.0, 'diamondosment': 1.0, 'gabi': 1.0, 'hungry': 1.0, 'recorded': 1.0, 'young': 1.0, 'stars': 1.0, 'born': 2.0, 'flight': 1.0, 'childhood': 1.0, 'game': 1.0, 'films': 1.0, 'original': 2.0, 'fight': 1.0, 'gerti': 1.0, 'produced': 1.0, '3d': 1.0, 'costarring': 1.0, 'morris': 1.0, 'cyberbully': 1.0, 'fame': 1.0, 'television': 2.0, 'dont': 2.0, 'haunting': 1.0, 'gained': 1.0, '1992': 1.0, 'american': 1.0, 'stines': 1.0, 'hits': 1.0, 'kids': 2.0, 'awardnominated': 1.0, 'dreams': 1.0, 'volume': 1.0, '10': 1.0, 'montana': 3.0, 'giggles': 1.0, 'mitchel': 1.0, 'truscott': 1.0, 'recently': 3.0, 'march': 1.0, 'lost': 1.0, 'jordan': 1.0, 'cassie': 1.0, 'spy': 2.0, 'actress': 1.0, 'abc': 2.0, 'emily': 1.0, 'working': 1.0, '2010': 3.0, 'songwriter': 1.0, 'sitcom': 1.0, 'osment': 1.0, 'california': 1.0, 'island': 1.0, 'angeles': 1.0, 'lilly': 1.0, '2': 1.0, 'singer': 1.0, 'costar': 2.0, 'lifetime': 1.0, 'emmy': 1.0, 'disney': 2.0, 'hannah': 3.0, 'daughters': 1.0, '2013': 1.0, 'series': 3.0, 'character': 1.0, 'channel': 2.0, 'movie': 5.0, 'starred': 2.0, 'hour': 1.0, 'dadnapped': 1.0, 'didnt': 1.0, 'melissa': 1.0, 'online': 1.0, '2011': 1.0, 'family': 2.0, 'tv': 1.0, 'dreamosments': 1.0, 'cleaners': 1.0, 'records': 1.0, 'alternativeindie': 1.0, 'service': 1.0, 'crackle': 1.0, 'los': 1.0, 'nightmare': 1.0, '2014': 2.0}, {'admission': 1.0, 'ball': 1.0, 'switched': 1.0, 'worth': 1.0, 'air': 1.0, 'jumped': 1.0, 'hand': 2.0, 'dribbled': 1.0, 'razzledazzle': 1.0, 'fans': 1.0, 'wrote': 1.0, 'news': 1.0, 'world': 1.0, 'times': 1.0, 'roanoke': 1.0, 'brill': 1.0, 'wlbill': 1.0, 'baseball': 1.0, 'total': 1.0, 'fifthhighest': 1.0, '2310': 1.0, 'finished': 1.0, 'allsouthern': 1.0, 'earned': 1.0, 'years': 1.0, 'foundation': 1.0, 'helms': 1.0, 'team': 2.0, 'allamerica': 1.0, 'big': 1.0, 'conference': 2.0, 'southern': 1.0, 'named': 1.0, 'senior': 1.0, '109': 1.0, '730': 1.0, '696for954': 1.0, 'left': 2.0, 'alltime': 1.0, 'top': 1.0, 'writer': 1.0, 'made': 2.0, 'guard': 1.0, 'time': 1.0, 'accurate': 1.0, '696': 1.0, 'score': 1.0, 'point': 1.0, 'city': 1.0, 'floras': 1.0, 'native': 1.0, 'dickinson': 1.0, 'selection': 2.0, 'college': 1.0, 'generals': 1.0, '195455': 1.0, 'double': 1.0, 'play': 1.0, 'school': 1.0, 'american': 1.0, 'straight': 1.0, 'high': 2.0, 'throw': 1.0, '25': 1.0, 'jersey': 2.0, 'wl': 2.0, 'virginia': 2.0, 'floraflora': 1.0, 'dom': 2.0, '12': 1.0, 'played': 4.0, 'born': 1.0, 'shooters': 1.0, 'lee': 1.0, 'june': 1.0, 'led': 1.0, 'university': 1.0, 'william': 1.0, 'standout': 1.0, 'game': 1.0, '1935': 1.0, 'sports': 1.0, 'ended': 1.0, 'shot': 3.0, 'player': 2.0, 'scorer': 1.0, 'bit': 1.0, 'crisp': 1.0, 'ballhandling': 1.0, 'flora': 6.0, 'helped': 1.0, 'jump': 2.0, 'lexington': 1.0, 'prolific': 1.0, 'aggressive': 1.0, 'opposing': 1.0, 'average': 1.0, 'tripleteamed': 1.0, '21': 1.0, 'points': 2.0, 'schoola': 1.0, 'games': 1.0, 'ability': 1.0, 'career': 3.0, '195758': 2.0, 'explosive': 1.0, 'dominick': 1.0, 'gasping': 1.0, 'basketball': 2.0, 'style': 1.0, 'back': 1.0, 'free': 2.0, 'division': 2.0, 'price': 1.0, 'year': 2.0, 'ncaa': 2.0, 'history': 3.0, 'defenses': 1.0, 'throws': 1.0, 'washington': 1.0, 'conclusion': 1.0, 'located': 1.0, '201112': 1.0, 'season': 1.0}, {'polytechnic': 1.0, 'computer': 1.0, 'electrical': 1.0, 'emeritus': 1.0, 'sciences': 1.0, 'mexico': 1.0, 'cimat': 1.0, 'amsterdam': 1.0, 'costa': 1.0, 'washington': 1.0, 'appointments': 1.0, 'free': 1.0, 'temporary': 1.0, 'rica': 1.0, 'distinguished': 1.0, 'point': 1.0, 'problems': 1.0, 'operations': 1.0, 'san': 1.0, 'vietnam': 1.0, 'states': 1.0, 'flatbush': 1.0, 'tel': 1.0, 'studied': 1.0, 'army': 2.0, 'residence': 1.0, 'institute': 2.0, 'secretary': 1.0, 'optimal': 1.0, 'preston': 1.0, 'military': 1.0, 'leiden': 1.0, '1966': 1.0, 'hill': 1.0, 'ms': 1.0, 'york': 1.0, 'division': 1.0, '28': 1.0, 'research': 4.0, 'universityhe': 1.0, 'gauss': 1.0, 'west': 1.0, 'phd': 1.0, 'obispo': 1.0, 'dubins': 1.0, 'december': 1.0, 'born': 1.0, 'academy': 2.0, 'captain': 1.0, 'luis': 1.0, 'engineering': 1.0, 'natonsf': 1.0, 'theodore': 1.0, 'mexican': 1.0, 'divisionborn': 1.0, 'fair': 1.0, 'theory': 1.0, 'united': 1.0, 'advisor': 1.0, '1943': 1.0, 'mathematical': 2.0, 'ranger': 1.0, 'serving': 1.0, 'work': 2.0, 'berkeley': 1.0, 'probability': 1.0, 'law': 1.0, 'benfords': 1.0, 'ma': 1.0, 'adjunct': 1.0, 'stanford': 1.0, 'theories': 1.0, 'graduate': 1.0, 'university': 11.0, 'surviving': 1.0, 'american': 1.0, 'school': 2.0, 'hawaii': 1.0, 'combat': 1.0, 'engineers': 1.0, '25th': 1.0, 'infantry': 1.0, 'professor': 5.0, 'returned': 1.0, 'study': 1.0, 'mathematics': 3.0, 'spent': 1.0, 'gttingen': 3.0, 'aviv': 1.0, 'fulbright': 2.0, 'scholar': 2.0, 'mathematician': 1.0, 'california': 2.0, 'centre': 1.0, 'lester': 1.0, 'state': 1.0, 'postdoctoral': 1.0, 'fellow': 1.0, 'class': 1.0, 'career': 1.0, 'georgia': 2.0, 'stopping': 1.0, 'technology': 2.0}, {'neopagan': 1.0, 'rapova': 1.0, 'citizen': 1.0, 'russian': 1.0, '2011': 1.0, 'november': 1.0, 'reasons': 1.0, 'legal': 1.0, 'personal': 1.0, 'court': 1.0, 'prosecution': 1.0, 'gervaldass': 1.0, 'pending': 1.0, 'drives': 1.0, 'gervaldason': 1.0, 'seized': 1.0, 'antisemitism': 1.0, 'marriage': 1.0, 'preaching': 1.0, 'rituals': 1.0, 'investigation': 1.0, 'led': 1.0, 'creation': 1.0, 'elections': 1.0, 'municipal': 1.0, '3': 1.0, 'change': 1.0, 'encompass': 1.0, 'married': 1.0, 'workers': 1.0, 'hard': 1.0, 'unified': 1.0, 'called': 1.0, 'lithuania': 2.0, 'council': 2.0, 'movement': 1.0, 'city': 2.0, 'leader': 1.0, 'national': 5.0, 'sponsored': 1.0, 'compared': 1.0, 'municipality': 1.0, 'forces': 1.0, 'volunteer': 1.0, '16': 1.0, 'conditions': 1.0, 'born': 1.0, 'gervaldas': 3.0, 'colleagues': 1.0, 'december': 1.0, 'made': 1.0, 'murza': 3.0, 'demanded': 1.0, 'eventually': 1.0, 'nationalist': 1.0, 'globalism': 1.0, 'refusedin': 1.0, 'political': 1.0, 'year': 1.0, 'members': 1.0, 'politician': 1.0, 'registration': 1.0, 'police': 1.0, 'april': 2.0, 'computers': 1.0, '2012': 1.0, 'radical': 1.0, '12': 1.0, 'iauliai': 2.0, 'defence': 1.0, 'computer': 1.0, 'antisemitic': 2.0, 'party': 6.0, 'neonazi': 1.0, 'organization': 1.0, 'aims': 1.0, 'population': 1.0, 'conducted': 1.0, 'alliance': 2.0, 'socialist': 2.0, 'unity': 1.0, 'nationalistsocialist': 1.0, '1973': 1.0, 'publications': 1.0, 'government': 1.0, '1998': 1.0, 'attacked': 1.0, 'voice': 1.0, 'zlata': 1.0, 'poles': 1.0, 'zionism': 1.0, 'lithuanias': 1.0, 'carried': 1.0, 'minorities': 2.0, 'jews': 1.0, 'passed': 1.0, 'logic': 1.0, 'russians': 1.0, 'democratic': 1.0, 'unbearable': 1.0, 'time': 1.0, 'nation': 1.0, 'leave': 1.0, 'hatred': 1.0, '2001': 1.0, 'attempted': 1.0, 'revive': 1.0, '19': 1.0, 'statementsin': 1.0, 'life': 1.0, 'moribund': 1.0, 'logikos': 1.0, 'prosecutors': 1.0, 'partija': 1.0, 'paramilitary': 1.0, 'gyvenimo': 1.0, 'mindaugas': 5.0, '2005': 2.0, 'lithuanian': 6.0, 'member': 3.0, 'plans': 1.0, 'basis': 1.0, 'win': 1.0, 'establish': 1.0}, {'11': 1.0, 'bigleague': 1.0, 'final': 2.0, 'pirates': 1.0, 'don': 1.0, 'singled': 1.0, 'lateseason': 1.0, 'gamesin': 1.0, 'regular': 1.0, 'pinch': 1.0, 'niekro': 1.0, 'pittsburgh': 1.0, 'phil': 1.0, 'famer': 2.0, 'hall': 2.0, 'times': 1.0, 'future': 2.0, 'held': 1.0, 'braves': 1.0, '16': 1.0, 'atlanta': 1.0, 'days': 1.0, 'started': 2.0, 'stadiumhe': 1.0, 'cincinnati': 1.0, 'rout': 1.0, 'gary': 1.0, 'doubled': 1.0, 'scored': 1.0, 'hit': 3.0, 'balls': 1.0, 'collected': 2.0, 'game': 3.0, 'riverfront': 1.0, 'big': 1.0, 'bases': 1.0, 'dave': 1.0, 'june': 1.0, 'early': 1.0, 'april': 1.0, 'total': 1.0, 'appearing': 1.0, 'robinson': 1.0, 'rarely': 1.0, 'trial': 1.0, 'righthanded': 1.0, 'contract': 1.0, 'run': 2.0, 'batted': 3.0, 'threw': 1.0, 'beginning': 1.0, 'montreal': 4.0, 'seasons': 1.0, 'career': 1.0, 'games': 5.0, '190': 1.0, 'expos': 6.0, 'september': 2.0, 'stint': 1.0, 'played': 3.0, 'spent': 1.0, 'doubleheader': 1.0, 'level': 1.0, 'stood': 1.0, 'robert': 1.0, '1951': 1.0, 'appearancereece': 1.0, '1978': 2.0, 'minor': 2.0, 'american': 2.0, 'born': 1.0, 'system': 2.0, 'reece': 5.0, '1973': 1.0, 'ended': 1.0, 'professional': 1.0, 'university': 1.0, 'graduate': 1.0, 'player': 2.0, 'baseball': 1.0, 'international': 1.0, 'free': 1.0, '6': 1.0, 'scott': 1.0, 'january': 1.0, 'catcher': 3.0, '1975': 1.0, 'league': 5.0, 'association': 1.0, 'atbats': 1.0, 'relief': 1.0, '7': 1.0, 'major': 2.0, 'stanford': 1.0, 'top': 1.0, 'mlb': 4.0, 'reds': 1.0, 'tall': 1.0, 'striking': 1.0, 'leagues': 1.0, 'careerhigh': 1.0, 'feet': 1.0, '1981': 1.0, '185': 1.0, '1': 1.0, 'spend': 1.0, 'inch': 1.0, 'years': 1.0, 'pounds': 1.0, '86': 1.0, 'signed': 2.0, 'carter': 1.0, '296': 1.0, 'bearsin': 1.0, 'tomlin': 1.0, 'playing': 1.0, 'nondrafted': 1.0, 'agent': 1.0, 'reached': 1.0, '195': 1.0, '5': 1.0, 'triplea': 1.0, 'kgreece': 1.0, 'member': 2.0, 'memphis': 1.0, 'hitless': 1.0, 'end': 1.0, 'blues': 1.0, '672': 1.0, 'season': 3.0, 'weighed': 1.0, 'farm': 1.0, 'affiliate': 1.0, 'bats': 1.0, 'pitcher': 1.0, 'development': 1.0, 'denver': 2.0, 'hits': 1.0, 'bears': 1.0, 'parts': 1.0, '47': 1.0}, {'chads': 1.0, 'room': 1.0, 'masters': 1.0, 'studying': 1.0, 'symbolism': 1.0, 'undergraduate': 1.0, 'teaches': 2.0, '2003within': 1.0, 'barcelona': 1.0, 'international': 1.0, 'modules': 1.0, '2004': 1.0, 'conference': 2.0, '20002003': 1.0, 'theologyhe': 1.0, 'group': 1.0, 'association': 1.0, 'board': 1.0, 'boards': 1.0, 'editorial': 2.0, 'christianityprofessor': 1.0, 'contemporary': 1.0, 'articles': 1.0, 'taught': 1.0, 'purityhe': 1.0, 'innerspeech': 1.0, 'sociological': 2.0, 'society': 2.0, 'encyclopedia': 1.0, 'writings': 1.0, 'projects': 1.0, 'current': 1.0, 'large': 1.0, 'yearhis': 1.0, 'title': 1.0, 'anglican': 1.0, 'speaker': 1.0, 'cowrote': 1.0, 'anthropology': 2.0, 'guest': 1.0, 'james': 1.0, 'cover': 1.0, 'interests': 1.0, 'funerary': 1.0, 'mormonism': 1.0, 'federation': 1.0, 'sweden': 1.0, 'cremation': 3.0, 'rites': 1.0, 'expertise': 1.0, 'university': 6.0, 'johns': 1.0, 'published': 1.0, 'death': 4.0, 'research': 1.0, 'bachelor': 1.0, 'surrounding': 1.0, 'department': 1.0, 'leadershipborn': 1.0, 'douglas': 1.0, 'davies': 2.0, 'awarded': 1.0, 'include': 2.0, 'study': 3.0, 'history': 2.0, 'belief': 3.0, 'scandinavian': 1.0, '1947': 1.0, 'professor': 1.0, 'fields': 1.0, 'st': 2.0, 'master': 1.0, 'rituals': 1.0, 'book': 1.0, 'beliefs': 1.0, 'involved': 1.0, 'british': 3.0, 'theology': 4.0, 'sociology': 1.0, 'common': 1.0, 'including': 1.0, 'conferences': 1.0, 'booksellerdiagram': 1.0, 'authority': 1.0, 'read': 1.0, 'shaw': 1.0, 'senior': 1.0, 'globe': 1.0, 'degrees': 1.0, 'prayer': 1.0, 'durham': 4.0, 'college': 2.0, 'graves': 1.0, '19402000': 1.0, 'achieved': 1.0, 'popular': 1.0, 'phd': 1.0, 'reusing': 1.0, 'report': 1.0, 'nottingham': 1.0, 'degree': 1.0, 'religion': 5.0, '1995': 1.0, 'chairman': 1.0, 'doctor': 1.0, 'letters': 1.0, 'oxford': 1.0, 'wales': 1.0, 'doctorate': 1.0, 'identity': 1.0, 'arts': 1.0, 'won': 1.0, 'mortality': 1.0, 'ritual': 3.0, 'prize': 1.0, 'recently': 1.0, 'oddest': 1.0, 'honorary': 1.0, 'uppsala': 1.0, 'number': 1.0, 'member': 1.0, 'attitudes': 1.0, 'clergy': 1.0, 'born': 1.0, 'alastair': 1.0}, {'khler': 1.0, 'president': 1.0, 'federal': 1.0, 'ribbon': 1.0, 'bundesverdienstkreuz': 1.0, 'year': 1.0, 'arizonain': 1.0, 'cross': 1.0, 'lowell': 1.0, 'station': 1.0, 'anderson': 1.0, 'bowell': 1.0, '3859': 1.0, 'choice': 1.0, 'human': 1.0, 'international': 1.0, 'reputation': 1.0, 'great': 1.0, 'interestfreimut': 1.0, 'document': 1.0, 'suppression': 1.0, 'religious': 1.0, 'nazi': 1.0, 'references': 1.0, 'community': 1.0, 'astronomers': 1.0, 'honoured': 2.0, 'times': 1.0, 'resistance': 1.0, 'namings': 1.0, 'cultural': 1.0, 'discovered': 2.0, 'freelancer': 1.0, 'byproduct': 1.0, 'haydn': 1.0, 'work': 2.0, 'retired': 1.0, 'bande': 1.0, 'mesa': 1.0, 'wrongly': 1.0, 'germany': 1.0, 'horst': 1.0, 'fighters': 1.0, 'tautenburg': 2.0, 'numerous': 1.0, '1995': 1.0, 'freimuthhe': 1.0, 'schwarzschild': 1.0, 'observatory': 3.0, 'july': 1.0, 'amateur': 1.0, 'small': 1.0, 'considered': 1.0, 'thuringia': 1.0, 'schmidt': 1.0, 'merit': 1.0, 'achieved': 1.0, '1930': 1.0, 'give': 1.0, 'search': 1.0, 'telescope': 1.0, '17': 1.0, 'astronomer': 1.0, 'scientific': 2.0, 'galaxies': 1.0, 'october': 1.0, 'german': 3.0, 'historical': 1.0, 'asteroids': 3.0, 'freimut': 1.0, 'topics': 1.0, 'examples': 1.0, 'born': 1.0, 'ahnert': 1.0, 'jensch': 1.0, 'brngen': 4.0, '2006': 2.0, 'research': 2.0, '3181': 1.0, 'awarded': 1.0, 'famous': 1.0, 'spare': 1.0, '519': 1.0, 'studied': 1.0, 'managers': 1.0, 'geographical': 1.0, 'time': 1.0, 'regime': 1.0, 'prestigious': 1.0, 'asteroid': 1.0, 'karl': 1.0, '2424': 1.0, 'gdr': 2.0, 'restricted': 1.0, 'wellsubstantiated': 1.0, 'reunification': 1.0, '3245': 1.0, 'politically': 1.0, 'objects': 1.0, 'include': 2.0, 'continues': 1.0, 'neutral': 1.0, 'related': 1.0, 'qualities': 1.0, 'scientists': 1.0, 'composers': 1.0, 'sources': 1.0, '3941': 1.0, 'iau': 1.0, 'names': 3.0, 'chose': 1.0, 'systematically': 1.0}, {'paul': 2.0, '8': 1.0, 'called': 1.0, 'cd': 1.0, 'ensemble': 1.0, 'german': 1.0, 'groupe': 1.0, 'international': 1.0, 'hokuto': 1.0, 'ombre': 1.0, 'luci': 1.0, 'litteri': 1.0, 'requiem': 1.0, 'silesius': 1.0, 'angelus': 1.0, 'include': 1.0, 'works': 1.0, '100': 1.0, 'cs': 1.0, 'boulez': 1.0, 'pierre': 1.0, 'webern': 1.0, 'composed': 1.0, 'anton': 1.0, 'composers': 1.0, 'influenced': 1.0, 'klee': 2.0, 'competition': 1.0, 'sortisatio': 1.0, 'brahms': 1.0, 'johannes': 1.0, 'sacred': 1.0, 'fribourg': 1.0, 'cantata': 1.0, 'du': 1.0, 'musique': 1.0, 'jury': 1.0, 'college': 1.0, '1973': 1.0, 'compositions': 1.0, 'holds': 1.0, 'master': 2.0, 'research': 1.0, 'famous': 1.0, 'festival': 3.0, 'john': 1.0, '10': 1.0, 'rptiteur': 1.0, 'variously': 1.0, 'conductor': 3.0, 'studied': 1.0, 'founding': 1.0, 'heidelberg': 1.0, 'foundationfrom': 1.0, '1987': 3.0, 'university': 3.0, 'cagehe': 1.0, 'gdanskbrm': 1.0, 'philharmonie': 1.0, 'institute': 1.0, 'conservatoire': 1.0, 'berkeleyfrom': 1.0, 'slovakia': 1.0, 'rector': 1.0, 'concours': 1.0, 'republic': 1.0, 'conductorbrm': 1.0, 'lacroix': 1.0, 'aspen': 1.0, 'schatt': 1.0, '1944': 1.0, 'swiss': 3.0, 'head': 1.0, 'april': 1.0, 'honor': 1.0, 'argentinahe': 1.0, 'music': 7.0, 'brm': 1.0, 'de': 3.0, 'musicology': 1.0, 'chief': 1.0, 'thring': 1.0, 'city': 1.0, 'suissebrm': 1.0, 'musicales': 1.0, 'director': 1.0, 'academy': 2.0, 'piano': 1.0, 'high': 1.0, 'painter': 1.0, 'pieces': 1.0, 'school': 2.0, 'conservatory': 1.0, 'des': 1.0, 'regular': 1.0, 'arts': 1.0, 'choir': 1.0, 'curtis': 1.0, '2000': 1.0, 'conducting': 1.0, 'pardubice': 1.0, 'science': 1.0, 'president': 1.0, 'board': 2.0, '1999': 2.0, 'lucerne': 2.0, '2001': 1.0, '2006': 2.0, 'composition': 2.0, 'worked': 2.0, 'association': 1.0, 'born': 1.0, 'europenne': 1.0, 'junge': 1.0, 'california': 1.0, 'basel': 4.0, 'council': 1.0, 'classes': 1.0, 'composer': 2.0, '1984': 1.0, '1990': 1.0, 'jeunesses': 1.0, 'member': 4.0, 'zentralschweiz': 1.0, 'regio': 1.0, 'binningenbasel': 1.0, 'graduated': 1.0, 'gave': 1.0, 'guest': 2.0, 'chamber': 2.0, 'national': 1.0, 'philharmonic': 1.0, 'czech': 1.0}, {'ideology': 1.0, 'student': 1.0, 'greatwood': 1.0, 'mexicomarcus': 1.0, 'caicos': 1.0, 'turks': 1.0, 'instructor': 1.0, 'aida': 1.0, 'quotes': 1.0, 'egypt': 1.0, 'corps': 1.0, 'finally': 1.0, 'westbourne': 1.0, 'attended': 1.0, 'returned': 1.0, '1941': 1.0, '1997': 1.0, 'pennsylvania': 1.0, 'friends': 1.0, 'sussex': 1.0, 'india': 1.0, 'early': 1.0, 'trained': 1.0, 'members': 1.0, 'changed': 1.0, 'hc': 1.0, 'coldstream': 1.0, 'freediver': 1.0, 'harrow': 1.0, 'mother': 1.0, 'wellington': 1.0, 'chapel': 1.0, 'intelligence': 1.0, 'foundation': 1.0, 'viii': 1.0, 'brokerage': 1.0, 'kingdom': 1.0, 'simpson': 6.0, 'child': 3.0, 'ne': 1.0, 'baptised': 1.0, 'aharon': 2.0, 'husband': 1.0, 'record': 1.0, 'train': 1.0, 'son': 2.0, 'spence': 1.0, '1962': 1.0, 'ibiza': 1.0, '27': 1.0, 'kirk': 1.0, 'ferreras': 1.0, 'solomons': 10.0, 'mt': 2.0, 'ten': 1.0, '1946': 1.0, 'shipping': 1.0, 'aldrich': 1.0, '2008': 1.0, '1939': 1.0, '1958': 1.0, 'school': 2.0, 'cuba': 1.0, '1992': 1.0, 'born': 1.0, 'september': 2.0, '1960': 1.0, 'spent': 1.0, 'teach': 1.0, 'uk': 3.0, 'national': 1.0, 'house': 1.0, 'childhood': 1.0, 'wallis': 1.0, 'joined': 1.0, 'inducted': 1.0, 'young': 1.0, 'london': 1.0, 'pinna': 1.0, 'eilat': 1.0, 'huntemuller': 1.0, 'officer': 1.0, 'guards': 2.0, 'wife': 2.0, 'system': 1.0, 'separated': 1.0, 'mary': 2.0, 'settlements': 1.0, 'henry': 2.0, 'switzerlandin': 1.0, 'trainers': 1.0, 'father': 3.0, 'micronesia': 1.0, 'married': 3.0, 'francisco': 1.0, 'zeev': 1.0, 'partner': 1.0, 'lived': 1.0, 'raffray': 1.0, 'firm': 1.0, '1965the': 1.0, '1957': 1.0, 'edward': 1.0, 'england': 2.0, 'time': 1.0, 'scuba': 1.0, 'regiment': 1.0, 'east': 1.0, 'le': 1.0, 'institut': 1.0, 'commissioned': 1.0, 'moved': 1.0, 'work': 1.0, 'israeli': 2.0, '196768': 1.0, 'year': 1.0, 'sinai': 1.0, 'defense': 1.0, 'action': 1.0, 'united': 1.0, 'golan': 1.0, 'israel': 2.0, 'heights': 1.0, 'years': 3.0, 'association': 1.0, '1973': 1.0, 'barracks': 1.0, 'joy': 1.0, 'forces': 1.0, 'fathers': 1.0, 'corisande': 1.0, 'aharons': 2.0, '1998': 1.0, 'jackson': 1.0, '25': 1.0, 'freedivingsolomons': 1.0, '22': 1.0, '2010': 1.0, 'communal': 1.0, 'served': 1.0, 'sons': 1.0, 'uri': 1.0, 'agricultural': 1.0, 'nadav': 1.0, 'limits': 1.0, 'rosh': 1.0, '1932': 1.0, '1975': 1.0, 'april': 1.0, 'traveled': 1.0, 'holderborn': 1.0, 'greece': 2.0, 'mexico': 1.0, 'settled': 1.0, 'taught': 1.0, 'met': 1.0, 'pipin': 1.0, 'ernest': 4.0, 'middle': 1.0, 'constant': 1.0, 'weight': 1.0, 'died': 2.0, 'disciplines': 1.0, 'rosey': 1.0, 'mariateresa': 1.0, '1964': 1.0, 'freedivers': 1.0, 'freediving': 2.0, 'team': 2.0, '2001': 1.0}, {'boys': 1.0, 'wife': 1.0, 'jersey': 1.0, 'teaneck': 1.0, 'resides': 1.0, 'californiaweil': 1.0, 'southern': 1.0, 'fundraiser': 1.0, 'successful': 1.0, 'endowment': 1.0, '750': 1.0, 'fund': 1.0, 'township': 1.0, 'girls': 1.0, 'govoha': 1.0, 'medrash': 1.0, 'leaders': 1.0, 'jerseyin': 1.0, 'term': 1.0, 'committee': 1.0, 'worked': 2.0, 'education': 1.0, 'jewish': 1.0, 'administration': 1.0, 'elchanan': 1.0, 'ohr': 1.0, 'yael': 1.0, 'schwarzenegger': 1.0, 'university': 2.0, 'businessweil': 1.0, 'lakewood': 1.0, 'young': 1.0, 'public': 1.0, 'byavneh': 1.0, 'kerem': 1.0, 'invocations': 1.0, 'affairs': 1.0, 'upstate': 1.0, 'masters': 1.0, 'york': 3.0, 'rabbi': 4.0, 'cattle': 1.0, 'weil': 2.0, 'theological': 1.0, 'advocating': 1.0, 'closely': 1.0, 'yeshivat': 1.0, 'arnold': 1.0, 'attended': 1.0, '250': 1.0, 'synagogues': 1.0, 'business': 1.0, 'dick': 1.0, 'families': 2.0, 'ordained': 1.0, 'jimmy': 1.0, 'seminary': 1.0, 'torah': 1.0, 'earned': 1.0, 'steven': 1.0, 'strongly': 1.0, 'congregations': 2.0, 'isaac': 1.0, 'oak': 1.0, 'park': 1.0, 'michigan': 1.0, 'beth': 3.0, 'american': 2.0, 'school': 2.0, 'jacob': 2.0, 'yeshiva': 1.0, 'expanded': 1.0, 'hills': 2.0, 'programming': 1.0, 'california': 1.0, 'stern': 1.0, 'israel': 4.0, 'stephen': 1.0, 'considered': 1.0, 'substantially': 1.0, 'increased': 3.0, 'membership': 2.0, 'grew': 1.0, 'farm': 1.0, 'delivered': 1.0, 'congregation': 2.0, 'delshad': 1.0, 'president': 2.0, 'george': 1.0, 'beverly': 2.0, 'mayors': 1.0, 'cheney': 1.0, 'country': 1.0, 'governor': 1.0, 'bush': 1.0, 'served': 1.0, 'vice': 1.0, 'internationally': 1.0, 'visiting': 1.0, 'high': 1.0, 'scholar': 1.0, 'webb': 1.0, 'residence': 1.0}, {'inside': 1.0, 'songs': 1.0, 'siren': 1.0, 'distracted': 1.0, 'foremost': 1.0, 'successful': 1.0, 'board': 1.0, 'candidates': 1.0, 'beltway': 1.0, 'heard': 1.0, 'time': 1.0, 'won': 1.0, 'north': 4.0, 'candidate': 1.0, 'karls': 1.0, '2010': 1.0, '1958': 1.0, '2007in': 1.0, 'july': 2.0, 'meeting': 1.0, 'victory': 1.0, 'committee': 2.0, 'chosen': 1.0, 'job': 1.0, '6925': 1.0, '1': 1.0, 'retirement': 1.0, 'setting': 1.0, '2007s': 1.0, 'letter': 1.0, 'statewide': 1.0, 'partys': 1.0, 'national': 1.0, 'thingit': 1.0, 'october': 1.0, 'led': 1.0, 'single': 1.0, 'figure': 1.0, 'ken': 1.0, '24': 1.0, 'born': 1.0, 'gary': 1.0, 'office': 1.0, 'serving': 1.0, 'political': 1.0, 'finally': 1.0, 'marginin': 1.0, 'significantly': 1.0, 'fargo': 1.0, 'state': 3.0, 'margin': 1.0, 'election': 2.0, 'lead': 1.0, 'chairman': 5.0, 'republican': 5.0, '3512': 1.0, 'including': 1.0, 'dakota': 4.0, 'majorities': 1.0, 'wasnt': 1.0, 'senator': 1.0, 'director': 2.0, 'station': 1.0, 'republicans': 2.0, 'terms': 1.0, 'members': 1.0, 'increased': 1.0, 'representative': 1.0, 'legislature': 1.0, 'party': 4.0, 'place': 1.0, 'house': 1.0, 'senate': 1.0, 'wrote': 1.0, 'finance': 2.0, 'executive': 1.0, 'houses': 1.0, 'learned': 1.0, 'rolling': 1.0, 'emineth': 1.0, 'train': 1.0, 'pieces': 1.0, 'description': 1.0, 'wheels': 1.0, 'motion': 1.0}, {'pieces': 1.0, 'films': 1.0, 'frontline': 2.0, 'outstanding': 1.0, 'emmy': 1.0, 'news': 1.0, '2009': 1.0, 'international': 1.0, 'hot': 1.0, 'television': 1.0, 'bitter': 1.0, 'cynical': 1.0, 'leaving': 1.0, 'men': 1.0, 'young': 1.0, 'idealistic': 1.0, 'year': 1.0, 'soldiers': 1.0, 'unique': 1.0, 'la': 1.0, 'aka': 1.0, 'individual': 1.0, 'platoon': 2.0, 'cinematography': 1.0, 'white': 2.0, 'documented': 1.0, 'released': 1.0, 'west': 1.0, 'unrest': 1.0, 'civil': 1.0, 'pacific': 1.0, 'australian': 1.0, 'south': 1.0, 'issues': 1.0, 'banff': 1.0, 'paris': 1.0, 'iraq': 4.0, 'canal': 1.0, 'afghanistan': 2.0, '1976': 1.0, 'awarded': 1.0, 'festival': 1.0, 'maker': 1.0, 'based': 1.0, 'kurdish': 1.0, 'maldavsky': 1.0, 'july': 1.0, 'veterans': 1.0, 'network': 1.0, 'cameraman': 1.0, 'melbourne': 1.0, 'festivalin': 1.0, 'papua': 1.0, 'briefinghe': 1.0, 'israel': 1.0, '2002': 1.0, 'frontlinein': 1.0, 'began': 2.0, 'timothy': 1.0, '1999': 1.0, 'entering': 1.0, 'conflict': 1.0, 'documentary': 6.0, 'length': 2.0, 'francegrucza': 1.0, 'film': 5.0, 'achievement': 1.0, 'baghdad': 1.0, 'work': 2.0, 'selected': 1.0, 'repatriated': 1.0, 'kosovan': 1.0, 'won': 1.0, '1': 1.0, 'refugees': 1.0, 'escaped': 1.0, 'war': 2.0, 'kosovo': 1.0, 'pbs': 1.0, 'granted': 1.0, 'correspondent': 1.0, 'pakistan': 1.0, 'spend': 1.0, 'named': 1.0, 'born': 1.0, 'zones': 1.0, 'australia': 3.0, 'safe': 1.0, 'haven': 1.0, 'section': 1.0, 'covering': 1.0, 'including': 1.0, 'enclave': 1.0, 'craft': 1.0, 'yuri': 1.0, 'grucza': 4.0, 'entered': 1.0, 'working': 1.0, 'continues': 1.0, 'north': 1.0, 'career': 1.0, 'country': 1.0, 'canadian': 1.0, 'docs': 1.0, '2003': 1.0, 'invasion': 1.0, 'produce': 1.0, 'worked': 2.0, 'french': 1.0, 'extensively': 1.0, 'palestinian': 1.0, 'territories': 1.0, '2006': 1.0, 'world': 1.0, 'feature': 2.0}, {'officials': 1.0, 'continued': 1.0, 'religions': 1.0, 'december': 1.0, 'traveled': 1.0, '2009': 2.0, 'affairs': 1.0, 'position': 1.0, 'utah': 1.0, 'newswriters': 1.0, 'conference': 2.0, 'reverend': 1.0, 'hollywood': 1.0, 'organizations': 1.0, '2006': 2.0, 'scholastics': 1.0, 'happiness': 1.0, 'criminon': 1.0, 'members': 1.0, 'nonprofit': 1.0, 'living': 1.0, 'applied': 1.0, 'vice': 4.0, 'organization': 2.0, 'served': 1.0, 'working': 1.0, 'tech': 1.0, 'city': 1.0, 'center': 1.0, 'represented': 1.0, 'facilities': 1.0, 'owning': 1.0, 'executive': 1.0, 'supervise': 1.0, 'professions': 1.0, 'spokespersons': 1.0, 'subsequently': 1.0, 'falcons': 1.0, 'atlanta': 1.0, 'melbourne': 1.0, 'years': 1.0, '2010': 1.0, '1988': 1.0, 'encouraged': 1.0, 'college': 4.0, 'official': 1.0, 'mateo': 2.0, 'received': 1.0, 'church': 6.0, 'listed': 1.0, 'camino': 1.0, 'doug': 1.0, 'california': 3.0, 'religion': 1.0, 'narconon': 1.0, 'played': 2.0, 'redwood': 1.0, 'procareer': 1.0, 'scientology': 8.0, 'australia': 1.0, 'born': 1.0, 'recruited': 1.0, 'consultant': 1.0, '1960s': 1.0, 'founded': 1.0, 'el': 1.0, 'august': 1.0, 'play': 2.0, 'stockton': 1.0, 'media': 1.0, 'signed': 1.0, 'robert': 1.0, 'performance': 1.0, '15': 1.0, 'secular': 1.0, 'football': 7.0, 'professional': 1.0, 'steelers': 2.0, '2004': 1.0, 'adams': 6.0, 'serve': 1.0, 'american': 1.0, 'school': 2.0, 'tight': 1.0, 'schoolhe': 1.0, 'pacific': 1.0, 'end': 1.0, 'teacherin': 1.0, '1946': 1.0, 'helped': 1.0, 'coach': 3.0, 'playing': 1.0, 'san': 2.0, 'teams': 1.0, 'national': 3.0, 'bob': 1.0, 'worked': 1.0, 'association': 2.0, 'league': 3.0, 'education': 1.0, 'companies': 1.0, 'basketball': 1.0, 'single': 1.0, 'drafted': 1.0, 'senior': 1.0, '1973': 1.0, 'season': 1.0, '1966': 1.0, 'finished': 1.0, 'attended': 1.0, 'trackandfield': 1.0, 'applying': 1.0, 'public': 1.0, 'participating': 1.0, 'sports': 1.0, 'president': 4.0, 'including': 2.0, 'full': 1.0, 'held': 1.0, 'scholarship': 1.0, 'world': 1.0, '1968': 1.0, 'captain': 1.0, 'offense': 1.0, 'chuck': 1.0, 'noll': 1.0, 'international': 2.0, 'free': 1.0, 'agent': 1.0, 'fitness': 1.0, 'pittsburgh': 2.0, 'bruce': 1.0, 'member': 2.0, 'high': 2.0, 'scovil': 1.0, 'scientologist': 1.0, 'methodology': 1.0, 'programs': 1.0}, {'merged': 1.0, 'year': 1.0, 'permanent': 1.0, 'taillon': 1.0, 'gilles': 1.0, 'interim': 1.0, 'named': 1.0, 'resignation': 1.0, 'announced': 1.0, 'mario': 1.0, 'leader': 3.0, 'declined': 1.0, '2009': 1.0, 'support': 1.0, '44': 1.0, 'reelection': 1.0, '2008': 1.0, 'leaderin': 1.0, '29': 1.0, 'march': 1.0, '22': 1.0, 'boissonneault': 1.0, 'laurent': 1.0, 'vote': 2.0, '2012she': 1.0, 'lotbinire': 1.0, '2007': 2.0, 'district': 1.0, '1988': 1.0, 'health': 1.0, 'electoral': 1.0, 'initially': 1.0, '1987': 1.0, 'la': 1.0, 'quebec': 2.0, 'municipality': 1.0, 'official': 1.0, 'liberal': 1.0, 'caq': 2.0, '1964': 1.0, 'dumont': 1.0, '4': 1.0, 'du': 1.0, 'mental': 1.0, 'sylvie': 1.0, 'riding': 1.0, 'qubec': 2.0, 'roy': 5.0, 'finished': 2.0, 'deputy': 1.0, 'tuque': 1.0, '15': 1.0, 'merger': 1.0, '26': 1.0, 'politician': 1.0, 'incumbent': 1.0, 'february': 1.0, 'candidate': 1.0, 'november': 1.0, 'party': 2.0, 'canada': 1.0, 'arthabaska': 1.0, 'mauricie': 1.0, 'adq': 3.0, '37': 1.0, 'national': 2.0, 'nowdefunct': 1.0, '2012': 3.0, 'born': 1.0, 'coalition': 1.0, 'voteparti': 1.0, 'avenir': 1.0, 'appointed': 1.0, 'member': 2.0, '2003': 3.0, 'assembly': 2.0, 'opposition': 1.0, 'elected': 1.0, 'awarded': 1.0, 'law': 1.0, 'degree': 1.0, 'previously': 1.0, 'universit': 1.0, 'laval': 1.0, 'admitted': 1.0, '27': 1.0, 'lawyer': 1.0, 'barreau': 1.0, 'years': 2.0, 'including': 1.0, 'saintsophiedelvrard': 1.0, 'won': 1.0, 'voteon': 1.0, '12': 1.0, 'organizations': 1.0, 'reelected': 2.0, 'mayor': 1.0, '1998': 1.0, 'worked': 1.0, 'bcancour': 1.0, 'regional': 1.0, 'county': 1.0, 'partys': 1.0, 'quebecroy': 1.0, 'votein': 1.0, 'sharply': 1.0, 'election': 4.0, 'qubcois': 1.0, 'pq': 1.0, 'served': 1.0, 'jeanguy': 1.0, 'house': 1.0, 'represented': 1.0, 'par': 1.0, 'easily': 1.0, '59': 1.0}, {'ally': 1.0, 'fell': 1.0, 'karaoke': 1.0, 'rituals': 1.0, 'turn': 1.0, '2013': 1.0, 'august': 1.0, 'woman': 1.0, 'haircutsheffields': 1.0, 'discusses': 1.0, 'true': 1.0, 'mans': 1.0, 'duran': 2.0, 'girls': 1.0, 'talking': 1.0, 'called': 2.0, '2010': 1.0, 'couple': 1.0, 'university': 1.0, 'yale': 1.0, 'attended': 1.0, 'pop': 1.0, 'library': 1.0, 'dj': 1.0, 'version': 1.0, 'print': 1.0, 'young': 1.0, 'prior': 1.0, '2006': 1.0, 'essays': 1.0, 'late': 1.0, 'quest': 1.0, 'boston': 1.0, 'american': 1.0, 'sheffield': 3.0, 'brooklyn': 1.0, '2009': 1.0, 'crists': 1.0, 'childrensheffield': 1.0, '2': 1.0, 'rob': 1.0, 'magazine': 1.0, 'writing': 1.0, 'virginia': 1.0, '1966': 1.0, 'editor': 2.0, 'born': 1.0, 'journalist': 1.0, 'folded': 1.0, '2007': 2.0, 'blender': 1.0, 'stone': 1.0, 'rene': 1.0, 'place': 1.0, 'city': 1.0, 'author': 1.0, 'contributing': 2.0, 'spin': 1.0, 'february': 1.0, 'yorksheffields': 1.0, 'reviews': 2.0, 'loss': 1.0, 'crist': 1.0, 'virginiahis': 1.0, 'book': 3.0, 'love': 6.0, 'july': 1.0, 'met': 2.0, 'tape': 2.0, 'life': 1.0, 'bright': 1.0, 'lives': 1.0, 'rolling': 1.0, '1997': 1.0, 'received': 1.0, 'song': 1.0, 'excerpt': 1.0, 'death': 1.0, 'january': 2.0, 'eyes': 1.0, 'cooler': 1.0, 'culture': 1.0, 'married': 1.0, 'gq': 1.0, 'released': 3.0, 'random': 1.0, 'house': 1.0, 'radio': 1.0, 'featured': 1.0, 'starred': 1.0, 'remarried': 1.0, 'publishers': 1.0, 'weekly': 1.0, 'journalmost': 1.0, 'music': 3.0, 'takes': 1.0, 'charlottesville': 1.0, 'mutual': 1.0, 'native': 1.0, 'wife': 2.0, 'fellow': 1.0, 'issue': 1.0, 'station': 1.0, 'wtju': 1.0, 'continues': 1.0, 'mix': 2.0, 'time': 1.0, 'york': 1.0}, {'royal': 1.0, 'leopoldinain': 1.0, 'der': 1.0, 'academies': 1.0, 'honoris': 1.0, 'germany': 1.0, 'poland': 2.0, 'doctor': 1.0, 'bucharest': 1.0, 'society': 2.0, 'japan': 2.0, 'hoff': 1.0, 'vant': 1.0, 'assemblies': 1.0, 'causa': 1.0, 'watermediated': 1.0, 'joannides': 1.0, 'laboratoryindustrial': 1.0, 'involved': 1.0, 'elementary': 1.0, 'understanding': 1.0, 'improve': 1.0, 'studies': 1.0, 'chemistries': 1.0, '2014': 1.0, 'solidstate': 1.0, 'include': 1.0, 'geo': 1.0, 'electro': 1.0, 'junction': 1.0, 'chemistry': 1.0, 'emergence': 1.0, 'field': 1.0, 'interfacial': 1.0, 'original': 1.0, 'isotopes': 1.0, 'faraday': 1.0, 'specific': 1.0, 'probes': 1.0, 'elements': 1.0, 'ches': 1.0, 'based': 1.0, 'work': 2.0, 'humboldt': 1.0, 'preparationmichel': 1.0, '1995his': 1.0, 'universitaire': 1.0, 'gassolid': 1.0, 'techniques': 1.0, 'epr': 1.0, 'institut': 1.0, 'prize': 1.0, 'pierre': 1.0, 'physical': 1.0, 'organisation': 2.0, 'congress': 1.0, 'titanium': 1.0, 'universities': 1.0, 'vi': 1.0, '200004': 1.0, 'curie': 2.0, 'position': 1.0, 'provided': 1.0, '196971': 1.0, '1975': 1.0, 'contributed': 1.0, 'association': 1.0, 'doctorate': 1.0, 'science': 1.0, 'president': 1.0, 'chemistrys': 1.0, 'marie': 1.0, '1993': 1.0, 'studied': 1.0, 'senior': 1.0, 'publications': 1.0, 'von': 1.0, 'france': 3.0, 'supramolecular': 1.0, 'michel': 1.0, 'born': 1.0, 'dioxide': 1.0, 'completed': 1.0, 'deutsche': 1.0, 'sue': 1.0, 'awards': 1.0, 'promotion': 2.0, 'paris': 2.0, 'led': 2.0, 'culminating': 1.0, 'che': 1.0, 'romania': 1.0, 'international': 3.0, 'akademie': 1.0, 'catalyst': 1.0, 'study': 1.0, 'sklodowskacurie': 1.0, 'europacat': 1.0, 'processes': 2.0, 'postdoctoral': 1.0, 'catalysis': 7.0, 'presidentfounder': 1.0, 'member': 2.0, 'appointed': 1.0, 'de': 1.0, 'university': 3.0, 'naturforscher': 1.0, 'cracow': 1.0, '1968': 1.0, 'transition': 1.0, 'molecular': 1.0, 'professor': 2.0, 'lyon': 2.0, 'opening': 1.0, 'academia': 1.0, '400': 1.0, 'coordination': 1.0, 'journals': 1.0, 'portugal': 1.0, 'pioneered': 1.0, 'active': 1.0, 'european': 1.0, '13th': 1.0, 'europaea': 1.0, 'heterogeneous': 1.0, 'federation': 1.0, 'lectureship': 1.0, 'netherlands': 1.0, 'fellow': 1.0, 'biennial': 1.0, 'societies': 2.0, 'colloidal': 1.0, 'creation': 1.0, 'highranking': 1.0, 'cycle': 1.0, 'lisbon': 1.0, 'approach': 1.0, 'awarded': 1.0, 'gaylussac': 1.0, 'famous': 1.0, 'activity': 1.0, 'congresses': 1.0, 'iacs': 1.0, 'princeton': 1.0, 'largely': 2.0, 'research': 1.0, 'devoted': 1.0, 'efcats': 1.0, '2004his': 1.0, 'involving': 1.0, 'liquidsolid': 1.0, 'solidsolid': 1.0, 'interfaces': 1.0}, {'north': 1.0, 'consultant': 1.0, 'societies': 2.0, 'network': 1.0, 'series': 1.0, 'colloquium': 1.0, 'coordinator': 1.0, 'founding': 2.0, 'scholarshe': 1.0, 'society': 1.0, 'honor': 1.0, 'delta': 1.0, 'beta': 1.0, 'america': 1.0, 'african': 1.0, 'landscapes': 1.0, 'marquis': 1.0, 'boards': 1.0, 'editorial': 1.0, 'serves': 3.0, 'eastern': 2.0, 'legal': 1.0, 'industry': 1.0, 'widely': 1.0, 'published': 1.0, 'taught': 1.0, 'en': 1.0, 'cultuur': 1.0, 'politics': 2.0, 'mediterranean': 1.0, 'mediaculture': 1.0, 'theory': 1.0, 'reviews': 1.0, 'lawyers': 1.0, 'journals': 2.0, 'scholarly': 1.0, 'states': 1.0, 'associate': 1.0, '2003': 1.0, 'comparative': 1.0, 'sean': 1.0, 'phi': 1.0, 'literature': 1.0, 'english': 1.0, 'language': 1.0, 'international': 1.0, 'communitybased': 1.0, 'columbia': 2.0, 'editor': 1.0, 'professor': 1.0, 'lateral': 3.0, 'literary': 1.0, 'humanities': 1.0, 'includeculture': 1.0, 'membership': 1.0, 'history': 1.0, 'critic': 1.0, 'lateralhis': 1.0, 'award': 2.0, 'doukkali': 1.0, 'jaafar': 1.0, 'morocco': 3.0, 'johnson': 1.0, 'academic': 1.0, 'george': 2.0, 'member': 1.0, 'includecultural': 1.0, 'received': 1.0, 'akhawayn': 1.0, 'college': 2.0, 'phd': 1.0, '1974': 1.0, 'azemmour': 1.0, 'islam': 1.0, 'aksikas': 2.0, 'ma': 1.0, 'arab': 1.0, 'fields': 1.0, 'united': 1.0, 'edited': 2.0, 'chicago': 2.0, 'university': 4.0, 'media': 2.0, 'including': 2.0, 'president': 1.0, 'association': 1.0, 'volumes': 1.0, 'antar': 1.0, 'ofand': 1.0, 'studies': 14.0, 'law': 1.0, 'awards': 1.0, 'andrews': 1.0, 'american': 2.0, '2014arab': 1.0, 'general': 1.0, 'forms': 1.0, '2010': 1.0, 'sirah': 1.0, 'modernities2009': 1.0, 'industries': 2.0, 'interpretation': 1.0, 'mason': 2.0, '2011': 1.0, 'purchase': 1.0, 'chouaib': 1.0, 'born': 1.0, 'neoliberal': 1.0, 'cultures': 1.0, 'vision': 1.0, '2002his': 1.0, 'al': 1.0, 'cultural': 11.0, 'journal': 4.0, 'publications': 1.0, 'holds': 2.0, 'books': 1.0, 'interventions': 1.0, 'muslim': 1.0, 'illinois': 1.0, 'ba': 1.0, 'islamic': 2.0, 'culture': 1.0, 'inaugural': 1.0, 'issue': 2.0, 'middle': 2.0, 'critical': 3.0, 'times': 1.0, 'numerous': 1.0, 'engaged': 1.0, 'migratie': 1.0, 'scholarship': 1.0, 'special': 2.0, 'work': 1.0, 'appeared': 1.0}, {'theme': 1.0, '1980': 1.0, 'calls': 1.0, '2012': 1.0, 'june': 1.0, 'conference': 2.0, 'online': 2.0, 'organized': 2.0, 'local': 1.0, 'spiritual': 1.0, 'education': 1.0, 'veganism': 1.0, 'specializing': 1.0, 'berkeley': 1.0, 'california': 1.0, 'state': 1.0, 'francisco': 1.0, 'humanities': 1.0, 'masters': 1.0, '1975': 1.0, 'audio': 1.0, 'phd': 1.0, 'maine': 1.0, 'societies': 1.0, 'centers': 1.0, 'diethe': 1.0, 'steve': 1.0, 'church': 1.0, 'thought': 1.0, 'animal': 2.0, 'lectured': 1.0, 'world': 2.0, '1990': 1.0, 'veganpalooza': 1.0, 'outer': 1.0, 'circle': 2.0, 'events': 1.0, 'animals': 1.0, 'north': 1.0, 'administrative': 1.0, 'carman': 1.0, '1115': 1.0, 'speaker': 2.0, 'august': 1.0, 'progressive': 1.0, 'guest': 1.0, 'america': 1.0, 'vegan': 3.0, 'unity': 1.0, 'judy': 1.0, 'performed': 1.0, 'korea': 1.0, 'diet': 1.0, 'zen': 1.0, 'tuttle': 3.0, 'context': 1.0, 'prussack': 1.0, 'college': 1.0, 'harmony': 1.0, 'prayer': 1.0, 'born': 1.0, 'amazon': 1.0, 'worldwide': 1.0, 'peace': 3.0, '1': 1.0, 'musician': 1.0, 'american': 1.0, '1953': 1.0, 'frequent': 1.0, 'bestseller': 1.0, '2010': 1.0, 'monk': 1.0, 'conferences': 1.0, 'science': 1.0, 'author': 1.0, 'international': 2.0, 'spoke': 1.0, 'rights': 2.0, 'colby': 1.0, 'inspirational': 1.0, 'obtained': 1.0, 'zone': 1.0, 'classical': 1.0, 'writer': 1.0, 'made': 1.0, 'debut': 1.0, 'bachelors': 1.0, '8th': 1.0, 'festival': 1.0, 'vegetarian': 2.0, 'san': 2.0, 'diego': 1.0, 'cofounder': 1.0, 'studied': 1.0, 'university': 2.0, 'compassion': 1.0, 'waterville': 1.0, 'philosophy': 1.0, 'music': 2.0, '1995': 1.0, 'degree': 2.0, 'emphasis': 1.0, 'literature': 1.0}, {'featured': 1.0, 'correspondents': 1.0, 'foreign': 1.0, 'songwriting': 1.0, 'lent': 1.0, 'entitled': 1.0, 'cd': 1.0, 'jazz': 1.0, 'image': 1.0, 'phd': 1.0, 'starr': 1.0, 'chicago': 1.0, 'georgia': 2.0, '1978': 1.0, 'schools': 1.0, 'primary': 1.0, 'taught': 1.0, 'industry': 1.0, 'bram': 1.0, 'film': 2.0, '1993': 1.0, 'stone': 1.0, 'edwin': 1.0, 'movie': 1.0, 'goofy': 1.0, 'batman': 1.0, 'beast': 1.0, 'work': 1.0, 'hard': 1.0, 'moving': 1.0, 'predator': 1.0, 'platoon': 1.0, 'honor': 1.0, '1980s': 1.0, 'films': 1.0, 'major': 1.0, 'cagney': 1.0, 'college': 2.0, 'personalities': 1.0, 'concerned': 1.0, 'working': 2.0, '2009': 1.0, 'released': 1.0, 'mainstream': 1.0, 'awardwinning': 1.0, 'elsevier': 1.0, 'press': 1.0, 'shows': 1.0, '1990': 1.0, 'focal': 1.0, 'won': 1.0, 'text': 1.0, 'grail': 1.0, '2014': 2.0, 'noises': 1.0, 'achieved': 1.0, 'mdiv': 1.0, 'published': 1.0, 'january': 1.0, 'universities': 1.0, '1955': 1.0, 'lacey': 1.0, 'book': 1.0, '2001': 1.0, 'foley': 5.0, 'history': 1.0, 'academy': 1.0, 'ball': 3.0, 'theme': 1.0, '8': 1.0, 'editor': 1.0, 'professor': 1.0, 'glendale': 1.0, 'california': 1.0, 'including': 1.0, 'author': 1.0, 'school': 1.0, 'american': 1.0, '1999': 1.0, 'beauty': 1.0, 'dr': 1.0, 'artist': 2.0, 'art': 1.0, 'postproduction': 1.0, 'ament': 4.0, 'singer': 1.0, 'academic': 2.0, 'virginia': 1.0, 'born': 1.0, 'david': 2.0, 'endowed': 1.0, 'cuesta': 1.0, 'musician': 1.0, 'king': 1.0, 'knots': 1.0, 'die': 1.0, 'actress': 1.0, 'exhusband': 1.0, 'landing': 1.0, 'chair': 1.0, 'telecommunications': 1.0, 'state': 4.0, 'university': 5.0, 'invited': 1.0, 'song': 1.0, '1989': 1.0, 'explicitly': 1.0, 'appearance': 1.0, 'studies': 1.0, 'development': 1.0, 'television': 2.0, 'updated': 1.0, 'late': 1.0, 'net': 1.0, 'started': 1.0, 'dracula': 1.0, 'letterman': 1.0, 'ministry': 1.0, 'prizzis': 1.0, 'guest': 1.0, 'stokers': 1.0, 'voice': 1.0, 'dallas': 1.0, 'vanessa': 1.0, 'career': 1.0, 'dancer': 1.0, 'night': 2.0, 'success': 2.0, 'returns': 1.0, 'world': 1.0, 'sound': 2.0, 'depaul': 1.0, 'edmund': 1.0, 'program': 1.0, '2004': 1.0, '1990s': 1.0, 'experience': 1.0, 'columbia': 1.0, 'gaining': 1.0}, {'part': 1.0, 'xxiii': 1.0, 'super': 2.0, 'td': 1.0, '1': 1.0, 'reception': 1.0, '92': 1.0, '123': 1.0, 'carry': 1.0, 'returns': 1.0, 'carries': 1.0, '325': 1.0, '1391': 1.0, 'rushed': 1.0, 'washington': 1.0, 'averaging': 3.0, '49ers': 2.0, 'francisco': 2.0, 'san': 2.0, 'dolphins': 1.0, 'miami': 1.0, 'league': 1.0, 'leading': 1.0, 'years': 2.0, 'successful': 1.0, 'team': 1.0, '25': 1.0, 'junior': 1.0, 'senior': 1.0, 'number': 1.0, 'wearing': 1.0, '89': 1.0, 'kentucky': 2.0, '228': 1.0, 'seasons': 1.0, '63': 1.0, 'winning': 1.0, 'university': 1.0, 'setting': 1.0, '1997': 1.0, 'eleven': 1.0, 'weighs': 1.0, 'american': 1.0, '9': 1.0, '3': 1.0, 'today': 1.0, 'draft': 1.0, 'born': 1.0, 'played': 2.0, '85': 1.0, 'd1a': 1.0, 'redskins': 1.0, 'logan': 1.0, 'stands': 1.0, 'enjoyed': 1.0, 'attended': 1.0, 'running': 1.0, 'added': 1.0, '44': 1.0, 'football': 2.0, 'play': 2.0, '206': 1.0, 'nflmarc': 1.0, 'playing': 1.0, 'xxix': 1.0, '1135': 1.0, 'marc': 7.0, 'college': 1.0, 'anthony': 1.0, '1987': 2.0, 'back': 1.0, 'ncaa': 2.0, 'sophomore': 2.0, 'hall': 1.0, '1985': 1.0, '1965': 1.0, 'fame': 1.0, 'bowl': 4.0, 'scored': 1.0, 'record': 1.0, 'cincinnati': 1.0, '15': 1.0, 'career': 1.0, 'round': 1.0, 'touchdowns': 1.0, 'receptions': 2.0, 'plays': 1.0, '1830': 1.0, 'national': 1.0, 'kickoff': 1.0, 'mvp': 1.0, 'performance': 1.0, 'kick': 1.0, 'longest': 2.0, 'return': 2.0, 'yards': 8.0, 'scrimmage': 1.0, 'records': 1.0, '60': 1.0, 'lbs': 1.0, 'selected': 1.0, 'nfl': 1.0, 'bengals': 3.0, 'tds': 2.0}, {'silverbacks': 1.0, 'released': 1.0, 'game': 1.0, 'fracture': 1.0, 'suffered': 1.0, '1': 1.0, 'scorer': 1.0, 'leading': 1.0, 'teams': 1.0, 'islanders': 1.0, 'puerto': 1.0, 'joined': 1.0, '2006': 2.0, 'rhinos': 1.0, 'moved': 1.0, '2004': 1.0, 'riverhounds': 1.0, 'pittsburgh': 1.0, '2003': 1.0, 'serving': 1.0, 'stress': 1.0, 'planning': 1.0, 'graduated': 1.0, 'mls': 1.0, 'pioneer': 1.0, '2007': 1.0, 'mens': 2.0, 'bachelor': 1.0, '1997': 1.0, 'donovan': 1.0, 'goals': 2.0, 'degree': 1.0, 'played': 5.0, 'urban': 1.0, '2002': 1.0, 'born': 1.0, '26': 1.0, 'atlanta': 1.0, 'ann': 1.0, 'nscaa': 1.0, 'american': 2.0, 'school': 2.0, 'vancouver': 2.0, 'spot': 1.0, 'february': 3.0, 'state': 1.0, 'forwardwoolfolk': 1.0, 'stanford': 1.0, 'coach': 1.0, 'playing': 1.0, '2005': 1.0, 'woolfolk': 4.0, 'rochester': 1.0, 'usl': 1.0, '6': 1.0, 'assistant': 1.0, 'university': 2.0, 'arbor': 1.0, 'corey': 1.0, 'free': 1.0, 'team': 4.0, 'soccer': 3.0, 'attended': 2.0, '49th': 1.0, 'signed': 2.0, 'high': 2.0, '2001': 4.0, 'san': 1.0, 'jose': 1.0, 'earthquakes': 2.0, 'superdraft': 1.0, 'drafted': 1.0, 'preseason': 2.0, 'round': 1.0, 'games': 2.0, 'waived': 1.0, '30': 1.0, 'lost': 1.0, 'thunder': 1.0, '1996': 1.0, '18': 1.0, 'gemini': 1.0, 'roster': 1.0, 'december': 1.0, 'whitecaps': 1.0, 'rico': 1.0, 'scoring': 1.0, 'landon': 1.0, 'michigan': 2.0, 'june': 1.0, 'league': 1.0, 'minnesota': 1.0, '5th': 1.0, 'aleague': 1.0, 'broke': 1.0, '1983': 1.0, 'foot': 1.0, 'part': 1.0, 'season': 1.0, 'time': 1.0, 'dayton': 1.0, '2000': 1.0, 'premier': 1.0, 'development': 1.0}, {'news': 1.0, 'television': 1.0, 'radio': 1.0, 'appeared': 1.0, 'occasion': 1.0, 'show': 1.0, 'rap': 1.0, 'daily': 1.0, '945': 1.0, 'jamn': 1.0, 'unavailable': 1.0, 'akrobatik': 2.0, 'rapper': 1.0, 'boston': 1.0, 'filled': 1.0, 'tv': 1.0, 'created': 1.0, 'morning': 1.0, 'committee': 1.0, 'industry': 1.0, 'follow': 1.0, 'years': 1.0, 'win': 1.0, 'fellow': 1.0, 'zulu': 1.0, 'nyc': 1.0, 'world': 1.0, 'battles': 1.0, 'battle': 1.0, 'entertainment': 2.0, 'perform': 1.0, 'math': 2.0, 'umasslowell': 1.0, '1990s': 1.0, 'artist': 1.0, 'northeastern': 2.0, 'including': 1.0, 'fulltime': 1.0, 'lowell': 1.0, 'awards': 1.0, 'album': 4.0, 'mic': 1.0, 'coast': 1.0, 'areas': 1.0, 'competed': 1.0, 'adjunct': 1.0, 'university': 1.0, 'lasell': 1.0, '617live': 1.0, 'lecturer': 1.0, 'book': 2.0, 'hop': 3.0, 'part': 2.0, 'regularly': 1.0, 'hip': 3.0, 'professor': 2.0, 'programs': 1.0, 'year': 1.0, 'freestyle': 1.0, 'shows': 1.0, 'bostonhe': 1.0, 'state': 1.0, '2005': 1.0, 'supremacy': 1.0, 'albook': 1.0, 'performs': 1.0, 'sports': 1.0, 'lyrical': 3.0, 'mass': 1.0, 'massachusetts': 2.0, 'segments': 1.0, 'candidate': 1.0, 'east': 1.0, 'teaches': 1.0, 'schools': 1.0, 'highly': 1.0, 'college': 3.0, 'nation': 1.0, 'universal': 1.0, 'infiniti': 1.0, 'courses': 2.0, 'bay': 1.0, 'england': 1.0, 'latest': 1.0, 'doctoral': 1.0, 'rated': 1.0, 'won': 1.0, 'arts': 1.0, 'movies': 1.0, 'parttime': 1.0, 'institute': 1.0, 'em': 2.0, '82013': 1.0, 'put': 2.0, 'entitled': 1.0, 'speaks': 1.0, 'worlds': 1.0, 'mathematics': 1.0, 'curriculum': 1.0, 'finals': 1.0, 'shame': 2.0, 'received': 1.0, 'ms': 1.0, 'venues': 1.0, 'primarily': 2.0, 'colleges': 1.0, 'universities': 1.0, 'bs': 1.0, 'invitation': 1.0, 'early': 1.0, 'mid': 1.0}, {'film': 1.0, 'restaurant': 1.0, 'sushi': 1.0, 'television': 1.0, 'bohai': 1.0, 'studioszhejiang': 1.0, 'production': 1.0, 'gong': 1.0, 'shui': 1.0, 'company': 1.0, 'ruo': 1.0, 'autobiography': 1.0, 'icableye': 1.0, 'acting': 1.0, 'productions': 1.0, 'atv': 1.0, 'series': 1.0, 'starred': 1.0, 'shan': 1.0, 'exposure': 1.0, 'month': 1.0, 'moved': 1.0, 'june': 1.0, 'midautumn': 1.0, 'mc': 1.0, 'special': 1.0, 'additionally': 1.0, 'onsite': 1.0, 'tvbs': 1.0, '2004': 1.0, 'mcin': 1.0, 'association': 1.0, 'worked': 1.0, 'mandarin': 1.0, 'scholarship': 1.0, 'evening': 1.0, 'fluent': 1.0, 'cantonese': 1.0, 'united': 1.0, 'accepted': 1.0, 'lost': 1.0, 'english': 1.0, 'host': 1.0, 'careerye': 1.0, 'group': 1.0, 'movie': 2.0, 'immigrated': 1.0, 'talent': 1.0, 'rich': 2.0, 'management': 1.0, 'pursue': 2.0, 'college': 1.0, 'reporter': 1.0, 'chairman': 1.0, 'contract': 2.0, 'signed': 2.0, 'industry': 1.0, 'eternal': 1.0, 'attended': 1.0, 'chinese': 3.0, 'botany': 1.0, 'dewey': 1.0, '1980': 1.0, 'president': 1.0, 'science': 1.0, '1998': 1.0, 'miss': 2.0, 'limited': 1.0, '2005': 2.0, 'left': 3.0, 'shang': 1.0, 'actress': 1.0, 'born': 1.0, 'xuan': 2.0, 'tvb': 4.0, 'ye': 6.0, 'competition': 1.0, '14': 1.0, 'games': 1.0, 'career': 2.0, 'vice': 1.0, '2006apart': 1.0, 'february': 1.0, 'international': 3.0, 'place': 1.0, 'hengdian': 1.0, 'broadcast': 1.0, 'producer': 1.0, 'age': 1.0, '1999': 3.0, 'athens': 1.0, 'roles': 1.0, 'student': 1.0, 'michelle': 2.0, 'won': 2.0, 'states': 1.0, 'china': 1.0, '10': 1.0, 'john': 1.0, 'chamber': 1.0, 'high': 1.0, 'engineering': 1.0, 'lue': 1.0, 'loveye': 1.0, 'school': 1.0, 'dramas': 1.0, 'owner': 2.0, 'fair': 1.0, 'wellesley': 1.0, 'industryin': 1.0, 'graduating': 1.0, 'entertainment': 1.0, 'july': 2.0, 'winning': 1.0, 'pageant': 1.0, 'offered': 1.0, 'sector': 1.0, 'number': 1.0, 'titled': 1.0, 'cctvshe': 1.0, 'leading': 1.0, 'olympic': 1.0, 'famous': 2.0, 'happiness': 1.0, 'published': 1.0, 'triumph': 1.0, 'skies': 1.0}, {'average': 1.0, 'line': 1.0, 'place': 1.0, '20059': 1.0, 'analysis': 1.0, '16': 1.0, 'issued': 1.0, 'opinions': 1.0, '440some': 1.0, 'stonewalledof': 1.0, 'solve': 1.0, 'pressure': 1.0, 'cold': 1.0, 'light': 1.0, 'shed': 1.0, 'veldes': 1.0, 'relating': 1.0, 'claims': 3.0, 'amendment': 1.0, 'fourth': 1.0, '1998': 1.0, 'december': 1.0, 'authorities': 1.0, 'jovin': 1.0, 'suzanne': 1.0, 'investigation': 1.0, 'inception': 1.0, 'haven': 1.0, 'city': 1.0, 'sued': 1.0, 'velde': 2.0, 'de': 3.0, 'professor': 1.0, 'attorney': 2.0, 'includes': 1.0, 'ohara': 1.0, 'victims': 1.0, 'attitude': 1.0, 'vote': 1.0, 'date': 1.0, '117': 1.0, 'june': 1.0, 'allowing': 2.0, 'approved': 1.0, 'provided': 1.0, 'newman': 1.0, 'associations': 1.0, 'qualified': 2.0, 'barack': 1.0, '2005': 1.0, 'decision': 1.0, 'journal': 1.0, 'judicial': 5.0, 'california': 1.0, 'editorial': 1.0, 'april': 1.0, 'vacated': 1.0, 'complaint': 2.0, 'supervisory': 1.0, 'unusual': 2.0, 'appeal': 3.0, 'partyline': 1.0, 'government': 1.0, 'prevent': 1.0, 'competent': 2.0, 'nominated': 2.0, 'determine': 1.0, 'grounds': 1.0, 'fair': 2.0, 'order': 1.0, 'lenient': 1.0, '4': 1.0, 'prisoner': 1.0, 'ross': 6.0, 'challenges': 1.0, 'michael': 2.0, 'delayed': 1.0, '26': 2.0, 'defendants': 1.0, 'national': 1.0, 'sexual': 2.0, 'restraint': 1.0, 'prosecution': 1.0, 'justice': 1.0, 'view': 1.0, 'american': 1.0, 'awarded': 1.0, 'bill': 1.0, 'proceed': 1.0, 'longrange': 1.0, '2004': 1.0, 'developing': 1.0, 'study': 1.0, 'filed': 3.0, 'nomination': 5.0, 'judges': 3.0, 'advised': 1.0, 'practice': 1.0, 'sentence': 2.0, 'record': 2.0, 'temperament': 1.0, '29': 1.0, 'confirmed': 1.0, 'court': 12.0, 'chief': 1.0, 'prohibition': 1.0, 'imposed': 1.0, 'dismissed': 3.0, 'sentencing': 2.0, 'rights': 2.0, 'bench': 2.0, 'amendments': 1.0, 'executed': 1.0, 'cruel': 1.0, 'favor': 1.0, 'full': 1.0, 'plans': 1.0, 'ab': 1.0, 'warren': 1.0, 'offenders': 1.0, 'found': 3.0, '1980': 1.0, '12page': 1.0, 'present': 1.0, 'robert': 1.0, 'supreme': 1.0, 'claimed': 1.0, '1994': 5.0, 'childrens': 2.0, 'federal': 9.0, 'jd': 1.0, 'yale': 3.0, 'cabranes': 1.0, 'chatigny': 16.0, 'commission': 2.0, '20052006': 1.0, 'editor': 1.0, 'eginton': 1.0, 'house': 1.0, '2': 1.0, 'advocacy': 1.0, 'award': 1.0, 'judiciary': 6.0, 'forceful': 1.0, '28': 1.0, 'august': 1.0, 'reasonable': 2.0, 'connecticut': 7.0, 'september': 3.0, 'samuel': 1.0, 'actions': 2.0, 'subsequently': 1.0, 'northern': 1.0, 'clerk': 1.0, 'fiscal': 1.0, 'disorder': 1.0, 'neil': 1.0, 'attention': 1.0, 'state': 2.0, '2006': 1.0, '10': 1.0, 'complained': 1.0, 'upward': 1.0, '1973': 1.0, 'march': 2.0, 'united': 3.0, 'appeals': 3.0, 'district': 8.0, 'bias': 1.0, 'eighth': 1.0, 'tasked': 1.0, 'served': 5.0, 'tempered': 1.0, 'death': 4.0, 'rosss': 1.0, 'rule': 2.0, 'compassionate': 1.0, 'chatignys': 6.0, 'states': 5.0, 'sensitive': 1.0, 'note': 1.0, 'jose': 1.0, 'brown': 1.0, 'stepchild': 1.0, 'bruce': 1.0, 'crimes': 1.0, 'seat': 2.0, 'execution': 1.0, 'received': 3.0, 'assistant': 1.0, 'university': 3.0, 'behalf': 1.0, 'centered': 1.0, 'considerationopposition': 1.0, 'abusing': 1.0, 'set': 1.0, '2009': 1.0, 'senate': 4.0, 'law': 6.0, 'important': 1.0, 'unanimous': 1.0, 'allens': 1.0, 'unbiased': 1.0, 'conti': 1.0, 'leaked': 1.0, 'times': 1.0, 'council': 2.0, 'obama': 1.0, 'waive': 2.0, 'failed': 1.0, 'cases': 1.0, 'jon': 1.0, 'rating': 1.0, '2nd': 1.0, 'school': 1.0, 'megans': 1.0, 'outstanding': 1.0, 'circuit': 5.0, 'executive': 1.0, 'association': 1.0, 'years': 2.0, 'committee': 7.0, '1952': 1.0, '12': 1.0, 'letter': 2.0, '2010': 4.0, 'seventeen': 1.0, 'left': 1.0, 'elaborate': 1.0, 'stating': 1.0, 'call': 1.0, 'courts': 1.0, 'questions': 1.0, 'departure': 2.0, 'duty': 1.0, 'judge': 24.0, 'fitness': 2.0, 'delegates': 1.0, 'serve': 1.0, 'close': 1.0, '5': 2.0, 'dutyrequired': 1.0, 'involving': 1.0, 'enumerated': 1.0, '1': 1.0, 'cocounsel': 1.0, 'director': 1.0, 'woody': 1.0, 'sic': 1.0, 'allen': 1.0, 'gained': 1.0, 'unsuccessfully': 1.0, 'career': 1.0, 'prosecutor': 1.0, '2003': 2.0, 'publicly': 1.0, '1978': 1.0, 'stated': 1.0, 'taunton': 1.0, 'probable': 1.0, 'dealt': 1.0, 'reportedly': 1.0, 'minor': 1.0, 'standing': 1.0, 'reversed': 2.0, 'van': 3.0, 'elected': 1.0, '2001': 2.0, 'murderer': 2.0, 'georgetown': 2.0, 'agenda': 1.0, 'sexoffender': 1.0, 'version': 1.0, 'registry': 1.0, 'efforts': 1.0, '3': 1.0, 'sentences': 2.0, 'childpornography': 1.0, 'potentially': 1.0, 'recommended': 1.0, 'minimum': 1.0, 'downward': 1.0, 'departures': 1.0, '2006judge': 1.0, 'half': 1.0, 'long': 1.0, 'threatened': 1.0, '15': 1.0, '2008he': 1.0, 'attorneys': 1.0, 'ruination': 1.0, 'license': 1.0, 'aspect': 1.0, 'lawyer': 1.0, 'eighttime': 1.0, 'girls': 1.0, 'born': 1.0, 'young': 1.0, 'sentencings': 1.0, 'july': 1.0, 'women': 1.0, 'killers': 1.0, 'student': 1.0, '24page': 1.0, 'wrote': 3.0, 'washington': 1.0, 'mental': 1.0, 'made': 1.0, 'appellate': 1.0, 'james': 1.0, 'support': 1.0, 'victimsupport': 1.0, 'temperatein': 1.0, 'republican': 1.0, 'language': 1.0, 'appointees': 1.0, 'section': 1.0, 'reservation': 1.0, 'circumstances': 2.0, 'impartial': 1.0, 'called': 1.0, 'examination': 1.0, 'criminal': 2.0, 'proven': 1.0, 'charges': 1.0, '19791980': 1.0, 'steps': 1.0, 'shows': 1.0, 'ensure': 1.0, 'president': 2.0, 'appropriately': 1.0, 'facts': 1.0, 'person': 1.0, 'sadism': 1.0, 'committed': 1.0, 'understanding': 1.0, 'rate': 1.0, 'himchatigny': 1.0, 'defendant': 1.0, 'appealed': 1.0, 'dismissal': 1.0, 'center': 2.0, 'strong': 2.0, 'ma': 1.0, 'opinion': 1.0, 'makes': 1.0, 'worked': 1.0, 'civil': 1.0, 'candidate': 1.0, 'matters': 1.0, 'punishment': 1.0, 'violation': 1.0, 'case': 7.0, 'motivated': 1.0, 'penalty': 1.0, '19801981judge': 1.0, 'bar': 2.0, 'perception': 1.0, 'discharge': 2.0, 'prosecutors': 2.0, 'clinton': 1.0, 'misconductin': 1.0, 'thrust': 1.0, 'action': 1.0, 'resolution': 1.0, 'minded': 1.0, 'proceeding': 1.0}, {'literature': 1.0, 'musical': 1.0, 'form': 1.0, 'rhyme': 1.0, 'lyrical': 1.0, 'fusing': 1.0, 'popular': 1.0, 'rb': 1.0, 'genre': 1.0, 'fusion': 1.0, 'esp': 1.0, 'folklore': 1.0, 'history': 1.0, 'references': 1.0, 'frequent': 1.0, 'making': 1.0, 'poetry': 4.0, 'traditional': 2.0, '2000s': 1.0, 'war': 1.0, 'issues': 1.0, 'covering': 1.0, 'noted': 1.0, 'decade': 1.0, 'rock': 1.0, 'blue': 1.0, 'similar': 1.0, 'hualien': 1.0, 'lyricist': 2.0, 'pinyin': 1.0, 'pulling': 1.0, 'chou': 5.0, 'hired': 1.0, 'awards': 1.0, 'album': 1.0, 'calls': 1.0, 'golden': 1.0, 'taiwanese': 1.0, 'family': 1.0, 'multigolden': 1.0, 'majority': 1.0, 'love': 1.0, 'nominated': 1.0, 'collaboration': 1.0, 'discussed': 1.0, 'runin': 1.0, 'released': 1.0, 'kong': 1.0, 'jay': 4.0, '2000': 1.0, 'fame': 1.0, 'contemporary': 1.0, 'vincent': 1.0, 'taiwan': 1.0, 'refer': 1.0, 'entrepreneur': 1.0, 'find': 1.0, 'fang': 6.0, 'career': 2.0, '26': 1.0, 'chinese': 6.0, 'hoping': 1.0, 'fng': 1.0, 'born': 1.0, 'wellfangs': 1.0, 'complemented': 1.0, '1997': 1.0, 'entrepreneurvincent': 1.0, 'impressed': 1.0, 'melody': 2.0, 'january': 1.0, 'samples': 1.0, 'award': 1.0, 'titled': 1.0, 'limelight': 1.0, 'won': 1.0, '1969': 1.0, '19th': 1.0, 'writing': 2.0, 'white': 1.0, 'music': 2.0, 'porcelain': 1.0, 'sung': 1.0, 'asia': 1.0, 'songwriting': 1.0, 'lyrics': 3.0, 'record': 2.0, 'style': 3.0, 'companies': 1.0, 'wide': 1.0, 'wnshn': 1.0, 'passion': 1.0, 'modern': 2.0, 'ballads': 1.0, 'rapidly': 1.0, 'company': 1.0, 'jacky': 1.0, 'su': 1.0, 'singersongwriter': 1.0, 'contributes': 1.0, 'owner': 1.0, 'wu': 1.0, 'work': 2.0, 'started': 1.0, 'chous': 1.0, 'yan': 1.0, 'produced': 1.0, 'albums': 1.0, 'made': 1.0, 'hong': 1.0, 'grew': 1.0}, {'httpwwwsamoaobserverwsindexphpoptioncomcontentviewarticleid31878tributetocatid1latestnewsitemid50': 1.0, 'lemalu': 1.0, '9': 1.0, 'short': 1.0, 'politics': 1.0, 'retiring': 1.0, 'february': 1.0, 'speeches': 1.0, 'collection': 1.0, 'exclusive': 1.0, 'kitchen': 1.0, 'falling': 1.0, 'bachelor': 1.0, 'observer': 1.0, 'money': 1.0, 'telephone': 1.0, 'introduce': 1.0, 'services': 1.0, 'public': 1.0, 'colony': 1.0, 'arrived': 1.0, 'twentieth': 1.0, 'early': 1.0, 'poemsin': 1.0, 'community': 1.0, 'grandfather': 2.0, 'ancestry': 1.0, 'german': 2.0, 'descent': 1.0, 'boarding': 1.0, 'germanswedishsamoan': 1.0, 'joined': 1.0, 'leader': 1.0, 'studied': 1.0, 'true': 1.0, 'falelatai': 1.0, '1988': 1.0, 'health': 1.0, 'richest': 1.0, 'college': 1.0, 'kings': 1.0, 'telefoni': 5.0, 'alesana': 1.0, 'school': 1.0, 'educated': 1.0, 'partyretzlaff': 1.0, 'paternal': 1.0, 'human': 1.0, 'rights': 1.0, 'samoan': 3.0, '21': 1.0, 'auckland': 3.0, 'servant': 1.0, 'paul': 1.0, 'theodor': 1.0, 'retzlaff': 3.0, 'shipping': 1.0, 'march': 1.0, 'love': 3.0, 'addition': 1.0, 'son': 1.0, 'agriculture': 1.0, '1986in': 1.0, 'practice': 1.0, 'electionretzlaff': 1.0, 'zealand': 2.0, 'thine': 1.0, 'fisheries': 1.0, 'tribute': 2.0, 'labourhe': 1.0, 'born': 1.0, 'confirmed': 1.0, 'samoa': 3.0, 'country': 1.0, 'deputy': 3.0, 'prime': 2.0, '1952': 1.0, 'commerce': 1.0, '1991': 1.0, 'law': 2.0, 'misa': 3.0, 'minister': 4.0, 'postal': 1.0, 'seat': 2.0, 'appointed': 1.0, 'hermann': 2.0, 'protection': 1.0, '2011': 4.0, 'run': 1.0, 'resigned': 1.0, 'books': 1.0, 'holds': 1.0, 'election': 2.0, 'samatau': 1.0, 'initially': 1.0, 'marrying': 1.0, 'young': 2.0, 'articles': 1.0, 'part': 1.0, 'story': 1.0, 'government': 1.0, 'tofilau': 1.0, 'position': 1.0, 'eti': 1.0, 'forests': 1.0, '1996': 1.0, 'opposition': 1.0, '2001': 1.0, 'retain': 1.0, 'years': 1.0, 'attorneygeneral': 2.0, 'portfolios': 1.0, 'inherited': 1.0, 'held': 1.0, 'role': 1.0, 'industry': 1.0, 'stated': 1.0, 'century': 1.0, 'university': 1.0, 'winning': 1.0, 'standing': 1.0, 'published': 2.0, '22': 1.0, 'general': 1.0}, {'views': 1.0, 'solitary': 1.0, 'economics': 1.0, 'predicted': 1.0, 'noise': 1.0, 'basis': 1.0, 'supersonic': 1.0, 'concorde': 1.0, 'critique': 1.0, 'sustained': 1.0, 'aviation': 1.0, '1960s': 1.0, '1998in': 1.0, '4': 1.0, 'channel': 1.0, 'development': 1.0, 'television': 1.0, 'made': 1.0, '1987': 1.0, 'alongside': 1.0, 'long': 1.0, 'spring': 1.0, 'editor': 3.0, 'expressgoldring': 1.0, 'pollution': 1.0, 'staff': 1.0, 'whittam': 1.0, 'british': 1.0, 'moved': 1.0, 'wellfounded': 1.0, 'rising': 1.0, 'journalist': 1.0, 'noted': 1.0, 'series': 2.0, 'late': 2.0, 'paper': 1.0, 'departure': 1.0, 'dissent': 1.0, 'margaret': 1.0, 'anglofrench': 1.0, 'business': 2.0, 'economist': 2.0, 'left': 2.0, 'commercial': 1.0, 'radio': 1.0, 'member': 1.0, 'obe': 1.0, 'trenchant': 1.0, 'deputy': 1.0, 'graduated': 1.0, '1976': 1.0, 'rank': 1.0, 'regular': 1.0, 'smith': 1.0, 'time': 3.0, 'main': 1.0, '1940s': 1.0, 'mary': 2.0, 'disastrous': 1.0, 'mcrae': 1.0, 'voice': 1.0, 'broadcasteran': 1.0, 'norman': 1.0, 'bbc': 2.0, 'goldring': 4.0, 'audit': 1.0, 'wake': 1.0, 'developed': 1.0, 'lady': 1.0, 'authored': 1.0, 'aircraft': 1.0, 'university': 1.0, 'turned': 2.0, '1993': 1.0, 'suddenly': 1.0, '1974': 1.0, 'screened': 1.0, 'dispute': 1.0, 'alastair': 1.0, 'editorship': 1.0, 'flagship': 1.0, 'surprise': 1.0, 'daily': 1.0, 'analytical': 1.0, 'burnet': 1.0, 'journalism': 1.0, 'analysis': 1.0, 'andreas': 1.0, 'chronicle': 1.0, 'correspondent': 1.0, 'meantime': 1.0, 'wrote': 1.0, 'documentaries': 2.0, 'weekly': 1.0, 'column': 1.0, 'investors': 1.0, 'hall': 1.0, 'edited': 1.0, 'economists': 1.0, 'oxford': 1.0, 'presenters': 1.0, '4s': 1.0, 'currentaffairs': 1.0, 'programme': 2.0, 'staying': 1.0}, {'preservation': 1.0, 'historic': 1.0, 'family': 1.0, 'focused': 1.0, 'faculty': 1.0, 'returning': 1.0, 'carolina': 1.0, 'north': 1.0, 'powe': 1.0, 'practiced': 1.0, 'reviewshe': 1.0, 'editorinchief': 1.0, 'kuchel': 1.0, 'thomas': 1.0, 'senator': 1.0, 'state': 1.0, 'house': 1.0, '14': 1.0, '1942': 1.0, 'provost': 1.0, '1996': 1.0, 'undergraduate': 1.0, 'representatives': 1.0, 'ceo': 1.0, 'schools': 1.0, 'united': 1.0, 'executive': 1.0, 'sixth': 1.0, '2008': 1.0, 'assembly': 1.0, 'september': 1.0, 'occidental': 1.0, 'southwestern': 1.0, 'durham': 1.0, 'college': 2.0, 'westerberg': 1.0, '1982': 1.0, 'administrator': 1.0, 'scholar': 1.0, 'including': 1.0, 'president': 2.0, 'legal': 1.0, 'dean': 4.0, 'longest': 1.0, 'director': 1.0, 'ucla': 7.0, 'susan': 1.0, '1964': 1.0, 'november': 1.0, 'giving': 1.0, 'schoolsprager': 1.0, 'served': 1.0, 'trustee': 1.0, 'prager': 2.0, 'legislators': 1.0, '2013': 1.0, 'history': 3.0, 'community': 1.0, 'dartmouth': 1.0, '1': 1.0, 'senate': 1.0, 'law': 15.0, 'schoolpreviously': 1.0, 'tenure': 1.0, 'masters': 1.0, 'alphin': 1.0, 'female': 1.0, 'born': 1.0, 'deans': 1.0, 'starting': 1.0, 'states': 1.0, 'porter': 1.0, 'alumnusalumna': 1.0, 'california': 4.0, 'woman': 1.0, 'number': 1.0, 'american': 3.0, 'school': 3.0, 'serve': 1.0, 'sacramento': 2.0, 'small': 1.0, 'grew': 1.0, 'sloughhouse': 1.0, 'town': 1.0, 'degree': 3.0, 'stanford': 3.0, 'university': 2.0, 'property': 1.0, 'years': 1.0, 'association': 2.0, 'term': 1.0, 'worked': 1.0, 'received': 3.0}, {'jikany': 1.0, 'sobat': 1.0, 'bank': 1.0, 'nyayin': 1.0, 'soldiersthe': 1.0, 'attack': 3.0, 'revenge': 1.0, 'spla': 2.0, 'section': 1.0, 'janaigatliek': 1.0, '12': 1.0, 'statea': 1.0, 'nile': 1.0, '30': 1.0, 'upper': 1.0, 'duar': 1.0, 'division': 1.0, 'group': 1.0, '4th': 1.0, 'deputy': 1.0, 'general': 1.0, 'united': 1.0, 'commander': 2.0, 'state': 1.0, '8th': 1.0, 'primarily': 1.0, 'men': 1.0, 'command': 2.0, 'ejected': 1.0, 'announced': 1.0, 'launched': 1.0, 'august': 1.0, 'called': 2.0, 'civilians': 1.0, 'war': 2.0, 'peoples': 1.0, 'alliance': 1.0, 'kong': 1.0, 'sudanese': 1.0, 'yual': 3.0, '1995': 1.0, 'declaration': 1.0, 'bul': 1.0, 'considerable': 1.0, 'river': 1.0, 'difficulty': 1.0, '19832005in': 1.0, 'bath': 3.0, 'jonglei': 1.0, 'ssdf': 1.0, 'yoal': 3.0, 'faction': 2.0, 'splm': 1.0, 'ulang': 1.0, 'leader': 1.0, 'sudan': 3.0, 'south': 2.0, 'soldiers': 1.0, 'gordon': 1.0, 'divisions': 1.0, 'machar': 1.0, 'killed': 1.0, 'anyanya': 2.0, 'involved': 1.0, 'hill': 1.0, 'yohannes': 3.0, 'militia': 2.0, 'garang': 1.0, 'matip': 1.0, 'lam': 1.0, 'mobile': 1.0, 'forces': 5.0, 'george': 1.0, 'people': 1.0, 'athor': 1.0, '1991': 2.0, '1994': 1.0, 'liberation': 1.0, 'ayod': 1.0, 'nuer': 5.0, 'raids': 1.0, 'army': 2.0, 'alleged': 1.0, 'part': 1.0, 'democratic': 1.0, '1993the': 1.0, 'made': 1.0, 'based': 1.0, 'accepted': 1.0, 'governmentsponsored': 1.0, 'nasir': 2.0, 'waat': 1.0, 'major': 1.0, 'lou': 3.0, 'april': 1.0, 'rieklater': 1.0, 'retaliation': 1.0, 'riek': 1.0, 'splmanasir': 1.0, 'dengjohannes': 1.0, 'joining': 1.0, '2': 2.0, 'juba': 1.0, 'east': 1.0, 'akol': 1.0, 'mayom': 1.0, 'cattle': 1.0, 'declared': 1.0, 'gave': 1.0, 'paulino': 2.0, 'including': 1.0, 'matiep': 1.0, 'defense': 1.0, 'doleib': 1.0, 'combined': 1.0, 'john': 1.0, '8': 1.0, 'breakaway': 1.0, 'militiathe': 1.0, 'ended': 1.0, 'civil': 2.0, 'johannes': 2.0, 'january': 2.0, '2005': 1.0, '2006': 2.0}, {'proctor': 1.0, 'fairleigh': 1.0, 'visiting': 1.0, 'center': 1.0, 'poetry': 1.0, 'faculty': 1.0, 'member': 1.0, 'university': 2.0, 'columbia': 1.0, 'arts': 2.0, 'liberal': 1.0, 'eugene': 1.0, 'otherssorrentino': 1.0, 'bookforum': 1.0, 'dickinson': 1.0, 'city': 2.0, 'open': 1.0, 'house': 1.0, 'mcsweeneys': 1.0, 'granta': 1.0, 'playboy': 1.0, 'publications': 1.0, 'characterizations': 1.0, 'descriptions': 1.0, 'recording': 1.0, 'fiction': 1.0, 'inaugural': 1.0, 'simon': 1.0, 'text': 1.0, 'incorporated': 1.0, 'experimental': 1.0, 'dublin': 1.0, 'postmodernist': 1.0, 'period': 1.0, 'felt': 1.0, 'dialogue': 1.0, 'pseudonymous': 1.0, 'editor': 1.0, 'widely': 1.0, 'partner': 1.0, 'patty': 1.0, 'book': 5.0, 'treatment': 1.0, 'trance': 3.0, 'playback': 1.0, 'secondary': 1.0, 'session': 1.0, '2005': 4.0, 'section': 1.0, 'multitrack': 1.0, 'percussion': 1.0, 'unterberg': 1.0, 'story': 1.0, 'published': 3.0, 'death': 1.0, 'victoria': 1.0, 'press': 2.0, 'epic': 1.0, 'focus': 1.0, 'rican': 1.0, 'harris': 1.0, 'finalist': 1.0, 'los': 2.0, 'children': 1.0, 'lethem': 1.0, 'award': 2.0, '20': 1.0, 'appeared': 1.0, 'ortiz': 1.0, 'novelist': 2.0, 'mets': 2.0, 'booksin': 1.0, 'pioneered': 1.0, 'college': 1.0, 'puerto': 1.0, 'bookworld': 1.0, 'praised': 1.0, 'street': 1.0, 'subtly': 1.0, 'gilbert': 1.0, 'conjunctions': 1.0, 'forthhis': 1.0, 'timesin': 1.0, 'christopher': 1.0, '1963': 1.0, 'soft': 1.0, 'work': 2.0, 'satire': 1.0, 'sorrentino': 5.0, 'techniques': 1.0, '92nd': 1.0, 'ended': 1.0, 'esquire': 1.0, 'magazine': 1.0, 'american': 3.0, 'vocals': 1.0, 'short': 1.0, 'descent': 1.0, 'draws': 1.0, 'national': 1.0, 'jonathan': 1.0, 'born': 1.0, 'boshier': 1.0, 'titles': 1.0, 'son': 1.0, '20102011': 1.0, 'taught': 1.0, 'riveting': 1.0, 'lush': 1.0, 'film': 2.0, 'format': 1.0, 'sound': 4.0, 'carefully': 1.0, 'writers': 2.0, '1995': 1.0, 'modernist': 1.0, 'times': 1.0, 'fall': 2.0, 'tempura': 2.0, 'artist': 1.0, 'writer': 3.0, 'lists': 1.0, 'lives': 1.0, 'ivan': 1.0, 'innovations': 1.0, 'harpers': 1.0, 'hearst': 1.0, 'echoes': 1.0, 'tin': 1.0, 'imaginative': 1.0, 'deep': 1.0, 'departures': 1.0, 'detail': 1.0, 'impac': 1.0, 'scamssorrentinos': 1.0, 'reviewers': 1.0, 'school': 2.0, 'reads': 1.0, 'series': 1.0, '2007': 2.0, 'international': 1.0, '61': 1.0, 'literary': 1.0, 'intended': 1.0, 'essential': 1.0, 'longlisted': 1.0, 'postmodern': 1.0, '2006': 1.0, 'york': 3.0, 'lang': 1.0, 'authors': 1.0, '1974': 1.0, 'fugitives': 1.0, 'moviemaking': 1.0, 'structured': 1.0, 'conklin': 1.0, '2010': 1.0, 'fictional': 1.0, 'angeles': 2.0, 'year': 1.0, 'wrote': 1.0, 'hyperliterary': 1.0, 'account': 1.0, '2009': 1.0, 'believeniks': 1.0, 'season': 1.0, 'playful': 1.0, 'poke': 1.0, 'collaboration': 1.0, 'moments': 1.0, 'novella': 1.0, 'father': 1.0, 'commercial': 1.0, 'monograph': 1.0, 'minna': 1.0, 'revealed': 1.0, 'skull': 1.0, 'saga': 1.0, 'entries': 1.0, 'april': 1.0, '2014': 1.0, 'named': 2.0, 'announced': 1.0, 'derek': 1.0, 'publish': 1.0, 'attention': 1.0, 'schustersorrentinos': 1.0}, {'catalyze': 1.0, 'lounges': 1.0, 'lectures': 1.0, 'paj': 1.0, 'airwaves': 1.0, 'arts': 1.0, 'organized': 1.0, 'publication': 1.0, '2003': 1.0, 'free103point9': 1.0, 'began': 1.0, 'broadcasts': 1.0, 'panel': 1.0, 'concerts': 1.0, 'book': 1.0, 'project': 2.0, 'senior': 1.0, 'interviewed': 1.0, '20012004': 1.0, 'threechannel': 1.0, 'ages': 1.0, 'material': 1.0, 'bullshit': 1.0, 'listening': 1.0, 'unpublished': 1.0, 'repaired': 1.0, 'convocations': 1.0, 'words': 1.0, 'art': 1.0, 'discussions': 2.0, '1994': 1.0, 'atm': 1.0, 'organizing': 1.0, '1990s': 1.0, 'scene': 1.0, 'alexis': 1.0, 'bank': 1.0, 'stereo': 1.0, 'poetry': 2.0, 'possibility': 1.0, 'active': 1.0, 'ecological': 1.0, 'york': 2.0, 'summer': 1.0, 'produced': 1.0, 'life': 1.0, 'songs': 1.0, 'born': 1.0, 'abandoned': 1.0, 'city': 1.0, 'radio': 2.0, 'writer': 1.0, 'side': 1.0, 'college': 1.0, 'word': 1.0, 'emerging': 1.0, 'bhagat': 1.0, 'crosssection': 1.0, 'lands': 1.0, '2': 1.0, 'sculpture': 1.0, 'moving': 1.0, 'raised': 1.0, 'artists': 2.0, 'lobbies': 1.0, 'radioplays': 1.0, 'artist': 1.0, 'member': 1.0, 'manifested': 1.0, 'ghost': 1.0, 'studied': 1.0, 'performances': 1.0, 'spoken': 1.0, 'early': 1.0, 'generation': 1.0, 'match': 1.0, 'goddard': 2.0, 'transmission': 1.0, 'practicing': 1.0, 'multichannel': 1.0, 'lower': 1.0, 'tape': 1.0, 'installations': 2.0, 'chinas': 1.0, 'tapecollages': 1.0, 'sound': 6.0, 'voice': 1.0, 'east': 1.0, 'collegehe': 1.0, '19992009': 1.0, 'version': 2.0, 'producing': 1.0, 'notably': 1.0, 'speak': 1.0, 'recorded': 1.0, 'deep': 1.0, 'design': 1.0, 'sun': 1.0, 'death': 1.0, 'working': 1.0, 'lecture': 4.0, 'utilized': 1.0, 'bandshell': 1.0, 'world': 1.0, 'democracy': 2.0, 'collages': 1.0, 'train': 1.0, 'opens': 1.0, 'blood': 1.0, 'industrial': 1.0, 'included': 1.0, 'curator': 1.0, 'strength': 1.0, 'authority': 1.0, 'whitman': 1.0, 'neutral': 1.0, 'mirror': 1.0, '1': 1.0}, {'1966': 1.0, 'campaigned': 1.0, 'full': 1.0, '2005': 1.0, '2001': 1.0, 'synodte': 1.0, 'general': 1.0, 'anglican': 2.0, 'aotearoa': 1.0, 'churchs': 1.0, 'phopatanga': 1.0, 'auckland': 1.0, 'adviser': 1.0, 'honorary': 1.0, 'arbitrator': 1.0, '1999he': 1.0, 'publishers': 1.0, 'tango': 1.0, 'kooti': 1.0, 'author': 1.0, 'national': 1.0, 'database': 1.0, 'land': 3.0, 'mori': 1.0, 'kkiri': 1.0, 'puni': 1.0, 'commission': 1.0, 'trust': 2.0, 'crown': 2.0, 'capacities': 1.0, 'voted': 1.0, 'acted': 2.0, 'contracted': 1.0, 'consultant': 1.0, 'variety': 1.0, 'primary': 1.0, 'waitangifrom': 1.0, 'england': 2.0, 'doctoral': 1.0, 'undergraduate': 1.0, 'church': 1.0, 'wellington': 1.0, 'moriowned': 1.0, 'schoolhis': 1.0, 'williams': 1.0, 'balliol': 1.0, 'degrees': 1.0, 'respect': 1.0, 'volumes': 1.0, 'related': 1.0, 'huia': 1.0, 'include': 1.0, 'tertiary': 1.0, 'formal': 1.0, 'appointed': 1.0, 'member': 1.0, 'collegiate': 1.0, 'whenua': 1.0, 'history': 3.0, 'region': 1.0, 'oxford': 2.0, 'te': 3.0, 'contracts': 1.0, 'universities': 1.0, 'included': 1.0, 'vernon': 1.0, 'dean': 1.0, 'legal': 4.0, '1994': 1.0, 'ballb': 1.0, 'deputy': 1.0, 'published': 3.0, 'promoted': 1.0, 'david': 1.0, 'occupation': 1.0, 'holds': 1.0, 'bcl': 1.0, '2000': 1.0, 'phd': 1.0, 'rental': 2.0, 'solicitor': 1.0, 'faculty': 1.0, '1995': 1.0, 'zealand': 5.0, 'degree': 1.0, 'party': 1.0, 'salaam': 1.0, 'graduate': 1.0, 'university': 6.0, 'victoria': 1.0, 'whanui': 1.0, 'hawkes': 1.0, 'professorhe': 1.0, '1971': 1.0, '18641909': 1.0, 'professor': 3.0, 'law': 8.0, 'es': 1.0, '1992': 1.0, 'rhodes': 1.0, 'research': 2.0, 'college': 1.0, 'tanzania': 2.0, 'legislation': 1.0, 'responsible': 1.0, 'court': 2.0, 'qualification': 1.0, 'colonial': 2.0, 'educated': 1.0, 'dar': 1.0, 'chapters': 1.0, 'associate': 1.0, 'bay': 1.0, 'hinota': 1.0, 'education': 1.0, 'analysis': 1.0, 'diploma': 1.0, 'diptheolhe': 1.0, 'barrister': 2.0, 'act': 1.0, 'numerous': 1.0, 'scholar': 1.0, 'high': 1.0, 'wanganui': 1.0, 'practising': 1.0, 'certificate': 1.0, 'native': 1.0, 'manual': 1.0, 'qualifications': 1.0, 'academic': 1.0, 'aucklands': 1.0, '1991': 1.0, 'waitangirelated': 1.0, 'time': 1.0, 'wrote': 1.0, 'articles': 1.0, 'treaty': 2.0, 'forestry': 3.0, 'employed': 1.0, 'book': 1.0, 'theology': 1.0, 'issues': 2.0, 'indigenous': 1.0}, {'2007': 1.0, 'illustrious': 1.0, 'surrealistic': 1.0, 'shapes': 1.0, 'geometric': 1.0, 'citizen': 1.0, 'actors': 1.0, 'italian': 1.0, 'harlequins': 1.0, 'include': 1.0, '1997': 1.0, 'workshop': 1.0, 'teaching': 1.0, 'created': 1.0, '1991roux': 1.0, 'reopened': 1.0, 'pacfico': 1.0, 'arcade': 1.0, 'shopping': 1.0, '1988': 1.0, 'dc': 1.0, 'washington': 1.0, 'collection': 1.0, 'prestigious': 1.0, 'work': 1.0, 'restoration': 1.0, 'rome': 1.0, 'named': 1.0, 'cupola': 1.0, 'prize': 2.0, 'travelled': 1.0, '1948': 1.0, '1956': 1.0, 'contributed': 1.0, 'phillips': 1.0, 'worked': 2.0, 'assistant': 1.0, 'arts': 1.0, 'themes': 1.0, 'studied': 1.0, 'uruguayan': 1.0, 'art': 2.0, 'continued': 1.0, 'born': 2.0, 'buenos': 4.0, 'roux': 3.0, 'fine': 1.0, 'international': 1.0, 'wellknown': 1.0, 'argentina': 2.0, 'watercolors': 1.0, 'exhibiting': 1.0, 'nonnis': 1.0, 'father': 1.0, 'umberto': 1.0, 'city': 1.0, 'sicily': 1.0, 'traveled': 1.0, 'frescoes': 1.0, 'earned': 1.0, 'collages': 1.0, 'cultural': 1.0, 'bottega': 1.0, 'aires': 4.0, 'ral': 1.0, 'london': 1.0, '1929': 1.0, 'jujuy': 1.0, 'projects': 1.0, 'guillermo': 1.0, 'argentine': 2.0, '1960': 1.0, 'frescoesroux': 1.0, 'relocated': 1.0, 'returned': 2.0, 'province': 1.0, '1966': 1.0, 'xiii': 1.0, 'taught': 1.0, 'painthe': 1.0, 'lived': 1.0, 'decoration': 1.0, 'york': 1.0, '1967': 1.0, 'added': 2.0, 'extensively': 1.0, 'berlin': 1.0, 'munich': 1.0, 'paris': 1.0, '1975': 1.0, 'painter': 3.0, 'school': 1.0, 'paulo': 1.0, 'biennial': 1.0, 'highest': 1.0, 'honors': 1.0, 'life': 1.0, 'konex': 1.0, 'realm': 1.0, '1982': 1.0, 'galeras': 1.0, 'illustrator': 1.0, 'award': 1.0, 'rouxs': 1.0}, {'nursing': 1.0, 'resides': 1.0, 'children': 1.0, '20': 1.0, 'meyers': 1.0, 'age': 1.0, 'died': 1.0, '1940': 1.0, '10': 1.0, 'mountford': 1.0, 'helen': 1.0, 'married': 2.0, 'oldest': 1.0, 'december': 1.0, 'corps': 1.0, 'midway': 1.0, 'war': 1.0, 'operated': 1.0, 'guinea': 1.0, 'served': 2.0, 'west': 2.0, 'home': 1.0, 'frances': 1.0, 'world': 1.0, '29': 1.0, 'australia': 1.0, 'born': 2.0, 'ross': 1.0, 'silver': 1.0, 'william': 1.0, 'engineers': 1.0, 'eventually': 1.0, 'living': 1.0, '2011': 1.0, 'delray': 1.0, 'academy': 1.0, 'jr': 1.0, 'retired': 2.0, 'islands': 2.0, '2015': 1.0, 'golf': 2.0, 'philippine': 1.0, 'february': 1.0, '1930s': 1.0, 'medal': 1.0, 'lieutenant': 2.0, 'turned': 1.0, 'florida': 1.0, 'general': 3.0, '1937': 1.0, 'commander': 1.0, 'wed': 1.0, 'pennsylvania': 2.0, 'jane': 1.0, 'point': 2.0, '1933': 1.0, 'military': 1.0, 'command': 2.0, 'ii': 1.0, 'march': 1.0, 'united': 4.0, '100': 2.0, 'japan': 1.0, 'graduate': 2.0, 'states': 4.0, 'army': 6.0, 'rank': 1.0, 'ely': 4.0, '3': 1.0, 'star': 3.0, 'deputy': 2.0, 'beach': 1.0, 'commanding': 1.0, 'son': 1.0, 'development': 1.0, 'logistic': 1.0, 'materiel': 1.0, 'merit': 1.0, 'gave': 1.0, '25': 1.0, 'awards': 1.0, 'include': 1.0, 'distinguished': 1.0, 'bronze': 1.0, 'stationed': 1.0, 'legions': 1.0, 'retirement': 1.0, 'avid': 1.0, 'pittsburgh': 1.0, 'golfer': 1.0, 'service': 1.0, 'designed': 1.0, 'sycamore': 1.0, '2014': 1.0, '1911': 1.0, 'jonas': 1.0}, {'today': 1.0, 'midlands': 1.0, 'star': 1.0, '400': 1.0, 'ian': 1.0, 'related': 1.0, 'diseasehe': 1.0, 'claimed': 1.0, 'dudley': 1.0, 'car': 1.0, '1970': 1.0, '1966': 1.0, 'alzheimers': 1.0, 'lesley': 2.0, 'children': 1.0, 'walsall': 2.0, 'tiptonhe': 1.0, 'made': 1.0, 'sides': 1.0, 'steven': 1.0, 'alan': 1.0, 'making': 1.0, 'top': 1.0, 'roper': 3.0, 'wolves': 1.0, 'march': 1.0, 'beginning': 1.0, '196465': 1.0, '27': 1.0, 'union': 1.0, 'break': 1.0, '1950s': 1.0, 'football': 2.0, '2014': 1.0, '2008references': 1.0, 'teenage': 1.0, 'began': 1.0, 'appearances': 1.0, 'club': 2.0, 'tipton': 2.0, 'staffordshire': 1.0, 'professional': 1.0, 'born': 3.0, 'september': 1.0, 'express': 1.0, 'youth': 1.0, 'cup': 1.0, 'injured': 1.0, 'unable': 1.0, 'team': 2.0, 'footballerhe': 1.0, 'lives': 2.0, '16': 1.0, '1962': 1.0, 'public': 1.0, '1964': 1.0, 'mid': 1.0, 'games': 1.0, 'career': 2.0, 'wanderers': 1.0, 'age': 1.0, 'landlord': 1.0, '1': 1.0, 'suffers': 1.0, 'valerie': 1.0, 'england': 2.0, 'year': 1.0, '1995': 1.0, 'played': 1.0, 'spent': 1.0, 'fellows': 1.0, 'wolverhampton': 1.0, 'debut': 1.0, '10': 1.0, '32': 1.0, '1939': 1.0, 'years': 1.0, '60': 1.0, 'win': 1.0, 'seasonafter': 1.0, 'middlesbrough': 1.0, 'hometown': 1.0, 'league': 2.0, 'division': 1.0, 'girlshe': 1.0, 'retiring': 1.0, 'park': 1.0, 'fullback': 1.0, 'scoring': 1.0, 'remained': 1.0, 'retired': 1.0, 'end': 1.0, 'crash': 1.0, 'house': 1.0, 'married': 1.0, '1982': 2.0, 'signed': 1.0}, {'concerts': 1.0, 'festivals': 1.0, 'continues': 1.0, 'hurricane': 1.0, 'benefit': 1.0, 'barber': 1.0, 'star': 1.0, 'orchestra': 4.0, 'war': 1.0, 'front': 1.0, 'bandsman': 1.0, 'age': 3.0, 'guard': 1.0, '600': 1.0, 'national': 1.0, 'illinoisafter': 1.0, 'concert': 2.0, 'vic': 1.0, 'chair': 2.0, 'held': 2.0, 'scholarship': 1.0, 'albums': 2.0, 'music': 1.0, '250': 1.0, 'series': 1.0, 'talent': 1.0, 'local': 1.0, 'piece': 1.0, 'fellow': 1.0, 'girard': 1.0, 'trombonist': 1.0, 'working': 1.0, 'playing': 1.0, 'al': 1.0, 'ava': 1.0, 'job': 1.0, '16': 1.0, 'victims': 1.0, 'jazz': 4.0, 'landed': 1.0, 'quincy': 4.0, 'musician': 1.0, 'symphony': 1.0, 'violin': 1.0, '12': 1.0, 'show': 3.0, 'korean': 1.0, 'played': 2.0, 'tour': 1.0, 'persuaded': 1.0, '1995': 1.0, 'havens': 4.0, 'born': 1.0, 'joined': 2.0, 'girards': 1.0, 'tenure': 1.0, 'flanagan': 1.0, '3': 1.0, 'lead': 1.0, 'band': 7.0, 'american': 1.0, 'school': 1.0, 'serving': 1.0, 'welk': 3.0, 'soloist': 1.0, 'zarchy': 1.0, '1955': 1.0, 'tromboneborn': 1.0, 'camp': 1.0, 'years': 2.0, '1960': 2.0, 'performed': 1.0, 'groups': 1.0, 'george': 1.0, '1930': 1.0, 'schools': 1.0, 'recognized': 1.0, 'musical': 1.0, 'lawrence': 2.0, 'family': 1.0, 'professional': 2.0, 'instruments': 1.0, 'ended': 1.0, 'dixieland': 1.0, 'illinois': 3.0, 'popular': 1.0, 'studying': 1.0, 'trombone': 3.0, '2005': 1.0, 'michigan': 1.0, 'left': 1.0, 'big': 1.0, '1956': 1.0, '1985': 1.0, 'bob': 6.0, 'door': 1.0, '1957': 1.0, 'pete': 1.0, 'campbell': 1.0, 'instrument': 1.0, 'met': 1.0, 'cats': 1.0, 'idol': 1.0, 'featured': 1.0, 'dance': 2.0, 'jack': 1.0, 'katrinabob': 1.0, 'interlochen': 1.0, 'hirt': 4.0, 'dans': 1.0, 'bourbon': 1.0, 'street': 1.0, 'famous': 1.0, 'line': 1.0, 'began': 1.0, 'time': 1.0, 'consisted': 1.0, 'hucko': 1.0, 'fountain': 1.0, 'formed': 1.0, 'recorded': 2.0, 'appeared': 1.0, 'ralph': 1.0, 'good': 1.0, 'record': 1.0, 'lives': 1.0, 'southland': 1.0, 'times': 1.0, 'teagardenin': 1.0, 'audio': 1.0, 'verve': 1.0, 'pier': 1.0, 'west': 1.0, 'carolina': 1.0, 'fidelity': 1.0, 'money': 1.0, 'dozen': 1.0, 'musiciansbob': 1.0, 'stayed': 1.0, 'group': 1.0, 'world': 1.0, 'coast': 1.0, 'move': 1.0, 'join': 1.0, 'weekly': 1.0, 'orleans': 3.0, 'tv': 1.0, '1982': 1.0, 'nelson': 1.0, '23': 1.0, 'continued': 1.0, 'raising': 1.0, '1982following': 1.0, 'freelance': 1.0, 'crosby': 1.0, 'benny': 1.0, 'label': 1.0, 'goodman': 1.0, 'led': 1.0, 'clarinetist': 1.0, 'peanuts': 1.0, 'great': 1.0, 'pacific': 1.0, 'ringwald': 1.0, 'labels': 1.0, 'vocalspiano': 1.0, 'don': 1.0, 'saxophone': 1.0, 'lasted': 1.0, 'university': 1.0, 'zeke': 1.0, 'trumpetin': 1.0, 'north': 1.0, 'pops': 1.0}, {'bird': 1.0, 'fallen': 1.0, '2010': 1.0, 'compilation': 1.0, 'hall': 1.0, 'elizabeth': 1.0, 'appearing': 1.0, 'concert': 1.0, 'artist': 2.0, 'spearheaded': 1.0, 'appeared': 1.0, 'project': 1.0, '2008': 1.0, 'songbirdchristie': 1.0, 'strange': 1.0, 'dark': 1.0, 'free': 1.0, 'funky': 1.0, 'magazine': 1.0, 'brilliantly': 1.0, 'spin': 1.0, 'brought': 1.0, 'copy': 1.0, 'votel': 2.0, 'watch': 1.0, 'andy': 1.0, 'spouse': 1.0, 'manchesterbased': 1.0, 'ladies': 2.0, 'languished': 1.0, 'bearded': 1.0, 'participated': 1.0, 'pressed': 1.0, 'renewed': 1.0, 'copies': 1.0, 'considered': 1.0, 'london': 1.0, 'weavers': 1.0, 'music': 1.0, 'national': 1.0, 'reminiscent': 1.0, 'chart': 2.0, 'novelty': 1.0, '2006': 1.0, 'pennsylvania': 1.0, 'sound': 1.0, 'release': 1.0, 'label': 1.0, '100': 2.0, 'original': 1.0, 'backed': 1.0, 'folk': 3.0, 'unreleased': 1.0, 'john': 1.0, 'american': 1.0, 'lost': 1.0, 'onionflavored': 1.0, 'onions': 1.0, 'funyuns': 1.0, 'singersongwriter': 1.0, 'hit': 1.0, 'commercial': 2.0, 'noncommercial': 1.0, 'billboard': 1.0, 'adapted': 2.0, 'dropped': 1.0, 'album': 7.0, 'recording': 1.0, 'dj': 1.0, 'track': 1.0, 'minor': 1.0, 'christie': 5.0, 'received': 1.0, 'song': 1.0, 'records': 1.0, '63': 1.0, '1970': 1.0, 'kazoo': 1.0, 'love': 3.0, 'philadelphia': 1.0, 'hill': 1.0, 'written': 1.0, 'attention': 1.0, 'performing': 1.0, 'recorded': 1.0, 'cd': 1.0, 'vocal': 1.0, 'peaked': 1.0, 'cochrane': 1.0, 'christies': 1.0, 'guest': 1.0, 'psychedelic': 1.0, 'rpm': 1.0, 'chorus': 1.0, 'players': 1.0, 'queen': 1.0, 'male': 1.0, 'jane': 1.0, 'hot': 1.0, 'singersin': 1.0, 'canada': 1.0, 'tv': 1.0, 'obscurity': 1.0, 'single': 1.0, 'fared': 1.0, 'susan': 1.0, 'weaver': 1.0, '19': 1.0, 'canadian': 1.0, 'donald': 1.0, 'august': 1.0, '1930s': 1.0, 'tune': 2.0, 'filled': 1.0, 'breathy': 1.0, 'late': 1.0, 'backup': 1.0, '60s': 1.0, 'snack': 1.0, 'vinyl': 1.0, 'singles': 1.0, 'food': 1.0, 'television': 1.0, 'lady': 1.0, 'reaching': 1.0, '1': 1.0, 'turtles': 1.0, 'songs': 1.0, '1966': 2.0, '1980signed': 1.0, 'paint': 1.0, 'columbia': 2.0}, {'burke': 1.0, 'sarah': 1.0, 'setting': 1.0, 'jake': 1.0, 'southeast': 1.0, 'developed': 1.0, 'quarters': 1.0, 'cramped': 1.0, 'result': 1.0, 'directly': 1.0, 'daughters': 1.0, 'husband': 1.0, 'motel': 2.0, 'owned': 1.0, 'montana': 1.0, 'helena': 1.0, 'innkeeper': 1.0, 'living': 1.0, 'hines': 1.0, 'beginning': 1.0, 'include': 1.0, 'american': 1.0, 'family': 1.0, 'techniques': 1.0, 'rutherford': 1.0, 'lived': 1.0, 'dell': 1.0, 'fictional': 1.0, 'license': 1.0, 'liveaboard': 1.0, 'times': 1.0, 'york': 1.0, 'careful': 1.0, 'walker': 1.0, 'scuba': 1.0, 'private': 1.0, 'marilyn': 1.0, 'minnesota': 2.0, 'phillip': 1.0, 'lobby': 1.0, 'earned': 1.0, 'publishers': 1.0, 'gunn': 5.0, 'path': 1.0, 'career': 2.0, 'elizabeth': 1.0, 'novelsgunn': 1.0, 'harlequin': 1.0, 'set': 2.0, 'city': 1.0, 'procedurals': 1.0, 'write': 1.0, 'series': 2.0, 'stasio': 1.0, 'forge': 1.0, 'arizona': 1.0, 'results': 1.0, 'apartment': 1.0, 'mountains': 1.0, 'mystery': 1.0, 'diver': 1.0, 'desire': 1.0, 'sailing': 1.0, 'research': 1.0, 'police': 1.0, 'years': 1.0, 'novels': 1.0, 'lives': 1.0, 'precisiontooled': 1.0, 'severn': 1.0, 'houseprior': 1.0, 'travel': 2.0, 'sky': 1.0, 'pilots': 1.0, 'hiked': 1.0, 'moved': 2.0, 'deserts': 1.0, 'travelled': 1.0, 'small': 1.0, 'extensively': 1.0, 'tucson': 3.0, 'canada': 1.0, 'mexico': 1.0, 'europe': 1.0, 'author': 1.0, 'including': 1.0, 'sailor': 1.0, 'began': 1.0, 'grew': 1.0, 'articles': 1.0, 'raised': 1.0, '1999': 1.0, 'made': 1.0, 'writer': 3.0, 'retiring': 1.0, 'published': 1.0, 'regional': 1.0, 'papers': 1.0, 'fulltime': 1.0}, {'atlanta': 1.0, 'indianapolis': 1.0, 'england': 1.0, 'fletcher': 1.0, 'mccannerickson': 1.0, 'regularly': 1.0, 'pearson': 1.0, 'agencies': 1.0, 'pizza': 1.0, 'papa': 1.0, 'including': 1.0, 'clients': 1.0, 'work': 2.0, 'storyboard': 1.0, 'live': 1.0, 'spot': 1.0, 'network': 1.0, 'batman': 1.0, 'superman': 1.0, 'feature': 1.0, 'full': 1.0, 'motorola': 1.0, 'ghostbusters': 1.0, 'extreme': 1.0, 'mashhe': 1.0, 'means': 1.0, '40': 1.0, 'johns': 1.0, 'times': 1.0, 'realism': 1.0, 'years': 1.0, 'comics': 2.0, 'hollow': 1.0, 'worked': 1.0, 'bent': 1.0, 'cowritten': 1.0, '1954': 1.0, 'commercial': 1.0, 'painted': 2.0, 'realms': 1.0, 'warner': 1.0, 'city': 1.0, 'washington': 1.0, 'animated': 1.0, 'animation': 1.0, '15': 1.0, 'shows': 1.0, 'noted': 1.0, 'comic': 1.0, 'united': 1.0, 'program': 1.0, 'art': 2.0, 'fairly': 1.0, 'viking': 1.0, 'story': 1.0, 'born': 1.0, 'uncommon': 1.0, 'graphic': 2.0, 'medium': 1.0, 'glory': 1.0, 'bros': 1.0, 'book': 1.0, 'york': 1.0, 'nbm': 1.0, 'artisthe': 1.0, 'cartoon': 2.0, 'hampton': 2.0, 'spent': 1.0, 'video': 1.0, 'year': 1.0, 'tv': 2.0, 'period': 1.0, 'graduated': 1.0, 'school': 1.0, 'arts': 2.0, 'tundra': 1.0, 'visual': 1.0, 'storyboarding': 1.0, 'highlights': 1.0, 'fricksfirestone': 1.0, 'smash': 1.0, 'include': 2.0, 'sequential': 1.0, 'uk': 1.0, 'legend': 1.0, 'publishing': 2.0, 'sleepy': 1.0, 'verdilak': 1.0, 'drew': 1.0, 'states': 1.0, '96': 1.0, 'horror': 1.0, 'develop': 1.0, 'bo': 1.0, 'page': 1.0, 'college': 1.0, 'length': 1.0, 'sony': 1.0, 'mcmahon': 1.0, 'professor': 1.0, 'savannah': 1.0, 'wrote': 1.0, 'design': 1.0, 'moving': 1.0, 'original': 1.0, 'helping': 1.0, 'ad': 1.0, 'dc': 2.0, 'incarnation': 1.0, 'cocacola': 1.0, 'popular': 1.0, 'commercials': 1.0, 'bellsouth': 1.0, 'novels': 1.0, 'advets': 1.0}, {'1995': 1.0, 'lettres': 1.0, 'ordre': 1.0, 'officier': 1.0, 'berlin': 1.0, 'officer': 1.0, 'june': 1.0, 'rome': 1.0, '2009': 1.0, '11': 1.0, 'paris': 2.0, 'republic': 3.0, 'honour': 1.0, 'legion': 1.0, 'national': 1.0, 'times': 1.0, 'contemporary': 1.0, 'artist': 1.0, 'honours': 1.0, 'highest': 1.0, 'chevalier': 1.0, 'republics': 1.0, 'german': 1.0, 'officially': 1.0, '2006': 1.0, 'stature': 1.0, 'theatre': 1.0, 'fields': 1.0, 'nicknamed': 1.0, 'des': 2.0, 'stems': 1.0, '17': 1.0, 'hair': 1.0, 'rossa': 1.0, 'colour': 1.0, 'goro': 1.0, 'artistic': 1.0, 'july': 1.0, 'bjolkati': 1.0, 'la': 1.0, 'personality': 1.0, 'popular': 4.0, 'simultaneously': 1.0, 'actress': 1.0, 'milva': 1.0, 'music': 1.0, 'film': 1.0, 'internationally': 1.0, 'italian': 9.0, 'due': 1.0, 'born': 1.0, 'omri': 1.0, 'commander': 2.0, 'order': 3.0, 'theatrical': 1.0, 'success': 1.0, 'female': 1.0, 'world': 1.0, 'musical': 3.0, 'arts': 1.0, 'ilva': 2.0, 'numerous': 1.0, 'biolcati': 1.0, 'birth': 1.0, 'pronunciation': 1.0, 'triumphed': 1.0, 'press': 1.0, '1939': 1.0, 'panther': 1.0, 'greece': 1.0, '2': 1.0, 'singer': 1.0, 'maria': 2.0, 'abroad': 1.0, 'received': 2.0, 'merit': 2.0, 'television': 1.0, 'personalities': 1.0, 'names': 1.0, 'singers': 2.0, 'french': 2.0, '1960s': 1.0, 'combining': 1.0, 'enormous': 1.0, 'italy': 3.0, 'fact': 1.0, 'stages': 1.0, 'germany': 2.0, 'additionally': 1.0, 'bestowed': 1.0, 'places': 1.0, 'native': 1.0, 'stage': 1.0, 'participated': 1.0, 'televised': 1.0, 'animals': 1.0, 'events': 1.0, '2007': 1.0, 'programmes': 1.0, 'successful': 1.0, 'albums': 1.0, 'france': 1.0, 'japan': 1.0, 'korea': 1.0, 'recognised': 1.0, 'south': 1.0, 'september': 1.0, 'acclaim': 1.0, 'americahaving': 1.0, 'red': 1.0, 'released': 1.0, 'remains': 1.0, 'federal': 1.0, 'spain': 1.0, 'day': 1.0}, {'1980s': 1.0, 'activists': 1.0, 'independence': 1.0, 'events': 1.0, 'surrounding': 1.0, 'true': 1.0, 'formosa': 1.0, 'dark': 1.0, 'starbucks': 1.0, 'short': 1.0, 'produced': 1.0, 'starred': 1.0, 'room': 1.0, 'boom': 2.0, 'based': 1.0, 'writer': 1.0, 'marty': 1.0, 'lefty': 1.0, 'proof': 1.0, 'waiting': 1.0, 'democracy': 1.0, 'theatre': 1.0, 'quarterlife': 1.0, 'internet': 1.0, 'winner': 1.0, 'central': 1.0, 'comedy': 2.0, 'affairs': 1.0, 'major': 1.0, 'series': 1.0, 'transferring': 1.0, 'michigan': 1.0, 'bush': 1.0, 'tufts': 1.0, 'scene': 1.0, 'hollywood': 1.0, 'raised': 1.0, 'university': 3.0, 'actor': 3.0, 'entertainmenttiao': 1.0, 'received': 2.0, 'stage': 1.0, 'performance': 1.0, 'awardwinning': 1.0, 'cbs': 1.0, 'producer': 3.0, 'tiao': 2.0, 'international': 4.0, 'relations': 1.0, 'feature': 1.0, 'taiwanese': 2.0, 'story': 1.0, 'manhattan': 1.0, 'cum': 1.0, 'economist': 1.0, 'american': 1.0, 'entering': 1.0, 'magna': 1.0, 'born': 1.0, 'ma': 1.0, 'kansas': 1.0, 'film': 3.0, 'credits': 2.0, 'columbia': 1.0, 'field': 1.0, 'fulbright': 1.0, 'tv': 2.0, 'scholarship': 1.0, 'ba': 1.0, 'research': 1.0, 'worked': 3.0, 'association': 1.0, 'southeast': 1.0, 'asian': 1.0, 'politics': 2.0, 'nations': 1.0, 'leave': 1.0, 'philippinestiao': 1.0, 'betrayed': 1.0, 'presidential': 1.0, 'er': 1.0, 'clinton': 1.0, 'independent': 1.0, 'decided': 1.0, 'stories': 1.0, 'fellow': 1.0, 'career': 1.0, 'stan': 1.0, 'management': 1.0, 'include': 2.0, 'pursue': 1.0, 'writertranslator': 1.0, 'madtv': 1.0, 'laude': 1.0, 'fox': 2.0, 'extremities': 1.0, 'dear': 1.0, 'untold': 1.0, 'cello': 1.0, 'administration': 2.0, 'tlc': 1.0, 'manila': 1.0, 'george': 1.0, 'mind': 1.0, '2002': 1.0, 'mencia': 1.0}, {'located': 1.0, 'moms': 1.0, 'homeless': 1.0, 'transition': 1.0, 'publicly': 1.0, 'serve': 1.0, 'africanamerican': 1.0, 'board': 2.0, 'limiteds': 1.0, 'newly': 1.0, 'mr': 2.0, 'money': 2.0, 'matters': 2.0, 'alliance': 1.0, 'signing': 1.0, 'formed': 1.0, 'side': 1.0, 'limited': 4.0, '2013': 1.0, 'overseas': 1.0, 'invest': 1.0, 'move': 1.0, 'included': 1.0, 'yearprimos': 1.0, 'services': 3.0, 'financial': 3.0, 'saluted': 1.0, 'magazine': 1.0, 'enterprise': 1.0, 'opened': 1.0, 'regional': 1.0, 'visionary': 1.0, 'assets': 1.0, 'investor': 1.0, '2012': 1.0, 'domestic': 1.0, 'institutional': 1.0, 'partners': 2.0, 'india': 2.0, 'industry': 1.0, 'investors': 1.0, 'cofounder': 1.0, '1955': 1.0, 'company': 1.0, 'south': 1.0, 'states': 1.0, 'appointed': 1.0, 'firms': 2.0, 'investment': 1.0, 'women': 1.0, 'estate': 4.0, 'innovation': 1.0, 'born': 1.0, 'advises': 1.0, 'management': 2.0, 'international': 1.0, 'position': 1.0, 'director': 1.0, 'quintin': 1.0, 'kids': 1.0, 'companyin': 1.0, 'pension': 1.0, 'center': 1.0, 'addition': 1.0, 'chairman': 3.0, 'forbes': 1.0, 'launched': 2.0, 'funds': 1.0, 'strategic': 1.0, 'latest': 1.0, 'baldwin': 1.0, 'capital': 7.0, 'markets': 1.0, 'llc': 2.0, 'iii': 1.0, 'philanthropy': 1.0, 'primo': 7.0, 'primos': 1.0, 'angeles': 1.0, 'real': 4.0, 'shelter': 1.0, 'minorityowned': 3.0, 'capri': 8.0, 'billion': 1.0, 'listed': 1.0, 'children': 1.0, 'firm': 3.0, 'largest': 1.0, 'americas': 3.0, 'black': 1.0, '404': 1.0, 'ranked': 1.0, 'underserved': 1.0, 'ceo': 1.0, '1947in': 1.0, 'march': 1.0, 'united': 1.0, 'commercial': 1.0, 'nonexecutive': 1.0, 'global': 3.0, 'renaming': 1.0, '2006': 1.0, '14': 1.0, 'top': 1.0, 'twenty': 1.0, 'acumen': 1.0, 'richest': 1.0, 'contributor': 1.0, 'cnbc': 1.0, 'indianregistered': 1.0, 'americans': 1.0, 'urban': 2.0, 'world': 1.0, 'listprimo': 1.0, 'regular': 1.0, 'african': 1.0, 'fundsas': 1.0, 'industrys': 1.0, 'business': 1.0, 'west': 1.0, '2000': 1.0, 'plaza': 1.0, 'september': 1.0, 'developed': 1.0, 'founder': 1.0, 'mezzanine': 1.0, 'directors': 1.0, 'early': 1.0, 'malls': 1.0, 'los': 1.0, 'oldest': 1.0, 'purchased': 1.0, 'hills': 1.0, 'chicago': 1.0, 'leadership': 1.0, 'crenshaw': 1.0}, {'pops': 1.0, 'theme': 1.0, 'paul': 1.0, 'vocals': 1.0, 'provided': 1.0, 'leonard': 1.0, 'open': 1.0, '1993': 1.0, 'unexploited': 1.0, 'displayed': 1.0, '2007': 1.0, 'programmes': 1.0, 'schools': 1.0, 'number': 2.0, 'talents': 1.0, '1983': 1.0, 'palms': 1.0, 'episode': 1.0, 'unexpected': 1.0, 'tales': 1.0, '1987': 1.0, 'cops': 1.0, 'star': 1.0, '1985': 1.0, 'storm': 1.0, 'mortality': 1.0, 'productions': 1.0, 'plays': 1.0, 'university': 1.0, 'alternative': 1.0, 'tvs': 1.0, 'played': 2.0, 'top': 1.0, 'recently': 1.0, 'auld': 1.0, 'pit': 1.0, 'guest': 2.0, 'revolution': 1.0, 'appeared': 1.0, 'game': 1.0, 'recent': 1.0, 'longrunning': 2.0, 'play': 1.0, 'governoramong': 1.0, 'boyard': 1.0, 'segment': 1.0, 'appearances': 2.0, 'childrens': 1.0, 'role': 1.0, 'title': 1.0, 'casino': 1.0, 'british': 1.0, 'unbound': 1.0, 'leeds': 1.0, 'big': 1.0, '1960s': 1.0, 'blott': 1.0, 'organon': 1.0, 'catweazle': 1.0, 'series': 6.0, 'video': 1.0, '1995bayldon': 1.0, 'riding': 1.0, 'opportunity': 1.0, 'love': 1.0, 'avengers': 1.0, 'creature': 1.0, 'dramas': 1.0, 'audio': 1.0, 'west': 1.0, 'caseyin': 1.0, 'born': 2.0, 'version': 1.0, 'gummidge': 1.0, '7': 1.0, 'vocal': 1.0, 'shakespeare': 1.0, 'deadly': 1.0, 'doctors': 1.0, 'magic': 1.0, 'envy': 1.0, 'actor': 1.0, 'turning': 1.0, 'parts': 2.0, 'show': 1.0, 'watch': 1.0, 'include': 2.0, 'bayldon': 2.0, '1961': 1.0, 'bayldons': 1.0, 'crowman': 1.0, 'january': 1.0, '1965': 1.0, 'geoffrey': 1.0, 'yorkshire': 1.0, 'simplicio': 1.0, 'bbc': 4.0, 'appearance': 2.0, '1971': 1.0, 'newtons': 1.0, 'roles': 2.0, '197072': 1.0, 'landscape': 1.0, '1924': 1.0, '1986': 1.0, 'including': 2.0, 'science': 1.0, 'sheltering': 1.0, 'doctor': 5.0, 'fiction': 1.0, 'portraying': 1.0, 'television': 6.0, 'episodes': 1.0, 'playing': 1.0, 'tricks': 1.0, 'dramatisation': 1.0, 'sir': 1.0, 'worzel': 1.0, '197981': 1.0, 'king': 1.0, 'grandad': 1.0, 'porridge': 2.0, 'based': 1.0, 'made': 2.0, '1967': 3.0, 'hardcastles': 1.0, 'angelsother': 1.0, '1970s': 1.0, 'rat': 1.0, 'singing': 1.0, 'royale': 1.0, 'magnificent': 1.0, 'finish': 1.0, 'film': 3.0, 'marc': 1.0, 'sins': 1.0, 'wizard': 1.0, 'bolant': 1.0, '1998he': 1.0, 'rex': 1.0, 'fort': 1.0, 'boogie': 1.0, '1979': 2.0}, {'uwe': 1.0, 'serving': 1.0, 'international': 1.0, 'founding': 1.0, 'american': 1.0, '2005': 1.0, 'cited': 1.0, 'defined': 1.0, 'scipulfdietrich': 1.0, '2002': 1.0, 'scientist': 1.0, 'young': 1.0, 'chapter': 1.0, 'german': 2.0, 'founders': 1.0, 'wide': 1.0, 'experiments': 2.0, 'real': 1.0, 'won': 1.0, 'laboratory': 1.0, 'dgof': 1.0, '1994': 1.0, 'data': 1.0, 'big': 1.0, 'media': 1.0, 'social': 1.0, 'cognition': 1.0, 'measurement': 1.0, 'tests': 1.0, 'experimental': 3.0, 'method': 1.0, 'experimenting': 2.0, 'online': 2.0, 'world': 1.0, 'lab': 1.0, 'methodologies': 1.0, 'universities': 1.0, 'field': 1.0, 'web': 2.0, 'spanish': 1.0, 'scientists': 1.0, 'top': 1.0, 'ranked': 1.0, 'cientificas': 1.0, 'private': 1.0, 'investigaciones': 1.0, 'de': 1.0, 'journal': 2.0, 'superior': 1.0, 'consejo': 1.0, 'based': 1.0, 'neuroscience': 1.0, 'standards': 1.0, 'book': 1.0, 'lecturer': 1.0, 'switzerland': 1.0, 'affiliated': 2.0, 'jointly': 1.0, 'remains': 1.0, 'department': 2.0, 'bilbao': 1.0, '7th': 1.0, 'tenured': 1.0, 'deusto': 1.0, 'tbingen': 2.0, '2009': 2.0, 'working': 2.0, 'matzat': 1.0, 'political': 1.0, 'iscience': 2.0, 'wrote': 1.0, 'ikerbasque': 3.0, 'boulder': 1.0, 'articles': 1.0, 'assessment': 1.0, 'president': 1.0, 'science': 3.0, 'psychological': 2.0, '1995': 1.0, 'spent': 1.0, 'ulfdietrich': 2.0, 'editor': 1.0, 'methodology': 1.0, 'professor': 3.0, 'reips': 6.0, 'spain': 2.0, 'oberassistent': 1.0, 'faculty': 1.0, 'habilitation': 1.0, 'full': 1.0, 'founded': 1.0, 'dr': 1.0, 'elected': 1.0, 'sciences': 1.0, 'phd': 1.0, 'methods': 2.0, '2004': 1.0, 'affiliation': 1.0, 'general': 1.0, '1997': 2.0, 'received': 3.0, 'konstanz': 1.0, 'legendi': 1.0, 'society': 3.0, '2013': 1.0, 'holds': 1.0, 'nonnorth': 1.0, 'chair': 1.0, 'ma': 1.0, 'zurich': 1.0, 'venia': 1.0, 'title': 1.0, 'privatdozent': 1.0, 'sonoma': 1.0, '2014ulfdietrich': 1.0, 'germany': 1.0, 'article': 1.0, 'california': 1.0, 'journals': 1.0, 'conducting': 2.0, '1992': 1.0, 'state': 1.0, 'undergraduate': 1.0, 'university': 7.0, 'assistant': 1.0, 'graduate': 1.0, 'psychology': 10.0, 'years': 1.0, 'attended': 1.0, 'fulltime': 1.0, 'jens': 1.0, 'kolleg': 1.0, 'computers': 1.0, 'internet': 4.0, 'walter': 1.0, '2012': 1.0, 'internetbased': 4.0, 'honorable': 1.0, 'majored': 1.0, 'causality': 1.0, 'student': 1.0, 'minor': 1.0, 'prof': 1.0, 'award': 2.0, 'leibniz': 1.0, 'colorado': 1.0, 'basis': 1.0, 'research': 4.0, 'rhetoric': 1.0}, {'ncehr': 1.0, '1988': 1.0, '1986': 1.0, 'society': 1.0, 'frsqprofessor': 1.0, 'law': 1.0, 'researchers': 1.0, 'network': 1.0, 'representing': 1.0, 'evaluation': 1.0, 'quebec': 1.0, 'gnthiq': 1.0, 'group': 1.0, 'interinstitutional': 1.0, 'director': 1.0, 'genetic': 1.0, 'funded': 2.0, 'bioethics': 3.0, 'chicoutimi': 2.0, 'collge': 2.0, 'department': 2.0, 'recherche': 1.0, 'richard': 1.0, 'ethics': 4.0, 'researcher': 1.0, 'sshrc': 1.0, 'medicine': 1.0, 'canadian': 1.0, 'albert': 3.0, 'interdisciplinary': 1.0, 'thought': 1.0, 'screening': 1.0, 'analysis': 1.0, 'member': 3.0, 'de': 6.0, 'books': 1.0, 'analyse': 1.0, 'fonds': 1.0, 'mlanon': 4.0, 'sant': 1.0, 'teaches': 1.0, 'scientist': 1.0, 'du': 2.0, 'founding': 1.0, 'qubec': 1.0, 'codirector': 2.0, 'sociology': 1.0, 'marcel': 1.0, 'french': 1.0, 'specialty': 1.0, 'committee': 1.0, 'worked': 1.0, 'philosopher': 2.0, 'reference': 1.0, 'vicepresident': 1.0, 'works': 1.0, 'philosophy': 2.0, 'committees': 1.0, 'camus': 3.0, 'division': 1.0, 'book': 1.0, 'qubecfrsq': 1.0, 'la': 1.0, 'programme': 1.0, 'graduate': 1.0, 'en': 1.0, 'chercheurs': 1.0, 'ethical': 1.0, 'bioethicshe': 1.0, 'served': 1.0, 'soutien': 1.0, 'des': 1.0, 'received': 1.0, 'lambertprofessor': 1.0, 'associate': 1.0, 'professor': 1.0, 'universit': 3.0, 'canada': 1.0, 'program': 1.0, 'pense': 1.0, 'authored': 1.0, 'clinical': 1.0, 'masters': 1.0, 'issues': 1.0, 'pscche': 1.0, 'religion': 1.0, 'degree': 1.0, 'testing': 1.0, 'experimental': 1.0, 'genetics': 3.0, 'biologist': 1.0, 'articles': 1.0, 'fribourg': 1.0, 'laval': 1.0, 'sa': 1.0, 'doctorate': 1.0, 'switzerlandprofessor': 1.0}, {'compliance': 1.0, 'operations': 1.0, 'york': 1.0, 'division': 1.0, 'international': 2.0, '2002': 1.0, 'headquarters': 1.0, 'president': 2.0, 'platform': 1.0, 'digital': 1.0, 'radioin': 1.0, 'delta': 1.0, 'eagle': 1.0, '964': 1.0, 'network': 1.0, 'system': 1.0, 'automation': 1.0, 'studio': 1.0, 'master': 1.0, 'customer': 1.0, 'star': 1.0, 'served': 1.0, 'launching': 1.0, 'vice': 2.0, 'key': 1.0, '1995': 1.0, 'played': 1.0, '20': 1.0, 'ukrd': 3.0, 'merged': 1.0, 'computerised': 2.0, 'running': 1.0, 'pioneering': 1.0, 'world': 2.0, 'tomorrows': 1.0, 'bbc': 1.0, 'cornwall': 1.0, 'set': 1.0, 'based': 1.0, 'investment': 1.0, 'company': 1.0, 'departed': 1.0, 'market': 1.0, 'companieswhile': 1.0, 'stock': 1.0, 'playoutshortly': 1.0, 'taking': 1.0, 'londonafter': 1.0, 'consisting': 1.0, 'news': 2.0, 'devonair': 1.0, 'pirate': 3.0, 'exeter': 1.0, '102': 1.0, 'provincial': 1.0, '1980': 1.0, 'british': 1.0, 'station': 4.0, 'innovations': 1.0, 'joined': 2.0, 'senior': 2.0, 'concentrate': 1.0, 'role': 1.0, 'launch': 6.0, 'kiss': 1.0, 'journalist': 2.0, 'infinity': 3.0, 'head': 1.0, 'technology': 1.0, 'shows': 1.0, 'manchesters': 1.0, 'moved': 1.0, 'newspaper': 1.0, 'featured': 1.0, 'radio': 15.0, 'joint': 2.0, 'current': 1.0, 'westcountry': 1.0, 'listing': 1.0, 'hosted': 2.0, 'uk': 4.0, 'technologiesin': 1.0, '1984': 1.0, 'newspapers': 1.0, 'musicscheduling': 1.0, 'stations': 3.0, 'launched': 1.0, 'guildford': 1.0, 'programme': 1.0, 'growing': 1.0, 'research': 1.0, 'powell': 7.0, 'form': 1.0, 'management': 2.0, 'chairman': 1.0, 'media': 1.0, 'awardwinning': 1.0, 'breakfast': 1.0, 'showpowell': 1.0, 'building': 1.0, 'surrey': 1.0, '1983': 1.0, 'editor': 1.0, 'venture': 1.0, 'sound': 6.0, 'torbay': 1.0, 'music': 2.0, 'uks': 1.0, 'separated': 1.0, 'capital': 1.0, 'promoted': 2.0, 'working': 1.0, 'program': 1.0, 'october': 2.0, 'ceo': 4.0, 'white': 1.0, 'director': 1.0, '1986': 2.0, '1991': 1.0, 'affairs': 1.0, 'group': 3.0, 'berkshires': 1.0, 'software': 1.0, 'included': 1.0, 'officer': 1.0, 'chief': 1.0, 'jointly': 1.0, 'rcs': 3.0, 'fox': 1.0, 'plains': 1.0, 'computing': 1.0, 'eventually': 1.0, 'services': 1.0, 'county': 6.0, '24': 1.0, 'selector': 1.0, 'control': 1.0, 'day': 1.0, 'hours': 1.0, 'gold': 2.0, '2001': 1.0, 'introducing': 1.0, 'format': 1.0, 'designed': 1.0, 'programming': 1.0, '2014': 1.0, 'mike': 1.0, 'transitioning': 1.0, 'fm': 5.0}, {'4': 1.0, 'nominees': 1.0, 'cut': 1.0, 'olympics': 1.0, 'players': 1.0, '43': 1.0, 'including': 1.0, 'group': 1.0, 'tournament': 1.0, '2012': 2.0, 'injury': 1.0, 'recovery': 1.0, 'aliaksandr': 1.0, 'competition': 1.0, 'replaced': 1.0, 'missed': 1.0, 'pretournament': 1.0, 'uefa': 4.0, 'stage': 1.0, 'participated': 2.0, 'preliminary': 1.0, 'subsequently': 1.0, 'under21': 4.0, 'debut': 1.0, '2008': 1.0, 'perepechka': 1.0, 'september': 1.0, 'born': 1.0, '2009': 2.0, '9': 1.0, 'withdrawn': 1.0, 'team': 4.0, '2010': 2.0, 'national': 1.0, 'london': 1.0, '26': 1.0, 'netted': 2.0, 'salihorskyurchenko': 1.0, 'vasilyevich': 1.0, '1989': 1.0, 'u21': 6.0, 'championshipon': 1.0, 'callup': 1.0, 'home': 1.0, '22': 1.0, 'january': 1.0, 'mogilev': 1.0, 'plays': 1.0, 'russian': 1.0, 'matches': 2.0, 'match': 2.0, 'shakhtyor': 1.0, 'championship': 3.0, 'toulon': 1.0, 'belarusian': 2.0, 'win': 2.0, 'yurchanka': 1.0, 'latvia': 1.0, 'belarussian': 1.0, 'uladzimir': 1.0, '1': 1.0, 'european': 4.0, 'footballer': 1.0, 'november': 1.0, 'part': 3.0, 'appearances': 1.0, 'final': 1.0, 'earned': 1.0, '12': 2.0, 'august': 1.0, 'yurchenko': 4.0, 'goal': 1.0, 'belarus': 2.0, 'opening': 1.0, 'scoring': 1.0, 'austria': 1.0, 'games': 1.0, 'country': 1.0, 'reserves': 1.0, '21': 1.0, 'qualification': 1.0, '2011': 4.0, 'qualifier': 1.0, 'october': 1.0, 'football': 4.0, 'make': 1.0, '30': 1.0, 'italy': 1.0, 'omanon': 1.0, 'side': 1.0, 'made': 3.0, 'selected': 2.0, 'secured': 1.0, '2': 1.0, 'footballers': 1.0, '18': 1.0, 'senior': 1.0, 'injured': 2.0, 'squad': 3.0, 'friendly': 2.0, 'june': 1.0, 'denmark': 1.0}, {'earthbound': 1.0, 'compositions': 1.0, 'versions': 1.0, 'papas': 1.0, 'organ': 1.0, 'kenichiro': 1.0, '2010': 1.0, '2002': 1.0, 'conductor': 1.0, 'grammy': 1.0, 'concerts': 2.0, 'works': 1.0, 'pieces': 1.0, 'band': 3.0, 'released': 1.0, 'rock': 2.0, 'scores': 1.0, 'uematsus': 2.0, 'arranged': 2.0, 'mistwalkersoundtracks': 1.0, 'age': 1.0, 'began': 1.0, 'playing': 1.0, 'selftaught': 1.0, 'played': 2.0, 'uematsu': 3.0, 'community': 1.0, 'composers': 1.0, 'piano': 1.0, 'musician': 1.0, 'eleven': 1.0, 'fukui': 1.0, 'final': 5.0, 'famous': 1.0, 'series': 2.0, 'game': 5.0, 'john': 1.0, '1959': 1.0, 'march': 1.0, 'colleagues': 1.0, 'scoring': 1.0, 'considered': 1.0, 'smile': 1.0, 'born': 1.0, 'black': 1.0, 'japanese': 1.0, 'enix': 2.0, 'majority': 1.0, 'titles': 2.0, 'performed': 2.0, 'years': 1.0, 'met': 1.0, 'development': 1.0, 'tsuyoshi': 1.0, 'video': 5.0, 'fantasy': 5.0, 'composer': 1.0, 'games': 2.0, 'arnie': 1.0, 'music': 2.0, 'influenceuematsu': 1.0, 'joined': 1.0, '21': 1.0, 'square': 4.0, '18': 1.0, 'composed': 1.0, '2004': 1.0, 'twelve': 1.0, 'hironobu': 1.0, 'sakaguchi': 1.0, 'awardwinning': 1.0, 'elton': 1.0, 'worked': 2.0, '1986': 1.0, 'freelancer': 1.0, 'notably': 1.0, 'found': 1.0, 'biggest': 1.0, 'company': 1.0, 'called': 2.0, 'respected': 1.0, 'label': 1.0, 'studio': 1.0, 'dog': 1.0, 'creator': 1.0, 'left': 1.0, 'ear': 1.0, 'sekito': 1.0, 'nobuo': 2.0, 'records': 1.0, 'including': 1.0, 'electronic': 1.0, 'albums': 1.0, 'developed': 1.0, 'keyboards': 1.0, 'roth': 1.0, 'mages': 1.0, 'sakaguchis': 1.0}, {'charleston': 2.0, 'teaches': 1.0, '2008currently': 1.0, 'publication': 1.0, 'student': 1.0, 'resulted': 1.0, 'create': 1.0, 'students': 1.0, 'teach': 1.0, 'working': 1.0, 'college': 1.0, 'inquiry': 2.0, 'director': 1.0, 'clemson': 2.0, 'uncle': 1.0, 'mcsweeneys': 1.0, 'frequently': 1.0, 'fictionhe': 1.0, 'taught': 1.0, 'publishing': 1.0, 'dictionary': 1.0, 'press': 1.0, 'raging': 1.0, 'guilfoile': 1.0, 'stumbling': 1.0, 'fiction': 1.0, 'focus': 1.0, 'anthologized': 1.0, 'recent': 1.0, 'inspired': 1.0, 'warner': 2.0, 'northbrook': 1.0, 'news': 1.0, 'sc': 2.0, 'morning': 1.0, 'debut': 1.0, 'editor': 2.0, 'writing': 2.0, 'creative': 4.0, 'edited': 1.0, 'america': 1.0, 'tow': 1.0, 'american': 2.0, '1970': 1.0, 'internet': 1.0, 'imprint': 1.0, 'politically': 1.0, 'writer': 3.0, 'seagerhe': 1.0, 'future': 1.0, 'frequent': 1.0, 'author': 1.0, 'griffith': 1.0, 'series': 2.0, 'previously': 1.0, 'collaborates': 1.0, 'czar': 1.0, 'allan': 1.0, 'illinois': 1.0, 'warners': 1.0, 'born': 2.0, 'work': 1.0, 'books': 3.0, 'nuts': 1.0, 'contributor': 1.0, 'university': 1.0, 'tendency': 1.0, 'incwarner': 1.0, 'yellow': 1.0, 'funny': 1.0, 'man': 1.0, 'published': 1.0, 'book': 1.0, 'kevin': 1.0, 'reviewed': 1.0, 'humor': 2.0, 'dedicated': 1.0, 'publishers': 1.0, 'kirkus': 1.0, 'reviews': 1.0, 'story': 1.0, 'collection': 1.0, 'short': 1.0, 'day': 1.0, 'army': 1.0, 'weekly': 1.0, 'publications': 1.0, 'john': 1.0, 'michael': 1.0, 'tough': 1.0, 'lsu': 1.0, 'chief': 1.0, 'shoe': 1.0, 'humorous': 1.0, 'distributed': 1.0, 'fw': 1.0, 'great': 1.0}, {'georgia': 1.0, 'church': 1.0, 'bible': 1.0, 'cofounded': 1.0, 'theological': 1.0, 'attended': 1.0, 'draft': 1.0, 'nba': 1.0, 'drafted': 1.0, 'years': 1.0, 'significant': 1.0, 'surprised': 1.0, 'potential': 1.0, 'fulfilling': 1.0, 'university': 1.0, 'basketball': 2.0, 'title': 1.0, 'john': 2.0, 'rebounds': 2.0, 'seminary': 2.0, 'play': 2.0, 'doug': 3.0, 'woodens': 1.0, 'college': 2.0, 'west': 1.0, 'kentucky': 1.0, 'pivot': 1.0, 'workfollowing': 1.0, 'magazine': 1.0, 'illustrated': 1.0, 'pastor': 1.0, 'coach': 1.0, 'playing': 1.0, 'bruin': 1.0, 'ucla': 1.0, 'career': 2.0, 'school': 1.0, 'american': 1.0, 'wooden': 3.0, '1964': 1.0, 'retired': 1.0, '543': 1.0, 'player': 1.0, '64': 1.0, '1966': 1.0, 'lily': 2.0, 'tenure': 1.0, 'sports': 1.0, 'championships': 1.0, 'future': 1.0, 'anchoring': 1.0, 'won': 2.0, 'sophomore': 1.0, 'hall': 1.0, 'hard': 1.0, 'championship': 1.0, '1965mcintosh': 1.0, 'cover': 1.0, 'reserve': 1.0, 'lilburn': 1.0, 'stated': 1.0, 'national': 2.0, 'mcinstosh': 1.0, 'california': 1.0, 'los': 1.0, 'didnt': 1.0, '11': 1.0, 'angeles': 1.0, 'minutes': 1.0, 'key': 1.0, 'closest': 1.0, '30': 1.0, 'appeared': 1.0, 'game': 2.0, 'grabbing': 1.0, 'duke': 1.0, 'dallas': 1.0, 'center': 1.0, 'bruins': 1.0, 'mcintosh': 5.0, 'junior': 2.0, 'senior': 1.0, 'coaching': 1.0, 'high': 1.0, '486': 1.0, 'starter': 2.0, 'seasons': 1.0, 'contributor': 1.0, 'fame': 1.0, '1965': 1.0, 'cornerstone': 1.0, 'champions': 1.0, 'scored': 1.0, 'players': 1.0, 'points': 1.0, '57': 1.0, 'gameyears': 1.0}, {'2010': 1.0, 'magazine': 1.0, 'review': 1.0, 'mits': 1.0, 'top': 1.0, 'systemsmuchnick': 1.0, 'acquired': 1.0, '22': 1.0, 'role': 1.0, 'chief': 1.0, 'innovators': 1.0, 'peggs': 1.0, 'executive': 1.0, 'walmart': 1.0, '2014': 1.0, 'december': 1.0, 'network': 1.0, 'served': 1.0, 'partner': 1.0, 'billion': 1.0, 'technology': 1.0, 'edited': 1.0, 'partners': 1.0, 'point': 1.0, 'users': 1.0, '35': 3.0, 'passing': 1.0, 'announced': 1.0, '2012': 2.0, '15': 1.0, 'officer': 1.0, 'product': 1.0, 'year': 1.0, 'consumerfacing': 1.0, 'direction': 1.0, 'apps': 2.0, '3': 1.0, 'web': 2.0, 'application': 3.0, 'photos': 1.0, 'attending': 1.0, 'investors': 1.0, 'built': 1.0, 'company': 2.0, '2011': 1.0, 'exclusively': 1.0, 'derdikin': 1.0, 'adobe': 1.0, 'derdik': 1.0, 'israel': 2.0, 'contest': 1.0, 'michael': 1.0, 'worth1000': 1.0, '2013': 1.0, 'muchnick': 3.0, 'business': 1.0, 'suite': 3.0, 'shifted': 1.0, 'author': 1.0, 'entrepreneurin': 1.0, 'brought': 1.0, '2007': 1.0, 'site': 1.0, 'aviary': 3.0, 'school': 1.0, 'smart': 1.0, 'linkedin': 1.0, 'september': 3.0, 'photoediting': 1.0, 'thirdparty': 1.0, 'closed': 1.0, 'programmer': 1.0, 'growth': 2.0, 'avi': 1.0, 'benjamin': 1.0, '17': 1.0, 'multimedia': 3.0, 'march': 1.0, 'cardozo': 1.0, 'notable': 1.0, 'million': 2.0, 'law': 1.0, 'artist': 1.0, 'ito': 1.0, '1979': 1.0, 'cofounded': 2.0, 'hoffman': 1.0, 'popular': 1.0, 'spark': 1.0, 'stepped': 1.0, 'ceo': 2.0, 'raised': 1.0, 'tobias': 1.0, 'monthly': 1.0, 'born': 1.0, 'mobile': 1.0, 'galpert': 1.0, 'venture': 2.0, 'citing': 1.0, 'amazon': 1.0, 'founder': 2.0, 'bezos': 1.0, '2002': 1.0, 'mit': 1.0, 'awardwinning': 1.0, 'media': 1.0, 'director': 1.0, 'joi': 1.0, 'reid': 1.0, 'firm': 1.0, 'stalling': 1.0, 'active': 1.0, 'strategy': 1.0, 'capital': 3.0, 'aviarys': 2.0, 'named': 1.0, 'powering': 1.0, 'lab': 1.0, 'phones': 1.0, 'creative': 2.0, 'enormous': 1.0, '3500': 1.0, 'jeff': 1.0, 'chose': 1.0, 'focus': 1.0}, {'board': 2.0, 'schoolsin': 1.0, 'art': 1.0, 'producer': 1.0, 'made': 1.0, 'edinburgh': 7.0, 'pictures': 1.0, 'secondary': 1.0, 'year': 1.0, 'napiereducated': 1.0, 'industries': 2.0, '2011': 1.0, 'institute': 2.0, 'director': 3.0, 'workshop': 1.0, 'industry': 1.0, 'halfhour': 1.0, 'robin': 1.0, 'stirling': 1.0, 'garthamlock': 1.0, 'documentary': 2.0, 'college': 1.0, 'partnership': 1.0, 'mediafunded': 1.0, 'eu': 1.0, 'school': 1.0, '1959': 1.0, 'academy': 3.0, 'drama': 2.0, 'creative': 5.0, 'university': 4.0, 'screen': 4.0, 'born': 2.0, 'films': 1.0, 'glasgow': 2.0, '2010': 1.0, 'scotland': 4.0, 'company': 1.0, 'joined': 2.0, 'macpherson': 1.0, 'affairs': 1.0, 'entered': 1.0, 'napier': 3.0, 'television': 1.0, 'development': 1.0, 'professor': 1.0, 'government': 1.0, 'baftanominated': 1.0, 'april': 1.0, 'irish': 1.0, 'coproducer': 1.0, 'fellini': 1.0, 'film': 4.0, 'current': 1.0, 'including': 1.0, 'scottishbafta': 1.0, 'finnish': 1.0, 'man': 1.0, 'estonian': 1.0, '1989': 1.0, '1997': 1.0, 'established': 1.0, 'trust': 1.0, 'independent': 1.0, 'asylum': 1.0, 'production': 1.0, 'include': 1.0, '2002': 1.0, 'collaboration': 1.0, 'skillset': 1.0, 'nominated': 1.0, 'appointed': 2.0, 'tree': 1.0, 'fellers': 1.0, 'media': 1.0, 'awardwinning': 1.0, 'im': 1.0, 'years': 1.0, 'liarafter': 1.0, 'national': 1.0, 'executive': 1.0, 'scottish': 2.0, '2005': 1.0, 'butterfly': 1.0, '2008': 1.0, 'led': 1.0, 'engage': 1.0}, {'pastel': 1.0, 'recently': 1.0, '3': 1.0, 'ny': 1.0, 'art': 2.0, 'wallkill': 1.0, 'painting': 1.0, 'studying': 1.0, 'performing': 1.0, 'bill': 1.0, 'waldron': 1.0, 'paintings': 1.0, 'mal': 1.0, 'collaborated': 1.0, 'taught': 1.0, 'rutgers': 1.0, 'university': 2.0, 'temple': 1.0, 'bachelors': 1.0, 'dance': 2.0, 'silvanobefore': 1.0, 'silverman': 1.0, 'changed': 1.0, 'marriage': 1.0, 'lovano': 2.0, 'joe': 2.0, 'ensemble': 1.0, 'part': 1.0, 'werner': 2.0, 'frisell': 1.0, 'flute': 1.0, '10th': 1.0, 'kenny': 2.0, 'records': 1.0, 'end': 1.0, 'jsl': 1.0, 'vocal': 1.0, 'cd': 2.0, 'composers': 1.0, 'piano': 2.0, 'sheila': 1.0, 'work': 1.0, 'narrator': 1.0, 'pianist': 1.0, 'womens': 1.0, 'native': 1.0, 'media': 1.0, 'indigo': 1.0, 'trio': 1.0, 'singing': 1.0, 'performs': 1.0, 'shows': 1.0, 'norwegian': 1.0, 'saxophonist': 1.0, 'leader': 1.0, 'city': 1.0, 'wind': 1.0, 'singer': 2.0, 'underrepresented': 1.0, 'moods': 1.0, 'tenor': 1.0, 'scholar': 1.0, '1951': 1.0, 'original': 1.0, 'beginning': 1.0, 'jordan': 1.0, 'born': 1.0, 'degree': 1.0, 'played': 2.0, 'karin': 1.0, 'husband': 1.0, 'lee': 1.0, 'montgomery': 1.0, 'jazz': 3.0, 'jeanne': 1.0, 'trumpet': 1.0, 'krog': 1.0, 'silvano': 5.0, 'judi': 1.0, 'jazzed': 1.0, 'women': 1.0, 'style': 1.0, 'composer': 3.0, 'united': 1.0, 'philadelphia': 2.0, 'collegesshe': 1.0, 'wrote': 2.0, 'states': 1.0, 'bears': 1.0, 'similarity': 1.0, 'featured': 1.0, 'collection': 1.0, 'college': 1.0, 'dobbins': 1.0, 'standards': 1.0, 'voice': 2.0, 'recording': 1.0, 'watercolor': 1.0, 'vibes': 1.0, 'compositions': 1.0, 'songbook': 1.0, 'empathetic': 1.0, 'toured': 1.0, 'music': 3.0, 'researches': 1.0, 'europe': 2.0, 'writes': 1.0, 'great': 1.0, 'lori': 1.0, 'studied': 1.0, 'lyrics': 1.0, 'solo': 1.0, 'attending': 1.0, 'songs': 1.0, 'chamber': 1.0, 'school': 1.0, 'american': 1.0, 'pieces': 1.0, '2011': 1.0, 'stages': 1.0, 'york': 1.0, 'river': 1.0, 'percussion': 2.0, 'sketches': 1.0, 'scored': 1.0}, {'means': 1.0, 'reputation': 1.0, 'accessible': 1.0, 'cultural': 1.0, 'responsibility': 1.0, 'future': 1.0, 'stability': 1.0, 'inequality': 1.0, 'stand': 1.0, 'traditions': 1.0, 'part': 1.0, 'likeverd': 1.0, 'ideal': 1.0, 'chosen': 1.0, 'globally': 3.0, 'award': 1.0, 'awards': 1.0, 'position': 1.0, '2008': 1.0, 'anthology': 1.0, 'articles': 1.0, 'numerous': 1.0, 'chapters': 1.0, 'recommended': 1.0, 'highly': 1.0, 'tutu': 1.0, 'desmond': 1.0, 'foreword': 1.0, '2010': 1.0, 'written': 1.0, 'security': 1.0, 'gender': 1.0, 'emotion': 1.0, '2009': 1.0, '2007': 1.0, 'choice': 2.0, 'high': 1.0, 'journal': 1.0, 'international': 1.0, 'enemies': 1.0, 'making': 1.0, 'des': 1.0, 'maison': 1.0, 'ac4': 1.0, 'rooted': 1.0, 'complexity': 1.0, 'conflict': 3.0, 'cooperation': 1.0, 'consortium': 1.0, 'universitys': 1.0, 'columbia': 1.0, 'dissertation': 1.0, 'affiliated': 3.0, '1997': 2.0, 'modern': 1.0, '1984': 2.0, 'graduated': 1.0, 'advanced': 1.0, 'norway': 7.0, 'heritage': 2.0, 'research': 4.0, 'core': 1.0, 'oslo': 2.0, 'doctorate': 2.0, '2001': 3.0, '2003': 1.0, 'background': 1.0, 'confirmed': 1.0, 'west': 2.0, '4': 1.0, 'impact': 1.0, 'academic': 1.0, 'familys': 1.0, 'languages': 1.0, 'cultures': 1.0, 'global': 3.0, 'middle': 1.0, 'deeply': 1.0, 'fluently': 1.0, 'doctoral': 1.0, 'practitioners': 1.0, 'practice': 1.0, 'level': 1.0, 'academics': 1.0, 'germany': 3.0, 'psychol': 1.0, '3': 2.0, 'published': 2.0, 'france': 1.0, 'fellowship': 1.0, 'studies': 1.0, 'president': 1.0, 'silesia': 1.0, 'founding': 1.0, 'studied': 2.0, 'rwanda': 1.0, 'doctorates': 1.0, 'points': 1.0, 'danish': 1.0, 'humanities': 1.0, 'hamburg': 4.0, 'base': 1.0, 'scholar': 1.0, 'belgium': 1.0, 'asia': 1.0, 'genocides': 1.0, 'east': 1.0, 'humiliationher': 1.0, 'decent': 1.0, '2009lindner': 1.0, 'holds': 1.0, 'election': 1.0, 'culture': 1.0, 'transcend': 1.0, 'locally': 2.0, 'speaks': 1.0, 'testament': 1.0, 'promote': 1.0, 'peace': 2.0, 'lhomme': 1.0, 'spends': 1.0, 'parliament': 1.0, '13': 1.0, 'enjoys': 1.0, 'years': 3.0, 'greater': 1.0, 'hameln': 1.0, 'transdisciplinary': 2.0, '1994': 2.0, 'frankfurt': 1.0, 'med': 1.0, 'australia': 1.0, 'experiences': 1.0, 'wrote': 1.0, 'traumatic': 1.0, 'psychological': 1.0, 'medicine': 3.0, 'evelin': 1.0, 'japan': 1.0, 'hebrewsince': 1.0, 'focuses': 1.0, '1978': 1.0, 'workin': 1.0, 'obtained': 1.0, 'marriage': 1.0, 'human': 3.0, 'hierarchical': 1.0, 'believes': 3.0, 'unique': 1.0, 'dignity': 8.0, 'historical': 1.0, 'dr': 2.0, 'founded': 1.0, 'understanding': 1.0, 'somalia': 1.0, 'german': 1.0, 'humiliation': 4.0, 'honor': 1.0, 'formed': 1.0, 'obstacles': 1.0, 'displaced': 1.0, 'individual': 1.0, 'received': 1.0, 'cairo': 2.0, 'parents': 1.0, 'hagtvets': 1.0, 'candidate': 1.0, 'gerda': 1.0, 'strongest': 1.0, 'university': 7.0, 'concerned': 1.0, 'community': 2.0, 'honored': 1.0, '1977': 1.0, 'born': 1.0, 'sinology': 1.0, 'norwegian': 7.0, 'advocates': 1.0, 'philosopher': 1.0, 'bernt': 1.0, 'goetheuniversitt': 1.0, 'chinese': 1.0, 'main': 2.0, 'book': 5.0, 'usa': 2.0, 'philosophy': 1.0, 'participated': 1.0, 'counselor': 1.0, 'europe': 1.0, 'social': 2.0, 'heidelberg': 1.0, 'egypt': 1.0, 'ethics': 1.0, 'programme': 1.0, 'equality': 5.0, 'de': 1.0, 'dagfinn': 1.0, 'thailand': 1.0, 'fllesdalsince': 1.0, 'grew': 1.0, '1991': 1.0, '1954': 1.0, 'lived': 2.0, 'arabic': 1.0, 'worked': 1.0, 'title': 1.0, 'clinical': 1.0, 'message': 2.0, 'psychologist': 1.0, 'health': 1.0, 'black': 1.0, 'importance': 1.0, 'law': 1.0, 'important': 3.0, 'american': 1.0, 'lindner': 3.0, 'china': 1.0, 'humandhs': 1.0, 'zealand': 1.0, 'africa': 2.0, 'burundi': 1.0, 'sciences': 2.0, 'familiar': 1.0, 'make': 1.0, 'switzerland': 1.0, 'prisoners': 1.0, 'ngo': 1.0, '1946': 1.0, 'organized': 1.0, 'outstanding': 1.0, 'councils': 1.0, 'english': 1.0, 'festival': 1.0, 'psychology': 3.0, 'time': 2.0, 'european': 1.0, '1994she': 1.0, 'french': 1.0, 'rights': 1.0, 'egyptian': 1.0, 'paris': 1.0, 'number': 1.0, 'swedish': 1.0, 'world': 2.0, 'japanese': 1.0, 'sustainable': 1.0, 'york': 1.0, 'kenya': 1.0, 'dutch': 1.0, '1993': 1.0, 'portuguese': 1.0, 'russian': 1.0, 'indonesian': 1.0}, {'computing': 1.0, 'entitled': 1.0, 'regular': 1.0, 'wrote': 1.0, 'beginning': 1.0, 'developing': 1.0, 'klein': 1.0, 'klaus': 1.0, 'column': 1.0, 'collaborated': 1.0, 'cologne': 1.0, 'spent': 1.0, 'pcbased': 1.0, 'summers': 1.0, 'taught': 1.0, 'personal': 1.0, 'potential': 1.0, 'explored': 1.0, 'bs': 1.0, 'emphasizes': 1.0, 'suny': 2.0, 'houston': 1.0, 'served': 1.0, 'york': 1.0, 'years': 3.0, 'evaluator': 1.0, 'commercially': 1.0, 'interactive': 1.0, 'returned': 2.0, '1969': 1.0, 'state': 1.0, 'biology': 1.0, '1967': 1.0, 'knowledge': 1.0, 'community': 3.0, 'doctorate': 1.0, 'retardation': 1.0, '1980': 3.0, 'ms': 1.0, 'abledata': 1.0, 'science': 2.0, 'including': 1.0, 'tenure': 1.0, 'associate': 2.0, '1976': 2.0, 'offering': 1.0, 'earning': 1.0, '2002': 1.0, 'maryland': 5.0, 'university': 11.0, 'assistant': 1.0, 'public': 6.0, 'brockports': 1.0, '2005': 1.0, 'school': 5.0, 'serve': 1.0, 'brockport': 2.0, 'articles': 1.0, 'seventy': 1.0, '1983': 1.0, 'parkhe': 1.0, 'education': 12.0, 'drph': 1.0, 'cancer': 1.0, 'healthquest': 1.0, 'textbooks': 1.0, '1986': 1.0, 'advanced': 1.0, 'educationhealth': 1.0, 'publications': 1.0, 'gold': 8.0, 'duncan': 3.0, 'software': 3.0, '19701974': 1.0, 'specialization': 1.0, 'researcher': 1.0, 'technology': 2.0, 'instructor': 1.0, 'works': 1.0, 'include': 1.0, 'heavily': 1.0, 'phd': 2.0, 'orange': 1.0, 'texas': 2.0, 'leave': 1.0, 'systems': 1.0, 'pieces': 1.0, 'oregon': 1.0, 'application': 2.0, 'robert': 1.0, 'dean': 2.0, 'research': 3.0, 'illinois': 2.0, 'practice': 1.0, 'informatics': 1.0, 'evaluation': 2.0, 'published': 2.0, 'dozens': 1.0, 'support': 1.0, 'fulltime': 1.0, 'organizations': 1.0, 'society': 1.0, 'earned': 3.0, 'college': 5.0, 'absence': 1.0, 'expert': 1.0, 'county': 1.0, 'partnered': 1.0, '1978': 1.0, 'services': 1.0, '1999': 1.0, 'completing': 1.0, 'multimediabased': 1.0, 'degree': 1.0, 'working': 1.0, 'joined': 3.0, 'mental': 2.0, 'promotion': 2.0, 'faculty': 3.0, 'southern': 2.0, 'siuc': 3.0, 'human': 2.0, 'management': 1.0, 'invited': 1.0, 'received': 1.0, 'health': 28.0, '1989': 1.0, '1984': 1.0, 'position': 1.0, 'initiative': 1.0, 'park': 2.0, '1988': 1.0, 'world': 1.0, 'organization': 1.0, 'reestablish': 1.0, 'technologies': 1.0, 'july': 1.0, 'whos': 1.0, 'department': 5.0, 'division': 1.0, '1990': 1.0, 'time': 1.0, 'began': 1.0, 'educational': 1.0, 'dividing': 1.0, 'macro': 1.0, 'international': 1.0, 'defense': 1.0, '1994': 1.0, 'chair': 1.0, 'american': 1.0, 'computer': 2.0, 'umds': 1.0, 'vice': 1.0, 'professor': 4.0, 'performance': 1.0, 'lab': 2.0, 'prior': 1.0, 'umd': 1.0, 'carbondale': 1.0, 'director': 3.0, 'training': 1.0, 'applications': 2.0, 'ranging': 1.0, 'video': 1.0, 'journal': 1.0, 'decision': 1.0, 'david': 1.0, 'computers': 4.0, 'papers': 1.0, 'president': 1.0}, {'1992': 1.0, 'film': 1.0, 'starred': 1.0, 'stuardashe': 1.0, 'donizetti': 1.0, 'montecchi': 1.0, 'capuleti': 1.0, 'don': 1.0, 'del': 1.0, 'forza': 1.0, 'verdi': 1.0, 'samson': 1.0, 'saintsans': 1.0, 'cavalleria': 1.0, 'mascagni': 1.0, 'cenerentola': 1.0, 'siviglia': 1.0, 'di': 1.0, 'rossini': 1.0, 'tutte': 1.0, 'fan': 1.0, 'notably': 1.0, 'works': 1.0, 'il': 3.0, 'destino': 1.0, 'octavian': 1.0, 'callas': 1.0, 'travelled': 1.0, 'karajan': 1.0, '1965': 1.0, 'salzburg': 1.0, 'frankfurt': 1.0, 'munich': 1.0, '1958': 1.0, 'leading': 1.0, '1968': 1.0, 'marriage': 1.0, 'duett': 1.0, 'november': 1.0, 'semiramide': 1.0, 'born': 2.0, 'cos': 1.0, 'moving': 1.0, 'singer': 1.0, 'opera': 5.0, '19': 1.0, '1944': 1.0, 'barbiere': 1.0, '1970': 1.0, 'age': 1.0, 'regular': 1.0, 'graduated': 1.0, 'national': 1.0, 'mezzosopranobaltsa': 1.0, 'carlos': 1.0, 'appearance': 1.0, 'austrian': 1.0, 'began': 1.0, 'trovatore': 1.0, 'athens': 1.0, 'algeri': 1.0, 'continue': 1.0, 'greek': 3.0, 'lefkada': 1.0, 'piano': 1.0, 'times': 1.0, 'concentrate': 1.0, 'playing': 2.0, 'cherubino': 1.0, 'aida': 1.0, 'scholarship': 1.0, 'figaro': 1.0, 'der': 1.0, 'mozart': 1.0, 'agnes': 1.0, 'rosenkavalier': 1.0, 'studying': 1.0, 'state': 2.0, 'guidance': 1.0, 'kammersngerin': 1.0, 'herbert': 1.0, 'rusticana': 1.0, 'von': 1.0, 'prestigious': 1.0, 'festival': 1.0, 'campanello': 1.0, '1980her': 1.0, 'la': 2.0, 'dalila': 1.0, 'vienna': 2.0, 'performance': 1.0, 'carmen': 1.0, 'georges': 1.0, 'bizet': 1.0, 'made': 1.0, 'sung': 2.0, 'conservatoire': 1.0, 'number': 1.0, 'litaliana': 1.0, 'singing': 1.0, 'baltsa': 2.0, 'jos': 1.0, 'bellini': 1.0, 'maria': 2.0, 'carreras': 1.0}, {'shortlist': 1.0, 'final': 1.0, 'language': 1.0, 'foreign': 1.0, '83rd': 1.0, 'croatias': 1.0, 'national': 1.0, 'arena': 1.0, 'golden': 1.0, 'independence': 1.0, 'ceasefire': 1.0, 'unit': 1.0, 'army': 1.0, 'festival': 1.0, 'pula': 1.0, 'blacks': 1.0, 'failed': 1.0, 'popular': 1.0, 'studying': 1.0, '1982': 1.0, 'zvonimir': 1.0, 'tesla': 1.0, 'deals': 1.0, '2009': 2.0, 'number': 1.0, 'zagreb': 2.0, 'refuse': 1.0, 'produced': 1.0, 'won': 1.0, 'hometown': 1.0, 'nikola': 1.0, 'fictional': 1.0, 'nepokoreni': 1.0, '199192': 1.0, 'cowritten': 1.0, 'submission': 1.0, 'drama': 1.0, 'university': 1.0, 'award': 1.0, 'titled': 1.0, 'series': 4.0, 'directed': 1.0, 'croatian': 4.0, 'angeles': 1.0, 'short': 1.0, 'war': 2.0, 'tv': 2.0, 'primary': 1.0, 'awards': 2.0, '1971': 1.0, '1980s': 1.0, 'screenwriterborn': 1.0, 'finished': 1.0, 'minor': 1.0, 'director': 2.0, 'appeared': 1.0, '4': 1.0, 'feature': 1.0, 'june': 1.0, 'smogovci': 1.0, 'born': 1.0, 'semester': 1.0, 'juri': 5.0, 'education': 1.0, 'arms': 1.0, 'grad': 1.0, 'directing': 2.0, 'film': 9.0, 'critically': 1.0, 'spent': 1.0, '1977': 1.0, 'loyola': 1.0, 'psychological': 1.0, 'biographical': 1.0, '10part': 1.0, 'teenager': 1.0, 'secondary': 1.0, 'childrens': 1.0, '1982after': 1.0, 'make': 1.0, 'graduating': 1.0, 'partisan': 1.0, 'academy': 4.0, 'high': 1.0, 'school': 1.0, 'selected': 1.0, 'los': 1.0, '1992': 1.0, 'returned': 1.0, 'films': 1.0, 'croatia': 1.0, 'department': 1.0, 'dramatic': 1.0, 'goran': 1.0, 'lay': 1.0, 'osijek': 1.0, 'art': 1.0, 'roles': 1.0, 'student': 1.0, 'documentarieshis': 1.0, 'directorial': 1.0, 'enrolled': 1.0, 'debut': 1.0, 'codirected': 1.0, 'marymount': 1.0, 'devi': 2.0, 'acclaimed': 1.0}, {'yushchenko': 1.0, 'presidency': 1.0, 'stepan': 1.0, 'shukhevych': 1.0, 'heroes': 1.0, 'nationalistic': 1.0, 'glorification': 1.0, 'official': 1.0, 'opposed': 1.0, 'role': 1.0, 'played': 1.0, 'nationalists': 1.0, 'genocide': 1.0, 'interpretation': 1.0, 'roman': 1.0, 'challenged': 1.0, 'america': 1.0, 'north': 1.0, 'diaspora': 1.0, 'debates': 1.0, 'heated': 1.0, 'increasing': 1.0, 'subject': 1.0, 'historical': 1.0, 'calls': 1.0, 'ukraine': 4.0, 'nationalism': 1.0, 'holocaust': 2.0, 'slavs': 1.0, 'eastern': 1.0, 'habsburg': 1.0, 'nationalist': 1.0, 'church': 1.0, 'focused': 1.0, 'connecticut': 1.0, 'stamford': 1.0, 'received': 1.0, 'st': 1.0, '2014in': 1.0, 'studied': 1.0, 'greek': 2.0, 'basil': 1.0, 'iconography': 1.0, 'italian': 1.0, 'catholic': 2.0, '1970s80s': 1.0, 'wanted': 1.0, 'born': 1.0, 'due': 1.0, 'ethnic': 1.0, 'pursue': 1.0, 'seminary': 1.0, 'vocationhimka': 1.0, 'mixed': 1.0, 'sacred': 1.0, 'canadian': 1.0, 'edmonton': 1.0, 'priest': 1.0, 'contention': 1.0, 'side': 1.0, 'initially': 1.0, 'michigan': 2.0, 'historian': 2.0, 'view': 1.0, '18': 1.0, 'polish': 1.0, 'fathers': 1.0, 'academic': 1.0, '1960s': 1.0, 'culture': 1.0, 'ba': 1.0, 'mothers': 1.0, 'phd': 2.0, '1949': 1.0, 'ukrainian': 5.0, 'johnpaul': 1.0, 'retired': 2.0, '1971': 1.0, 'background': 1.0, 'viktor': 1.0, 'history': 5.0, '1990s': 2.0, 'holodomor': 1.0, 'socialism': 2.0, 'myths': 1.0, 'university': 4.0, 'himka': 4.0, 'radicalization': 1.0, 'political': 1.0, 'influenced': 1.0, 'dissertation': 1.0, 'views': 1.0, 'left': 1.0, 'end': 1.0, 'alberta': 2.0, 'classics': 1.0, 'byzantineslavonic': 1.0, 'studies': 1.0, '1977': 2.0, 'title': 1.0, 'detroit': 1.0, 'austria': 1.0, '18671890': 1.0, 'marxist': 1.0, 'bandera': 1.0, 'taught': 1.0, 'postmodernism': 1.0, '2012': 1.0, 'defined': 1.0, '1992': 1.0, 'galicia': 1.0, 'professor': 2.0, 'methodology': 1.0, 'eclecticsince': 1.0, 'department': 1.0, 'full': 1.0, 'late': 1.0, 'interests': 1.0}, {'upheld': 1.0, 'colleagues': 1.0, 'barak': 1.0, 'aharon': 1.0, 'allowed': 1.0, 'compensation': 2.0, 'highest': 1.0, 'awarded': 1.0, 'court': 1.0, 'dalia': 1.0, 'judge': 2.0, 'hundred': 2.0, 'sense': 1.0, 'unique': 1.0, 'text': 1.0, 'reconstructed': 1.0, 'copyright': 1.0, 'dorner': 1.0, 'document': 1.0, 'law': 1.0, 'years': 1.0, 'material': 1.0, 'edition': 1.0, 'permission': 1.0, 'facsimile': 1.0, '1992': 1.0, 'included': 1.0, '1993': 1.0, 'titleqimron': 1.0, 'reconstructions': 2.0, 'decided': 2.0, 'shanks': 2.0, 'caseshershel': 1.0, 'impossible': 1.0, 'qimrons': 1.0, 'society': 2.0, 'access': 1.0, 'grounds': 1.0, 'original': 1.0, 'twovolume': 1.0, 'attitude': 1.0, 'eleven': 1.0, 'proprietary': 1.0, 'archaeology': 2.0, 'sea': 5.0, '1980s': 1.0, 'difficult': 1.0, 'team': 3.0, '1976': 1.0, 'qumranin': 1.0, 'international': 1.0, 'publishing': 1.0, 'scholars': 3.0, '40': 1.0, 'israel': 1.0, 'negev': 1.0, 'teamduring': 1.0, 'research': 1.0, 'bengurion': 1.0, 'made': 3.0, 'frustrated': 1.0, 'hebrew': 4.0, 'appeal': 1.0, 'intellectual': 1.0, 'ancient': 1.0, 'department': 1.0, 'generally': 1.0, 'elisha': 1.0, 'researchers': 2.0, 'found': 1.0, 'writing': 1.0, 'eventually': 1.0, 'biblical': 2.0, 'decades': 1.0, 'completed': 1.0, '4qmmt': 2.0, 'academic': 1.0, 'longoverdue': 1.0, 'study': 1.0, 'hershel': 1.0, 'editorinchief': 1.0, '1994': 1.0, 'professor': 1.0, 'university': 2.0, 'aggravation': 1.0, 'dissertation': 1.0, 'cave': 1.0, '1970s': 1.0, '2000': 1.0, 'phd': 1.0, '4': 1.0, 'verdict': 1.0, '1979': 1.0, '1959': 1.0, 'favor': 1.0, 'reconstruction': 1.0, 'scrolls': 7.0, 'coopted': 1.0, 'jerusalem': 1.0, 'property': 1.0, 'bas': 1.0, 'john': 1.0, 'strugnell': 2.0, 'supreme': 1.0, 'assist': 1.0, 'texts': 2.0, 'publication': 1.0, 'scholar': 1.0, 'front': 1.0, 'complained': 1.0, 'completing': 1.0, 'strugnells': 1.0, 'work': 2.0, 'breaching': 1.0, 'halakhic': 2.0, 'letter': 2.0, 'sue': 1.0, 'fragments': 1.0, 'published': 4.0, 'working': 4.0, 'israeli': 2.0, 'felt': 1.0, 'photographs': 1.0, 'dead': 5.0, 'qimron': 6.0, 'late': 1.0, 'early': 1.0, 'language': 1.0, 'delay': 1.0, 'translated': 1.0}, {'awardwinning': 1.0, 'completed': 1.0, 'surfaced': 1.0, 'museums': 1.0, 'fulbright': 1.0, 'lectured': 1.0, 'taught': 1.0, 'fellow': 1.0, 'degrees': 1.0, 'trunks': 1.0, 'united': 1.0, 'cambridge': 1.0, 'damaged': 1.0, 'permitted': 1.0, 'educated': 1.0, 'american': 3.0, 'scottishcanadian': 1.0, 'leading': 1.0, 'connecticut': 1.0, 'foundationdr': 1.0, 'born': 1.0, 'hartford': 3.0, 'hitchcock': 1.0, 'boston': 1.0, 'alice': 1.0, 'berkeley': 1.0, 'highest': 1.0, 'architecture': 2.0, 'british': 3.0, 'prize': 1.0, '1969': 1.0, 'irvings': 1.0, 'conducting': 1.0, 'kennedy': 1.0, 'dr': 2.0, 'shipped': 1.0, 'herbert': 1.0, 'news': 1.0, 'day': 1.0, 'practitioners': 1.0, 'preparation': 1.0, 'discovered': 2.0, 'acres': 1.0, 'contents': 1.0, 'trinity': 1.0, 'article': 2.0, 'history': 4.0, 'art': 2.0, 'grant': 1.0, 'robert': 1.0, 'author': 1.0, 'including': 1.0, 'specializing': 1.0, 'photography': 1.0, 'societies': 1.0, 'lecturer': 1.0, 'filed': 1.0, 'book': 4.0, 'press': 3.0, 'universities': 1.0, 'parents': 1.0, 'oppenheimer': 1.0, 'indian': 3.0, 'grandest': 1.0, 'humanities': 2.0, '15000': 1.0, 'holds': 1.0, 'luggage': 1.0, 'kings': 1.0, 'awarddr': 1.0, 'architectural': 2.0, 'india': 3.0, 'principal': 1.0, 'summer': 2.0, 'virginia': 1.0, 'trust': 1.0, 'unclaimed': 1.0, 'college': 4.0, '1911': 1.0, 'baker': 2.0, 'warehouse': 1.0, 'sir': 2.0, '1931': 1.0, 'yale': 6.0, 'university': 4.0, 'empire': 2.0, '1982': 1.0, 'creation': 1.0, 'phd': 1.0, '60': 1.0, 'davis': 1.0, 'oxford': 2.0, '196869': 1.0, 'grants': 1.0, 'undertaking': 1.0, 'britain': 2.0, 'lutyens': 2.0, 'foundation': 1.0, 'john': 2.0, 'delhi': 3.0, '16': 1.0, 'architects': 1.0, 'successful': 1.0, 'wesleyan': 1.0, 'honor': 1.0, 'exposure': 1.0, 'won': 1.0, 'research': 5.0, 'national': 2.0, 'stated': 2.0, 'balliol': 1.0, 'continents': 1.0, 'held': 1.0, 'scholarship': 1.0, 'lifetime': 1.0, 'irving': 8.0, 'africa': 1.0, 'states': 1.0, 'fellowships': 1.0, 'historians': 1.0, 'woodrow': 1.0, 'wilson': 1.0, 'story': 1.0, 'studies': 2.0, 'fellowship': 1.0, 'society': 1.0, 'accrued': 1.0, 'institute': 1.0, 'learned': 1.0, 'ernest': 1.0, 'memorial': 2.0, 'basis': 1.0, 'imperial': 1.0, 'endowment': 1.0, 'council': 2.0, 'guggenheim': 1.0, 'advocate': 1.0, 'preservationduring': 1.0, 'activist': 1.0, 'dissertation': 2.0, 'mr': 4.0, 'material': 1.0, 'edwin': 1.0, 'return': 2.0, 'pan': 1.0, 'world': 1.0, 'lawsuit': 1.0, 'airways': 1.0, 'entire': 1.0, '1981': 1.0, 'lost': 1.0, 'airline': 1.0, 'visit': 1.0, 'weather': 1.0, 'airport': 2.0, 'yearsthe': 1.0, 'search': 1.0, 'locate': 1.0, 'simon': 1.0, 'trunk': 2.0, 'late': 1.0, 'useless': 1.0, '35000': 1.0, 'order': 1.0, 'recoup': 1.0, 'expenses': 1.0, 'redo': 1.0, 'historic': 1.0}, {'pynacker': 1.0, 'seventeenthcentury': 1.0, 'similarities': 1.0, 'dutch': 1.0, 'generated': 1.0, 'controversy': 1.0, 'win': 1.0, 'brett': 1.0, 'dobell': 1.0, 'landscaped': 1.0, 'proposal': 1.0, 'wynne': 2.0, 'won': 2.0, 'queensland': 3.0, 'goth': 1.0, 'prizes': 1.0, 'rmit': 1.0, 'master': 1.0, 'tax': 1.0, 'south': 1.0, 'optimism': 1.0, 'geelong': 1.0, 'resides': 1.0, 'completion': 1.0, 'project': 1.0, 'cosmos': 1.0, 'prize': 4.0, 'newcastle': 1.0, 'contemporary': 1.0, 'portrait': 2.0, 'melbourneleachs': 1.0, 'bachelor': 1.0, 'shows': 1.0, 'australian': 2.0, 'leach': 4.0, 'worked': 1.0, 'work': 3.0, '1973': 1.0, 'neo': 1.0, 'artist': 3.0, 'due': 1.0, 'born': 2.0, 'australia': 1.0, 'musical': 1.0, 'emerging': 1.0, 'sam': 1.0, 'diploma': 1.0, 'harbour': 1.0, 'gippsland': 1.0, 'art': 8.0, 'adam': 1.0, 'completed': 1.0, 'victoria': 1.0, 'melbourne': 1.0, 'years': 1.0, '2010': 2.0, 'acknowledged': 1.0, 'noteworthy': 1.0, 'adelaide': 1.0, 'landscape': 2.0, 'horror': 1.0, 'degree': 3.0, 'australias': 1.0, 'award': 1.0, 'office': 1.0, 'year': 2.0, 'exhibited': 1.0, 'macquarie': 1.0, 'including': 1.0, 'museum': 3.0, 'gallery': 3.0, 'university': 4.0, 'fine': 2.0, 'coffs': 1.0, '2008': 1.0, '2009': 1.0, 'shilo': 1.0, 'william': 1.0, 'ian': 1.0, 'minchin': 1.0, 'economics': 1.0, 'potter': 1.0, 'regional': 2.0, 'whiteley': 1.0, 'hawkesbury': 1.0, 'public': 1.0, 'collections': 2.0, 'gold': 1.0, 'galleries': 1.0, 'coast': 1.0, 'latrobe': 1.0, 'held': 1.0, 'comedian': 1.0, 'tim': 1.0, 'darkness': 1.0, 'archibald': 2.0}, {'account': 1.0, 'junction': 1.0, 'authored': 1.0, 'expeditionscrowther': 1.0, 'connection': 1.0, 'divorced': 1.0, 'laura': 1.0, 'daughters': 1.0, 'couple': 1.0, 'william': 1.0, 'married': 2.0, 'met': 1.0, 'mit': 1.0, 'physics': 1.0, 'degree': 1.0, 'bs': 1.0, 'connectioncrowther': 1.0, 'historic': 1.0, 'surveyed': 1.0, 'expedition': 1.0, '1972': 1.0, '9': 1.0, '115': 1.0, 'worked': 1.0, 'slight': 1.0, 'traversal': 1.0, 'underlying': 1.0, 'american': 1.0, 'wellknown': 1.0, '1970s': 1.0, '1976': 1.0, 'wilcox': 2.0, 'earned': 1.0, 'final': 1.0, 'attempted': 1.0, 'passages': 1.0, 'programmercrowther': 1.0, 'early': 1.0, '1960s': 1.0, 'active': 1.0, '1943': 1.0, 'born': 1.0, 'explorer': 2.0, 'weighed': 1.0, 'part': 1.0, 'extreme': 1.0, 'john': 1.0, 'article': 1.0, 'pat': 1.0, 'discovered': 1.0, 'led': 2.0, 'kentucky': 2.0, 'grand': 1.0, 'pounds': 1.0, 'houchins': 1.0, 'wiccan': 1.0, 'surveyor': 1.0, 'thenhusband': 1.0, 'caves': 1.0, 'computer': 1.0, 'connecting': 1.0, 'attempt': 1.0, 'frame': 1.0, 'crowther': 5.0, 'systems': 1.0, 'unable': 1.0, 'patricia': 3.0, 'unwilling': 1.0, 'note': 1.0, 'dedication': 1.0, 'pursue': 1.0, 'valley': 1.0, 'juncture': 1.0, 'traits': 1.0, 'promising': 1.0, 'sandy': 1.0, 'participated': 1.0, 'september': 1.0, 'narrow': 1.0, 'system': 2.0, 'canyon': 1.0, 'wiccanpatricia': 1.0, 'tight': 2.0, 'cave': 8.0, 'spot': 2.0, 'portion': 1.0, 'flint': 3.0, 'expeditions': 2.0, 'ridge': 3.0, 'undertaken': 1.0, 'critical': 1.0, '1977': 1.0, 'proved': 1.0, 'leads': 1.0, 'leading': 1.0, 'mammoth': 2.0, 'cavers': 2.0, 'connect': 2.0}, {'series': 1.0, 'americas': 1.0, 'physicist': 1.0, 'female': 1.0, 'role': 1.0, 'announced': 1.0, '2014': 1.0, 'february': 1.0, 'wgn': 1.0, '2013in': 1.0, 'leeuw': 1.0, 'composer': 1.0, 'mai': 1.0, 'reinbert': 1.0, 'wunderschnen': 1.0, 'im': 1.0, 'piece': 1.0, 'young': 1.0, 'moor': 1.0, 'won': 1.0, '2013': 1.0, 'lives': 1.0, 'upherbers': 1.0, 'english': 1.0, 'au': 1.0, 'theaterschool': 1.0, 'growing': 1.0, 'los': 1.0, 'violinist': 1.0, 'hague': 1.0, 'stopped': 1.0, 'german': 2.0, 'fate': 1.0, 'actress': 1.0, 'ignatius': 1.0, 'manhattan': 1.0, 'pronunciation': 1.0, 'canadian': 1.0, 'born': 2.0, 'played': 1.0, 'play': 1.0, 'rbrs': 1.0, 'speak': 1.0, 'guido': 1.0, 'mira': 2.0, 'katja': 1.0, 'kammerspiele': 1.0, '19': 2.0, 'dutch': 4.0, '2003': 1.0, '1980': 2.0, 'theatre': 3.0, 'conductor': 2.0, 'beths': 1.0, 'monat': 1.0, 'city': 1.0, 'televisionherbers': 1.0, 'film': 1.0, 'amsterdam': 5.0, 'pianist': 1.0, '1993': 1.0, '1999': 1.0, 'drama': 1.0, 'learned': 1.0, 'studied': 2.0, 'performed': 1.0, 'psychology': 1.0, 'university': 1.0, '19992000': 1.0, 'gymnasium': 1.0, 'munich': 3.0, 'year': 1.0, 'oboist': 1.0, 'studies': 2.0, 'attended': 1.0, 'october': 2.0, 'local': 1.0, 'daughter': 1.0, 'school': 1.0, '20012005during': 1.0, 'werner': 1.0, 'netherlands': 1.0, 'graduation': 1.0, 'pair': 1.0, 'de': 3.0, 'herbers': 3.0, 'trap': 1.0, '2002': 1.0, 'hb': 1.0, 'alamos': 1.0, 'vera': 1.0, 'york': 1.0, 'studio': 1.0, 'bell': 1.0, 'talentshe': 1.0, 'ktja': 1.0, '20002001': 1.0, 'films': 1.0, 'peter': 1.0, 'award': 1.0, 'brush': 1.0, 'ntgent': 1.0, 'ghent': 1.0, 'het': 1.0, 'member': 2.0, 'nationale': 1.0, 'toneel': 1.0}, {'university': 1.0, 'goalkeeping': 1.0, 'briefly': 1.0, 'matches': 1.0, 'liga': 1.0, 'mexican': 1.0, 'serie': 1.0, 'eredivisie': 1.0, 'espn': 1.0, 'service': 1.0, 'broadcasting': 1.0, 'news': 1.0, '2006he': 1.0, 'world': 1.0, 'countrys': 1.0, 'starred': 1.0, 'returned': 1.0, 'years': 1.0, 'dispute': 1.0, 'kevin': 1.0, 'coach': 1.0, 'appearance': 1.0, 'reading': 1.0, 'promotion': 1.0, 'england': 3.0, 'football': 2.0, 'losing': 1.0, 'bench': 1.0, 'goalkeeper': 1.0, 'played': 3.0, 'spent': 1.0, 'full': 1.0, 'united': 2.0, '22': 1.0, 'receiving': 1.0, 'keegans': 1.0, 'cm': 1.0, 'regularly': 1.0, 'part': 1.0, 'season': 1.0, 'ruled': 1.0, 'eligible': 1.0, 'sports': 1.0, 'tenure': 1.0, 'finished': 1.0, 'shaka': 1.0, 'worked': 1.0, 'successive': 1.0, 'league': 1.0, 'term': 1.0, 'playoffs': 1.0, 'hislop': 1.0, 'national': 1.0, 'commentary': 1.0, 'international': 1.0, 'newcastle': 1.0, 'chile': 1.0, 'neil': 1.0, 'career': 1.0, '200203he': 1.0, 'seasons': 1.0, 'team': 4.0, 'top': 1.0, 'quinnipiac': 1.0, 'division': 3.0, 'mx': 1.0, 'working': 1.0, 'portsmouth': 1.0, 'contention': 1.0, 'side': 1.0, '1st': 2.0, 'finishing': 1.0, 'fa': 1.0, 'slot': 1.0, 'ham': 1.0, 'separate': 1.0, 'occasions': 1.0, 'west': 1.0, 'premier': 1.0, 'cup': 2.0, 'born': 1.0, 'runnerup': 1.0, 'february': 1.0, 'medal': 1.0, '1969': 1.0, 'won': 1.0, 'opted': 1.0, '2006': 1.0, 'play': 3.0, 'majority': 1.0, 'trinidad': 2.0, 'tobago': 2.0, 'initially': 1.0, 'automatic': 1.0, 'u21': 1.0, 'end': 1.0}, {'soundtrack': 1.0, 'frizzell': 1.0, 'stravinsky': 1.0, 'cites': 1.0, 'soulhe': 1.0, 'floor': 1.0, 'demand': 1.0, 'chapter': 1.0, 'productions': 1.0, 'circle': 1.0, 'full': 1.0, 'long': 1.0, 'sought': 2.0, 'fantastic': 1.0, 'heights': 1.0, 'player': 1.0, 'great': 1.0, 'imprint': 1.0, 'harsh': 1.0, 'due': 1.0, 'label': 2.0, 'close': 1.0, 'records2009': 1.0, 'version': 1.0, 'webster': 1.0, 'filling': 1.0, 'charles': 1.0, 'worldclass': 1.0, 'legend': 1.0, 'teamed': 1.0, 'amazing': 1.0, 'shostakovich': 1.0, 'collaborations': 1.0, 'shoulders': 1.0, 'rubbing': 1.0, 'williams': 1.0, 'projects': 1.0, 'jordan': 1.0, 'replife': 1.0, 'hill': 1.0, 'clara': 1.0, 'vocalists': 1.0, 'spacemartins': 1.0, 'trademark': 3.0, 'flown': 1.0, 'hone': 1.0, 'helps': 1.0, 'diluted': 1.0, 'mould': 1.0, 'breaking': 1.0, 'ideas': 1.0, 'industry': 3.0, 'launch': 1.0, 'years': 1.0, '13': 1.0, 'hold': 1.0, 'nineties': 1.0, 'concentrates': 1.0, 'albums': 1.0, 'scoring': 1.0, 'mantis': 1.0, 'content': 1.0, 'tomb': 2.0, 'omar': 1.0, 'top': 1.0, 'england': 1.0, 'time': 1.0, 'ashes': 1.0, 'early': 2.0, 'realm': 1.0, 'scene': 1.0, 'invite': 1.0, 'soundmartin': 1.0, 'midland': 1.0, 'zed': 1.0, 'cartoons': 1.0, 'mancinis': 1.0, 'company': 4.0, 'raider': 2.0, 'north': 1.0, 'occasions': 1.0, 'job': 1.0, 'iveson': 3.0, 'nu': 1.0, 'atjazz': 7.0, 'famous': 1.0, 'games': 3.0, 'composer': 1.0, 'writes': 1.0, 'print': 1.0, 'uks': 1.0, 'video': 2.0, 'left': 1.0, 'work': 1.0, 'house': 2.0, 'story': 1.0, '1998': 1.0, 'practice': 1.0, 'record': 3.0, 'worlds': 1.0, 'appropriately': 1.0, 'working': 1.0, 'design': 1.0, 'labfunk': 1.0, 'martin': 8.0, 'gamesnot': 1.0, 'releases': 2.0, 'lara': 1.0, 'computer': 1.0, 'works': 2.0, '3rd': 1.0, 'rework': 1.0, 'towns': 1.0, 'dj': 1.0, 'contributions': 1.0, 'audio': 1.0, 'deborah': 1.0, 'development': 1.0, 'sawhney': 1.0, 'misspent': 1.0, 'ranges': 1.0, 'heart': 1.0, 'deep': 1.0, 'bias': 1.0, 'core': 1.0, 'led': 1.0, 'world': 2.0, 'returns': 1.0, 'hiphop': 1.0, 'runs': 1.0, 'series': 1.0, 'jazz': 1.0, 'recordings': 1.0, 'synonymous': 1.0, 'companyfrom': 1.0, 'martins': 2.0, 'croft': 1.0, 'moniker': 1.0, 'sinclar': 1.0, 'fujio': 1.0, 'arrived': 1.0, 'debut': 2.0, 'owns': 1.0, 'darkness': 1.0, 'angel': 1.0, 'musicians': 2.0, 'eastern': 1.0, 'underground': 1.0, 'sound': 2.0, 'reworking': 1.0, 'featured': 1.0, 'emi': 1.0, 'remixing': 4.0, 'skateboarding': 1.0, 'environment': 1.0, 'channel': 1.0, 'john': 2.0, 'frontier': 1.0, 'akatsuka': 1.0, 'musical': 1.0, 'renowned': 1.0, 'aspirations': 1.0, 'henri': 1.0, 'helped': 1.0, 'named': 1.0, 'samethe': 1.0, 'success': 1.0, 'including': 3.0, 'ep': 1.0, '1996': 1.0, 'illustrations': 1.0, 'wellreceived': 1.0, 'inspirational': 1.0, 'producers': 2.0, 'album': 4.0, 'prolific': 1.0, 'artists': 1.0, 'licensed': 1.0, 'production': 2.0, 'japan': 2.0, 'sonykioon': 1.0, 'studio': 2.0, 'youth': 1.0, 'cover': 1.0, 'concentrate': 1.0, 'artwork': 1.0, 'influencers': 1.0, 'music': 4.0, 'career': 1.0, 'animated': 1.0, 'bob': 1.0, 'labresults': 1.0, 'digital': 1.0, 'miso': 1.0, 'class': 1.0, 'producer': 2.0, 'distinct': 1.0, 'songs': 1.0, 'established': 1.0, 'scenemartin': 1.0, 'remixer': 2.0, 'british': 1.0, 'nitin': 1.0, 'mainstream': 1.0, 'jazzanova': 1.0, 'panther': 1.0, 'continuation': 1.0, 'requested': 2.0, 'pink': 1.0, 'records': 1.0, 'heavily': 2.0, 'states': 1.0, 'techniques': 1.0, 'perfect': 1.0, 'forward': 1.0, 'artist': 1.0, 'voice': 1.0, 'pitch': 1.0}, {'women': 1.0, 'sexiest': 1.0, '100': 1.0, '2003': 1.0, 'clown': 1.0, '2002in': 1.0, '2001': 1.0, 'express': 1.0, 'angel': 1.0, 'roles': 1.0, 'loves': 1.0, 'sander': 1.0, 'sanderin': 1.0, 'alongside': 1.0, 'differently': 1.0, 'love': 1.0, '2006': 1.0, 'clinic': 1.0, 'forest': 1.0, 'heaven': 1.0, 'twentyyearold': 1.0, '2005': 2.0, 'rymanher': 1.0, 'angelsin': 1.0, 'wild': 1.0, 'investigators': 1.0, 'scene': 1.0, 'crime': 1.0, 'properlyin': 1.0, 'writers': 1.0, 'fhmgermanys': 1.0, 'allowing': 1.0, 'time': 1.0, 'ice': 1.0, 'free': 1.0, 'erol': 1.0, 'unavailable': 1.0, 'projects': 1.0, 'equivalent': 1.0, 'seebergwhile': 1.0, 'courses': 1.0, 'role': 5.0, 'succeeded': 1.0, '2008': 1.0, 'greenlit': 1.0, 'lexx': 3.0, 'television': 2.0, 'accepted': 1.0, 'payday': 1.0, 'advanced': 1.0, 'actress': 1.0, 'included': 1.0, 'hiatus': 1.0, 'beer': 1.0, 'conflicts': 1.0, 'xenia': 1.0, 'commissioner': 1.0, 'studying': 1.0, 'movie': 1.0, 'character': 1.0, 'german': 4.0, 'ranked': 1.0, 'gap': 1.0, 'drama': 1.0, 'habermann': 1.0, '17': 1.0, 'commit': 1.0, 'appearing': 1.0, '1976': 1.0, 'felicitas': 1.0, 'ard': 1.0, 'leah': 1.0, 'school': 1.0, 'graduation': 1.0, 'pumuckl': 1.0, '1': 1.0, 'fear': 1.0, 'rebecca': 1.0, '16': 1.0, 'series': 6.0, 'orourke': 1.0, 'olivia': 1.0, 'senior': 1.0, 'appeared': 2.0, 'bellringer': 1.0, 'scheduling': 1.0, '1999': 1.0, 'deal': 1.0, 'fire': 1.0, 'played': 3.0, 'zev': 1.0, 'broadcast': 1.0, 'placement': 1.0, 'numerous': 1.0, 'schedule': 1.0, 'monkey': 1.0, 'black': 1.0, 'promises': 1.0, 'tv': 5.0, 'dancing': 1.0, 'cans': 1.0, 'episodes': 2.0, 'ultimately': 2.0, 'playing': 1.0, 'eva': 3.0, 'lessons': 2.0, 'write': 1.0, 'obtained': 1.0, '1997': 1.0, 'diploma': 1.0, 'received': 1.0, 'moderated': 1.0, 'season': 2.0, 'children': 1.0, 'diehlin': 1.0, '19951996while': 1.0, 'films': 1.0, 'seasons': 2.0, '2': 1.0, 'zdf': 1.0, 'roth': 1.0, 'beach': 1.0, 'january': 1.0, 'club': 1.0, 'unable': 1.0, 'high': 1.0, 'rosamunde': 1.0, 'twoyear': 1.0, 'film': 2.0, 'sisters': 1.0, 'born': 1.0, 'rosa': 1.0, 'due': 1.0, 'comedy': 1.0, 'pilcher': 1.0, 'show': 1.0, 'singing': 1.0}, {'table': 1.0, 'top': 1.0, 'fixture': 1.0, 'boxing': 1.0, 'charge': 1.0, 'unitedon': 1.0, 'cambridge': 1.0, 'quinn': 1.0, 'september': 1.0, 'knee': 1.0, 'persistent': 1.0, 'due': 1.0, 'retired': 1.0, 'licence': 1.0, 'wembley': 1.0, 'playoff': 1.0, 'winning': 1.0, 'matches': 1.0, '122': 1.0, 'gained': 1.0, '199798': 1.0, '1995castle': 1.0, '199394': 1.0, '2011': 1.0, 'transferring': 1.0, 'clubs': 1.0, 'alltime': 1.0, 'mccall': 1.0, 'partner': 1.0, 'alongside': 1.0, 'back': 1.0, 'intimate': 1.0, 'foot': 1.0, 'allaction': 1.0, 'boy': 1.0, 'golden': 1.0, 'parks': 1.0, 'super': 1.0, 'dunstable': 1.0, 'favourite': 1.0, 'stevie': 1.0, 'advice': 1.0, 'denis': 1.0, 'relegation': 1.0, 'relationship': 1.0, 'uefa': 1.0, 'birmingham': 2.0, 'seeking': 1.0, 'gould': 1.0, 'jimmy': 1.0, 'captainhe': 1.0, 'orients': 1.0, 'continued': 1.0, 'voted': 1.0, 'athletic': 1.0, 'xi': 1.0, 'poll': 2.0, 'year': 2.0, 'team': 2.0, 'director': 1.0, 'developed': 1.0, 'secondhalf': 1.0, 'division': 2.0, 'pfa': 2.0, '2014': 1.0, 'named': 3.0, 'halftime': 1.0, 'shilton': 1.0, 'coaching': 1.0, 'win': 1.0, '2001': 1.0, 'wigan': 1.0, '1984': 1.0, 'career': 1.0, '2006': 1.0, 'attention': 1.0, 'barnstorming': 1.0, 'castle': 8.0, 'minutes': 1.0, 'english': 1.0, '32': 1.0, 'senior': 1.0, 'manager': 3.0, 'liverpool': 1.0, 'duly': 1.0, 'scout': 1.0, 'born': 1.0, 'newlook': 1.0, 'vein': 1.0, 'castles': 1.0, 'barking': 1.0, 'general': 1.0, '1966': 1.0, 'league': 2.0, 'steve': 2.0, 'road': 1.0, 'kenny': 1.0, 'city': 2.0, 'football': 3.0, 'late': 1.0, 'goals': 3.0, 'playercoach': 1.0, 'december': 2.0, 'greatest': 1.0, 'leyton': 2.0, 'rally': 1.0, 'attracted': 1.0, 'fine': 1.0, 'orient': 3.0, '16': 1.0, '1992': 1.0, 'injuryin': 1.0, '12': 1.0, 'eventually': 1.0, 'total': 1.0, 'tier': 1.0, 'gillingham': 1.0, 'peterborough': 2.0, 'injured': 1.0, 'amassing': 1.0, 'left': 2.0, 'highlights': 1.0, 'free': 2.0, '322': 1.0, 'twitter': 1.0, 'appearances': 1.0, 'place': 1.0, 'unitedplymouth': 1.0, 'plymouth': 1.0, 'target': 1.0, 'style': 2.0, 'boss': 2.0, '2013': 1.0, 'combative': 1.0, 'worth': 1.0, '13th': 1.0, '22': 1.0, 'dalglish': 1.0, 'angilley': 1.0, 'undisputed': 2.0, 'county': 1.0, 'wimbledon': 1.0, 'ending': 1.0, 'bobby': 1.0, 'paid': 1.0, 'midfielder': 1.0, 'brisbane': 1.0, 'instructing': 1.0, 'midfield': 3.0, 'start': 1.0, '17': 1.0, 'negotiations': 1.0, '225000': 1.0, 'transfer': 2.0, 'fee': 1.0, 'final': 3.0, 'headed': 1.0, 'marched': 1.0, 'website': 1.0, 'promptly': 1.0, 'separate': 1.0, 'preseason': 1.0, 'argyle': 7.0, 'park': 1.0, 'personal': 1.0, 'played': 4.0, 'friendly': 1.0, 'action': 1.0, 'fans': 2.0, '199091': 1.0, 'royston': 1.0, 'joined': 1.0, 'day': 1.0, 'meaningful': 1.0, 'expected': 1.0, 'town': 2.0, 'wait': 2.0, 'notched': 1.0, 'end': 1.0, 'game': 3.0, 'october': 1.0, 'season': 5.0, 'marvel': 1.0, 'turned': 1.0, 'victory': 1.0, '200001': 1.0, '1993': 1.0, 'scored': 2.0, 'debut': 1.0, '20': 2.0, 'seasons': 2.0, 'similar': 1.0, 'campaign': 1.0, 'playoffs': 1.0, 'home': 3.0, 'incidentally': 1.0, 'peter': 1.0, 'bagging': 1.0, 'hattrick': 1.0, 'assistant': 1.0, 'squad': 1.0, 'highlight': 1.0, 'stockport': 1.0, 'christmas': 1.0, 'moved': 1.0, 'recordbreaking': 1.0, 'astonishing': 1.0, 'feat': 1.0, 'spells': 1.0, 'confirmed': 1.0, 'net': 1.0, 'firm': 1.0}, {'voltaires': 1.0, '2014': 1.0, 'album': 2.0, 'needles': 1.0, 'everyday': 1.0, 'track': 1.0, 'cover': 1.0, 'show': 1.0, 'judge': 1.0, 'guest': 1.0, 'october': 1.0, 'hollywood': 1.0, 'resides': 1.0, 'appearance': 1.0, 'cameo': 1.0, 'armens': 1.0, 'network': 1.0, 'representing': 1.0, 'showcases': 1.0, 'records': 1.0, 'bats': 1.0, 'fork': 1.0, 'bowl': 1.0, 'released': 1.0, 'cd': 1.0, 'logo': 1.0, 'songs': 1.0, 'solo': 1.0, 'variet': 1.0, 'release': 1.0, '2010': 3.0, 'madness': 1.0, 'song': 1.0, 'almond': 1.0, 'collaboration': 1.0, 'bands': 1.0, 'performed': 1.0, 'including': 1.0, 'glamourhe': 1.0, 'stone': 1.0, 'rolling': 1.0, 'village': 1.0, 'musical': 1.0, 'post': 1.0, 'times': 1.0, 'king': 1.0, 'party': 1.0, 'melodic': 1.0, 'instrumentation': 1.0, 'debut': 1.0, 'hbo': 1.0, 'armenian': 2.0, 'recorded': 1.0, 'combination': 1.0, 'konzerthaus': 1.0, 'boulder': 1.0, 'folk': 2.0, 'play': 1.0, 'master': 1.0, 'hotel': 1.0, 'ikebana': 1.0, 'cnn': 1.0, 'american': 1.0, 'concerts': 1.0, 'theremin': 4.0, 'factory': 1.0, 'museum': 2.0, 'performer': 1.0, 'pg13': 1.0, 'iran': 1.0, 'taught': 1.0, 'mother': 1.0, 'playing': 1.0, 'californiain': 1.0, 'british': 1.0, 'la': 1.0, 'descent': 1.0, 'influence': 1.0, 'dietch': 1.0, 'arias': 1.0, 'laments': 1.0, 'ra': 2.0, 'marc': 1.0, 'armen': 2.0, 'vh1': 1.0, 'standards': 1.0, 'tehran': 1.0, 'vienna': 1.0, 'fuses': 1.0, 'singer': 1.0, 'opera': 1.0, 'monsterhe': 1.0, 'born': 1.0, 'aunt': 1.0, 'played': 2.0, 'classical': 2.0, 'recording': 1.0, 'voice': 1.0, 'mama': 1.0, 'center': 1.0, 'raised': 2.0, 'concert': 1.0, 'arts': 1.0, 'arrangementra': 1.0, 'film': 1.0, 'music': 2.0, 'plays': 1.0, 'art': 1.0, 'pianist': 1.0, 'projects': 2.0, 'lounge': 1.0, 'visual': 1.0, 'iranianarmenian': 1.0, 'musicarmen': 1.0, 'halloween': 1.0, 'united': 1.0, 'artist': 2.0, 'nations': 1.0, 'wiener': 1.0, 'mozartsaal': 1.0, 'heritage': 1.0, 'knitting': 1.0, 'sharon': 1.0, 'lincoln': 1.0, 'bb': 1.0, 'joes': 1.0, 'cbgbs': 1.0, 'appeared': 3.0, 'gershwin': 1.0, 'pub': 1.0, 'featured': 1.0, 'modern': 2.0, 'mtv': 1.0, 'vogue': 1.0, 'york': 2.0}, {'barony': 1.0, 'presumptive': 1.0, 'heir': 1.0, 'josiehe': 1.0, 'katie': 1.0, 'amy': 1.0, 'schoettle': 1.0, 'anne': 2.0, 'days': 1.0, 'wife': 1.0, 'nanny': 1.0, 'los': 1.0, 'show': 1.0, 'sheffield': 1.0, 'maxwell': 1.0, 'charles': 1.0, 'brother': 2.0, 'older': 1.0, 'writer': 2.0, 'perform': 1.0, 'vic': 1.0, 'theatres': 1.0, 'college': 1.0, 'repertory': 1.0, 'series': 1.0, 'eton': 1.0, 'speech': 1.0, 'live': 1.0, 'geoffrey': 1.0, 'held': 1.0, 'lives': 1.0, 'gameshis': 1.0, 'london': 2.0, 'uk': 2.0, 'director': 2.0, 'spelled': 1.0, 'shaughnessey': 1.0, 'producer': 4.0, 'directs': 1.0, 'touring': 1.0, 'world': 1.0, 'television': 4.0, 'britishborn': 1.0, 'wade': 1.0, 'young': 1.0, 'actor': 3.0, 'james': 1.0, 'restless': 1.0, 'david': 2.0, 'shaughnessy': 4.0, 'central': 1.0, 'executive': 1.0, 'directing': 1.0, 'beautiful': 1.0, 'principal': 1.0, 'father': 1.0, 'movies': 1.0, 'upstairs': 1.0, 'school': 1.0, 'educated': 1.0, 'turned': 1.0, 'downstairs': 1.0, 'company': 1.0, 'national': 1.0, 'including': 1.0, '18': 1.0, 'moved': 1.0, 'months': 1.0, 'tours': 1.0, 'godspell': 1.0, 'mackintosh': 1.0, 'acted': 1.0, 'uslater': 1.0, 'head': 1.0, 'cartoons': 1.0, 'drama': 2.0, 'producing': 1.0, 'ultimately': 1.0, 'developing': 1.0, 'commercials': 1.0, 'angeles': 1.0, 'bold': 1.0, 'freelance': 1.0, 'basis': 1.0, 'theatre': 3.0, 'daytime': 1.0, 'started': 1.0, 'voiceovers': 1.0, 'service': 1.0, 'daughters': 1.0, 'actors': 1.0, 'work': 1.0, 'cameron': 1.0, 'films': 1.0, 'video': 1.0, 'alfred': 1.0, 'scriptwriter': 1.0}, {'happy': 1.0, 'vancouver': 2.0, 'told': 1.0, 'liberals': 1.0, 'criticized': 1.0, 'criticism': 1.0, 'offer': 1.0, 'accepted': 1.0, 'harpers': 1.0, 'serving': 1.0, 'leftleaning': 1.0, 'floor': 1.0, 'emerson': 3.0, 'liberal': 1.0, 'approach': 1.0, 'resulted': 1.0, 'firestorm': 1.0, 'coordinator': 1.0, 'election': 2.0, 'claimed': 1.0, 'retirement': 1.0, '2005': 1.0, '24': 1.0, 'stephen': 1.0, 'chosen': 1.0, 'named': 1.0, 'conservative': 3.0, 'leader': 5.0, 'bargain': 1.0, 'triggered': 1.0, 'chuck': 1.0, 'switch': 1.0, 'caucus': 1.0, 'revolt': 1.0, 'continued': 1.0, 'faced': 1.0, 'federal': 1.0, 'day': 3.0, 'crossing': 1.0, 'stockwell': 1.0, '1990s': 1.0, '1980s': 1.0, 'interim': 1.0, '1942': 1.0, 'minority': 1.0, '1970s': 1.0, 'strongly': 1.0, 'mp': 3.0, '2006': 2.0, 'politician': 1.0, 'role': 1.0, 'newspaper': 1.0, 'belinda': 1.0, 'clarks': 1.0, 'resigned': 4.0, 'people': 1.0, 'harper': 2.0, 'house': 3.0, '1974': 1.0, 'convention': 1.0, 'leadership': 1.0, 'vancouversunshine': 1.0, 'columbia': 4.0, '19': 1.0, 'west': 1.0, 'parliament': 3.0, 'reynolds': 5.0, 'stronachs': 1.0, 'assembly': 1.0, 'country': 1.0, 'social': 2.0, 'provincial': 2.0, 'january': 2.0, 'government': 3.0, 'coastsea': 1.0, 'end': 1.0, 'emersons': 1.0, 'pc': 1.0, 'douglas': 1.0, 'member': 1.0, 'asked': 1.0, 'reelected': 1.0, 'suburban': 1.0, 'david': 1.0, 'born': 1.0, 'leaderreynolds': 1.0, 'canadian': 2.0, 'john': 1.0, 'candidate': 2.0, 'conservatives': 2.0, '1997': 2.0, 'riding': 3.0, 'sky': 1.0, 'progressive': 1.0, 'active': 1.0, 'whip': 1.0, 'alliance': 2.0, 'disagreeing': 1.0, 'eventually': 1.0, 'joe': 1.0, 'place': 1.0, 'party': 4.0, 'policiesbeginning': 1.0, 'tory': 1.0, '1983': 1.0, 'remained': 2.0, 'served': 3.0, 'credit': 2.0, '1977': 1.0, 'speaker': 1.0, 'legislative': 1.0, 'cabinet': 2.0, 'minister': 4.0, 'defeated': 1.0, '1986': 1.0, 'british': 4.0, 'coming': 1.0, '1991': 1.0, 'strahl': 1.0, 'politics': 1.0, 'folded': 1.0, 'commons': 1.0, 'bid': 1.0, '2001': 1.0, 'elected': 2.0, 'opposition': 3.0, 'reelectionreynolds': 1.0, '1972': 1.0, 'returned': 1.0, 'campaign': 1.0, 'reform': 2.0, 'red': 1.0, 'chief': 1.0}, {'onfield': 1.0, 'amputated': 1.0, 'lower': 1.0, 'infection': 1.0, 'gangrene': 1.0, 'onset': 1.0, 'scoresby': 1.0, '2001': 1.0, 'noted': 1.0, 'leg': 2.0, 'fine': 1.0, 'managed': 1.0, 'expected': 1.0, 'progress': 1.0, 'midfielder': 1.0, 'carltona': 1.0, '16': 1.0, 'kicks': 1.0, 'disposals': 1.0, '39': 1.0, 'didnt': 1.0, 'record': 1.0, 'compiled': 1.0, 'age': 1.0, 'debut': 1.0, 'kilda': 2.0, 'end': 1.0, 'released': 1.0, 'years': 1.0, 'retain': 1.0, '1985': 2.0, 'winless': 1.0, '23': 2.0, 'fairest': 1.0, 'captaining': 1.0, 'winning': 1.0, 'rules': 1.0, 'brice': 1.0, 'team': 1.0, 'season': 1.0, 'leaguegreig': 1.0, 'votes': 1.0, 'suffered': 1.0, '31': 1.0, 'football': 7.0, 'october': 1.0, 'handballs': 1.0, 'played': 2.0, 'handballin': 1.0, 'hawthorn': 2.0, 'camberwell': 2.0, '19s': 1.0, 'built': 1.0, 'griegs': 1.0, 'shining': 1.0, 'creative': 1.0, 'greig': 1.0, 'award': 1.0, 'st': 2.0, 'trialled': 1.0, 'collingwood': 1.0, 'preseason': 1.0, 'due': 1.0, 'suburban': 1.0, 'born': 1.0, 'recruited': 2.0, 'senior': 1.0, '1980s': 1.0, 'listin': 1.0, '1990': 2.0, 'ailing': 1.0, '1991': 2.0, 'turned': 1.0, 'club': 3.0, 'polled': 1.0, 'australian': 3.0, 'ten': 1.0, 'grieg': 1.0, 'broken': 1.0, 'whilst': 1.0, 'liston': 1.0, 'dean': 1.0, 'footballer': 1.0, 'trophy': 1.0, 'round': 1.0, 'games': 2.0, '21': 1.0, 'vfl': 2.0, 'changed': 1.0, 'playing': 1.0, 'coach': 1.0, 'victorian': 2.0, 'gary': 1.0, 'performances': 1.0, '1968': 1.0, 'sole': 1.0, 'light': 1.0, 'clubs': 1.0, 'mishap': 1.0, 'association': 1.0, 'league': 3.0, 'vfagrieg': 1.0, 'subsequently': 1.0, 'strongly': 1.0}, ... ]"
      ]
     },
     "execution_count": 47,
     "metadata": {},
     "output_type": "execute_result"
    }
   ],
   "source": [
    "wiki_docs"
   ]
  },
  {
   "cell_type": "markdown",
   "metadata": {},
   "source": [
    "## Model fitting and interpretation\n",
    "In the video lectures we saw that Gibbs sampling can be used to perform inference in the LDA model. In this assignment we will use a Turi Create method to learn the topic model for our Wikipedia data, and our main emphasis will be on interpreting the results. We'll begin by creating the topic model using create() from Turi Create's topic_model module.\n",
    "\n",
    "Note: This may take several minutes to run."
   ]
  },
  {
   "cell_type": "code",
   "execution_count": 4,
   "metadata": {},
   "outputs": [
    {
     "data": {
      "text/html": [
       "<pre>Learning a topic model</pre>"
      ],
      "text/plain": [
       "Learning a topic model"
      ]
     },
     "metadata": {},
     "output_type": "display_data"
    },
    {
     "data": {
      "text/html": [
       "<pre>       Number of documents     59071</pre>"
      ],
      "text/plain": [
       "       Number of documents     59071"
      ]
     },
     "metadata": {},
     "output_type": "display_data"
    },
    {
     "data": {
      "text/html": [
       "<pre>           Vocabulary size    547462</pre>"
      ],
      "text/plain": [
       "           Vocabulary size    547462"
      ]
     },
     "metadata": {},
     "output_type": "display_data"
    },
    {
     "data": {
      "text/html": [
       "<pre>   Running collapsed Gibbs sampling</pre>"
      ],
      "text/plain": [
       "   Running collapsed Gibbs sampling"
      ]
     },
     "metadata": {},
     "output_type": "display_data"
    },
    {
     "data": {
      "text/html": [
       "<pre>+-----------+---------------+----------------+-----------------+</pre>"
      ],
      "text/plain": [
       "+-----------+---------------+----------------+-----------------+"
      ]
     },
     "metadata": {},
     "output_type": "display_data"
    },
    {
     "data": {
      "text/html": [
       "<pre>| Iteration | Elapsed Time  | Tokens/Second  | Est. Perplexity |</pre>"
      ],
      "text/plain": [
       "| Iteration | Elapsed Time  | Tokens/Second  | Est. Perplexity |"
      ]
     },
     "metadata": {},
     "output_type": "display_data"
    },
    {
     "data": {
      "text/html": [
       "<pre>+-----------+---------------+----------------+-----------------+</pre>"
      ],
      "text/plain": [
       "+-----------+---------------+----------------+-----------------+"
      ]
     },
     "metadata": {},
     "output_type": "display_data"
    },
    {
     "data": {
      "text/html": [
       "<pre>| 10        | 9.36s         | 1.03718e+07    | 0               |</pre>"
      ],
      "text/plain": [
       "| 10        | 9.36s         | 1.03718e+07    | 0               |"
      ]
     },
     "metadata": {},
     "output_type": "display_data"
    },
    {
     "data": {
      "text/html": [
       "<pre>| 20        | 16.99s        | 9.66777e+06    | 0               |</pre>"
      ],
      "text/plain": [
       "| 20        | 16.99s        | 9.66777e+06    | 0               |"
      ]
     },
     "metadata": {},
     "output_type": "display_data"
    },
    {
     "data": {
      "text/html": [
       "<pre>| 30        | 24.84s        | 1.12493e+07    | 0               |</pre>"
      ],
      "text/plain": [
       "| 30        | 24.84s        | 1.12493e+07    | 0               |"
      ]
     },
     "metadata": {},
     "output_type": "display_data"
    },
    {
     "data": {
      "text/html": [
       "<pre>| 40        | 31.75s        | 1.23301e+07    | 0               |</pre>"
      ],
      "text/plain": [
       "| 40        | 31.75s        | 1.23301e+07    | 0               |"
      ]
     },
     "metadata": {},
     "output_type": "display_data"
    },
    {
     "data": {
      "text/html": [
       "<pre>| 50        | 38.73s        | 1.02227e+07    | 0               |</pre>"
      ],
      "text/plain": [
       "| 50        | 38.73s        | 1.02227e+07    | 0               |"
      ]
     },
     "metadata": {},
     "output_type": "display_data"
    },
    {
     "data": {
      "text/html": [
       "<pre>| 60        | 47.53s        | 9.24848e+06    | 0               |</pre>"
      ],
      "text/plain": [
       "| 60        | 47.53s        | 9.24848e+06    | 0               |"
      ]
     },
     "metadata": {},
     "output_type": "display_data"
    },
    {
     "data": {
      "text/html": [
       "<pre>| 70        | 57.09s        | 9.11435e+06    | 0               |</pre>"
      ],
      "text/plain": [
       "| 70        | 57.09s        | 9.11435e+06    | 0               |"
      ]
     },
     "metadata": {},
     "output_type": "display_data"
    },
    {
     "data": {
      "text/html": [
       "<pre>| 80        | 1m 6s         | 9.40915e+06    | 0               |</pre>"
      ],
      "text/plain": [
       "| 80        | 1m 6s         | 9.40915e+06    | 0               |"
      ]
     },
     "metadata": {},
     "output_type": "display_data"
    },
    {
     "data": {
      "text/html": [
       "<pre>| 90        | 1m 14s        | 9.85227e+06    | 0               |</pre>"
      ],
      "text/plain": [
       "| 90        | 1m 14s        | 9.85227e+06    | 0               |"
      ]
     },
     "metadata": {},
     "output_type": "display_data"
    },
    {
     "data": {
      "text/html": [
       "<pre>| 100       | 1m 22s        | 9.80319e+06    | 0               |</pre>"
      ],
      "text/plain": [
       "| 100       | 1m 22s        | 9.80319e+06    | 0               |"
      ]
     },
     "metadata": {},
     "output_type": "display_data"
    },
    {
     "data": {
      "text/html": [
       "<pre>| 110       | 1m 31s        | 8.81123e+06    | 0               |</pre>"
      ],
      "text/plain": [
       "| 110       | 1m 31s        | 8.81123e+06    | 0               |"
      ]
     },
     "metadata": {},
     "output_type": "display_data"
    },
    {
     "data": {
      "text/html": [
       "<pre>| 120       | 1m 40s        | 8.69485e+06    | 0               |</pre>"
      ],
      "text/plain": [
       "| 120       | 1m 40s        | 8.69485e+06    | 0               |"
      ]
     },
     "metadata": {},
     "output_type": "display_data"
    },
    {
     "data": {
      "text/html": [
       "<pre>| 130       | 1m 49s        | 9.26814e+06    | 0               |</pre>"
      ],
      "text/plain": [
       "| 130       | 1m 49s        | 9.26814e+06    | 0               |"
      ]
     },
     "metadata": {},
     "output_type": "display_data"
    },
    {
     "data": {
      "text/html": [
       "<pre>| 140       | 1m 58s        | 7.85108e+06    | 0               |</pre>"
      ],
      "text/plain": [
       "| 140       | 1m 58s        | 7.85108e+06    | 0               |"
      ]
     },
     "metadata": {},
     "output_type": "display_data"
    },
    {
     "data": {
      "text/html": [
       "<pre>| 150       | 2m 7s         | 9.8537e+06     | 0               |</pre>"
      ],
      "text/plain": [
       "| 150       | 2m 7s         | 9.8537e+06     | 0               |"
      ]
     },
     "metadata": {},
     "output_type": "display_data"
    },
    {
     "data": {
      "text/html": [
       "<pre>| 160       | 2m 15s        | 9.7962e+06     | 0               |</pre>"
      ],
      "text/plain": [
       "| 160       | 2m 15s        | 9.7962e+06     | 0               |"
      ]
     },
     "metadata": {},
     "output_type": "display_data"
    },
    {
     "data": {
      "text/html": [
       "<pre>| 170       | 2m 23s        | 9.67187e+06    | 0               |</pre>"
      ],
      "text/plain": [
       "| 170       | 2m 23s        | 9.67187e+06    | 0               |"
      ]
     },
     "metadata": {},
     "output_type": "display_data"
    },
    {
     "data": {
      "text/html": [
       "<pre>| 180       | 2m 32s        | 9.05788e+06    | 0               |</pre>"
      ],
      "text/plain": [
       "| 180       | 2m 32s        | 9.05788e+06    | 0               |"
      ]
     },
     "metadata": {},
     "output_type": "display_data"
    },
    {
     "data": {
      "text/html": [
       "<pre>| 190       | 2m 40s        | 9.22541e+06    | 0               |</pre>"
      ],
      "text/plain": [
       "| 190       | 2m 40s        | 9.22541e+06    | 0               |"
      ]
     },
     "metadata": {},
     "output_type": "display_data"
    },
    {
     "data": {
      "text/html": [
       "<pre>| 200       | 2m 48s        | 9.97297e+06    | 0               |</pre>"
      ],
      "text/plain": [
       "| 200       | 2m 48s        | 9.97297e+06    | 0               |"
      ]
     },
     "metadata": {},
     "output_type": "display_data"
    },
    {
     "data": {
      "text/html": [
       "<pre>+-----------+---------------+----------------+-----------------+</pre>"
      ],
      "text/plain": [
       "+-----------+---------------+----------------+-----------------+"
      ]
     },
     "metadata": {},
     "output_type": "display_data"
    }
   ],
   "source": [
    "topic_model = turicreate.topic_model.create(wiki_docs, num_topics=10, num_iterations=200)"
   ]
  },
  {
   "cell_type": "markdown",
   "metadata": {},
   "source": [
    "Turi provides a useful summary of the model we have fitted, including the hyperparameter settings for alpha, gamma (note that Turi Create calls this parameter beta), and K (the number of topics); the structure of the output data; and some useful methods for understanding the results."
   ]
  },
  {
   "cell_type": "code",
   "execution_count": 5,
   "metadata": {},
   "outputs": [
    {
     "data": {
      "text/plain": [
       "Class                          : TopicModel\n",
       "\n",
       "Schema\n",
       "------\n",
       "Vocabulary Size                : 547462\n",
       "\n",
       "Settings\n",
       "--------\n",
       "Number of Topics               : 10\n",
       "alpha                          : 5.0\n",
       "beta                           : 0.1\n",
       "Iterations                     : 200\n",
       "Training time                  : 169.5695\n",
       "Verbose                        : True\n",
       "\n",
       "Accessible fields             : \n",
       "m.topics                      : An SFrame containing the topics.\n",
       "m.vocabulary                  : An SArray containing the words in the vocabulary.\n",
       "Useful methods                : \n",
       "m.get_topics()                : Get the most probable words per topic.\n",
       "m.predict(new_docs)           : Make predictions for new documents."
      ]
     },
     "execution_count": 5,
     "metadata": {},
     "output_type": "execute_result"
    }
   ],
   "source": [
    "topic_model"
   ]
  },
  {
   "cell_type": "markdown",
   "metadata": {},
   "source": [
    "It is certainly useful to have pre-implemented methods available for LDA, but as with our previous methods for clustering and retrieval, implementing and fitting the model gets us only halfway towards our objective. We now need to analyze the fitted model to understand what it has done with our data and whether it will be useful as a document classification system. This can be a challenging task in itself, particularly when the model that we use is complex. We will begin by outlining a sequence of objectives that will help us understand our model in detail. In particular, we will\n",
    "\n",
    "* get the top words in each topic and use these to identify topic themes\n",
    "* predict topic distributions for some example documents\n",
    "* compare the quality of LDA \"nearest neighbors\" to the NN output from the first assignment\n",
    "* understand the role of model hyperparameters alpha and gamma"
   ]
  },
  {
   "cell_type": "markdown",
   "metadata": {},
   "source": [
    "## Load a fitted topic model\n",
    "The method used to fit the LDA model is a _randomized algorithm_, which means that it involves steps that are random; in this case, the randomness comes from Gibbs sampling, as discussed in the LDA video lectures. Because of these random steps, the algorithm will be expected to yield slighty different output for different runs on the same data - note that this is different from previously seen algorithms such as k-means or EM, which will always produce the same results given the same input and initialization.\n",
    "\n",
    "It is important to understand that variation in the results is a fundamental feature of randomized methods. However, in the context of this assignment this variation makes it difficult to evaluate the correctness of your analysis, so we will load and analyze a pre-trained model. \n",
    "\n",
    "We recommend that you spend some time exploring your own fitted topic model and compare our analysis of the pre-trained model to the same analysis applied to the model you trained above."
   ]
  },
  {
   "cell_type": "code",
   "execution_count": 6,
   "metadata": {
    "scrolled": false
   },
   "outputs": [],
   "source": [
    "topic_model = turicreate.load_model('topic_models/lda_assignment_topic_model')"
   ]
  },
  {
   "cell_type": "markdown",
   "metadata": {},
   "source": [
    "# Identifying topic themes by top words\n",
    "\n",
    "We'll start by trying to identify the topics learned by our model with some major themes. As a preliminary check on the results of applying this method, it is reasonable to hope that the model has been able to learn topics that correspond to recognizable categories. In order to do this, we must first recall what exactly a 'topic' is in the context of LDA. \n",
    "\n",
    "In the video lectures on LDA we learned that a topic is a probability distribution over words in the vocabulary; that is, each topic assigns a particular probability to every one of the unique words that appears in our data. Different topics will assign different probabilities to the same word: for instance, a topic that ends up describing science and technology articles might place more probability on the word 'university' than a topic that describes sports or politics. Looking at the highest probability words in each topic will thus give us a sense of its major themes. Ideally we would find that each topic is identifiable with some clear theme _and_ that all the topics are relatively distinct.\n",
    "\n",
    "We can use the Turi Create function get_topics() to view the top words (along with their associated probabilities) from each topic.\n",
    "\n",
    "__Quiz Question:__ Identify the top 3 most probable words for the first topic. \n",
    "\n",
    "Ans: president, business, board"
   ]
  },
  {
   "cell_type": "code",
   "execution_count": 119,
   "metadata": {},
   "outputs": [
    {
     "data": {
      "text/html": [
       "<div style=\"max-height:1000px;max-width:1500px;overflow:auto;\"><table frame=\"box\" rules=\"cols\">\n",
       "    <tr>\n",
       "        <th style=\"padding-left: 1em; padding-right: 1em; text-align: center\">topic</th>\n",
       "        <th style=\"padding-left: 1em; padding-right: 1em; text-align: center\">word</th>\n",
       "        <th style=\"padding-left: 1em; padding-right: 1em; text-align: center\">score</th>\n",
       "    </tr>\n",
       "    <tr>\n",
       "        <td style=\"padding-left: 1em; padding-right: 1em; text-align: center; vertical-align: top\">0</td>\n",
       "        <td style=\"padding-left: 1em; padding-right: 1em; text-align: center; vertical-align: top\">president</td>\n",
       "        <td style=\"padding-left: 1em; padding-right: 1em; text-align: center; vertical-align: top\">0.008339770494721031</td>\n",
       "    </tr>\n",
       "    <tr>\n",
       "        <td style=\"padding-left: 1em; padding-right: 1em; text-align: center; vertical-align: top\">0</td>\n",
       "        <td style=\"padding-left: 1em; padding-right: 1em; text-align: center; vertical-align: top\">business</td>\n",
       "        <td style=\"padding-left: 1em; padding-right: 1em; text-align: center; vertical-align: top\">0.008230612437460937</td>\n",
       "    </tr>\n",
       "    <tr>\n",
       "        <td style=\"padding-left: 1em; padding-right: 1em; text-align: center; vertical-align: top\">0</td>\n",
       "        <td style=\"padding-left: 1em; padding-right: 1em; text-align: center; vertical-align: top\">board</td>\n",
       "        <td style=\"padding-left: 1em; padding-right: 1em; text-align: center; vertical-align: top\">0.007476947242117326</td>\n",
       "    </tr>\n",
       "    <tr>\n",
       "        <td style=\"padding-left: 1em; padding-right: 1em; text-align: center; vertical-align: top\">0</td>\n",
       "        <td style=\"padding-left: 1em; padding-right: 1em; text-align: center; vertical-align: top\">director</td>\n",
       "        <td style=\"padding-left: 1em; padding-right: 1em; text-align: center; vertical-align: top\">0.007380128791330111</td>\n",
       "    </tr>\n",
       "    <tr>\n",
       "        <td style=\"padding-left: 1em; padding-right: 1em; text-align: center; vertical-align: top\">0</td>\n",
       "        <td style=\"padding-left: 1em; padding-right: 1em; text-align: center; vertical-align: top\">international</td>\n",
       "        <td style=\"padding-left: 1em; padding-right: 1em; text-align: center; vertical-align: top\">0.007123844656893367</td>\n",
       "    </tr>\n",
       "</table>\n",
       "[5 rows x 3 columns]<br/>\n",
       "</div>"
      ],
      "text/plain": [
       "Columns:\n",
       "\ttopic\tint\n",
       "\tword\tstr\n",
       "\tscore\tfloat\n",
       "\n",
       "Rows: 5\n",
       "\n",
       "Data:\n",
       "+-------+---------------+----------------------+\n",
       "| topic |      word     |        score         |\n",
       "+-------+---------------+----------------------+\n",
       "|   0   |   president   | 0.008339770494721031 |\n",
       "|   0   |    business   | 0.008230612437460937 |\n",
       "|   0   |     board     | 0.007476947242117326 |\n",
       "|   0   |    director   | 0.007380128791330111 |\n",
       "|   0   | international | 0.007123844656893367 |\n",
       "+-------+---------------+----------------------+\n",
       "[5 rows x 3 columns]"
      ]
     },
     "execution_count": 119,
     "metadata": {},
     "output_type": "execute_result"
    }
   ],
   "source": [
    "selected_topics = topic_model.get_topics()\n",
    "selected_topics[selected_topics['topic']==0].sort('score', ascending = False)"
   ]
  },
  {
   "cell_type": "code",
   "execution_count": 128,
   "metadata": {},
   "outputs": [
    {
     "data": {
      "text/html": [
       "<div style=\"max-height:1000px;max-width:1500px;overflow:auto;\"><table frame=\"box\" rules=\"cols\">\n",
       "    <tr>\n",
       "        <th style=\"padding-left: 1em; padding-right: 1em; text-align: center\">topic</th>\n",
       "        <th style=\"padding-left: 1em; padding-right: 1em; text-align: center\">word</th>\n",
       "        <th style=\"padding-left: 1em; padding-right: 1em; text-align: center\">score</th>\n",
       "    </tr>\n",
       "    <tr>\n",
       "        <td style=\"padding-left: 1em; padding-right: 1em; text-align: center; vertical-align: top\">1</td>\n",
       "        <td style=\"padding-left: 1em; padding-right: 1em; text-align: center; vertical-align: top\">university</td>\n",
       "        <td style=\"padding-left: 1em; padding-right: 1em; text-align: center; vertical-align: top\">0.04865493156332634</td>\n",
       "    </tr>\n",
       "    <tr>\n",
       "        <td style=\"padding-left: 1em; padding-right: 1em; text-align: center; vertical-align: top\">1</td>\n",
       "        <td style=\"padding-left: 1em; padding-right: 1em; text-align: center; vertical-align: top\">research</td>\n",
       "        <td style=\"padding-left: 1em; padding-right: 1em; text-align: center; vertical-align: top\">0.012161362488061602</td>\n",
       "    </tr>\n",
       "    <tr>\n",
       "        <td style=\"padding-left: 1em; padding-right: 1em; text-align: center; vertical-align: top\">1</td>\n",
       "        <td style=\"padding-left: 1em; padding-right: 1em; text-align: center; vertical-align: top\">professor</td>\n",
       "        <td style=\"padding-left: 1em; padding-right: 1em; text-align: center; vertical-align: top\">0.011922106881371426</td>\n",
       "    </tr>\n",
       "    <tr>\n",
       "        <td style=\"padding-left: 1em; padding-right: 1em; text-align: center; vertical-align: top\">1</td>\n",
       "        <td style=\"padding-left: 1em; padding-right: 1em; text-align: center; vertical-align: top\">school</td>\n",
       "        <td style=\"padding-left: 1em; padding-right: 1em; text-align: center; vertical-align: top\">0.009947805060239167</td>\n",
       "    </tr>\n",
       "    <tr>\n",
       "        <td style=\"padding-left: 1em; padding-right: 1em; text-align: center; vertical-align: top\">1</td>\n",
       "        <td style=\"padding-left: 1em; padding-right: 1em; text-align: center; vertical-align: top\">college</td>\n",
       "        <td style=\"padding-left: 1em; padding-right: 1em; text-align: center; vertical-align: top\">0.009489674880021313</td>\n",
       "    </tr>\n",
       "</table>\n",
       "[5 rows x 3 columns]<br/>\n",
       "</div>"
      ],
      "text/plain": [
       "Columns:\n",
       "\ttopic\tint\n",
       "\tword\tstr\n",
       "\tscore\tfloat\n",
       "\n",
       "Rows: 5\n",
       "\n",
       "Data:\n",
       "+-------+------------+----------------------+\n",
       "| topic |    word    |        score         |\n",
       "+-------+------------+----------------------+\n",
       "|   1   | university | 0.04865493156332634  |\n",
       "|   1   |  research  | 0.012161362488061602 |\n",
       "|   1   | professor  | 0.011922106881371426 |\n",
       "|   1   |   school   | 0.009947805060239167 |\n",
       "|   1   |  college   | 0.009489674880021313 |\n",
       "+-------+------------+----------------------+\n",
       "[5 rows x 3 columns]"
      ]
     },
     "execution_count": 128,
     "metadata": {},
     "output_type": "execute_result"
    }
   ],
   "source": [
    "topic_model.get_topics(topic_ids=[1]).sort('score', ascending= False)"
   ]
  },
  {
   "cell_type": "markdown",
   "metadata": {},
   "source": [
    "**Quiz Question:** What is the sum of the probabilities assigned to the top 50 words in the 3rd topic?\n",
    "\n",
    "Ans: 0.04783977160632165"
   ]
  },
  {
   "cell_type": "code",
   "execution_count": 130,
   "metadata": {},
   "outputs": [
    {
     "data": {
      "text/plain": [
       "0.04783977160632165"
      ]
     },
     "execution_count": 130,
     "metadata": {},
     "output_type": "execute_result"
    }
   ],
   "source": [
    "selected_topics[selected_topics['topic']==2]['score'].sort(ascending= False)[0:50].sum()"
   ]
  },
  {
   "cell_type": "code",
   "execution_count": 122,
   "metadata": {},
   "outputs": [
    {
     "data": {
      "text/plain": [
       "0.04783977160632165"
      ]
     },
     "execution_count": 122,
     "metadata": {},
     "output_type": "execute_result"
    }
   ],
   "source": [
    "topic_model.get_topics(topic_ids=[2])['score'].sort(ascending= False)[0:50].sum()"
   ]
  },
  {
   "cell_type": "markdown",
   "metadata": {},
   "source": [
    "Let's look at the top 10 words for each topic to see if we can identify any themes:"
   ]
  },
  {
   "cell_type": "code",
   "execution_count": 17,
   "metadata": {},
   "outputs": [
    {
     "data": {
      "text/plain": [
       "[['president',\n",
       "  'business',\n",
       "  'board',\n",
       "  'director',\n",
       "  'international',\n",
       "  'company',\n",
       "  'development',\n",
       "  'member',\n",
       "  'executive',\n",
       "  'served'],\n",
       " ['university',\n",
       "  'research',\n",
       "  'professor',\n",
       "  'school',\n",
       "  'college',\n",
       "  'science',\n",
       "  'institute',\n",
       "  'american',\n",
       "  'received',\n",
       "  'studies'],\n",
       " ['de',\n",
       "  'born',\n",
       "  'international',\n",
       "  'music',\n",
       "  'la',\n",
       "  'orchestra',\n",
       "  'opera',\n",
       "  'french',\n",
       "  'studied',\n",
       "  'national'],\n",
       " ['work',\n",
       "  'book',\n",
       "  'art',\n",
       "  'published',\n",
       "  'york',\n",
       "  'books',\n",
       "  'magazine',\n",
       "  'american',\n",
       "  'arts',\n",
       "  'works'],\n",
       " ['won',\n",
       "  'world',\n",
       "  'team',\n",
       "  'club',\n",
       "  'played',\n",
       "  'season',\n",
       "  'born',\n",
       "  'cup',\n",
       "  'football',\n",
       "  'championship'],\n",
       " ['years',\n",
       "  'born',\n",
       "  'time',\n",
       "  'family',\n",
       "  'father',\n",
       "  'people',\n",
       "  'children',\n",
       "  'called',\n",
       "  'found',\n",
       "  'son'],\n",
       " ['member',\n",
       "  'served',\n",
       "  'party',\n",
       "  'state',\n",
       "  'election',\n",
       "  'law',\n",
       "  'minister',\n",
       "  'elected',\n",
       "  'united',\n",
       "  'general'],\n",
       " ['league',\n",
       "  'played',\n",
       "  'season',\n",
       "  'career',\n",
       "  'games',\n",
       "  'coach',\n",
       "  'major',\n",
       "  'team',\n",
       "  'high',\n",
       "  'game'],\n",
       " ['film',\n",
       "  'award',\n",
       "  'television',\n",
       "  'series',\n",
       "  'show',\n",
       "  'radio',\n",
       "  'appeared',\n",
       "  'role',\n",
       "  'tv',\n",
       "  'theatre'],\n",
       " ['music',\n",
       "  'album',\n",
       "  'released',\n",
       "  'band',\n",
       "  'records',\n",
       "  'song',\n",
       "  'songs',\n",
       "  'recorded',\n",
       "  'jazz',\n",
       "  'singer']]"
      ]
     },
     "execution_count": 17,
     "metadata": {},
     "output_type": "execute_result"
    }
   ],
   "source": [
    "[x['words'] for x in topic_model.get_topics(output_type='topic_words', num_words=10)]"
   ]
  },
  {
   "cell_type": "markdown",
   "metadata": {},
   "source": [
    "We propose the following themes for each topic:\n",
    "\n",
    "- topic 0: Business\n",
    "- topic 1: Science and research\n",
    "- topic 2: International music\n",
    "- topic 3: Art and publishing\n",
    "- topic 4: Team sports\n",
    "- topic 5: Family and society\n",
    "- topic 6: Politics\n",
    "- topic 7: International athletics\n",
    "- topic 8: TV and film\n",
    "- topic 9: General music\n",
    "\n",
    "We'll save these themes for later:"
   ]
  },
  {
   "cell_type": "code",
   "execution_count": 18,
   "metadata": {},
   "outputs": [],
   "source": [
    "themes = ['business',\n",
    "          'science and research',\n",
    "          'international music',\n",
    "          'art and publishing',\n",
    "          'team sports',\n",
    "          'family and society',\n",
    "          'politics',\n",
    "          'international athletics',\n",
    "          'TV and film',\n",
    "          'general music']"
   ]
  },
  {
   "cell_type": "markdown",
   "metadata": {},
   "source": [
    "### Measuring the importance of top words\n",
    "\n",
    "We can learn more about topics by exploring how they place probability mass (which we can think of as a weight) on each of their top words.\n",
    "\n",
    "We'll do this with two visualizations of the weights for the top words in each topic:\n",
    " - the weights of the top 100 words, sorted by the size\n",
    " - the total weight of the top 10 words\n"
   ]
  },
  {
   "cell_type": "markdown",
   "metadata": {},
   "source": [
    "Here's a plot for the top 100 words by weight in each topic:"
   ]
  },
  {
   "cell_type": "code",
   "execution_count": 19,
   "metadata": {},
   "outputs": [
    {
     "data": {
      "text/plain": [
       "Text(0.5, 1.0, 'Probabilities of Top 100 Words in each Topic')"
      ]
     },
     "execution_count": 19,
     "metadata": {},
     "output_type": "execute_result"
    },
    {
     "data": {
      "image/png": "[encoded data removed]",
      "text/plain": [
       "<Figure size 432x288 with 1 Axes>"
      ]
     },
     "metadata": {
      "needs_background": "light"
     },
     "output_type": "display_data"
    }
   ],
   "source": [
    "for i in range(10):\n",
    "    plt.plot(range(100), topic_model.get_topics(topic_ids=[i], num_words=100)['score'])\n",
    "plt.xlabel('Word rank')\n",
    "plt.ylabel('Probability')\n",
    "plt.title('Probabilities of Top 100 Words in each Topic')"
   ]
  },
  {
   "cell_type": "markdown",
   "metadata": {},
   "source": [
    "In the above plot, each line corresponds to one of our ten topics. Notice how for each topic, the weights drop off sharply as we move down the ranked list of most important words. This shows that the top 10-20 words in each topic are assigned a much greater weight than the remaining words - and remember from the summary of our topic model that our vocabulary has 547462 words in total!\n",
    "\n",
    "\n",
    "Next we plot the total weight assigned by each topic to its top 10 words: "
   ]
  },
  {
   "cell_type": "code",
   "execution_count": 20,
   "metadata": {},
   "outputs": [
    {
     "data": {
      "image/png": "[encoded data removed]",
      "text/plain": [
       "<Figure size 432x288 with 1 Axes>"
      ]
     },
     "metadata": {
      "needs_background": "light"
     },
     "output_type": "display_data"
    }
   ],
   "source": [
    "top_probs = [sum(topic_model.get_topics(topic_ids=[i], num_words=10)['score']) for i in range(10)]\n",
    "\n",
    "ind = np.arange(10)\n",
    "width = 0.5\n",
    "\n",
    "fig, ax = plt.subplots()\n",
    "\n",
    "ax.bar(ind-(width/2),top_probs,width)\n",
    "ax.set_xticks(ind)\n",
    "\n",
    "plt.xlabel('Topic')\n",
    "plt.ylabel('Probability')\n",
    "plt.title('Total Probability of Top 10 Words in each Topic')\n",
    "plt.xlim(-0.5,9.5)\n",
    "plt.ylim(0,0.15)\n",
    "plt.show()"
   ]
  },
  {
   "cell_type": "markdown",
   "metadata": {},
   "source": [
    "Here we see that, for our topic model, the top 10 words only account for a small fraction (in this case, between 5% and 13%) of their topic's total probability mass. So while we can use the top words to identify broad themes for each topic, we should keep in mind that in reality these topics are more complex than a simple 10-word summary.\n",
    "\n",
    "Finally, we observe that some 'junk' words appear highly rated in some topics despite our efforts to remove unhelpful words before fitting the model; for example, the word 'born' appears as a top 10 word in three different topics, but it doesn't help us describe these topics at all."
   ]
  },
  {
   "cell_type": "markdown",
   "metadata": {},
   "source": [
    "# Topic distributions for some example documents\n",
    "\n",
    "As we noted in the introduction to this assignment, LDA allows for mixed membership, which means that each document can partially belong to several different topics. For each document, topic membership is expressed as a vector of weights that sum to one; the magnitude of each weight indicates the degree to which the document represents that particular topic.\n",
    "\n",
    "We'll explore this in our fitted model by looking at the topic distributions for a few example Wikipedia articles from our data set. We should find that these articles have the highest weights on the topics whose themes are most relevant to the subject of the article - for example, we'd expect an article on a politician to place relatively high weight on topics related to government, while an article about an athlete should place higher weight on topics related to sports or competition."
   ]
  },
  {
   "cell_type": "markdown",
   "metadata": {},
   "source": [
    "Topic distributions for documents can be obtained using Turi Create's predict() function. Turi Create uses a collapsed Gibbs sampler similar to the one described in the video lectures, where only the word assignments variables are sampled.  To get a document-specific topic proportion vector post-facto, predict() draws this vector from the conditional distribution given the sampled word assignments in the document.  Notice that, since these are draws from a _distribution_ over topics that the model has learned, we will get slightly different predictions each time we call this function on a document - we can see this below, where we predict the topic distribution for the article on Barack Obama:"
   ]
  },
  {
   "cell_type": "code",
   "execution_count": 21,
   "metadata": {},
   "outputs": [
    {
     "name": "stdout",
     "output_type": "stream",
     "text": [
      "+--------------------------+---------------------------+-------------------------+\n",
      "| predictions (first draw) | predictions (second draw) |          topics         |\n",
      "+--------------------------+---------------------------+-------------------------+\n",
      "|   0.09408602150537634    |    0.06451612903225806    |         business        |\n",
      "|   0.04838709677419355    |    0.06451612903225806    |   science and research  |\n",
      "|   0.024193548387096774   |    0.02956989247311828    |   international music   |\n",
      "|   0.03225806451612903    |    0.021505376344086023   |    art and publishing   |\n",
      "|   0.051075268817204304   |    0.056451612903225805   |       team sports       |\n",
      "|   0.06989247311827956    |    0.08333333333333333    |    family and society   |\n",
      "|    0.543010752688172     |     0.5860215053763441    |         politics        |\n",
      "|   0.08870967741935484    |    0.043010752688172046   | international athletics |\n",
      "|   0.026881720430107527   |    0.026881720430107527   |       TV and film       |\n",
      "|   0.021505376344086023   |    0.024193548387096774   |      general music      |\n",
      "+--------------------------+---------------------------+-------------------------+\n",
      "[10 rows x 3 columns]\n",
      "\n"
     ]
    }
   ],
   "source": [
    "obama = turicreate.SArray([wiki_docs[int(np.where(wiki['name']=='Barack Obama')[0])]])\n",
    "pred1 = topic_model.predict(obama, output_type='probability')\n",
    "pred2 = topic_model.predict(obama, output_type='probability')\n",
    "print(turicreate.SFrame({'topics':themes, 'predictions (first draw)':pred1[0], 'predictions (second draw)':pred2[0]}))"
   ]
  },
  {
   "cell_type": "markdown",
   "metadata": {},
   "source": [
    "To get a more robust estimate of the topics for each document, we can average a large number of predictions for the same document:"
   ]
  },
  {
   "cell_type": "code",
   "execution_count": 22,
   "metadata": {},
   "outputs": [],
   "source": [
    "def average_predictions(model, test_document, num_trials=100):\n",
    "    avg_preds = np.zeros((model.num_topics))\n",
    "    for i in range(num_trials):\n",
    "        avg_preds += model.predict(test_document, output_type='probability')[0]\n",
    "    avg_preds = avg_preds/num_trials\n",
    "    result = turicreate.SFrame({'topics':themes, 'average predictions':avg_preds})\n",
    "    result = result.sort('average predictions', ascending=False)\n",
    "    return result"
   ]
  },
  {
   "cell_type": "code",
   "execution_count": 23,
   "metadata": {},
   "outputs": [
    {
     "name": "stdout",
     "output_type": "stream",
     "text": [
      "+----------------------+-------------------------+\n",
      "| average predictions  |          topics         |\n",
      "+----------------------+-------------------------+\n",
      "|  0.5643548387096774  |         politics        |\n",
      "|  0.1020967741935484  |         business        |\n",
      "|  0.0763978494623656  |    family and society   |\n",
      "| 0.06365591397849464  |   science and research  |\n",
      "| 0.06298387096774194  | international athletics |\n",
      "| 0.03475806451612907  |       team sports       |\n",
      "| 0.029784946236559157 |   international music   |\n",
      "| 0.02500000000000001  |    art and publishing   |\n",
      "| 0.021666666666666664 |      general music      |\n",
      "| 0.01930107526881719  |       TV and film       |\n",
      "+----------------------+-------------------------+\n",
      "[10 rows x 2 columns]\n",
      "\n"
     ]
    }
   ],
   "source": [
    "print(average_predictions(topic_model, obama, 100))"
   ]
  },
  {
   "cell_type": "markdown",
   "metadata": {},
   "source": [
    "__Quiz Question:__ What is the topic most closely associated with the article about former US President George W. Bush? Use the average results from 100 topic predictions.\n",
    "\n",
    "Ans: politics"
   ]
  },
  {
   "cell_type": "code",
   "execution_count": 27,
   "metadata": {},
   "outputs": [
    {
     "name": "stdout",
     "output_type": "stream",
     "text": [
      "+----------------------+-------------------------+\n",
      "| average predictions  |          topics         |\n",
      "+----------------------+-------------------------+\n",
      "| 0.46499999999999964  |         politics        |\n",
      "| 0.13248538011695904  |         business        |\n",
      "|  0.0884502923976608  |    family and society   |\n",
      "|  0.0672222222222222  |   science and research  |\n",
      "| 0.06508771929824561  | international athletics |\n",
      "| 0.05333333333333333  |    art and publishing   |\n",
      "| 0.04295321637426901  |      general music      |\n",
      "| 0.034210526315789476 |       TV and film       |\n",
      "| 0.03111111111111111  |       team sports       |\n",
      "| 0.02014619883040936  |   international music   |\n",
      "+----------------------+-------------------------+\n",
      "[10 rows x 2 columns]\n",
      "\n"
     ]
    }
   ],
   "source": [
    "bush = turicreate.SArray([wiki_docs[int(np.where(wiki['name']=='George W. Bush')[0])]])\n",
    "# pred3 = topic_model.predict(bush, output_type='probability')\n",
    "print(average_predictions(topic_model, bush, 100))"
   ]
  },
  {
   "cell_type": "markdown",
   "metadata": {},
   "source": [
    "__Quiz Question:__ What are the top 3 topics corresponding to the article about English football (soccer) player Steven Gerrard? Use the average results from 100 topic predictions.\n",
    "\n",
    "Ans: team sports, international athlets, general music"
   ]
  },
  {
   "cell_type": "code",
   "execution_count": 28,
   "metadata": {},
   "outputs": [
    {
     "name": "stdout",
     "output_type": "stream",
     "text": [
      "+----------------------+-------------------------+\n",
      "| average predictions  |          topics         |\n",
      "+----------------------+-------------------------+\n",
      "|  0.6891200000000001  |       team sports       |\n",
      "| 0.06487999999999997  | international athletics |\n",
      "| 0.03656000000000003  |      general music      |\n",
      "| 0.035520000000000024 |       TV and film       |\n",
      "| 0.034960000000000026 |   international music   |\n",
      "| 0.03252000000000002  |         business        |\n",
      "| 0.031080000000000024 |         politics        |\n",
      "| 0.02640000000000002  |    family and society   |\n",
      "| 0.02508000000000002  |    art and publishing   |\n",
      "| 0.023880000000000016 |   science and research  |\n",
      "+----------------------+-------------------------+\n",
      "[10 rows x 2 columns]\n",
      "\n"
     ]
    }
   ],
   "source": [
    "gerrard = turicreate.SArray([wiki_docs[int(np.where(wiki['name']=='Steven Gerrard')[0])]])\n",
    "print(average_predictions(topic_model, gerrard, 100))"
   ]
  },
  {
   "cell_type": "markdown",
   "metadata": {},
   "source": [
    "# Comparing LDA to nearest neighbors for document retrieval\n",
    "\n",
    "So far we have found that our topic model has learned some coherent topics, we have explored these topics as probability distributions over a vocabulary, and we have seen how individual documents in our Wikipedia data set are assigned to these topics in a way that corresponds with our expectations. \n",
    "\n",
    "In this section, we will use the predicted topic distribution as a representation of each document, similar to how we have previously represented documents by word count or TF-IDF. This gives us a way of computing distances between documents, so that we can run a nearest neighbors search for a given document based on its membership in the topics that we learned from LDA. We can contrast the results with those obtained by running nearest neighbors under the usual TF-IDF representation, an approach that we explored in a previous assignment. \n",
    "\n",
    "We'll start by creating the LDA topic distribution representation for each document:"
   ]
  },
  {
   "cell_type": "code",
   "execution_count": 29,
   "metadata": {},
   "outputs": [],
   "source": [
    "wiki['lda'] = topic_model.predict(wiki_docs, output_type='probability')"
   ]
  },
  {
   "cell_type": "markdown",
   "metadata": {},
   "source": [
    "Next we add the TF-IDF document representations:"
   ]
  },
  {
   "cell_type": "code",
   "execution_count": 30,
   "metadata": {},
   "outputs": [],
   "source": [
    "wiki['word_count'] = turicreate.text_analytics.count_words(wiki['text'])\n",
    "wiki['tf_idf'] = turicreate.text_analytics.tf_idf(wiki['word_count'])"
   ]
  },
  {
   "cell_type": "markdown",
   "metadata": {},
   "source": [
    "For each of our two different document representations, we can use Turi Create to compute a brute-force nearest neighbors model:"
   ]
  },
  {
   "cell_type": "code",
   "execution_count": 31,
   "metadata": {},
   "outputs": [
    {
     "data": {
      "text/html": [
       "<pre>Starting brute force nearest neighbors model training.</pre>"
      ],
      "text/plain": [
       "Starting brute force nearest neighbors model training."
      ]
     },
     "metadata": {},
     "output_type": "display_data"
    },
    {
     "data": {
      "text/html": [
       "<pre>Validating distance components.</pre>"
      ],
      "text/plain": [
       "Validating distance components."
      ]
     },
     "metadata": {},
     "output_type": "display_data"
    },
    {
     "data": {
      "text/html": [
       "<pre>Initializing model data.</pre>"
      ],
      "text/plain": [
       "Initializing model data."
      ]
     },
     "metadata": {},
     "output_type": "display_data"
    },
    {
     "data": {
      "text/html": [
       "<pre>Initializing distances.</pre>"
      ],
      "text/plain": [
       "Initializing distances."
      ]
     },
     "metadata": {},
     "output_type": "display_data"
    },
    {
     "data": {
      "text/html": [
       "<pre>Done.</pre>"
      ],
      "text/plain": [
       "Done."
      ]
     },
     "metadata": {},
     "output_type": "display_data"
    },
    {
     "data": {
      "text/html": [
       "<pre>Starting brute force nearest neighbors model training.</pre>"
      ],
      "text/plain": [
       "Starting brute force nearest neighbors model training."
      ]
     },
     "metadata": {},
     "output_type": "display_data"
    },
    {
     "data": {
      "text/html": [
       "<pre>Validating distance components.</pre>"
      ],
      "text/plain": [
       "Validating distance components."
      ]
     },
     "metadata": {},
     "output_type": "display_data"
    },
    {
     "data": {
      "text/html": [
       "<pre>Initializing model data.</pre>"
      ],
      "text/plain": [
       "Initializing model data."
      ]
     },
     "metadata": {},
     "output_type": "display_data"
    },
    {
     "data": {
      "text/html": [
       "<pre>Initializing distances.</pre>"
      ],
      "text/plain": [
       "Initializing distances."
      ]
     },
     "metadata": {},
     "output_type": "display_data"
    },
    {
     "data": {
      "text/html": [
       "<pre>Done.</pre>"
      ],
      "text/plain": [
       "Done."
      ]
     },
     "metadata": {},
     "output_type": "display_data"
    }
   ],
   "source": [
    "model_tf_idf = turicreate.nearest_neighbors.create(wiki, label='name', features=['tf_idf'],\n",
    "                                                   method='brute_force', distance='cosine')\n",
    "model_lda_rep = turicreate.nearest_neighbors.create(wiki, label='name', features=['lda'],\n",
    "                                                    method='brute_force', distance='cosine')"
   ]
  },
  {
   "cell_type": "markdown",
   "metadata": {},
   "source": [
    "Let's compare these nearest neighbor models by finding the nearest neighbors under each representation on an example document. For this example we'll use Paul Krugman, an American economist:"
   ]
  },
  {
   "cell_type": "code",
   "execution_count": 32,
   "metadata": {},
   "outputs": [
    {
     "data": {
      "text/html": [
       "<pre>Starting pairwise querying.</pre>"
      ],
      "text/plain": [
       "Starting pairwise querying."
      ]
     },
     "metadata": {},
     "output_type": "display_data"
    },
    {
     "data": {
      "text/html": [
       "<pre>+--------------+---------+-------------+--------------+</pre>"
      ],
      "text/plain": [
       "+--------------+---------+-------------+--------------+"
      ]
     },
     "metadata": {},
     "output_type": "display_data"
    },
    {
     "data": {
      "text/html": [
       "<pre>| Query points | # Pairs | % Complete. | Elapsed Time |</pre>"
      ],
      "text/plain": [
       "| Query points | # Pairs | % Complete. | Elapsed Time |"
      ]
     },
     "metadata": {},
     "output_type": "display_data"
    },
    {
     "data": {
      "text/html": [
       "<pre>+--------------+---------+-------------+--------------+</pre>"
      ],
      "text/plain": [
       "+--------------+---------+-------------+--------------+"
      ]
     },
     "metadata": {},
     "output_type": "display_data"
    },
    {
     "data": {
      "text/html": [
       "<pre>| 0            | 1       | 0.00169288  | 6.271ms      |</pre>"
      ],
      "text/plain": [
       "| 0            | 1       | 0.00169288  | 6.271ms      |"
      ]
     },
     "metadata": {},
     "output_type": "display_data"
    },
    {
     "data": {
      "text/html": [
       "<pre>| Done         |         | 100         | 248.675ms    |</pre>"
      ],
      "text/plain": [
       "| Done         |         | 100         | 248.675ms    |"
      ]
     },
     "metadata": {},
     "output_type": "display_data"
    },
    {
     "data": {
      "text/html": [
       "<pre>+--------------+---------+-------------+--------------+</pre>"
      ],
      "text/plain": [
       "+--------------+---------+-------------+--------------+"
      ]
     },
     "metadata": {},
     "output_type": "display_data"
    },
    {
     "data": {
      "text/html": [
       "<div style=\"max-height:1000px;max-width:1500px;overflow:auto;\"><table frame=\"box\" rules=\"cols\">\n",
       "    <tr>\n",
       "        <th style=\"padding-left: 1em; padding-right: 1em; text-align: center\">query_label</th>\n",
       "        <th style=\"padding-left: 1em; padding-right: 1em; text-align: center\">reference_label</th>\n",
       "        <th style=\"padding-left: 1em; padding-right: 1em; text-align: center\">distance</th>\n",
       "        <th style=\"padding-left: 1em; padding-right: 1em; text-align: center\">rank</th>\n",
       "    </tr>\n",
       "    <tr>\n",
       "        <td style=\"padding-left: 1em; padding-right: 1em; text-align: center; vertical-align: top\">Paul Krugman</td>\n",
       "        <td style=\"padding-left: 1em; padding-right: 1em; text-align: center; vertical-align: top\">Paul Krugman</td>\n",
       "        <td style=\"padding-left: 1em; padding-right: 1em; text-align: center; vertical-align: top\">0.0</td>\n",
       "        <td style=\"padding-left: 1em; padding-right: 1em; text-align: center; vertical-align: top\">1</td>\n",
       "    </tr>\n",
       "    <tr>\n",
       "        <td style=\"padding-left: 1em; padding-right: 1em; text-align: center; vertical-align: top\">Paul Krugman</td>\n",
       "        <td style=\"padding-left: 1em; padding-right: 1em; text-align: center; vertical-align: top\">Elise Brezis</td>\n",
       "        <td style=\"padding-left: 1em; padding-right: 1em; text-align: center; vertical-align: top\">0.7444980172622551</td>\n",
       "        <td style=\"padding-left: 1em; padding-right: 1em; text-align: center; vertical-align: top\">2</td>\n",
       "    </tr>\n",
       "    <tr>\n",
       "        <td style=\"padding-left: 1em; padding-right: 1em; text-align: center; vertical-align: top\">Paul Krugman</td>\n",
       "        <td style=\"padding-left: 1em; padding-right: 1em; text-align: center; vertical-align: top\">Maitreesh Ghatak</td>\n",
       "        <td style=\"padding-left: 1em; padding-right: 1em; text-align: center; vertical-align: top\">0.8156498483099809</td>\n",
       "        <td style=\"padding-left: 1em; padding-right: 1em; text-align: center; vertical-align: top\">3</td>\n",
       "    </tr>\n",
       "    <tr>\n",
       "        <td style=\"padding-left: 1em; padding-right: 1em; text-align: center; vertical-align: top\">Paul Krugman</td>\n",
       "        <td style=\"padding-left: 1em; padding-right: 1em; text-align: center; vertical-align: top\">Kai A. Konrad</td>\n",
       "        <td style=\"padding-left: 1em; padding-right: 1em; text-align: center; vertical-align: top\">0.8237005644064379</td>\n",
       "        <td style=\"padding-left: 1em; padding-right: 1em; text-align: center; vertical-align: top\">4</td>\n",
       "    </tr>\n",
       "    <tr>\n",
       "        <td style=\"padding-left: 1em; padding-right: 1em; text-align: center; vertical-align: top\">Paul Krugman</td>\n",
       "        <td style=\"padding-left: 1em; padding-right: 1em; text-align: center; vertical-align: top\">David Colander</td>\n",
       "        <td style=\"padding-left: 1em; padding-right: 1em; text-align: center; vertical-align: top\">0.8346259277590851</td>\n",
       "        <td style=\"padding-left: 1em; padding-right: 1em; text-align: center; vertical-align: top\">5</td>\n",
       "    </tr>\n",
       "    <tr>\n",
       "        <td style=\"padding-left: 1em; padding-right: 1em; text-align: center; vertical-align: top\">Paul Krugman</td>\n",
       "        <td style=\"padding-left: 1em; padding-right: 1em; text-align: center; vertical-align: top\">Richard Blundell</td>\n",
       "        <td style=\"padding-left: 1em; padding-right: 1em; text-align: center; vertical-align: top\">0.8379342678735122</td>\n",
       "        <td style=\"padding-left: 1em; padding-right: 1em; text-align: center; vertical-align: top\">6</td>\n",
       "    </tr>\n",
       "    <tr>\n",
       "        <td style=\"padding-left: 1em; padding-right: 1em; text-align: center; vertical-align: top\">Paul Krugman</td>\n",
       "        <td style=\"padding-left: 1em; padding-right: 1em; text-align: center; vertical-align: top\">Gordon Rausser</td>\n",
       "        <td style=\"padding-left: 1em; padding-right: 1em; text-align: center; vertical-align: top\">0.8394153470596016</td>\n",
       "        <td style=\"padding-left: 1em; padding-right: 1em; text-align: center; vertical-align: top\">7</td>\n",
       "    </tr>\n",
       "    <tr>\n",
       "        <td style=\"padding-left: 1em; padding-right: 1em; text-align: center; vertical-align: top\">Paul Krugman</td>\n",
       "        <td style=\"padding-left: 1em; padding-right: 1em; text-align: center; vertical-align: top\">Edward J. Nell</td>\n",
       "        <td style=\"padding-left: 1em; padding-right: 1em; text-align: center; vertical-align: top\">0.8421785000147988</td>\n",
       "        <td style=\"padding-left: 1em; padding-right: 1em; text-align: center; vertical-align: top\">8</td>\n",
       "    </tr>\n",
       "    <tr>\n",
       "        <td style=\"padding-left: 1em; padding-right: 1em; text-align: center; vertical-align: top\">Paul Krugman</td>\n",
       "        <td style=\"padding-left: 1em; padding-right: 1em; text-align: center; vertical-align: top\">Robin Boadway</td>\n",
       "        <td style=\"padding-left: 1em; padding-right: 1em; text-align: center; vertical-align: top\">0.8423742605956992</td>\n",
       "        <td style=\"padding-left: 1em; padding-right: 1em; text-align: center; vertical-align: top\">9</td>\n",
       "    </tr>\n",
       "    <tr>\n",
       "        <td style=\"padding-left: 1em; padding-right: 1em; text-align: center; vertical-align: top\">Paul Krugman</td>\n",
       "        <td style=\"padding-left: 1em; padding-right: 1em; text-align: center; vertical-align: top\">Tim Besley</td>\n",
       "        <td style=\"padding-left: 1em; padding-right: 1em; text-align: center; vertical-align: top\">0.8430881092528927</td>\n",
       "        <td style=\"padding-left: 1em; padding-right: 1em; text-align: center; vertical-align: top\">10</td>\n",
       "    </tr>\n",
       "</table>\n",
       "[10 rows x 4 columns]<br/>\n",
       "</div>"
      ],
      "text/plain": [
       "Columns:\n",
       "\tquery_label\tstr\n",
       "\treference_label\tstr\n",
       "\tdistance\tfloat\n",
       "\trank\tint\n",
       "\n",
       "Rows: 10\n",
       "\n",
       "Data:\n",
       "+--------------+------------------+--------------------+------+\n",
       "| query_label  | reference_label  |      distance      | rank |\n",
       "+--------------+------------------+--------------------+------+\n",
       "| Paul Krugman |   Paul Krugman   |        0.0         |  1   |\n",
       "| Paul Krugman |   Elise Brezis   | 0.7444980172622551 |  2   |\n",
       "| Paul Krugman | Maitreesh Ghatak | 0.8156498483099809 |  3   |\n",
       "| Paul Krugman |  Kai A. Konrad   | 0.8237005644064379 |  4   |\n",
       "| Paul Krugman |  David Colander  | 0.8346259277590851 |  5   |\n",
       "| Paul Krugman | Richard Blundell | 0.8379342678735122 |  6   |\n",
       "| Paul Krugman |  Gordon Rausser  | 0.8394153470596016 |  7   |\n",
       "| Paul Krugman |  Edward J. Nell  | 0.8421785000147988 |  8   |\n",
       "| Paul Krugman |  Robin Boadway   | 0.8423742605956992 |  9   |\n",
       "| Paul Krugman |    Tim Besley    | 0.8430881092528927 |  10  |\n",
       "+--------------+------------------+--------------------+------+\n",
       "[10 rows x 4 columns]"
      ]
     },
     "execution_count": 32,
     "metadata": {},
     "output_type": "execute_result"
    }
   ],
   "source": [
    "model_tf_idf.query(wiki[wiki['name'] == 'Paul Krugman'], label='name', k=10)"
   ]
  },
  {
   "cell_type": "code",
   "execution_count": 33,
   "metadata": {},
   "outputs": [
    {
     "data": {
      "text/html": [
       "<pre>Starting pairwise querying.</pre>"
      ],
      "text/plain": [
       "Starting pairwise querying."
      ]
     },
     "metadata": {},
     "output_type": "display_data"
    },
    {
     "data": {
      "text/html": [
       "<pre>+--------------+---------+-------------+--------------+</pre>"
      ],
      "text/plain": [
       "+--------------+---------+-------------+--------------+"
      ]
     },
     "metadata": {},
     "output_type": "display_data"
    },
    {
     "data": {
      "text/html": [
       "<pre>| Query points | # Pairs | % Complete. | Elapsed Time |</pre>"
      ],
      "text/plain": [
       "| Query points | # Pairs | % Complete. | Elapsed Time |"
      ]
     },
     "metadata": {},
     "output_type": "display_data"
    },
    {
     "data": {
      "text/html": [
       "<pre>+--------------+---------+-------------+--------------+</pre>"
      ],
      "text/plain": [
       "+--------------+---------+-------------+--------------+"
      ]
     },
     "metadata": {},
     "output_type": "display_data"
    },
    {
     "data": {
      "text/html": [
       "<pre>| 0            | 1       | 0.00169288  | 3.899ms      |</pre>"
      ],
      "text/plain": [
       "| 0            | 1       | 0.00169288  | 3.899ms      |"
      ]
     },
     "metadata": {},
     "output_type": "display_data"
    },
    {
     "data": {
      "text/html": [
       "<pre>| Done         |         | 100         | 24.551ms     |</pre>"
      ],
      "text/plain": [
       "| Done         |         | 100         | 24.551ms     |"
      ]
     },
     "metadata": {},
     "output_type": "display_data"
    },
    {
     "data": {
      "text/html": [
       "<pre>+--------------+---------+-------------+--------------+</pre>"
      ],
      "text/plain": [
       "+--------------+---------+-------------+--------------+"
      ]
     },
     "metadata": {},
     "output_type": "display_data"
    },
    {
     "data": {
      "text/html": [
       "<div style=\"max-height:1000px;max-width:1500px;overflow:auto;\"><table frame=\"box\" rules=\"cols\">\n",
       "    <tr>\n",
       "        <th style=\"padding-left: 1em; padding-right: 1em; text-align: center\">query_label</th>\n",
       "        <th style=\"padding-left: 1em; padding-right: 1em; text-align: center\">reference_label</th>\n",
       "        <th style=\"padding-left: 1em; padding-right: 1em; text-align: center\">distance</th>\n",
       "        <th style=\"padding-left: 1em; padding-right: 1em; text-align: center\">rank</th>\n",
       "    </tr>\n",
       "    <tr>\n",
       "        <td style=\"padding-left: 1em; padding-right: 1em; text-align: center; vertical-align: top\">Paul Krugman</td>\n",
       "        <td style=\"padding-left: 1em; padding-right: 1em; text-align: center; vertical-align: top\">Paul Krugman</td>\n",
       "        <td style=\"padding-left: 1em; padding-right: 1em; text-align: center; vertical-align: top\">1.1102230246251565e-16</td>\n",
       "        <td style=\"padding-left: 1em; padding-right: 1em; text-align: center; vertical-align: top\">1</td>\n",
       "    </tr>\n",
       "    <tr>\n",
       "        <td style=\"padding-left: 1em; padding-right: 1em; text-align: center; vertical-align: top\">Paul Krugman</td>\n",
       "        <td style=\"padding-left: 1em; padding-right: 1em; text-align: center; vertical-align: top\">David R. Brown (graphic<br>designer) ...</td>\n",
       "        <td style=\"padding-left: 1em; padding-right: 1em; text-align: center; vertical-align: top\">0.006397614253156991</td>\n",
       "        <td style=\"padding-left: 1em; padding-right: 1em; text-align: center; vertical-align: top\">2</td>\n",
       "    </tr>\n",
       "    <tr>\n",
       "        <td style=\"padding-left: 1em; padding-right: 1em; text-align: center; vertical-align: top\">Paul Krugman</td>\n",
       "        <td style=\"padding-left: 1em; padding-right: 1em; text-align: center; vertical-align: top\">Janet Hale</td>\n",
       "        <td style=\"padding-left: 1em; padding-right: 1em; text-align: center; vertical-align: top\">0.006863433683469866</td>\n",
       "        <td style=\"padding-left: 1em; padding-right: 1em; text-align: center; vertical-align: top\">3</td>\n",
       "    </tr>\n",
       "    <tr>\n",
       "        <td style=\"padding-left: 1em; padding-right: 1em; text-align: center; vertical-align: top\">Paul Krugman</td>\n",
       "        <td style=\"padding-left: 1em; padding-right: 1em; text-align: center; vertical-align: top\">Michael R. Fine</td>\n",
       "        <td style=\"padding-left: 1em; padding-right: 1em; text-align: center; vertical-align: top\">0.007472093064483487</td>\n",
       "        <td style=\"padding-left: 1em; padding-right: 1em; text-align: center; vertical-align: top\">4</td>\n",
       "    </tr>\n",
       "    <tr>\n",
       "        <td style=\"padding-left: 1em; padding-right: 1em; text-align: center; vertical-align: top\">Paul Krugman</td>\n",
       "        <td style=\"padding-left: 1em; padding-right: 1em; text-align: center; vertical-align: top\">K. K. N. Kurup</td>\n",
       "        <td style=\"padding-left: 1em; padding-right: 1em; text-align: center; vertical-align: top\">0.007507931797935297</td>\n",
       "        <td style=\"padding-left: 1em; padding-right: 1em; text-align: center; vertical-align: top\">5</td>\n",
       "    </tr>\n",
       "    <tr>\n",
       "        <td style=\"padding-left: 1em; padding-right: 1em; text-align: center; vertical-align: top\">Paul Krugman</td>\n",
       "        <td style=\"padding-left: 1em; padding-right: 1em; text-align: center; vertical-align: top\">J. Nozipo Maraire</td>\n",
       "        <td style=\"padding-left: 1em; padding-right: 1em; text-align: center; vertical-align: top\">0.007621817847956125</td>\n",
       "        <td style=\"padding-left: 1em; padding-right: 1em; text-align: center; vertical-align: top\">6</td>\n",
       "    </tr>\n",
       "    <tr>\n",
       "        <td style=\"padding-left: 1em; padding-right: 1em; text-align: center; vertical-align: top\">Paul Krugman</td>\n",
       "        <td style=\"padding-left: 1em; padding-right: 1em; text-align: center; vertical-align: top\">John L. Sorenson</td>\n",
       "        <td style=\"padding-left: 1em; padding-right: 1em; text-align: center; vertical-align: top\">0.007903532478791053</td>\n",
       "        <td style=\"padding-left: 1em; padding-right: 1em; text-align: center; vertical-align: top\">7</td>\n",
       "    </tr>\n",
       "    <tr>\n",
       "        <td style=\"padding-left: 1em; padding-right: 1em; text-align: center; vertical-align: top\">Paul Krugman</td>\n",
       "        <td style=\"padding-left: 1em; padding-right: 1em; text-align: center; vertical-align: top\">Cyril Belshaw</td>\n",
       "        <td style=\"padding-left: 1em; padding-right: 1em; text-align: center; vertical-align: top\">0.008015162579250834</td>\n",
       "        <td style=\"padding-left: 1em; padding-right: 1em; text-align: center; vertical-align: top\">8</td>\n",
       "    </tr>\n",
       "    <tr>\n",
       "        <td style=\"padding-left: 1em; padding-right: 1em; text-align: center; vertical-align: top\">Paul Krugman</td>\n",
       "        <td style=\"padding-left: 1em; padding-right: 1em; text-align: center; vertical-align: top\">Lilian Katz</td>\n",
       "        <td style=\"padding-left: 1em; padding-right: 1em; text-align: center; vertical-align: top\">0.008498961692290141</td>\n",
       "        <td style=\"padding-left: 1em; padding-right: 1em; text-align: center; vertical-align: top\">9</td>\n",
       "    </tr>\n",
       "    <tr>\n",
       "        <td style=\"padding-left: 1em; padding-right: 1em; text-align: center; vertical-align: top\">Paul Krugman</td>\n",
       "        <td style=\"padding-left: 1em; padding-right: 1em; text-align: center; vertical-align: top\">Daniel L. Smith-<br>Christopher ...</td>\n",
       "        <td style=\"padding-left: 1em; padding-right: 1em; text-align: center; vertical-align: top\">0.008548868686886646</td>\n",
       "        <td style=\"padding-left: 1em; padding-right: 1em; text-align: center; vertical-align: top\">10</td>\n",
       "    </tr>\n",
       "</table>\n",
       "[10 rows x 4 columns]<br/>\n",
       "</div>"
      ],
      "text/plain": [
       "Columns:\n",
       "\tquery_label\tstr\n",
       "\treference_label\tstr\n",
       "\tdistance\tfloat\n",
       "\trank\tint\n",
       "\n",
       "Rows: 10\n",
       "\n",
       "Data:\n",
       "+--------------+-------------------------------+------------------------+------+\n",
       "| query_label  |        reference_label        |        distance        | rank |\n",
       "+--------------+-------------------------------+------------------------+------+\n",
       "| Paul Krugman |          Paul Krugman         | 1.1102230246251565e-16 |  1   |\n",
       "| Paul Krugman | David R. Brown (graphic de... |  0.006397614253156991  |  2   |\n",
       "| Paul Krugman |           Janet Hale          |  0.006863433683469866  |  3   |\n",
       "| Paul Krugman |        Michael R. Fine        |  0.007472093064483487  |  4   |\n",
       "| Paul Krugman |         K. K. N. Kurup        |  0.007507931797935297  |  5   |\n",
       "| Paul Krugman |       J. Nozipo Maraire       |  0.007621817847956125  |  6   |\n",
       "| Paul Krugman |        John L. Sorenson       |  0.007903532478791053  |  7   |\n",
       "| Paul Krugman |         Cyril Belshaw         |  0.008015162579250834  |  8   |\n",
       "| Paul Krugman |          Lilian Katz          |  0.008498961692290141  |  9   |\n",
       "| Paul Krugman |  Daniel L. Smith-Christopher  |  0.008548868686886646  |  10  |\n",
       "+--------------+-------------------------------+------------------------+------+\n",
       "[10 rows x 4 columns]"
      ]
     },
     "execution_count": 33,
     "metadata": {},
     "output_type": "execute_result"
    }
   ],
   "source": [
    "model_lda_rep.query(wiki[wiki['name'] == 'Paul Krugman'], label='name', k=10)"
   ]
  },
  {
   "cell_type": "markdown",
   "metadata": {},
   "source": [
    "Notice that that there is no overlap between the two sets of top 10 nearest neighbors. This doesn't necessarily mean that one representation is better or worse than the other, but rather that they are picking out different features of the documents. \n",
    "\n",
    "With TF-IDF, documents are distinguished by the frequency of uncommon words. Since similarity is defined based on the specific words used in the document, documents that are \"close\" under TF-IDF tend to be similar in terms of specific details. This is what we see in the example: the top 10 nearest neighbors are all economists from the US, UK, or Canada. \n",
    "\n",
    "Our LDA representation, on the other hand, defines similarity between documents in terms of their topic distributions. This means that documents can be \"close\" if they share similar themes, even though they may not share many of the same keywords. For the article on Paul Krugman, we expect the most important topics to be 'American college and politics' and 'science and research'. As a result, we see that the top 10 nearest neighbors are academics from a wide variety of fields, including literature, anthropology, and religious studies."
   ]
  },
  {
   "cell_type": "markdown",
   "metadata": {},
   "source": [
    "# Understanding the role of LDA model hyperparameters\n",
    "\n",
    "Finally, we'll take a look at the effect of the LDA model hyperparameters alpha and gamma on the characteristics of our fitted model. Recall that alpha is a parameter of the prior distribution over topic weights in each document, while gamma is a parameter of the prior distribution over word weights in each topic. \n",
    "\n",
    "In the video lectures, we saw that alpha and gamma can be thought of as smoothing parameters when we compute how much each document \"likes\" a topic (in the case of alpha) or how much each topic \"likes\" a word (in the case of gamma). In both cases, these parameters serve to reduce the differences across topics or words in terms of these calculated preferences; alpha makes the document preferences \"smoother\" over topics, and gamma makes the topic preferences \"smoother\" over words.\n",
    "\n",
    "Our goal in this section will be to understand how changing these parameter values affects the characteristics of the resulting topic model.\n",
    "\n",
    "__Quiz Question:__ What was the value of alpha used to fit our original topic model?\n",
    "\n",
    "Ans: 5.0"
   ]
  },
  {
   "cell_type": "code",
   "execution_count": 38,
   "metadata": {},
   "outputs": [
    {
     "data": {
      "text/plain": [
       "5.0"
      ]
     },
     "execution_count": 38,
     "metadata": {},
     "output_type": "execute_result"
    }
   ],
   "source": [
    "topic_model.alpha"
   ]
  },
  {
   "cell_type": "markdown",
   "metadata": {},
   "source": [
    "__Quiz Question:__ What was the value of gamma used to fit our original topic model? Remember that Turi Create uses \"beta\" instead of \"gamma\" to refer to the hyperparameter that influences topic distributions over words.\n",
    "\n",
    "Ans: 0.1"
   ]
  },
  {
   "cell_type": "code",
   "execution_count": 39,
   "metadata": {},
   "outputs": [
    {
     "data": {
      "text/plain": [
       "0.1"
      ]
     },
     "execution_count": 39,
     "metadata": {},
     "output_type": "execute_result"
    }
   ],
   "source": [
    "topic_model.beta"
   ]
  },
  {
   "cell_type": "markdown",
   "metadata": {},
   "source": [
    "We'll start by loading some topic models that have been trained using different settings of alpha and gamma. Specifically, we will start by comparing the following two models to our original topic model:\n",
    " - tpm_low_alpha, a model trained with alpha = 1 and default gamma\n",
    " - tpm_high_alpha, a model trained with alpha = 50 and default gamma"
   ]
  },
  {
   "cell_type": "code",
   "execution_count": 124,
   "metadata": {},
   "outputs": [],
   "source": [
    "tpm_low_alpha = turicreate.load_model('topic_models/lda_low_alpha')\n",
    "tpm_high_alpha = turicreate.load_model('topic_models/lda_high_alpha')"
   ]
  },
  {
   "cell_type": "markdown",
   "metadata": {},
   "source": [
    "### Changing the hyperparameter alpha\n",
    "\n",
    "Since alpha is responsible for smoothing document preferences over topics, the impact of changing its value should be visible when we plot the distribution of topic weights for the same document under models fit with different alpha values. In the code below, we plot the (sorted) topic weights for the Wikipedia article on Barack Obama under models fit with high, original, and low settings of alpha."
   ]
  },
  {
   "cell_type": "code",
   "execution_count": 41,
   "metadata": {},
   "outputs": [
    {
     "data": {
      "image/png": "[encoded data removed]",
      "text/plain": [
       "<Figure size 432x288 with 1 Axes>"
      ]
     },
     "metadata": {
      "needs_background": "light"
     },
     "output_type": "display_data"
    }
   ],
   "source": [
    "a = np.sort(tpm_low_alpha.predict(obama,output_type='probability')[0])[::-1]\n",
    "b = np.sort(topic_model.predict(obama,output_type='probability')[0])[::-1]\n",
    "c = np.sort(tpm_high_alpha.predict(obama,output_type='probability')[0])[::-1]\n",
    "ind = np.arange(len(a))\n",
    "width = 0.3\n",
    "\n",
    "def param_bar_plot(a,b,c,ind,width,ylim,param,xlab,ylab):\n",
    "    fig = plt.figure()\n",
    "    ax = fig.add_subplot(111)\n",
    "\n",
    "    b1 = ax.bar(ind, a, width, color='lightskyblue')\n",
    "    b2 = ax.bar(ind+width, b, width, color='lightcoral')\n",
    "    b3 = ax.bar(ind+(2*width), c, width, color='gold')\n",
    "\n",
    "    ax.set_xticks(ind+width)\n",
    "    ax.set_xticklabels(range(10))\n",
    "    ax.set_ylabel(ylab)\n",
    "    ax.set_xlabel(xlab)\n",
    "    ax.set_ylim(0,ylim)\n",
    "    ax.legend(handles = [b1,b2,b3],labels=['low '+param,'original model','high '+param])\n",
    "\n",
    "    plt.tight_layout()\n",
    "    \n",
    "param_bar_plot(a,b,c,ind,width,ylim=1.0,param='alpha',\n",
    "               xlab='Topics (sorted by weight of top 100 words)',ylab='Topic Probability for Obama Article')"
   ]
  },
  {
   "cell_type": "markdown",
   "metadata": {},
   "source": [
    "Here we can clearly see the smoothing enforced by the alpha parameter - notice that when alpha is low most of the weight in the topic distribution for this article goes to a single topic, but when alpha is high the weight is much more evenly distributed across the topics.\n",
    "\n",
    "__Quiz Question:__ How many topics are assigned a weight greater than 0.3 or less than 0.05 for the article on Paul Krugman in the **low alpha** model?  Use the average results from 100 topic predictions.\n",
    "\n",
    "Ans: 7"
   ]
  },
  {
   "cell_type": "code",
   "execution_count": 126,
   "metadata": {},
   "outputs": [],
   "source": [
    "krugman = turicreate.SArray([wiki_docs[int(np.where(wiki['name']=='Paul Krugman')[0])]])\n",
    "avg_predict_krugman = average_predictions(tpm_low_alpha, krugman, 100)"
   ]
  },
  {
   "cell_type": "code",
   "execution_count": 85,
   "metadata": {},
   "outputs": [
    {
     "name": "stdout",
     "output_type": "stream",
     "text": [
      "art and publishing\n",
      "general music\n",
      "science and research\n",
      "family and society\n",
      "politics\n",
      "business\n",
      "TV and film\n",
      "7\n",
      "7\n"
     ]
    }
   ],
   "source": [
    "count = 0\n",
    "for item in avg_predict_krugman:\n",
    "    if item['average predictions']< 0.05 or item['average predictions']>0.3:\n",
    "        print(item['topics'])\n",
    "        count+=1\n",
    "\n",
    "print(count)\n",
    "\n",
    "print(avg_predict_krugman['average predictions'].apply(lambda x: x< 0.05 or x> 0.3).sum())"
   ]
  },
  {
   "cell_type": "markdown",
   "metadata": {},
   "source": [
    "__Quiz Question:__ How many topics are assigned a weight greater than 0.3 or less than 0.05 for the article on Paul Krugman in the **high alpha** model? Use the average results from 100 topic predictions.\n",
    "\n",
    "Ans: 0"
   ]
  },
  {
   "cell_type": "code",
   "execution_count": 127,
   "metadata": {},
   "outputs": [
    {
     "name": "stdout",
     "output_type": "stream",
     "text": [
      "0\n"
     ]
    }
   ],
   "source": [
    "del(avg_predict_krugman)\n",
    "avg_predict_krugman = average_predictions(tpm_high_alpha, krugman, 100)\n",
    "print(avg_predict_krugman['average predictions'].apply(lambda x: x<0.05 or x> 0.3).sum())"
   ]
  },
  {
   "cell_type": "markdown",
   "metadata": {},
   "source": [
    "### Changing the hyperparameter gamma\n",
    "\n",
    "Just as we were able to see the effect of alpha by plotting topic weights for a document, we expect to be able to visualize the impact of changing gamma by plotting word weights for each topic. In this case, however, there are far too many words in our vocabulary to do this effectively. Instead, we'll plot the total weight of the top 100 words and bottom 1000 words for each topic. Below, we plot the (sorted) total weights of the top 100 words and bottom 1000 from each topic in the high, original, and low gamma models."
   ]
  },
  {
   "cell_type": "markdown",
   "metadata": {},
   "source": [
    "Now we will consider the following two models:\n",
    " - tpm_low_gamma, a model trained with gamma = 0.02 and default alpha\n",
    " - tpm_high_gamma, a model trained with gamma = 0.5 and default alpha"
   ]
  },
  {
   "cell_type": "code",
   "execution_count": 83,
   "metadata": {},
   "outputs": [],
   "source": [
    "del tpm_low_alpha\n",
    "del tpm_high_alpha\n",
    "tpm_low_gamma = turicreate.load_model('topic_models/lda_low_gamma')\n",
    "tpm_high_gamma = turicreate.load_model('topic_models/lda_high_gamma')"
   ]
  },
  {
   "cell_type": "code",
   "execution_count": 84,
   "metadata": {},
   "outputs": [
    {
     "data": {
      "image/png": "[encoded data removed]",
      "text/plain": [
       "<Figure size 432x288 with 1 Axes>"
      ]
     },
     "metadata": {
      "needs_background": "light"
     },
     "output_type": "display_data"
    },
    {
     "data": {
      "image/png": "[encoded data removed]",
      "text/plain": [
       "<Figure size 432x288 with 1 Axes>"
      ]
     },
     "metadata": {
      "needs_background": "light"
     },
     "output_type": "display_data"
    }
   ],
   "source": [
    "a_top = np.sort([sum(tpm_low_gamma.get_topics(topic_ids=[i], num_words=100)['score']) for i in range(10)])[::-1]\n",
    "b_top = np.sort([sum(topic_model.get_topics(topic_ids=[i], num_words=100)['score']) for i in range(10)])[::-1]\n",
    "c_top = np.sort([sum(tpm_high_gamma.get_topics(topic_ids=[i], num_words=100)['score']) for i in range(10)])[::-1]\n",
    "\n",
    "a_bot = np.sort([sum(tpm_low_gamma.get_topics(topic_ids=[i], num_words=547462)[-1000:]['score']) for i in range(10)])[::-1]\n",
    "b_bot = np.sort([sum(topic_model.get_topics(topic_ids=[i], num_words=547462)[-1000:]['score']) for i in range(10)])[::-1]\n",
    "c_bot = np.sort([sum(tpm_high_gamma.get_topics(topic_ids=[i], num_words=547462)[-1000:]['score']) for i in range(10)])[::-1]\n",
    "\n",
    "ind = np.arange(len(a))\n",
    "width = 0.3\n",
    "    \n",
    "param_bar_plot(a_top, b_top, c_top, ind, width, ylim=0.6, param='gamma',\n",
    "               xlab='Topics (sorted by weight of top 100 words)', \n",
    "               ylab='Total Probability of Top 100 Words')\n",
    "\n",
    "param_bar_plot(a_bot, b_bot, c_bot, ind, width, ylim=0.0002, param='gamma',\n",
    "               xlab='Topics (sorted by weight of bottom 1000 words)',\n",
    "               ylab='Total Probability of Bottom 1000 Words')"
   ]
  },
  {
   "cell_type": "markdown",
   "metadata": {
    "collapsed": true
   },
   "source": [
    "From these two plots we can see that the low gamma model results in higher weight placed on the top words and lower weight placed on the bottom words for each topic, while the high gamma model places relatively less weight on the top words and more weight on the bottom words. Thus increasing gamma results in topics that have a smoother distribution of weight across all the words in the vocabulary."
   ]
  },
  {
   "cell_type": "markdown",
   "metadata": {},
   "source": [
    "__Quiz Question:__ For each topic of the **low gamma model**, compute the number of words required to make a list with total probability 0.5. What is the average number of words required across all topics? (HINT: use the get\\_topics() function from Turi Create with the cdf\\_cutoff argument).\n",
    "\n",
    "Ans: 266.5"
   ]
  },
  {
   "cell_type": "code",
   "execution_count": 94,
   "metadata": {},
   "outputs": [
    {
     "data": {
      "text/plain": [
       "266.5"
      ]
     },
     "execution_count": 94,
     "metadata": {},
     "output_type": "execute_result"
    }
   ],
   "source": [
    "len(tpm_low_gamma.get_topics(num_words= 100000, cdf_cutoff= 0.5))/10"
   ]
  },
  {
   "cell_type": "markdown",
   "metadata": {},
   "source": [
    "__Quiz Question:__ For each topic of the **high gamma model**, compute the number of words required to make a list with total probability 0.5. What is the average number of words required across all topics? (HINT: use the get\\_topics() function from Turi Create with the cdf\\_cutoff argument).\n",
    "\n",
    "Ans: 849.1"
   ]
  },
  {
   "cell_type": "code",
   "execution_count": 95,
   "metadata": {},
   "outputs": [
    {
     "data": {
      "text/plain": [
       "849.1"
      ]
     },
     "execution_count": 95,
     "metadata": {},
     "output_type": "execute_result"
    }
   ],
   "source": [
    "len(tpm_high_gamma.get_topics(num_words= 100000, cdf_cutoff= 0.5))/10"
   ]
  },
  {
   "cell_type": "markdown",
   "metadata": {},
   "source": [
    "We have now seen how the hyperparameters alpha and gamma influence the characteristics of our LDA topic model, but we haven't said anything about what settings of alpha or gamma are best. We know that these parameters are responsible for controlling the smoothness of the topic distributions for documents and word distributions for topics, but there's no simple conversion between smoothness of these distributions and quality of the topic model. In reality, there is no universally \"best\" choice for these parameters. Instead, finding a good topic model requires that we be able to both explore the output (as we did by looking at the topics and checking some topic predictions for documents) and understand the impact of hyperparameter settings (as we have in this section)."
   ]
  }
 ],
 "metadata": {
  "kernelspec": {
   "display_name": "Python 3",
   "language": "python",
   "name": "python3"
  },
  "language_info": {
   "codemirror_mode": {
    "name": "ipython",
    "version": 3
   },
   "file_extension": ".py",
   "mimetype": "text/x-python",
   "name": "python",
   "nbconvert_exporter": "python",
   "pygments_lexer": "ipython3",
   "version": "3.8.3"
  }
 },
 "nbformat": 4,
 "nbformat_minor": 1
}

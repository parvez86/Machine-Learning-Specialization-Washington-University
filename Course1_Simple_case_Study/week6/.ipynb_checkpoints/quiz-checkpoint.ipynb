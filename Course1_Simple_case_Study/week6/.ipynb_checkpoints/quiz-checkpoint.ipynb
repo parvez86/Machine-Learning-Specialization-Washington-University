{
 "cells": [
  {
   "cell_type": "code",
   "execution_count": 1,
   "metadata": {},
   "outputs": [],
   "source": [
    "import turicreate"
   ]
  },
  {
   "cell_type": "code",
   "execution_count": 2,
   "metadata": {},
   "outputs": [],
   "source": [
    "image_train_set = turicreate.SFrame('image_train_data/')\n",
    "image_test_set = turicreate.SFrame('image_test_data/')"
   ]
  },
  {
   "cell_type": "code",
   "execution_count": 3,
   "metadata": {},
   "outputs": [
    {
     "data": {
      "text/html": [
       "<div style=\"max-height:1000px;max-width:1500px;overflow:auto;\"><table frame=\"box\" rules=\"cols\">\n",
       "    <tr>\n",
       "        <th style=\"padding-left: 1em; padding-right: 1em; text-align: center\">id</th>\n",
       "        <th style=\"padding-left: 1em; padding-right: 1em; text-align: center\">image</th>\n",
       "        <th style=\"padding-left: 1em; padding-right: 1em; text-align: center\">label</th>\n",
       "        <th style=\"padding-left: 1em; padding-right: 1em; text-align: center\">deep_features</th>\n",
       "        <th style=\"padding-left: 1em; padding-right: 1em; text-align: center\">image_array</th>\n",
       "    </tr>\n",
       "    <tr>\n",
       "        <td style=\"padding-left: 1em; padding-right: 1em; text-align: center; vertical-align: top\">24</td>\n",
       "        <td style=\"padding-left: 1em; padding-right: 1em; text-align: center; vertical-align: top\">Height: 32 Width: 32</td>\n",
       "        <td style=\"padding-left: 1em; padding-right: 1em; text-align: center; vertical-align: top\">bird</td>\n",
       "        <td style=\"padding-left: 1em; padding-right: 1em; text-align: center; vertical-align: top\">[0.24287176132202148,<br>1.0954537391662598, 0.0, ...</td>\n",
       "        <td style=\"padding-left: 1em; padding-right: 1em; text-align: center; vertical-align: top\">[73.0, 77.0, 58.0, 71.0,<br>68.0, 50.0, 77.0, 69.0, ...</td>\n",
       "    </tr>\n",
       "    <tr>\n",
       "        <td style=\"padding-left: 1em; padding-right: 1em; text-align: center; vertical-align: top\">33</td>\n",
       "        <td style=\"padding-left: 1em; padding-right: 1em; text-align: center; vertical-align: top\">Height: 32 Width: 32</td>\n",
       "        <td style=\"padding-left: 1em; padding-right: 1em; text-align: center; vertical-align: top\">cat</td>\n",
       "        <td style=\"padding-left: 1em; padding-right: 1em; text-align: center; vertical-align: top\">[0.5250879526138306, 0.0,<br>0.0, 0.0, 0.0, 0.0, ...</td>\n",
       "        <td style=\"padding-left: 1em; padding-right: 1em; text-align: center; vertical-align: top\">[7.0, 5.0, 8.0, 7.0, 5.0,<br>8.0, 5.0, 4.0, 6.0, 7.0, ...</td>\n",
       "    </tr>\n",
       "    <tr>\n",
       "        <td style=\"padding-left: 1em; padding-right: 1em; text-align: center; vertical-align: top\">36</td>\n",
       "        <td style=\"padding-left: 1em; padding-right: 1em; text-align: center; vertical-align: top\">Height: 32 Width: 32</td>\n",
       "        <td style=\"padding-left: 1em; padding-right: 1em; text-align: center; vertical-align: top\">cat</td>\n",
       "        <td style=\"padding-left: 1em; padding-right: 1em; text-align: center; vertical-align: top\">[0.5660159587860107, 0.0,<br>0.0, 0.0, 0.0, 0.0, ...</td>\n",
       "        <td style=\"padding-left: 1em; padding-right: 1em; text-align: center; vertical-align: top\">[169.0, 122.0, 65.0,<br>131.0, 108.0, 75.0, ...</td>\n",
       "    </tr>\n",
       "    <tr>\n",
       "        <td style=\"padding-left: 1em; padding-right: 1em; text-align: center; vertical-align: top\">70</td>\n",
       "        <td style=\"padding-left: 1em; padding-right: 1em; text-align: center; vertical-align: top\">Height: 32 Width: 32</td>\n",
       "        <td style=\"padding-left: 1em; padding-right: 1em; text-align: center; vertical-align: top\">dog</td>\n",
       "        <td style=\"padding-left: 1em; padding-right: 1em; text-align: center; vertical-align: top\">[1.129795789718628, 0.0,<br>0.0, 0.7781944870948792, ...</td>\n",
       "        <td style=\"padding-left: 1em; padding-right: 1em; text-align: center; vertical-align: top\">[154.0, 179.0, 152.0,<br>159.0, 183.0, 157.0, ...</td>\n",
       "    </tr>\n",
       "    <tr>\n",
       "        <td style=\"padding-left: 1em; padding-right: 1em; text-align: center; vertical-align: top\">90</td>\n",
       "        <td style=\"padding-left: 1em; padding-right: 1em; text-align: center; vertical-align: top\">Height: 32 Width: 32</td>\n",
       "        <td style=\"padding-left: 1em; padding-right: 1em; text-align: center; vertical-align: top\">bird</td>\n",
       "        <td style=\"padding-left: 1em; padding-right: 1em; text-align: center; vertical-align: top\">[1.7178692817687988, 0.0,<br>0.0, 0.0, 0.0, 0.0, ...</td>\n",
       "        <td style=\"padding-left: 1em; padding-right: 1em; text-align: center; vertical-align: top\">[216.0, 195.0, 180.0,<br>201.0, 178.0, 160.0, ...</td>\n",
       "    </tr>\n",
       "    <tr>\n",
       "        <td style=\"padding-left: 1em; padding-right: 1em; text-align: center; vertical-align: top\">97</td>\n",
       "        <td style=\"padding-left: 1em; padding-right: 1em; text-align: center; vertical-align: top\">Height: 32 Width: 32</td>\n",
       "        <td style=\"padding-left: 1em; padding-right: 1em; text-align: center; vertical-align: top\">automobile</td>\n",
       "        <td style=\"padding-left: 1em; padding-right: 1em; text-align: center; vertical-align: top\">[1.5781855583190918, 0.0,<br>0.0, 0.0, 0.0, 0.0, ...</td>\n",
       "        <td style=\"padding-left: 1em; padding-right: 1em; text-align: center; vertical-align: top\">[33.0, 44.0, 27.0, 29.0,<br>44.0, 31.0, 32.0, 45.0, ...</td>\n",
       "    </tr>\n",
       "    <tr>\n",
       "        <td style=\"padding-left: 1em; padding-right: 1em; text-align: center; vertical-align: top\">107</td>\n",
       "        <td style=\"padding-left: 1em; padding-right: 1em; text-align: center; vertical-align: top\">Height: 32 Width: 32</td>\n",
       "        <td style=\"padding-left: 1em; padding-right: 1em; text-align: center; vertical-align: top\">dog</td>\n",
       "        <td style=\"padding-left: 1em; padding-right: 1em; text-align: center; vertical-align: top\">[0.0, 0.0,<br>0.22067785263061523,  ...</td>\n",
       "        <td style=\"padding-left: 1em; padding-right: 1em; text-align: center; vertical-align: top\">[97.0, 51.0, 31.0, 104.0,<br>58.0, 38.0, 107.0, 61.0, ...</td>\n",
       "    </tr>\n",
       "    <tr>\n",
       "        <td style=\"padding-left: 1em; padding-right: 1em; text-align: center; vertical-align: top\">121</td>\n",
       "        <td style=\"padding-left: 1em; padding-right: 1em; text-align: center; vertical-align: top\">Height: 32 Width: 32</td>\n",
       "        <td style=\"padding-left: 1em; padding-right: 1em; text-align: center; vertical-align: top\">bird</td>\n",
       "        <td style=\"padding-left: 1em; padding-right: 1em; text-align: center; vertical-align: top\">[0.0,<br>0.23753464221954346,  ...</td>\n",
       "        <td style=\"padding-left: 1em; padding-right: 1em; text-align: center; vertical-align: top\">[93.0, 96.0, 88.0, 102.0,<br>106.0, 97.0, 117.0, ...</td>\n",
       "    </tr>\n",
       "    <tr>\n",
       "        <td style=\"padding-left: 1em; padding-right: 1em; text-align: center; vertical-align: top\">136</td>\n",
       "        <td style=\"padding-left: 1em; padding-right: 1em; text-align: center; vertical-align: top\">Height: 32 Width: 32</td>\n",
       "        <td style=\"padding-left: 1em; padding-right: 1em; text-align: center; vertical-align: top\">automobile</td>\n",
       "        <td style=\"padding-left: 1em; padding-right: 1em; text-align: center; vertical-align: top\">[0.0, 0.0, 0.0, 0.0, 0.0,<br>0.0, 7.57378625869751, ...</td>\n",
       "        <td style=\"padding-left: 1em; padding-right: 1em; text-align: center; vertical-align: top\">[35.0, 59.0, 53.0, 36.0,<br>56.0, 56.0, 42.0, 62.0, ...</td>\n",
       "    </tr>\n",
       "    <tr>\n",
       "        <td style=\"padding-left: 1em; padding-right: 1em; text-align: center; vertical-align: top\">138</td>\n",
       "        <td style=\"padding-left: 1em; padding-right: 1em; text-align: center; vertical-align: top\">Height: 32 Width: 32</td>\n",
       "        <td style=\"padding-left: 1em; padding-right: 1em; text-align: center; vertical-align: top\">bird</td>\n",
       "        <td style=\"padding-left: 1em; padding-right: 1em; text-align: center; vertical-align: top\">[0.6589357256889343, 0.0,<br>0.0, 0.0, 0.0, 0.0, ...</td>\n",
       "        <td style=\"padding-left: 1em; padding-right: 1em; text-align: center; vertical-align: top\">[205.0, 193.0, 195.0,<br>200.0, 187.0, 193.0, ...</td>\n",
       "    </tr>\n",
       "</table>\n",
       "[2005 rows x 5 columns]<br/>Note: Only the head of the SFrame is printed.<br/>You can use print_rows(num_rows=m, num_columns=n) to print more rows and columns.\n",
       "</div>"
      ],
      "text/plain": [
       "Columns:\n",
       "\tid\tint\n",
       "\timage\tImage\n",
       "\tlabel\tstr\n",
       "\tdeep_features\tarray\n",
       "\timage_array\tarray\n",
       "\n",
       "Rows: 2005\n",
       "\n",
       "Data:\n",
       "+-----+----------------------+------------+-------------------------------+\n",
       "|  id |        image         |   label    |         deep_features         |\n",
       "+-----+----------------------+------------+-------------------------------+\n",
       "|  24 | Height: 32 Width: 32 |    bird    | [0.24287176132202148, 1.09... |\n",
       "|  33 | Height: 32 Width: 32 |    cat     | [0.5250879526138306, 0.0, ... |\n",
       "|  36 | Height: 32 Width: 32 |    cat     | [0.5660159587860107, 0.0, ... |\n",
       "|  70 | Height: 32 Width: 32 |    dog     | [1.129795789718628, 0.0, 0... |\n",
       "|  90 | Height: 32 Width: 32 |    bird    | [1.7178692817687988, 0.0, ... |\n",
       "|  97 | Height: 32 Width: 32 | automobile | [1.5781855583190918, 0.0, ... |\n",
       "| 107 | Height: 32 Width: 32 |    dog     | [0.0, 0.0, 0.2206778526306... |\n",
       "| 121 | Height: 32 Width: 32 |    bird    | [0.0, 0.23753464221954346,... |\n",
       "| 136 | Height: 32 Width: 32 | automobile | [0.0, 0.0, 0.0, 0.0, 0.0, ... |\n",
       "| 138 | Height: 32 Width: 32 |    bird    | [0.6589357256889343, 0.0, ... |\n",
       "+-----+----------------------+------------+-------------------------------+\n",
       "+-------------------------------+\n",
       "|          image_array          |\n",
       "+-------------------------------+\n",
       "| [73.0, 77.0, 58.0, 71.0, 6... |\n",
       "| [7.0, 5.0, 8.0, 7.0, 5.0, ... |\n",
       "| [169.0, 122.0, 65.0, 131.0... |\n",
       "| [154.0, 179.0, 152.0, 159.... |\n",
       "| [216.0, 195.0, 180.0, 201.... |\n",
       "| [33.0, 44.0, 27.0, 29.0, 4... |\n",
       "| [97.0, 51.0, 31.0, 104.0, ... |\n",
       "| [93.0, 96.0, 88.0, 102.0, ... |\n",
       "| [35.0, 59.0, 53.0, 36.0, 5... |\n",
       "| [205.0, 193.0, 195.0, 200.... |\n",
       "+-------------------------------+\n",
       "[2005 rows x 5 columns]\n",
       "Note: Only the head of the SFrame is printed.\n",
       "You can use print_rows(num_rows=m, num_columns=n) to print more rows and columns."
      ]
     },
     "execution_count": 3,
     "metadata": {},
     "output_type": "execute_result"
    }
   ],
   "source": [
    "image_train_set"
   ]
  },
  {
   "cell_type": "code",
   "execution_count": 4,
   "metadata": {},
   "outputs": [
    {
     "data": {
      "text/html": [
       "<div style=\"max-height:1000px;max-width:1500px;overflow:auto;\"><table frame=\"box\" rules=\"cols\">\n",
       "    <tr>\n",
       "        <th style=\"padding-left: 1em; padding-right: 1em; text-align: center\">id</th>\n",
       "        <th style=\"padding-left: 1em; padding-right: 1em; text-align: center\">image</th>\n",
       "        <th style=\"padding-left: 1em; padding-right: 1em; text-align: center\">label</th>\n",
       "        <th style=\"padding-left: 1em; padding-right: 1em; text-align: center\">deep_features</th>\n",
       "        <th style=\"padding-left: 1em; padding-right: 1em; text-align: center\">image_array</th>\n",
       "    </tr>\n",
       "    <tr>\n",
       "        <td style=\"padding-left: 1em; padding-right: 1em; text-align: center; vertical-align: top\">0</td>\n",
       "        <td style=\"padding-left: 1em; padding-right: 1em; text-align: center; vertical-align: top\">Height: 32 Width: 32</td>\n",
       "        <td style=\"padding-left: 1em; padding-right: 1em; text-align: center; vertical-align: top\">cat</td>\n",
       "        <td style=\"padding-left: 1em; padding-right: 1em; text-align: center; vertical-align: top\">[1.1346900463104248, 0.0,<br>0.0, 0.0, ...</td>\n",
       "        <td style=\"padding-left: 1em; padding-right: 1em; text-align: center; vertical-align: top\">[158.0, 112.0, 49.0,<br>159.0, 111.0, 47.0, ...</td>\n",
       "    </tr>\n",
       "    <tr>\n",
       "        <td style=\"padding-left: 1em; padding-right: 1em; text-align: center; vertical-align: top\">6</td>\n",
       "        <td style=\"padding-left: 1em; padding-right: 1em; text-align: center; vertical-align: top\">Height: 32 Width: 32</td>\n",
       "        <td style=\"padding-left: 1em; padding-right: 1em; text-align: center; vertical-align: top\">automobile</td>\n",
       "        <td style=\"padding-left: 1em; padding-right: 1em; text-align: center; vertical-align: top\">[0.2313588261604309, 0.0,<br>0.0, 0.0, 0.0, ...</td>\n",
       "        <td style=\"padding-left: 1em; padding-right: 1em; text-align: center; vertical-align: top\">[160.0, 37.0, 13.0,<br>185.0, 49.0, 11.0, 20 ...</td>\n",
       "    </tr>\n",
       "    <tr>\n",
       "        <td style=\"padding-left: 1em; padding-right: 1em; text-align: center; vertical-align: top\">8</td>\n",
       "        <td style=\"padding-left: 1em; padding-right: 1em; text-align: center; vertical-align: top\">Height: 32 Width: 32</td>\n",
       "        <td style=\"padding-left: 1em; padding-right: 1em; text-align: center; vertical-align: top\">cat</td>\n",
       "        <td style=\"padding-left: 1em; padding-right: 1em; text-align: center; vertical-align: top\">[0.0, 0.0,<br>0.034419238567352295, ...</td>\n",
       "        <td style=\"padding-left: 1em; padding-right: 1em; text-align: center; vertical-align: top\">[23.0, 19.0, 23.0, 19.0,<br>21.0, 28.0, 21.0, 16.0, ...</td>\n",
       "    </tr>\n",
       "    <tr>\n",
       "        <td style=\"padding-left: 1em; padding-right: 1em; text-align: center; vertical-align: top\">9</td>\n",
       "        <td style=\"padding-left: 1em; padding-right: 1em; text-align: center; vertical-align: top\">Height: 32 Width: 32</td>\n",
       "        <td style=\"padding-left: 1em; padding-right: 1em; text-align: center; vertical-align: top\">automobile</td>\n",
       "        <td style=\"padding-left: 1em; padding-right: 1em; text-align: center; vertical-align: top\">[0.0, 0.0, 0.0, 0.0, 0.0,<br>0.0, 11.6065092086792, ...</td>\n",
       "        <td style=\"padding-left: 1em; padding-right: 1em; text-align: center; vertical-align: top\">[217.0, 215.0, 209.0,<br>210.0, 208.0, 202.0, ...</td>\n",
       "    </tr>\n",
       "    <tr>\n",
       "        <td style=\"padding-left: 1em; padding-right: 1em; text-align: center; vertical-align: top\">12</td>\n",
       "        <td style=\"padding-left: 1em; padding-right: 1em; text-align: center; vertical-align: top\">Height: 32 Width: 32</td>\n",
       "        <td style=\"padding-left: 1em; padding-right: 1em; text-align: center; vertical-align: top\">dog</td>\n",
       "        <td style=\"padding-left: 1em; padding-right: 1em; text-align: center; vertical-align: top\">[0.3223174810409546, 0.0,<br>1.2493335008621216, 0.0, ...</td>\n",
       "        <td style=\"padding-left: 1em; padding-right: 1em; text-align: center; vertical-align: top\">[91.0, 64.0, 30.0, 82.0,<br>58.0, 30.0, 87.0, 73.0, ...</td>\n",
       "    </tr>\n",
       "    <tr>\n",
       "        <td style=\"padding-left: 1em; padding-right: 1em; text-align: center; vertical-align: top\">16</td>\n",
       "        <td style=\"padding-left: 1em; padding-right: 1em; text-align: center; vertical-align: top\">Height: 32 Width: 32</td>\n",
       "        <td style=\"padding-left: 1em; padding-right: 1em; text-align: center; vertical-align: top\">dog</td>\n",
       "        <td style=\"padding-left: 1em; padding-right: 1em; text-align: center; vertical-align: top\">[0.0, 0.0,<br>0.34735703468322754,  ...</td>\n",
       "        <td style=\"padding-left: 1em; padding-right: 1em; text-align: center; vertical-align: top\">[95.0, 76.0, 78.0, 92.0,<br>77.0, 78.0, 89.0, 77.0, ...</td>\n",
       "    </tr>\n",
       "    <tr>\n",
       "        <td style=\"padding-left: 1em; padding-right: 1em; text-align: center; vertical-align: top\">24</td>\n",
       "        <td style=\"padding-left: 1em; padding-right: 1em; text-align: center; vertical-align: top\">Height: 32 Width: 32</td>\n",
       "        <td style=\"padding-left: 1em; padding-right: 1em; text-align: center; vertical-align: top\">dog</td>\n",
       "        <td style=\"padding-left: 1em; padding-right: 1em; text-align: center; vertical-align: top\">[1.3155765533447266, 0.0,<br>0.0, 0.0, 0.0, 0.0, ...</td>\n",
       "        <td style=\"padding-left: 1em; padding-right: 1em; text-align: center; vertical-align: top\">[136.0, 134.0, 118.0,<br>142.0, 141.0, 126.0, ...</td>\n",
       "    </tr>\n",
       "    <tr>\n",
       "        <td style=\"padding-left: 1em; padding-right: 1em; text-align: center; vertical-align: top\">25</td>\n",
       "        <td style=\"padding-left: 1em; padding-right: 1em; text-align: center; vertical-align: top\">Height: 32 Width: 32</td>\n",
       "        <td style=\"padding-left: 1em; padding-right: 1em; text-align: center; vertical-align: top\">bird</td>\n",
       "        <td style=\"padding-left: 1em; padding-right: 1em; text-align: center; vertical-align: top\">[0.0,<br>0.31728875637054443,  ...</td>\n",
       "        <td style=\"padding-left: 1em; padding-right: 1em; text-align: center; vertical-align: top\">[100.0, 103.0, 74.0,<br>68.0, 91.0, 65.0, 116.0, ...</td>\n",
       "    </tr>\n",
       "    <tr>\n",
       "        <td style=\"padding-left: 1em; padding-right: 1em; text-align: center; vertical-align: top\">31</td>\n",
       "        <td style=\"padding-left: 1em; padding-right: 1em; text-align: center; vertical-align: top\">Height: 32 Width: 32</td>\n",
       "        <td style=\"padding-left: 1em; padding-right: 1em; text-align: center; vertical-align: top\">dog</td>\n",
       "        <td style=\"padding-left: 1em; padding-right: 1em; text-align: center; vertical-align: top\">[0.0, 0.0, 0.0, 0.0, 0.0,<br>0.0, 9.260188102722168, ...</td>\n",
       "        <td style=\"padding-left: 1em; padding-right: 1em; text-align: center; vertical-align: top\">[127.0, 130.0, 81.0,<br>130.0, 133.0, 88.0, ...</td>\n",
       "    </tr>\n",
       "    <tr>\n",
       "        <td style=\"padding-left: 1em; padding-right: 1em; text-align: center; vertical-align: top\">33</td>\n",
       "        <td style=\"padding-left: 1em; padding-right: 1em; text-align: center; vertical-align: top\">Height: 32 Width: 32</td>\n",
       "        <td style=\"padding-left: 1em; padding-right: 1em; text-align: center; vertical-align: top\">dog</td>\n",
       "        <td style=\"padding-left: 1em; padding-right: 1em; text-align: center; vertical-align: top\">[0.1307867169380188,<br>0.7276672124862671, 0.0, ...</td>\n",
       "        <td style=\"padding-left: 1em; padding-right: 1em; text-align: center; vertical-align: top\">[118.0, 113.0, 81.0,<br>122.0, 117.0, 83.0, ...</td>\n",
       "    </tr>\n",
       "</table>\n",
       "[4000 rows x 5 columns]<br/>Note: Only the head of the SFrame is printed.<br/>You can use print_rows(num_rows=m, num_columns=n) to print more rows and columns.\n",
       "</div>"
      ],
      "text/plain": [
       "Columns:\n",
       "\tid\tint\n",
       "\timage\tImage\n",
       "\tlabel\tstr\n",
       "\tdeep_features\tarray\n",
       "\timage_array\tarray\n",
       "\n",
       "Rows: 4000\n",
       "\n",
       "Data:\n",
       "+----+----------------------+------------+-------------------------------+\n",
       "| id |        image         |   label    |         deep_features         |\n",
       "+----+----------------------+------------+-------------------------------+\n",
       "| 0  | Height: 32 Width: 32 |    cat     | [1.1346900463104248, 0.0, ... |\n",
       "| 6  | Height: 32 Width: 32 | automobile | [0.2313588261604309, 0.0, ... |\n",
       "| 8  | Height: 32 Width: 32 |    cat     | [0.0, 0.0, 0.0344192385673... |\n",
       "| 9  | Height: 32 Width: 32 | automobile | [0.0, 0.0, 0.0, 0.0, 0.0, ... |\n",
       "| 12 | Height: 32 Width: 32 |    dog     | [0.3223174810409546, 0.0, ... |\n",
       "| 16 | Height: 32 Width: 32 |    dog     | [0.0, 0.0, 0.3473570346832... |\n",
       "| 24 | Height: 32 Width: 32 |    dog     | [1.3155765533447266, 0.0, ... |\n",
       "| 25 | Height: 32 Width: 32 |    bird    | [0.0, 0.31728875637054443,... |\n",
       "| 31 | Height: 32 Width: 32 |    dog     | [0.0, 0.0, 0.0, 0.0, 0.0, ... |\n",
       "| 33 | Height: 32 Width: 32 |    dog     | [0.1307867169380188, 0.727... |\n",
       "+----+----------------------+------------+-------------------------------+\n",
       "+-------------------------------+\n",
       "|          image_array          |\n",
       "+-------------------------------+\n",
       "| [158.0, 112.0, 49.0, 159.0... |\n",
       "| [160.0, 37.0, 13.0, 185.0,... |\n",
       "| [23.0, 19.0, 23.0, 19.0, 2... |\n",
       "| [217.0, 215.0, 209.0, 210.... |\n",
       "| [91.0, 64.0, 30.0, 82.0, 5... |\n",
       "| [95.0, 76.0, 78.0, 92.0, 7... |\n",
       "| [136.0, 134.0, 118.0, 142.... |\n",
       "| [100.0, 103.0, 74.0, 68.0,... |\n",
       "| [127.0, 130.0, 81.0, 130.0... |\n",
       "| [118.0, 113.0, 81.0, 122.0... |\n",
       "+-------------------------------+\n",
       "[4000 rows x 5 columns]\n",
       "Note: Only the head of the SFrame is printed.\n",
       "You can use print_rows(num_rows=m, num_columns=n) to print more rows and columns."
      ]
     },
     "execution_count": 4,
     "metadata": {},
     "output_type": "execute_result"
    }
   ],
   "source": [
    "image_test_set"
   ]
  },
  {
   "cell_type": "markdown",
   "metadata": {},
   "source": [
    "## Sketch The Train data"
   ]
  },
  {
   "cell_type": "code",
   "execution_count": 6,
   "metadata": {},
   "outputs": [],
   "source": [
    "sketch = turicreate.Sketch(image_train_set['label'])"
   ]
  },
  {
   "cell_type": "code",
   "execution_count": 8,
   "metadata": {},
   "outputs": [
    {
     "data": {
      "text/plain": [
       "<bound method Sketch.element_summary of \n",
       "+------------------+-------+----------+\n",
       "|       item       | value | is exact |\n",
       "+------------------+-------+----------+\n",
       "|      Length      |  2005 |   Yes    |\n",
       "| # Missing Values |   0   |   Yes    |\n",
       "| # unique values  |   4   |    No    |\n",
       "+------------------+-------+----------+\n",
       "\n",
       "Most frequent items:\n",
       "+------------+-------+\n",
       "|   value    | count |\n",
       "+------------+-------+\n",
       "|    cat     |  509  |\n",
       "|    dog     |  509  |\n",
       "| automobile |  509  |\n",
       "|    bird    |  478  |\n",
       "+------------+-------+\n",
       "\n",
       ">"
      ]
     },
     "execution_count": 8,
     "metadata": {},
     "output_type": "execute_result"
    }
   ],
   "source": [
    "sketch.element_summary"
   ]
  },
  {
   "cell_type": "markdown",
   "metadata": {},
   "source": [
    "## Splitting the train data"
   ]
  },
  {
   "cell_type": "code",
   "execution_count": 46,
   "metadata": {
    "scrolled": true
   },
   "outputs": [
    {
     "data": {
      "text/html": [
       "<div style=\"max-height:1000px;max-width:1500px;overflow:auto;\"><table frame=\"box\" rules=\"cols\">\n",
       "    <tr>\n",
       "        <th style=\"padding-left: 1em; padding-right: 1em; text-align: center\">id</th>\n",
       "        <th style=\"padding-left: 1em; padding-right: 1em; text-align: center\">image</th>\n",
       "        <th style=\"padding-left: 1em; padding-right: 1em; text-align: center\">label</th>\n",
       "        <th style=\"padding-left: 1em; padding-right: 1em; text-align: center\">deep_features</th>\n",
       "        <th style=\"padding-left: 1em; padding-right: 1em; text-align: center\">image_array</th>\n",
       "    </tr>\n",
       "    <tr>\n",
       "        <td style=\"padding-left: 1em; padding-right: 1em; text-align: center; vertical-align: top\">70</td>\n",
       "        <td style=\"padding-left: 1em; padding-right: 1em; text-align: center; vertical-align: top\">Height: 32 Width: 32</td>\n",
       "        <td style=\"padding-left: 1em; padding-right: 1em; text-align: center; vertical-align: top\">dog</td>\n",
       "        <td style=\"padding-left: 1em; padding-right: 1em; text-align: center; vertical-align: top\">[1.129795789718628, 0.0,<br>0.0, 0.7781944870948792, ...</td>\n",
       "        <td style=\"padding-left: 1em; padding-right: 1em; text-align: center; vertical-align: top\">[154.0, 179.0, 152.0,<br>159.0, 183.0, 157.0, ...</td>\n",
       "    </tr>\n",
       "    <tr>\n",
       "        <td style=\"padding-left: 1em; padding-right: 1em; text-align: center; vertical-align: top\">107</td>\n",
       "        <td style=\"padding-left: 1em; padding-right: 1em; text-align: center; vertical-align: top\">Height: 32 Width: 32</td>\n",
       "        <td style=\"padding-left: 1em; padding-right: 1em; text-align: center; vertical-align: top\">dog</td>\n",
       "        <td style=\"padding-left: 1em; padding-right: 1em; text-align: center; vertical-align: top\">[0.0, 0.0,<br>0.22067785263061523,  ...</td>\n",
       "        <td style=\"padding-left: 1em; padding-right: 1em; text-align: center; vertical-align: top\">[97.0, 51.0, 31.0, 104.0,<br>58.0, 38.0, 107.0, 61.0, ...</td>\n",
       "    </tr>\n",
       "    <tr>\n",
       "        <td style=\"padding-left: 1em; padding-right: 1em; text-align: center; vertical-align: top\">177</td>\n",
       "        <td style=\"padding-left: 1em; padding-right: 1em; text-align: center; vertical-align: top\">Height: 32 Width: 32</td>\n",
       "        <td style=\"padding-left: 1em; padding-right: 1em; text-align: center; vertical-align: top\">dog</td>\n",
       "        <td style=\"padding-left: 1em; padding-right: 1em; text-align: center; vertical-align: top\">[0.0, 1.4596567153930664,<br>0.0, 0.4229923486709595, ...</td>\n",
       "        <td style=\"padding-left: 1em; padding-right: 1em; text-align: center; vertical-align: top\">[55.0, 75.0, 42.0, 51.0,<br>76.0, 37.0, 57.0, 83.0, ...</td>\n",
       "    </tr>\n",
       "    <tr>\n",
       "        <td style=\"padding-left: 1em; padding-right: 1em; text-align: center; vertical-align: top\">424</td>\n",
       "        <td style=\"padding-left: 1em; padding-right: 1em; text-align: center; vertical-align: top\">Height: 32 Width: 32</td>\n",
       "        <td style=\"padding-left: 1em; padding-right: 1em; text-align: center; vertical-align: top\">dog</td>\n",
       "        <td style=\"padding-left: 1em; padding-right: 1em; text-align: center; vertical-align: top\">[0.9423996806144714, 0.0,<br>0.22035276889801025,  ...</td>\n",
       "        <td style=\"padding-left: 1em; padding-right: 1em; text-align: center; vertical-align: top\">[60.0, 35.0, 18.0, 63.0,<br>49.0, 38.0, 66.0, 56.0, ...</td>\n",
       "    </tr>\n",
       "    <tr>\n",
       "        <td style=\"padding-left: 1em; padding-right: 1em; text-align: center; vertical-align: top\">462</td>\n",
       "        <td style=\"padding-left: 1em; padding-right: 1em; text-align: center; vertical-align: top\">Height: 32 Width: 32</td>\n",
       "        <td style=\"padding-left: 1em; padding-right: 1em; text-align: center; vertical-align: top\">dog</td>\n",
       "        <td style=\"padding-left: 1em; padding-right: 1em; text-align: center; vertical-align: top\">[1.4346256256103516, 0.0,<br>0.0, 0.0, 0.0, 0.0, ...</td>\n",
       "        <td style=\"padding-left: 1em; padding-right: 1em; text-align: center; vertical-align: top\">[86.0, 69.0, 75.0, 57.0,<br>41.0, 48.0, 46.0, 35.0, ...</td>\n",
       "    </tr>\n",
       "    <tr>\n",
       "        <td style=\"padding-left: 1em; padding-right: 1em; text-align: center; vertical-align: top\">542</td>\n",
       "        <td style=\"padding-left: 1em; padding-right: 1em; text-align: center; vertical-align: top\">Height: 32 Width: 32</td>\n",
       "        <td style=\"padding-left: 1em; padding-right: 1em; text-align: center; vertical-align: top\">dog</td>\n",
       "        <td style=\"padding-left: 1em; padding-right: 1em; text-align: center; vertical-align: top\">[0.4515470862388611, 0.0,<br>0.0, 0.0, 0.0, 0.0, ...</td>\n",
       "        <td style=\"padding-left: 1em; padding-right: 1em; text-align: center; vertical-align: top\">[196.0, 174.0, 113.0,<br>140.0, 117.0, 65.0, 8 ...</td>\n",
       "    </tr>\n",
       "    <tr>\n",
       "        <td style=\"padding-left: 1em; padding-right: 1em; text-align: center; vertical-align: top\">573</td>\n",
       "        <td style=\"padding-left: 1em; padding-right: 1em; text-align: center; vertical-align: top\">Height: 32 Width: 32</td>\n",
       "        <td style=\"padding-left: 1em; padding-right: 1em; text-align: center; vertical-align: top\">dog</td>\n",
       "        <td style=\"padding-left: 1em; padding-right: 1em; text-align: center; vertical-align: top\">[0.5923609733581543, 0.0,<br>0.0, 0.0, 0.0, 0.0, ...</td>\n",
       "        <td style=\"padding-left: 1em; padding-right: 1em; text-align: center; vertical-align: top\">[153.0, 103.0, 52.0,<br>151.0, 102.0, 49.0, ...</td>\n",
       "    </tr>\n",
       "    <tr>\n",
       "        <td style=\"padding-left: 1em; padding-right: 1em; text-align: center; vertical-align: top\">851</td>\n",
       "        <td style=\"padding-left: 1em; padding-right: 1em; text-align: center; vertical-align: top\">Height: 32 Width: 32</td>\n",
       "        <td style=\"padding-left: 1em; padding-right: 1em; text-align: center; vertical-align: top\">dog</td>\n",
       "        <td style=\"padding-left: 1em; padding-right: 1em; text-align: center; vertical-align: top\">[0.690123438835144, 0.0,<br>0.0, 0.0, ...</td>\n",
       "        <td style=\"padding-left: 1em; padding-right: 1em; text-align: center; vertical-align: top\">[39.0, 6.0, 4.0, 53.0,<br>23.0, 24.0, 57.0, 37.0, ...</td>\n",
       "    </tr>\n",
       "    <tr>\n",
       "        <td style=\"padding-left: 1em; padding-right: 1em; text-align: center; vertical-align: top\">919</td>\n",
       "        <td style=\"padding-left: 1em; padding-right: 1em; text-align: center; vertical-align: top\">Height: 32 Width: 32</td>\n",
       "        <td style=\"padding-left: 1em; padding-right: 1em; text-align: center; vertical-align: top\">dog</td>\n",
       "        <td style=\"padding-left: 1em; padding-right: 1em; text-align: center; vertical-align: top\">[0.0,<br>0.17755866050720215, ...</td>\n",
       "        <td style=\"padding-left: 1em; padding-right: 1em; text-align: center; vertical-align: top\">[29.0, 43.0, 4.0, 24.0,<br>35.0, 6.0, 24.0, 37.0, ...</td>\n",
       "    </tr>\n",
       "    <tr>\n",
       "        <td style=\"padding-left: 1em; padding-right: 1em; text-align: center; vertical-align: top\">1172</td>\n",
       "        <td style=\"padding-left: 1em; padding-right: 1em; text-align: center; vertical-align: top\">Height: 32 Width: 32</td>\n",
       "        <td style=\"padding-left: 1em; padding-right: 1em; text-align: center; vertical-align: top\">dog</td>\n",
       "        <td style=\"padding-left: 1em; padding-right: 1em; text-align: center; vertical-align: top\">[0.517601490020752, 0.0,<br>1.9641833305358887, 0.0, ...</td>\n",
       "        <td style=\"padding-left: 1em; padding-right: 1em; text-align: center; vertical-align: top\">[182.0, 180.0, 197.0,<br>196.0, 192.0, 209.0, ...</td>\n",
       "    </tr>\n",
       "</table>\n",
       "[509 rows x 5 columns]<br/>Note: Only the head of the SFrame is printed.<br/>You can use print_rows(num_rows=m, num_columns=n) to print more rows and columns.\n",
       "</div>"
      ],
      "text/plain": [
       "Columns:\n",
       "\tid\tint\n",
       "\timage\tImage\n",
       "\tlabel\tstr\n",
       "\tdeep_features\tarray\n",
       "\timage_array\tarray\n",
       "\n",
       "Rows: 509\n",
       "\n",
       "Data:\n",
       "+------+----------------------+-------+-------------------------------+\n",
       "|  id  |        image         | label |         deep_features         |\n",
       "+------+----------------------+-------+-------------------------------+\n",
       "|  70  | Height: 32 Width: 32 |  dog  | [1.129795789718628, 0.0, 0... |\n",
       "| 107  | Height: 32 Width: 32 |  dog  | [0.0, 0.0, 0.2206778526306... |\n",
       "| 177  | Height: 32 Width: 32 |  dog  | [0.0, 1.4596567153930664, ... |\n",
       "| 424  | Height: 32 Width: 32 |  dog  | [0.9423996806144714, 0.0, ... |\n",
       "| 462  | Height: 32 Width: 32 |  dog  | [1.4346256256103516, 0.0, ... |\n",
       "| 542  | Height: 32 Width: 32 |  dog  | [0.4515470862388611, 0.0, ... |\n",
       "| 573  | Height: 32 Width: 32 |  dog  | [0.5923609733581543, 0.0, ... |\n",
       "| 851  | Height: 32 Width: 32 |  dog  | [0.690123438835144, 0.0, 0... |\n",
       "| 919  | Height: 32 Width: 32 |  dog  | [0.0, 0.17755866050720215,... |\n",
       "| 1172 | Height: 32 Width: 32 |  dog  | [0.517601490020752, 0.0, 1... |\n",
       "+------+----------------------+-------+-------------------------------+\n",
       "+-------------------------------+\n",
       "|          image_array          |\n",
       "+-------------------------------+\n",
       "| [154.0, 179.0, 152.0, 159.... |\n",
       "| [97.0, 51.0, 31.0, 104.0, ... |\n",
       "| [55.0, 75.0, 42.0, 51.0, 7... |\n",
       "| [60.0, 35.0, 18.0, 63.0, 4... |\n",
       "| [86.0, 69.0, 75.0, 57.0, 4... |\n",
       "| [196.0, 174.0, 113.0, 140.... |\n",
       "| [153.0, 103.0, 52.0, 151.0... |\n",
       "| [39.0, 6.0, 4.0, 53.0, 23.... |\n",
       "| [29.0, 43.0, 4.0, 24.0, 35... |\n",
       "| [182.0, 180.0, 197.0, 196.... |\n",
       "+-------------------------------+\n",
       "[509 rows x 5 columns]\n",
       "Note: Only the head of the SFrame is printed.\n",
       "You can use print_rows(num_rows=m, num_columns=n) to print more rows and columns."
      ]
     },
     "execution_count": 46,
     "metadata": {},
     "output_type": "execute_result"
    }
   ],
   "source": [
    "# dog_data_set = image_train_set[image_train_set['label'] == 'dog']\n",
    "# dog_data_set\n",
    "\n",
    "#Or\n",
    "\n",
    "dog_data_set = image_train_set.filter_by(['dog'], 'label')\n",
    "dog_data_set"
   ]
  },
  {
   "cell_type": "code",
   "execution_count": 48,
   "metadata": {},
   "outputs": [
    {
     "data": {
      "text/html": [
       "<div style=\"max-height:1000px;max-width:1500px;overflow:auto;\"><table frame=\"box\" rules=\"cols\">\n",
       "    <tr>\n",
       "        <th style=\"padding-left: 1em; padding-right: 1em; text-align: center\">id</th>\n",
       "        <th style=\"padding-left: 1em; padding-right: 1em; text-align: center\">image</th>\n",
       "        <th style=\"padding-left: 1em; padding-right: 1em; text-align: center\">label</th>\n",
       "        <th style=\"padding-left: 1em; padding-right: 1em; text-align: center\">deep_features</th>\n",
       "        <th style=\"padding-left: 1em; padding-right: 1em; text-align: center\">image_array</th>\n",
       "    </tr>\n",
       "    <tr>\n",
       "        <td style=\"padding-left: 1em; padding-right: 1em; text-align: center; vertical-align: top\">97</td>\n",
       "        <td style=\"padding-left: 1em; padding-right: 1em; text-align: center; vertical-align: top\">Height: 32 Width: 32</td>\n",
       "        <td style=\"padding-left: 1em; padding-right: 1em; text-align: center; vertical-align: top\">automobile</td>\n",
       "        <td style=\"padding-left: 1em; padding-right: 1em; text-align: center; vertical-align: top\">[1.5781855583190918, 0.0,<br>0.0, 0.0, 0.0, 0.0, ...</td>\n",
       "        <td style=\"padding-left: 1em; padding-right: 1em; text-align: center; vertical-align: top\">[33.0, 44.0, 27.0, 29.0,<br>44.0, 31.0, 32.0, 45.0, ...</td>\n",
       "    </tr>\n",
       "    <tr>\n",
       "        <td style=\"padding-left: 1em; padding-right: 1em; text-align: center; vertical-align: top\">136</td>\n",
       "        <td style=\"padding-left: 1em; padding-right: 1em; text-align: center; vertical-align: top\">Height: 32 Width: 32</td>\n",
       "        <td style=\"padding-left: 1em; padding-right: 1em; text-align: center; vertical-align: top\">automobile</td>\n",
       "        <td style=\"padding-left: 1em; padding-right: 1em; text-align: center; vertical-align: top\">[0.0, 0.0, 0.0, 0.0, 0.0,<br>0.0, 7.57378625869751, ...</td>\n",
       "        <td style=\"padding-left: 1em; padding-right: 1em; text-align: center; vertical-align: top\">[35.0, 59.0, 53.0, 36.0,<br>56.0, 56.0, 42.0, 62.0, ...</td>\n",
       "    </tr>\n",
       "    <tr>\n",
       "        <td style=\"padding-left: 1em; padding-right: 1em; text-align: center; vertical-align: top\">302</td>\n",
       "        <td style=\"padding-left: 1em; padding-right: 1em; text-align: center; vertical-align: top\">Height: 32 Width: 32</td>\n",
       "        <td style=\"padding-left: 1em; padding-right: 1em; text-align: center; vertical-align: top\">automobile</td>\n",
       "        <td style=\"padding-left: 1em; padding-right: 1em; text-align: center; vertical-align: top\">[0.5839380025863647, 0.0,<br>0.0, 0.0, 0.0, 0.0, ...</td>\n",
       "        <td style=\"padding-left: 1em; padding-right: 1em; text-align: center; vertical-align: top\">[64.0, 52.0, 37.0, 85.0,<br>60.0, 40.0, 92.0, 66.0, ...</td>\n",
       "    </tr>\n",
       "    <tr>\n",
       "        <td style=\"padding-left: 1em; padding-right: 1em; text-align: center; vertical-align: top\">312</td>\n",
       "        <td style=\"padding-left: 1em; padding-right: 1em; text-align: center; vertical-align: top\">Height: 32 Width: 32</td>\n",
       "        <td style=\"padding-left: 1em; padding-right: 1em; text-align: center; vertical-align: top\">automobile</td>\n",
       "        <td style=\"padding-left: 1em; padding-right: 1em; text-align: center; vertical-align: top\">[0.0, 0.0, 0.0,<br>0.39282339811325073,  ...</td>\n",
       "        <td style=\"padding-left: 1em; padding-right: 1em; text-align: center; vertical-align: top\">[124.0, 126.0, 113.0,<br>124.0, 126.0, 113.0, ...</td>\n",
       "    </tr>\n",
       "    <tr>\n",
       "        <td style=\"padding-left: 1em; padding-right: 1em; text-align: center; vertical-align: top\">323</td>\n",
       "        <td style=\"padding-left: 1em; padding-right: 1em; text-align: center; vertical-align: top\">Height: 32 Width: 32</td>\n",
       "        <td style=\"padding-left: 1em; padding-right: 1em; text-align: center; vertical-align: top\">automobile</td>\n",
       "        <td style=\"padding-left: 1em; padding-right: 1em; text-align: center; vertical-align: top\">[0.0, 0.0, 0.0,<br>4.423104286193848, ...</td>\n",
       "        <td style=\"padding-left: 1em; padding-right: 1em; text-align: center; vertical-align: top\">[241.0, 241.0, 241.0,<br>238.0, 238.0, 238.0, ...</td>\n",
       "    </tr>\n",
       "    <tr>\n",
       "        <td style=\"padding-left: 1em; padding-right: 1em; text-align: center; vertical-align: top\">536</td>\n",
       "        <td style=\"padding-left: 1em; padding-right: 1em; text-align: center; vertical-align: top\">Height: 32 Width: 32</td>\n",
       "        <td style=\"padding-left: 1em; padding-right: 1em; text-align: center; vertical-align: top\">automobile</td>\n",
       "        <td style=\"padding-left: 1em; padding-right: 1em; text-align: center; vertical-align: top\">[0.0, 0.0, 0.0, 0.0, 0.0,<br>0.0, 8.429039001464844, ...</td>\n",
       "        <td style=\"padding-left: 1em; padding-right: 1em; text-align: center; vertical-align: top\">[164.0, 154.0, 154.0,<br>128.0, 119.0, 120.0, ...</td>\n",
       "    </tr>\n",
       "    <tr>\n",
       "        <td style=\"padding-left: 1em; padding-right: 1em; text-align: center; vertical-align: top\">593</td>\n",
       "        <td style=\"padding-left: 1em; padding-right: 1em; text-align: center; vertical-align: top\">Height: 32 Width: 32</td>\n",
       "        <td style=\"padding-left: 1em; padding-right: 1em; text-align: center; vertical-align: top\">automobile</td>\n",
       "        <td style=\"padding-left: 1em; padding-right: 1em; text-align: center; vertical-align: top\">[1.6503394842147827, 0.0,<br>0.0, 0.0, 0.0, 0.0, ...</td>\n",
       "        <td style=\"padding-left: 1em; padding-right: 1em; text-align: center; vertical-align: top\">[231.0, 222.0, 227.0,<br>232.0, 217.0, 221.0, ...</td>\n",
       "    </tr>\n",
       "    <tr>\n",
       "        <td style=\"padding-left: 1em; padding-right: 1em; text-align: center; vertical-align: top\">962</td>\n",
       "        <td style=\"padding-left: 1em; padding-right: 1em; text-align: center; vertical-align: top\">Height: 32 Width: 32</td>\n",
       "        <td style=\"padding-left: 1em; padding-right: 1em; text-align: center; vertical-align: top\">automobile</td>\n",
       "        <td style=\"padding-left: 1em; padding-right: 1em; text-align: center; vertical-align: top\">[0.0, 0.0, 0.0,<br>0.3955279588699341, 0.0, ...</td>\n",
       "        <td style=\"padding-left: 1em; padding-right: 1em; text-align: center; vertical-align: top\">[255.0, 255.0, 255.0,<br>255.0, 255.0, 255.0, ...</td>\n",
       "    </tr>\n",
       "    <tr>\n",
       "        <td style=\"padding-left: 1em; padding-right: 1em; text-align: center; vertical-align: top\">997</td>\n",
       "        <td style=\"padding-left: 1em; padding-right: 1em; text-align: center; vertical-align: top\">Height: 32 Width: 32</td>\n",
       "        <td style=\"padding-left: 1em; padding-right: 1em; text-align: center; vertical-align: top\">automobile</td>\n",
       "        <td style=\"padding-left: 1em; padding-right: 1em; text-align: center; vertical-align: top\">[0.0, 0.0, 0.0, 0.0, 0.0,<br>0.0, 8.04085636138916, ...</td>\n",
       "        <td style=\"padding-left: 1em; padding-right: 1em; text-align: center; vertical-align: top\">[145.0, 148.0, 157.0,<br>131.0, 134.0, 145.0, ...</td>\n",
       "    </tr>\n",
       "    <tr>\n",
       "        <td style=\"padding-left: 1em; padding-right: 1em; text-align: center; vertical-align: top\">1421</td>\n",
       "        <td style=\"padding-left: 1em; padding-right: 1em; text-align: center; vertical-align: top\">Height: 32 Width: 32</td>\n",
       "        <td style=\"padding-left: 1em; padding-right: 1em; text-align: center; vertical-align: top\">automobile</td>\n",
       "        <td style=\"padding-left: 1em; padding-right: 1em; text-align: center; vertical-align: top\">[0.0, 0.0, 0.0, 0.0, 0.0,<br>0.35961294174194336, ...</td>\n",
       "        <td style=\"padding-left: 1em; padding-right: 1em; text-align: center; vertical-align: top\">[114.0, 95.0, 33.0,<br>118.0, 98.0, 26.0, 91.0, ...</td>\n",
       "    </tr>\n",
       "</table>\n",
       "[509 rows x 5 columns]<br/>Note: Only the head of the SFrame is printed.<br/>You can use print_rows(num_rows=m, num_columns=n) to print more rows and columns.\n",
       "</div>"
      ],
      "text/plain": [
       "Columns:\n",
       "\tid\tint\n",
       "\timage\tImage\n",
       "\tlabel\tstr\n",
       "\tdeep_features\tarray\n",
       "\timage_array\tarray\n",
       "\n",
       "Rows: 509\n",
       "\n",
       "Data:\n",
       "+------+----------------------+------------+-------------------------------+\n",
       "|  id  |        image         |   label    |         deep_features         |\n",
       "+------+----------------------+------------+-------------------------------+\n",
       "|  97  | Height: 32 Width: 32 | automobile | [1.5781855583190918, 0.0, ... |\n",
       "| 136  | Height: 32 Width: 32 | automobile | [0.0, 0.0, 0.0, 0.0, 0.0, ... |\n",
       "| 302  | Height: 32 Width: 32 | automobile | [0.5839380025863647, 0.0, ... |\n",
       "| 312  | Height: 32 Width: 32 | automobile | [0.0, 0.0, 0.0, 0.39282339... |\n",
       "| 323  | Height: 32 Width: 32 | automobile | [0.0, 0.0, 0.0, 4.42310428... |\n",
       "| 536  | Height: 32 Width: 32 | automobile | [0.0, 0.0, 0.0, 0.0, 0.0, ... |\n",
       "| 593  | Height: 32 Width: 32 | automobile | [1.6503394842147827, 0.0, ... |\n",
       "| 962  | Height: 32 Width: 32 | automobile | [0.0, 0.0, 0.0, 0.39552795... |\n",
       "| 997  | Height: 32 Width: 32 | automobile | [0.0, 0.0, 0.0, 0.0, 0.0, ... |\n",
       "| 1421 | Height: 32 Width: 32 | automobile | [0.0, 0.0, 0.0, 0.0, 0.0, ... |\n",
       "+------+----------------------+------------+-------------------------------+\n",
       "+-------------------------------+\n",
       "|          image_array          |\n",
       "+-------------------------------+\n",
       "| [33.0, 44.0, 27.0, 29.0, 4... |\n",
       "| [35.0, 59.0, 53.0, 36.0, 5... |\n",
       "| [64.0, 52.0, 37.0, 85.0, 6... |\n",
       "| [124.0, 126.0, 113.0, 124.... |\n",
       "| [241.0, 241.0, 241.0, 238.... |\n",
       "| [164.0, 154.0, 154.0, 128.... |\n",
       "| [231.0, 222.0, 227.0, 232.... |\n",
       "| [255.0, 255.0, 255.0, 255.... |\n",
       "| [145.0, 148.0, 157.0, 131.... |\n",
       "| [114.0, 95.0, 33.0, 118.0,... |\n",
       "+-------------------------------+\n",
       "[509 rows x 5 columns]\n",
       "Note: Only the head of the SFrame is printed.\n",
       "You can use print_rows(num_rows=m, num_columns=n) to print more rows and columns."
      ]
     },
     "execution_count": 48,
     "metadata": {},
     "output_type": "execute_result"
    }
   ],
   "source": [
    "car_data_set = image_train_set.filter_by(['automobile'], 'label')\n",
    "car_data_set"
   ]
  },
  {
   "cell_type": "code",
   "execution_count": 50,
   "metadata": {},
   "outputs": [
    {
     "data": {
      "text/html": [
       "<div style=\"max-height:1000px;max-width:1500px;overflow:auto;\"><table frame=\"box\" rules=\"cols\">\n",
       "    <tr>\n",
       "        <th style=\"padding-left: 1em; padding-right: 1em; text-align: center\">id</th>\n",
       "        <th style=\"padding-left: 1em; padding-right: 1em; text-align: center\">image</th>\n",
       "        <th style=\"padding-left: 1em; padding-right: 1em; text-align: center\">label</th>\n",
       "        <th style=\"padding-left: 1em; padding-right: 1em; text-align: center\">deep_features</th>\n",
       "        <th style=\"padding-left: 1em; padding-right: 1em; text-align: center\">image_array</th>\n",
       "    </tr>\n",
       "    <tr>\n",
       "        <td style=\"padding-left: 1em; padding-right: 1em; text-align: center; vertical-align: top\">33</td>\n",
       "        <td style=\"padding-left: 1em; padding-right: 1em; text-align: center; vertical-align: top\">Height: 32 Width: 32</td>\n",
       "        <td style=\"padding-left: 1em; padding-right: 1em; text-align: center; vertical-align: top\">cat</td>\n",
       "        <td style=\"padding-left: 1em; padding-right: 1em; text-align: center; vertical-align: top\">[0.5250879526138306, 0.0,<br>0.0, 0.0, 0.0, 0.0, ...</td>\n",
       "        <td style=\"padding-left: 1em; padding-right: 1em; text-align: center; vertical-align: top\">[7.0, 5.0, 8.0, 7.0, 5.0,<br>8.0, 5.0, 4.0, 6.0, 7.0, ...</td>\n",
       "    </tr>\n",
       "    <tr>\n",
       "        <td style=\"padding-left: 1em; padding-right: 1em; text-align: center; vertical-align: top\">36</td>\n",
       "        <td style=\"padding-left: 1em; padding-right: 1em; text-align: center; vertical-align: top\">Height: 32 Width: 32</td>\n",
       "        <td style=\"padding-left: 1em; padding-right: 1em; text-align: center; vertical-align: top\">cat</td>\n",
       "        <td style=\"padding-left: 1em; padding-right: 1em; text-align: center; vertical-align: top\">[0.5660159587860107, 0.0,<br>0.0, 0.0, 0.0, 0.0, ...</td>\n",
       "        <td style=\"padding-left: 1em; padding-right: 1em; text-align: center; vertical-align: top\">[169.0, 122.0, 65.0,<br>131.0, 108.0, 75.0, ...</td>\n",
       "    </tr>\n",
       "    <tr>\n",
       "        <td style=\"padding-left: 1em; padding-right: 1em; text-align: center; vertical-align: top\">159</td>\n",
       "        <td style=\"padding-left: 1em; padding-right: 1em; text-align: center; vertical-align: top\">Height: 32 Width: 32</td>\n",
       "        <td style=\"padding-left: 1em; padding-right: 1em; text-align: center; vertical-align: top\">cat</td>\n",
       "        <td style=\"padding-left: 1em; padding-right: 1em; text-align: center; vertical-align: top\">[0.0, 0.0, 0.0,<br>0.6432753205299377, 0.0, ...</td>\n",
       "        <td style=\"padding-left: 1em; padding-right: 1em; text-align: center; vertical-align: top\">[154.0, 145.0, 135.0,<br>152.0, 144.0, 135.0, ...</td>\n",
       "    </tr>\n",
       "    <tr>\n",
       "        <td style=\"padding-left: 1em; padding-right: 1em; text-align: center; vertical-align: top\">331</td>\n",
       "        <td style=\"padding-left: 1em; padding-right: 1em; text-align: center; vertical-align: top\">Height: 32 Width: 32</td>\n",
       "        <td style=\"padding-left: 1em; padding-right: 1em; text-align: center; vertical-align: top\">cat</td>\n",
       "        <td style=\"padding-left: 1em; padding-right: 1em; text-align: center; vertical-align: top\">[0.0, 0.0,<br>0.5109639167785645, 0.0, ...</td>\n",
       "        <td style=\"padding-left: 1em; padding-right: 1em; text-align: center; vertical-align: top\">[45.0, 65.0, 92.0, 72.0,<br>95.0, 110.0, 106.0, ...</td>\n",
       "    </tr>\n",
       "    <tr>\n",
       "        <td style=\"padding-left: 1em; padding-right: 1em; text-align: center; vertical-align: top\">367</td>\n",
       "        <td style=\"padding-left: 1em; padding-right: 1em; text-align: center; vertical-align: top\">Height: 32 Width: 32</td>\n",
       "        <td style=\"padding-left: 1em; padding-right: 1em; text-align: center; vertical-align: top\">cat</td>\n",
       "        <td style=\"padding-left: 1em; padding-right: 1em; text-align: center; vertical-align: top\">[1.3865805864334106, 0.0,<br>0.0, 0.0, 0.0, ...</td>\n",
       "        <td style=\"padding-left: 1em; padding-right: 1em; text-align: center; vertical-align: top\">[168.0, 151.0, 143.0,<br>145.0, 130.0, 124.0, ...</td>\n",
       "    </tr>\n",
       "    <tr>\n",
       "        <td style=\"padding-left: 1em; padding-right: 1em; text-align: center; vertical-align: top\">384</td>\n",
       "        <td style=\"padding-left: 1em; padding-right: 1em; text-align: center; vertical-align: top\">Height: 32 Width: 32</td>\n",
       "        <td style=\"padding-left: 1em; padding-right: 1em; text-align: center; vertical-align: top\">cat</td>\n",
       "        <td style=\"padding-left: 1em; padding-right: 1em; text-align: center; vertical-align: top\">[1.0440353155136108, 0.0,<br>0.0, 0.0, 0.0, 0.0, ...</td>\n",
       "        <td style=\"padding-left: 1em; padding-right: 1em; text-align: center; vertical-align: top\">[46.0, 45.0, 50.0, 47.0,<br>45.0, 51.0, 45.0, 44.0, ...</td>\n",
       "    </tr>\n",
       "    <tr>\n",
       "        <td style=\"padding-left: 1em; padding-right: 1em; text-align: center; vertical-align: top\">494</td>\n",
       "        <td style=\"padding-left: 1em; padding-right: 1em; text-align: center; vertical-align: top\">Height: 32 Width: 32</td>\n",
       "        <td style=\"padding-left: 1em; padding-right: 1em; text-align: center; vertical-align: top\">cat</td>\n",
       "        <td style=\"padding-left: 1em; padding-right: 1em; text-align: center; vertical-align: top\">[0.0, 0.0539512038230896,<br>1.9574512243270874, 0.0, ...</td>\n",
       "        <td style=\"padding-left: 1em; padding-right: 1em; text-align: center; vertical-align: top\">[26.0, 34.0, 29.0, 24.0,<br>29.0, 25.0, 33.0, 43.0, ...</td>\n",
       "    </tr>\n",
       "    <tr>\n",
       "        <td style=\"padding-left: 1em; padding-right: 1em; text-align: center; vertical-align: top\">597</td>\n",
       "        <td style=\"padding-left: 1em; padding-right: 1em; text-align: center; vertical-align: top\">Height: 32 Width: 32</td>\n",
       "        <td style=\"padding-left: 1em; padding-right: 1em; text-align: center; vertical-align: top\">cat</td>\n",
       "        <td style=\"padding-left: 1em; padding-right: 1em; text-align: center; vertical-align: top\">[0.0, 0.0,<br>0.04706370830535889,  ...</td>\n",
       "        <td style=\"padding-left: 1em; padding-right: 1em; text-align: center; vertical-align: top\">[133.0, 153.0, 138.0,<br>126.0, 146.0, 136.0, ...</td>\n",
       "    </tr>\n",
       "    <tr>\n",
       "        <td style=\"padding-left: 1em; padding-right: 1em; text-align: center; vertical-align: top\">788</td>\n",
       "        <td style=\"padding-left: 1em; padding-right: 1em; text-align: center; vertical-align: top\">Height: 32 Width: 32</td>\n",
       "        <td style=\"padding-left: 1em; padding-right: 1em; text-align: center; vertical-align: top\">cat</td>\n",
       "        <td style=\"padding-left: 1em; padding-right: 1em; text-align: center; vertical-align: top\">[0.5058419108390808, 0.0,<br>0.0, 0.0, ...</td>\n",
       "        <td style=\"padding-left: 1em; padding-right: 1em; text-align: center; vertical-align: top\">[184.0, 200.0, 197.0,<br>189.0, 203.0, 200.0, ...</td>\n",
       "    </tr>\n",
       "    <tr>\n",
       "        <td style=\"padding-left: 1em; padding-right: 1em; text-align: center; vertical-align: top\">882</td>\n",
       "        <td style=\"padding-left: 1em; padding-right: 1em; text-align: center; vertical-align: top\">Height: 32 Width: 32</td>\n",
       "        <td style=\"padding-left: 1em; padding-right: 1em; text-align: center; vertical-align: top\">cat</td>\n",
       "        <td style=\"padding-left: 1em; padding-right: 1em; text-align: center; vertical-align: top\">[0.0, 0.0,<br>0.15620028972625732,  ...</td>\n",
       "        <td style=\"padding-left: 1em; padding-right: 1em; text-align: center; vertical-align: top\">[141.0, 133.0, 112.0,<br>143.0, 133.0, 113.0, ...</td>\n",
       "    </tr>\n",
       "</table>\n",
       "[509 rows x 5 columns]<br/>Note: Only the head of the SFrame is printed.<br/>You can use print_rows(num_rows=m, num_columns=n) to print more rows and columns.\n",
       "</div>"
      ],
      "text/plain": [
       "Columns:\n",
       "\tid\tint\n",
       "\timage\tImage\n",
       "\tlabel\tstr\n",
       "\tdeep_features\tarray\n",
       "\timage_array\tarray\n",
       "\n",
       "Rows: 509\n",
       "\n",
       "Data:\n",
       "+-----+----------------------+-------+-------------------------------+\n",
       "|  id |        image         | label |         deep_features         |\n",
       "+-----+----------------------+-------+-------------------------------+\n",
       "|  33 | Height: 32 Width: 32 |  cat  | [0.5250879526138306, 0.0, ... |\n",
       "|  36 | Height: 32 Width: 32 |  cat  | [0.5660159587860107, 0.0, ... |\n",
       "| 159 | Height: 32 Width: 32 |  cat  | [0.0, 0.0, 0.0, 0.64327532... |\n",
       "| 331 | Height: 32 Width: 32 |  cat  | [0.0, 0.0, 0.5109639167785... |\n",
       "| 367 | Height: 32 Width: 32 |  cat  | [1.3865805864334106, 0.0, ... |\n",
       "| 384 | Height: 32 Width: 32 |  cat  | [1.0440353155136108, 0.0, ... |\n",
       "| 494 | Height: 32 Width: 32 |  cat  | [0.0, 0.0539512038230896, ... |\n",
       "| 597 | Height: 32 Width: 32 |  cat  | [0.0, 0.0, 0.0470637083053... |\n",
       "| 788 | Height: 32 Width: 32 |  cat  | [0.5058419108390808, 0.0, ... |\n",
       "| 882 | Height: 32 Width: 32 |  cat  | [0.0, 0.0, 0.1562002897262... |\n",
       "+-----+----------------------+-------+-------------------------------+\n",
       "+-------------------------------+\n",
       "|          image_array          |\n",
       "+-------------------------------+\n",
       "| [7.0, 5.0, 8.0, 7.0, 5.0, ... |\n",
       "| [169.0, 122.0, 65.0, 131.0... |\n",
       "| [154.0, 145.0, 135.0, 152.... |\n",
       "| [45.0, 65.0, 92.0, 72.0, 9... |\n",
       "| [168.0, 151.0, 143.0, 145.... |\n",
       "| [46.0, 45.0, 50.0, 47.0, 4... |\n",
       "| [26.0, 34.0, 29.0, 24.0, 2... |\n",
       "| [133.0, 153.0, 138.0, 126.... |\n",
       "| [184.0, 200.0, 197.0, 189.... |\n",
       "| [141.0, 133.0, 112.0, 143.... |\n",
       "+-------------------------------+\n",
       "[509 rows x 5 columns]\n",
       "Note: Only the head of the SFrame is printed.\n",
       "You can use print_rows(num_rows=m, num_columns=n) to print more rows and columns."
      ]
     },
     "execution_count": 50,
     "metadata": {},
     "output_type": "execute_result"
    }
   ],
   "source": [
    "cat_data_set = image_train_set.filter_by(['cat'], 'label')\n",
    "cat_data_set"
   ]
  },
  {
   "cell_type": "code",
   "execution_count": 45,
   "metadata": {},
   "outputs": [
    {
     "data": {
      "text/html": [
       "<div style=\"max-height:1000px;max-width:1500px;overflow:auto;\"><table frame=\"box\" rules=\"cols\">\n",
       "    <tr>\n",
       "        <th style=\"padding-left: 1em; padding-right: 1em; text-align: center\">id</th>\n",
       "        <th style=\"padding-left: 1em; padding-right: 1em; text-align: center\">image</th>\n",
       "        <th style=\"padding-left: 1em; padding-right: 1em; text-align: center\">label</th>\n",
       "        <th style=\"padding-left: 1em; padding-right: 1em; text-align: center\">deep_features</th>\n",
       "        <th style=\"padding-left: 1em; padding-right: 1em; text-align: center\">image_array</th>\n",
       "    </tr>\n",
       "    <tr>\n",
       "        <td style=\"padding-left: 1em; padding-right: 1em; text-align: center; vertical-align: top\">24</td>\n",
       "        <td style=\"padding-left: 1em; padding-right: 1em; text-align: center; vertical-align: top\">Height: 32 Width: 32</td>\n",
       "        <td style=\"padding-left: 1em; padding-right: 1em; text-align: center; vertical-align: top\">bird</td>\n",
       "        <td style=\"padding-left: 1em; padding-right: 1em; text-align: center; vertical-align: top\">[0.24287176132202148,<br>1.0954537391662598, 0.0, ...</td>\n",
       "        <td style=\"padding-left: 1em; padding-right: 1em; text-align: center; vertical-align: top\">[73.0, 77.0, 58.0, 71.0,<br>68.0, 50.0, 77.0, 69.0, ...</td>\n",
       "    </tr>\n",
       "    <tr>\n",
       "        <td style=\"padding-left: 1em; padding-right: 1em; text-align: center; vertical-align: top\">90</td>\n",
       "        <td style=\"padding-left: 1em; padding-right: 1em; text-align: center; vertical-align: top\">Height: 32 Width: 32</td>\n",
       "        <td style=\"padding-left: 1em; padding-right: 1em; text-align: center; vertical-align: top\">bird</td>\n",
       "        <td style=\"padding-left: 1em; padding-right: 1em; text-align: center; vertical-align: top\">[1.7178692817687988, 0.0,<br>0.0, 0.0, 0.0, 0.0, ...</td>\n",
       "        <td style=\"padding-left: 1em; padding-right: 1em; text-align: center; vertical-align: top\">[216.0, 195.0, 180.0,<br>201.0, 178.0, 160.0, ...</td>\n",
       "    </tr>\n",
       "    <tr>\n",
       "        <td style=\"padding-left: 1em; padding-right: 1em; text-align: center; vertical-align: top\">121</td>\n",
       "        <td style=\"padding-left: 1em; padding-right: 1em; text-align: center; vertical-align: top\">Height: 32 Width: 32</td>\n",
       "        <td style=\"padding-left: 1em; padding-right: 1em; text-align: center; vertical-align: top\">bird</td>\n",
       "        <td style=\"padding-left: 1em; padding-right: 1em; text-align: center; vertical-align: top\">[0.0,<br>0.23753464221954346,  ...</td>\n",
       "        <td style=\"padding-left: 1em; padding-right: 1em; text-align: center; vertical-align: top\">[93.0, 96.0, 88.0, 102.0,<br>106.0, 97.0, 117.0, ...</td>\n",
       "    </tr>\n",
       "    <tr>\n",
       "        <td style=\"padding-left: 1em; padding-right: 1em; text-align: center; vertical-align: top\">138</td>\n",
       "        <td style=\"padding-left: 1em; padding-right: 1em; text-align: center; vertical-align: top\">Height: 32 Width: 32</td>\n",
       "        <td style=\"padding-left: 1em; padding-right: 1em; text-align: center; vertical-align: top\">bird</td>\n",
       "        <td style=\"padding-left: 1em; padding-right: 1em; text-align: center; vertical-align: top\">[0.6589357256889343, 0.0,<br>0.0, 0.0, 0.0, 0.0, ...</td>\n",
       "        <td style=\"padding-left: 1em; padding-right: 1em; text-align: center; vertical-align: top\">[205.0, 193.0, 195.0,<br>200.0, 187.0, 193.0, ...</td>\n",
       "    </tr>\n",
       "    <tr>\n",
       "        <td style=\"padding-left: 1em; padding-right: 1em; text-align: center; vertical-align: top\">335</td>\n",
       "        <td style=\"padding-left: 1em; padding-right: 1em; text-align: center; vertical-align: top\">Height: 32 Width: 32</td>\n",
       "        <td style=\"padding-left: 1em; padding-right: 1em; text-align: center; vertical-align: top\">bird</td>\n",
       "        <td style=\"padding-left: 1em; padding-right: 1em; text-align: center; vertical-align: top\">[0.0, 0.0, 0.0, 0.0, 0.0,<br>0.0, 8.50706672668457, ...</td>\n",
       "        <td style=\"padding-left: 1em; padding-right: 1em; text-align: center; vertical-align: top\">[160.0, 159.0, 154.0,<br>162.0, 161.0, 156.0, ...</td>\n",
       "    </tr>\n",
       "    <tr>\n",
       "        <td style=\"padding-left: 1em; padding-right: 1em; text-align: center; vertical-align: top\">560</td>\n",
       "        <td style=\"padding-left: 1em; padding-right: 1em; text-align: center; vertical-align: top\">Height: 32 Width: 32</td>\n",
       "        <td style=\"padding-left: 1em; padding-right: 1em; text-align: center; vertical-align: top\">bird</td>\n",
       "        <td style=\"padding-left: 1em; padding-right: 1em; text-align: center; vertical-align: top\">[1.6915949583053589, 0.0,<br>0.0, 0.0, 0.0, 0.0, ...</td>\n",
       "        <td style=\"padding-left: 1em; padding-right: 1em; text-align: center; vertical-align: top\">[147.0, 138.0, 88.0,<br>151.0, 142.0, 92.0, ...</td>\n",
       "    </tr>\n",
       "    <tr>\n",
       "        <td style=\"padding-left: 1em; padding-right: 1em; text-align: center; vertical-align: top\">649</td>\n",
       "        <td style=\"padding-left: 1em; padding-right: 1em; text-align: center; vertical-align: top\">Height: 32 Width: 32</td>\n",
       "        <td style=\"padding-left: 1em; padding-right: 1em; text-align: center; vertical-align: top\">bird</td>\n",
       "        <td style=\"padding-left: 1em; padding-right: 1em; text-align: center; vertical-align: top\">[0.5111562013626099,<br>0.3241650462150574, 0.0, ...</td>\n",
       "        <td style=\"padding-left: 1em; padding-right: 1em; text-align: center; vertical-align: top\">[65.0, 127.0, 9.0, 127.0,<br>160.0, 15.0, 159.0, ...</td>\n",
       "    </tr>\n",
       "    <tr>\n",
       "        <td style=\"padding-left: 1em; padding-right: 1em; text-align: center; vertical-align: top\">775</td>\n",
       "        <td style=\"padding-left: 1em; padding-right: 1em; text-align: center; vertical-align: top\">Height: 32 Width: 32</td>\n",
       "        <td style=\"padding-left: 1em; padding-right: 1em; text-align: center; vertical-align: top\">bird</td>\n",
       "        <td style=\"padding-left: 1em; padding-right: 1em; text-align: center; vertical-align: top\">[0.0, 0.0, 0.0, 0.0, 0.0,<br>0.0, 10.012731552124023, ...</td>\n",
       "        <td style=\"padding-left: 1em; padding-right: 1em; text-align: center; vertical-align: top\">[29.0, 41.0, 25.0, 29.0,<br>42.0, 25.0, 28.0, 41.0, ...</td>\n",
       "    </tr>\n",
       "    <tr>\n",
       "        <td style=\"padding-left: 1em; padding-right: 1em; text-align: center; vertical-align: top\">802</td>\n",
       "        <td style=\"padding-left: 1em; padding-right: 1em; text-align: center; vertical-align: top\">Height: 32 Width: 32</td>\n",
       "        <td style=\"padding-left: 1em; padding-right: 1em; text-align: center; vertical-align: top\">bird</td>\n",
       "        <td style=\"padding-left: 1em; padding-right: 1em; text-align: center; vertical-align: top\">[0.2771667242050171, 0.0,<br>0.0, 0.0, 0.0, 0.0, ...</td>\n",
       "        <td style=\"padding-left: 1em; padding-right: 1em; text-align: center; vertical-align: top\">[233.0, 230.0, 173.0,<br>222.0, 218.0, 168.0, ...</td>\n",
       "    </tr>\n",
       "    <tr>\n",
       "        <td style=\"padding-left: 1em; padding-right: 1em; text-align: center; vertical-align: top\">975</td>\n",
       "        <td style=\"padding-left: 1em; padding-right: 1em; text-align: center; vertical-align: top\">Height: 32 Width: 32</td>\n",
       "        <td style=\"padding-left: 1em; padding-right: 1em; text-align: center; vertical-align: top\">bird</td>\n",
       "        <td style=\"padding-left: 1em; padding-right: 1em; text-align: center; vertical-align: top\">[0.0,<br>0.03367185592651367,  ...</td>\n",
       "        <td style=\"padding-left: 1em; padding-right: 1em; text-align: center; vertical-align: top\">[59.0, 180.0, 110.0,<br>88.0, 186.0, 117.0, ...</td>\n",
       "    </tr>\n",
       "</table>\n",
       "[478 rows x 5 columns]<br/>Note: Only the head of the SFrame is printed.<br/>You can use print_rows(num_rows=m, num_columns=n) to print more rows and columns.\n",
       "</div>"
      ],
      "text/plain": [
       "Columns:\n",
       "\tid\tint\n",
       "\timage\tImage\n",
       "\tlabel\tstr\n",
       "\tdeep_features\tarray\n",
       "\timage_array\tarray\n",
       "\n",
       "Rows: 478\n",
       "\n",
       "Data:\n",
       "+-----+----------------------+-------+-------------------------------+\n",
       "|  id |        image         | label |         deep_features         |\n",
       "+-----+----------------------+-------+-------------------------------+\n",
       "|  24 | Height: 32 Width: 32 |  bird | [0.24287176132202148, 1.09... |\n",
       "|  90 | Height: 32 Width: 32 |  bird | [1.7178692817687988, 0.0, ... |\n",
       "| 121 | Height: 32 Width: 32 |  bird | [0.0, 0.23753464221954346,... |\n",
       "| 138 | Height: 32 Width: 32 |  bird | [0.6589357256889343, 0.0, ... |\n",
       "| 335 | Height: 32 Width: 32 |  bird | [0.0, 0.0, 0.0, 0.0, 0.0, ... |\n",
       "| 560 | Height: 32 Width: 32 |  bird | [1.6915949583053589, 0.0, ... |\n",
       "| 649 | Height: 32 Width: 32 |  bird | [0.5111562013626099, 0.324... |\n",
       "| 775 | Height: 32 Width: 32 |  bird | [0.0, 0.0, 0.0, 0.0, 0.0, ... |\n",
       "| 802 | Height: 32 Width: 32 |  bird | [0.2771667242050171, 0.0, ... |\n",
       "| 975 | Height: 32 Width: 32 |  bird | [0.0, 0.03367185592651367,... |\n",
       "+-----+----------------------+-------+-------------------------------+\n",
       "+-------------------------------+\n",
       "|          image_array          |\n",
       "+-------------------------------+\n",
       "| [73.0, 77.0, 58.0, 71.0, 6... |\n",
       "| [216.0, 195.0, 180.0, 201.... |\n",
       "| [93.0, 96.0, 88.0, 102.0, ... |\n",
       "| [205.0, 193.0, 195.0, 200.... |\n",
       "| [160.0, 159.0, 154.0, 162.... |\n",
       "| [147.0, 138.0, 88.0, 151.0... |\n",
       "| [65.0, 127.0, 9.0, 127.0, ... |\n",
       "| [29.0, 41.0, 25.0, 29.0, 4... |\n",
       "| [233.0, 230.0, 173.0, 222.... |\n",
       "| [59.0, 180.0, 110.0, 88.0,... |\n",
       "+-------------------------------+\n",
       "[478 rows x 5 columns]\n",
       "Note: Only the head of the SFrame is printed.\n",
       "You can use print_rows(num_rows=m, num_columns=n) to print more rows and columns."
      ]
     },
     "execution_count": 45,
     "metadata": {},
     "output_type": "execute_result"
    }
   ],
   "source": [
    "bird_data_set = image_train_set[image_train_set['label'] == 'bird']\n",
    "bird_data_set"
   ]
  },
  {
   "cell_type": "markdown",
   "metadata": {},
   "source": [
    "## Build Nearest Neighbour Model"
   ]
  },
  {
   "cell_type": "code",
   "execution_count": 32,
   "metadata": {},
   "outputs": [
    {
     "data": {
      "text/html": [
       "<pre>Starting brute force nearest neighbors model training.</pre>"
      ],
      "text/plain": [
       "Starting brute force nearest neighbors model training."
      ]
     },
     "metadata": {},
     "output_type": "display_data"
    },
    {
     "data": {
      "text/html": [
       "<pre>Validating distance components.</pre>"
      ],
      "text/plain": [
       "Validating distance components."
      ]
     },
     "metadata": {},
     "output_type": "display_data"
    },
    {
     "data": {
      "text/html": [
       "<pre>Initializing model data.</pre>"
      ],
      "text/plain": [
       "Initializing model data."
      ]
     },
     "metadata": {},
     "output_type": "display_data"
    },
    {
     "data": {
      "text/html": [
       "<pre>Initializing distances.</pre>"
      ],
      "text/plain": [
       "Initializing distances."
      ]
     },
     "metadata": {},
     "output_type": "display_data"
    },
    {
     "data": {
      "text/html": [
       "<pre>Done.</pre>"
      ],
      "text/plain": [
       "Done."
      ]
     },
     "metadata": {},
     "output_type": "display_data"
    }
   ],
   "source": [
    "knn_model = turicreate.nearest_neighbors.create(image_train_set, features=['deep_features'], label= 'id')"
   ]
  },
  {
   "cell_type": "code",
   "execution_count": 33,
   "metadata": {},
   "outputs": [
    {
     "data": {
      "text/html": [
       "<pre>Starting pairwise querying.</pre>"
      ],
      "text/plain": [
       "Starting pairwise querying."
      ]
     },
     "metadata": {},
     "output_type": "display_data"
    },
    {
     "data": {
      "text/html": [
       "<pre>+--------------+---------+-------------+--------------+</pre>"
      ],
      "text/plain": [
       "+--------------+---------+-------------+--------------+"
      ]
     },
     "metadata": {},
     "output_type": "display_data"
    },
    {
     "data": {
      "text/html": [
       "<pre>| Query points | # Pairs | % Complete. | Elapsed Time |</pre>"
      ],
      "text/plain": [
       "| Query points | # Pairs | % Complete. | Elapsed Time |"
      ]
     },
     "metadata": {},
     "output_type": "display_data"
    },
    {
     "data": {
      "text/html": [
       "<pre>+--------------+---------+-------------+--------------+</pre>"
      ],
      "text/plain": [
       "+--------------+---------+-------------+--------------+"
      ]
     },
     "metadata": {},
     "output_type": "display_data"
    },
    {
     "data": {
      "text/html": [
       "<pre>| 0            | 1       | 0.0498753   | 5.58ms       |</pre>"
      ],
      "text/plain": [
       "| 0            | 1       | 0.0498753   | 5.58ms       |"
      ]
     },
     "metadata": {},
     "output_type": "display_data"
    },
    {
     "data": {
      "text/html": [
       "<pre>| Done         |         | 100         | 143.087ms    |</pre>"
      ],
      "text/plain": [
       "| Done         |         | 100         | 143.087ms    |"
      ]
     },
     "metadata": {},
     "output_type": "display_data"
    },
    {
     "data": {
      "text/html": [
       "<pre>+--------------+---------+-------------+--------------+</pre>"
      ],
      "text/plain": [
       "+--------------+---------+-------------+--------------+"
      ]
     },
     "metadata": {},
     "output_type": "display_data"
    },
    {
     "data": {
      "text/html": [
       "<div style=\"max-height:1000px;max-width:1500px;overflow:auto;\"><table frame=\"box\" rules=\"cols\">\n",
       "    <tr>\n",
       "        <th style=\"padding-left: 1em; padding-right: 1em; text-align: center\">query_label</th>\n",
       "        <th style=\"padding-left: 1em; padding-right: 1em; text-align: center\">reference_label</th>\n",
       "        <th style=\"padding-left: 1em; padding-right: 1em; text-align: center\">distance</th>\n",
       "        <th style=\"padding-left: 1em; padding-right: 1em; text-align: center\">rank</th>\n",
       "    </tr>\n",
       "    <tr>\n",
       "        <td style=\"padding-left: 1em; padding-right: 1em; text-align: center; vertical-align: top\">0</td>\n",
       "        <td style=\"padding-left: 1em; padding-right: 1em; text-align: center; vertical-align: top\">136</td>\n",
       "        <td style=\"padding-left: 1em; padding-right: 1em; text-align: center; vertical-align: top\">0.0</td>\n",
       "        <td style=\"padding-left: 1em; padding-right: 1em; text-align: center; vertical-align: top\">1</td>\n",
       "    </tr>\n",
       "    <tr>\n",
       "        <td style=\"padding-left: 1em; padding-right: 1em; text-align: center; vertical-align: top\">0</td>\n",
       "        <td style=\"padding-left: 1em; padding-right: 1em; text-align: center; vertical-align: top\">8977</td>\n",
       "        <td style=\"padding-left: 1em; padding-right: 1em; text-align: center; vertical-align: top\">32.31082225336061</td>\n",
       "        <td style=\"padding-left: 1em; padding-right: 1em; text-align: center; vertical-align: top\">2</td>\n",
       "    </tr>\n",
       "    <tr>\n",
       "        <td style=\"padding-left: 1em; padding-right: 1em; text-align: center; vertical-align: top\">0</td>\n",
       "        <td style=\"padding-left: 1em; padding-right: 1em; text-align: center; vertical-align: top\">44395</td>\n",
       "        <td style=\"padding-left: 1em; padding-right: 1em; text-align: center; vertical-align: top\">33.925377945373526</td>\n",
       "        <td style=\"padding-left: 1em; padding-right: 1em; text-align: center; vertical-align: top\">3</td>\n",
       "    </tr>\n",
       "    <tr>\n",
       "        <td style=\"padding-left: 1em; padding-right: 1em; text-align: center; vertical-align: top\">0</td>\n",
       "        <td style=\"padding-left: 1em; padding-right: 1em; text-align: center; vertical-align: top\">33261</td>\n",
       "        <td style=\"padding-left: 1em; padding-right: 1em; text-align: center; vertical-align: top\">35.02313415362676</td>\n",
       "        <td style=\"padding-left: 1em; padding-right: 1em; text-align: center; vertical-align: top\">4</td>\n",
       "    </tr>\n",
       "    <tr>\n",
       "        <td style=\"padding-left: 1em; padding-right: 1em; text-align: center; vertical-align: top\">0</td>\n",
       "        <td style=\"padding-left: 1em; padding-right: 1em; text-align: center; vertical-align: top\">24146</td>\n",
       "        <td style=\"padding-left: 1em; padding-right: 1em; text-align: center; vertical-align: top\">35.37682354971551</td>\n",
       "        <td style=\"padding-left: 1em; padding-right: 1em; text-align: center; vertical-align: top\">5</td>\n",
       "    </tr>\n",
       "</table>\n",
       "[5 rows x 4 columns]<br/>\n",
       "</div>"
      ],
      "text/plain": [
       "Columns:\n",
       "\tquery_label\tint\n",
       "\treference_label\tint\n",
       "\tdistance\tfloat\n",
       "\trank\tint\n",
       "\n",
       "Rows: 5\n",
       "\n",
       "Data:\n",
       "+-------------+-----------------+--------------------+------+\n",
       "| query_label | reference_label |      distance      | rank |\n",
       "+-------------+-----------------+--------------------+------+\n",
       "|      0      |       136       |        0.0         |  1   |\n",
       "|      0      |       8977      | 32.31082225336061  |  2   |\n",
       "|      0      |      44395      | 33.925377945373526 |  3   |\n",
       "|      0      |      33261      | 35.02313415362676  |  4   |\n",
       "|      0      |      24146      | 35.37682354971551  |  5   |\n",
       "+-------------+-----------------+--------------------+------+\n",
       "[5 rows x 4 columns]"
      ]
     },
     "execution_count": 33,
     "metadata": {},
     "output_type": "execute_result"
    }
   ],
   "source": [
    "knn_model.query(image_train_set[8:9])"
   ]
  },
  {
   "cell_type": "code",
   "execution_count": 51,
   "metadata": {},
   "outputs": [
    {
     "data": {
      "text/html": [
       "<pre>Starting brute force nearest neighbors model training.</pre>"
      ],
      "text/plain": [
       "Starting brute force nearest neighbors model training."
      ]
     },
     "metadata": {},
     "output_type": "display_data"
    },
    {
     "data": {
      "text/html": [
       "<pre>Validating distance components.</pre>"
      ],
      "text/plain": [
       "Validating distance components."
      ]
     },
     "metadata": {},
     "output_type": "display_data"
    },
    {
     "data": {
      "text/html": [
       "<pre>Initializing model data.</pre>"
      ],
      "text/plain": [
       "Initializing model data."
      ]
     },
     "metadata": {},
     "output_type": "display_data"
    },
    {
     "data": {
      "text/html": [
       "<pre>Initializing distances.</pre>"
      ],
      "text/plain": [
       "Initializing distances."
      ]
     },
     "metadata": {},
     "output_type": "display_data"
    },
    {
     "data": {
      "text/html": [
       "<pre>Done.</pre>"
      ],
      "text/plain": [
       "Done."
      ]
     },
     "metadata": {},
     "output_type": "display_data"
    },
    {
     "data": {
      "text/html": [
       "<pre>Starting brute force nearest neighbors model training.</pre>"
      ],
      "text/plain": [
       "Starting brute force nearest neighbors model training."
      ]
     },
     "metadata": {},
     "output_type": "display_data"
    },
    {
     "data": {
      "text/html": [
       "<pre>Validating distance components.</pre>"
      ],
      "text/plain": [
       "Validating distance components."
      ]
     },
     "metadata": {},
     "output_type": "display_data"
    },
    {
     "data": {
      "text/html": [
       "<pre>Initializing model data.</pre>"
      ],
      "text/plain": [
       "Initializing model data."
      ]
     },
     "metadata": {},
     "output_type": "display_data"
    },
    {
     "data": {
      "text/html": [
       "<pre>Initializing distances.</pre>"
      ],
      "text/plain": [
       "Initializing distances."
      ]
     },
     "metadata": {},
     "output_type": "display_data"
    },
    {
     "data": {
      "text/html": [
       "<pre>Done.</pre>"
      ],
      "text/plain": [
       "Done."
      ]
     },
     "metadata": {},
     "output_type": "display_data"
    },
    {
     "data": {
      "text/html": [
       "<pre>Starting brute force nearest neighbors model training.</pre>"
      ],
      "text/plain": [
       "Starting brute force nearest neighbors model training."
      ]
     },
     "metadata": {},
     "output_type": "display_data"
    },
    {
     "data": {
      "text/html": [
       "<pre>Validating distance components.</pre>"
      ],
      "text/plain": [
       "Validating distance components."
      ]
     },
     "metadata": {},
     "output_type": "display_data"
    },
    {
     "data": {
      "text/html": [
       "<pre>Initializing model data.</pre>"
      ],
      "text/plain": [
       "Initializing model data."
      ]
     },
     "metadata": {},
     "output_type": "display_data"
    },
    {
     "data": {
      "text/html": [
       "<pre>Initializing distances.</pre>"
      ],
      "text/plain": [
       "Initializing distances."
      ]
     },
     "metadata": {},
     "output_type": "display_data"
    },
    {
     "data": {
      "text/html": [
       "<pre>Done.</pre>"
      ],
      "text/plain": [
       "Done."
      ]
     },
     "metadata": {},
     "output_type": "display_data"
    },
    {
     "data": {
      "text/html": [
       "<pre>Starting brute force nearest neighbors model training.</pre>"
      ],
      "text/plain": [
       "Starting brute force nearest neighbors model training."
      ]
     },
     "metadata": {},
     "output_type": "display_data"
    },
    {
     "data": {
      "text/html": [
       "<pre>Validating distance components.</pre>"
      ],
      "text/plain": [
       "Validating distance components."
      ]
     },
     "metadata": {},
     "output_type": "display_data"
    },
    {
     "data": {
      "text/html": [
       "<pre>Initializing model data.</pre>"
      ],
      "text/plain": [
       "Initializing model data."
      ]
     },
     "metadata": {},
     "output_type": "display_data"
    },
    {
     "data": {
      "text/html": [
       "<pre>Initializing distances.</pre>"
      ],
      "text/plain": [
       "Initializing distances."
      ]
     },
     "metadata": {},
     "output_type": "display_data"
    },
    {
     "data": {
      "text/html": [
       "<pre>Done.</pre>"
      ],
      "text/plain": [
       "Done."
      ]
     },
     "metadata": {},
     "output_type": "display_data"
    }
   ],
   "source": [
    "cat_model = turicreate.nearest_neighbors.create(cat_data_set, features=['deep_features'], label= 'id')\n",
    "car_model = turicreate.nearest_neighbors.create(car_data_set, features=['deep_features'], label= 'id')\n",
    "dog_model = turicreate.nearest_neighbors.create(dog_data_set, features=['deep_features'], label= 'id')\n",
    "bird_model = turicreate.nearest_neighbors.create(bird_data_set, features=['deep_features'], label= 'id')\n"
   ]
  },
  {
   "cell_type": "code",
   "execution_count": 54,
   "metadata": {},
   "outputs": [
    {
     "data": {
      "text/html": [
       "<pre>Starting pairwise querying.</pre>"
      ],
      "text/plain": [
       "Starting pairwise querying."
      ]
     },
     "metadata": {},
     "output_type": "display_data"
    },
    {
     "data": {
      "text/html": [
       "<pre>+--------------+---------+-------------+--------------+</pre>"
      ],
      "text/plain": [
       "+--------------+---------+-------------+--------------+"
      ]
     },
     "metadata": {},
     "output_type": "display_data"
    },
    {
     "data": {
      "text/html": [
       "<pre>| Query points | # Pairs | % Complete. | Elapsed Time |</pre>"
      ],
      "text/plain": [
       "| Query points | # Pairs | % Complete. | Elapsed Time |"
      ]
     },
     "metadata": {},
     "output_type": "display_data"
    },
    {
     "data": {
      "text/html": [
       "<pre>+--------------+---------+-------------+--------------+</pre>"
      ],
      "text/plain": [
       "+--------------+---------+-------------+--------------+"
      ]
     },
     "metadata": {},
     "output_type": "display_data"
    },
    {
     "data": {
      "text/html": [
       "<pre>| 0            | 1       | 0.196464    | 677.606ms    |</pre>"
      ],
      "text/plain": [
       "| 0            | 1       | 0.196464    | 677.606ms    |"
      ]
     },
     "metadata": {},
     "output_type": "display_data"
    },
    {
     "data": {
      "text/html": [
       "<pre>| Done         |         | 100         | 768.906ms    |</pre>"
      ],
      "text/plain": [
       "| Done         |         | 100         | 768.906ms    |"
      ]
     },
     "metadata": {},
     "output_type": "display_data"
    },
    {
     "data": {
      "text/html": [
       "<pre>+--------------+---------+-------------+--------------+</pre>"
      ],
      "text/plain": [
       "+--------------+---------+-------------+--------------+"
      ]
     },
     "metadata": {},
     "output_type": "display_data"
    },
    {
     "data": {
      "text/html": [
       "<div style=\"max-height:1000px;max-width:1500px;overflow:auto;\"><table frame=\"box\" rules=\"cols\">\n",
       "    <tr>\n",
       "        <th style=\"padding-left: 1em; padding-right: 1em; text-align: center\">query_label</th>\n",
       "        <th style=\"padding-left: 1em; padding-right: 1em; text-align: center\">reference_label</th>\n",
       "        <th style=\"padding-left: 1em; padding-right: 1em; text-align: center\">distance</th>\n",
       "        <th style=\"padding-left: 1em; padding-right: 1em; text-align: center\">rank</th>\n",
       "    </tr>\n",
       "    <tr>\n",
       "        <td style=\"padding-left: 1em; padding-right: 1em; text-align: center; vertical-align: top\">0</td>\n",
       "        <td style=\"padding-left: 1em; padding-right: 1em; text-align: center; vertical-align: top\">159</td>\n",
       "        <td style=\"padding-left: 1em; padding-right: 1em; text-align: center; vertical-align: top\">0.0</td>\n",
       "        <td style=\"padding-left: 1em; padding-right: 1em; text-align: center; vertical-align: top\">1</td>\n",
       "    </tr>\n",
       "    <tr>\n",
       "        <td style=\"padding-left: 1em; padding-right: 1em; text-align: center; vertical-align: top\">0</td>\n",
       "        <td style=\"padding-left: 1em; padding-right: 1em; text-align: center; vertical-align: top\">46659</td>\n",
       "        <td style=\"padding-left: 1em; padding-right: 1em; text-align: center; vertical-align: top\">39.93503244982725</td>\n",
       "        <td style=\"padding-left: 1em; padding-right: 1em; text-align: center; vertical-align: top\">2</td>\n",
       "    </tr>\n",
       "    <tr>\n",
       "        <td style=\"padding-left: 1em; padding-right: 1em; text-align: center; vertical-align: top\">0</td>\n",
       "        <td style=\"padding-left: 1em; padding-right: 1em; text-align: center; vertical-align: top\">8880</td>\n",
       "        <td style=\"padding-left: 1em; padding-right: 1em; text-align: center; vertical-align: top\">40.4244660035108</td>\n",
       "        <td style=\"padding-left: 1em; padding-right: 1em; text-align: center; vertical-align: top\">3</td>\n",
       "    </tr>\n",
       "    <tr>\n",
       "        <td style=\"padding-left: 1em; padding-right: 1em; text-align: center; vertical-align: top\">0</td>\n",
       "        <td style=\"padding-left: 1em; padding-right: 1em; text-align: center; vertical-align: top\">2501</td>\n",
       "        <td style=\"padding-left: 1em; padding-right: 1em; text-align: center; vertical-align: top\">41.49943514563835</td>\n",
       "        <td style=\"padding-left: 1em; padding-right: 1em; text-align: center; vertical-align: top\">4</td>\n",
       "    </tr>\n",
       "    <tr>\n",
       "        <td style=\"padding-left: 1em; padding-right: 1em; text-align: center; vertical-align: top\">0</td>\n",
       "        <td style=\"padding-left: 1em; padding-right: 1em; text-align: center; vertical-align: top\">44898</td>\n",
       "        <td style=\"padding-left: 1em; padding-right: 1em; text-align: center; vertical-align: top\">41.56891623382181</td>\n",
       "        <td style=\"padding-left: 1em; padding-right: 1em; text-align: center; vertical-align: top\">5</td>\n",
       "    </tr>\n",
       "</table>\n",
       "[5 rows x 4 columns]<br/>\n",
       "</div>"
      ],
      "text/plain": [
       "Columns:\n",
       "\tquery_label\tint\n",
       "\treference_label\tint\n",
       "\tdistance\tfloat\n",
       "\trank\tint\n",
       "\n",
       "Rows: 5\n",
       "\n",
       "Data:\n",
       "+-------------+-----------------+-------------------+------+\n",
       "| query_label | reference_label |      distance     | rank |\n",
       "+-------------+-----------------+-------------------+------+\n",
       "|      0      |       159       |        0.0        |  1   |\n",
       "|      0      |      46659      | 39.93503244982725 |  2   |\n",
       "|      0      |       8880      |  40.4244660035108 |  3   |\n",
       "|      0      |       2501      | 41.49943514563835 |  4   |\n",
       "|      0      |      44898      | 41.56891623382181 |  5   |\n",
       "+-------------+-----------------+-------------------+------+\n",
       "[5 rows x 4 columns]"
      ]
     },
     "execution_count": 54,
     "metadata": {},
     "output_type": "execute_result"
    }
   ],
   "source": [
    "cat_model.query(cat_data_set[2:3])"
   ]
  },
  {
   "cell_type": "code",
   "execution_count": 55,
   "metadata": {},
   "outputs": [],
   "source": [
    "def get_images_from_id(query_result):\n",
    "    return image_train_set.filter_by(query_result['reference_label'],'id')"
   ]
  },
  {
   "cell_type": "code",
   "execution_count": 56,
   "metadata": {},
   "outputs": [],
   "source": [
    "find_neighbours = lambda i:get_images_from_id(knn_model.query(image_train_set[i:i+1]))['image'].explore()"
   ]
  },
  {
   "cell_type": "code",
   "execution_count": 57,
   "metadata": {},
   "outputs": [
    {
     "data": {
      "text/html": [
       "<pre>Starting pairwise querying.</pre>"
      ],
      "text/plain": [
       "Starting pairwise querying."
      ]
     },
     "metadata": {},
     "output_type": "display_data"
    },
    {
     "data": {
      "text/html": [
       "<pre>+--------------+---------+-------------+--------------+</pre>"
      ],
      "text/plain": [
       "+--------------+---------+-------------+--------------+"
      ]
     },
     "metadata": {},
     "output_type": "display_data"
    },
    {
     "data": {
      "text/html": [
       "<pre>| Query points | # Pairs | % Complete. | Elapsed Time |</pre>"
      ],
      "text/plain": [
       "| Query points | # Pairs | % Complete. | Elapsed Time |"
      ]
     },
     "metadata": {},
     "output_type": "display_data"
    },
    {
     "data": {
      "text/html": [
       "<pre>+--------------+---------+-------------+--------------+</pre>"
      ],
      "text/plain": [
       "+--------------+---------+-------------+--------------+"
      ]
     },
     "metadata": {},
     "output_type": "display_data"
    },
    {
     "data": {
      "text/html": [
       "<pre>| 0            | 1       | 0.0498753   | 6.611ms      |</pre>"
      ],
      "text/plain": [
       "| 0            | 1       | 0.0498753   | 6.611ms      |"
      ]
     },
     "metadata": {},
     "output_type": "display_data"
    },
    {
     "data": {
      "text/html": [
       "<pre>| Done         |         | 100         | 136.813ms    |</pre>"
      ],
      "text/plain": [
       "| Done         |         | 100         | 136.813ms    |"
      ]
     },
     "metadata": {},
     "output_type": "display_data"
    },
    {
     "data": {
      "text/html": [
       "<pre>+--------------+---------+-------------+--------------+</pre>"
      ],
      "text/plain": [
       "+--------------+---------+-------------+--------------+"
      ]
     },
     "metadata": {},
     "output_type": "display_data"
    },
    {
     "data": {
      "text/html": [
       "<html lang=\"en\">                                                     <head>                                                               <style>                                                              .sframe {                                                            font-size: 12px;                                                   font-family: HelveticaNeue;                                        border: 1px solid silver;                                        }                                                                  .sframe thead th {                                                   background: #F7F7F7;                                               font-family: HelveticaNeue-Medium;                                 font-size: 14px;                                                   line-height: 16.8px;                                               padding-top: 16px;                                                 padding-bottom: 16px;                                              padding-left: 10px;                                                padding-right: 38px;                                               border-top: 1px solid #E9E9E9;                                     border-bottom: 1px solid #E9E9E9;                                  white-space: nowrap;                                               overflow: hidden;                                                  text-overflow:ellipsis;                                            text-align:center;                                                 font-weight:normal;                                              }                                                                  .sframe tbody th {                                                   background: #FFFFFF;                                               text-align:left;                                                   font-weight:normal;                                                border-right: 1px solid #E9E9E9;                                 }                                                                  .sframe td {                                                         background: #FFFFFF;                                               padding-left: 10px;                                                padding-right: 38px;                                               padding-top: 14px;                                                 padding-bottom: 14px;                                              border-bottom: 1px solid #E9E9E9;                                  max-height: 0px;                                                   transition: max-height 5s ease-out;                                vertical-align: middle;                                            font-family: HelveticaNeue;                                        font-size: 12px;                                                   line-height: 16.8px;                                               background: #FFFFFF;                                             }                                                                  .sframe tr {                                                         padding-left: 10px;                                                padding-right: 38px;                                               padding-top: 14px;                                                 padding-bottom: 14px;                                              border-bottom: 1px solid #E9E9E9;                                  max-height: 0px;                                                   transition: max-height 5s ease-out;                                vertical-align: middle;                                            font-family: HelveticaNeue;                                        font-size: 12px;                                                   line-height: 16.8px;                                               background: #FFFFFF;                                             }                                                                  .sframe tr:hover {                                                   background: silver;                                              },                                                               </style>                                                         </head>                                                            <body>                                                               <h1>  </h1>                                             <table border=\"1\" class=\"dataframe sframe\">\n",
       "  <thead>\n",
       "    <tr style=\"text-align: right;\">\n",
       "      <th></th>\n",
       "      <th>SArray</th>\n",
       "    </tr>\n",
       "  </thead>\n",
       "  <tbody>\n",
       "    <tr>\n",
       "      <th>0</th>\n",
       "      <td><img src=\"data:image/png;base64,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\"/></td>\n",
       "    </tr>\n",
       "    <tr>\n",
       "      <th>1</th>\n",
       "      <td><img src=\"data:image/png;base64,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\"/></td>\n",
       "    </tr>\n",
       "    <tr>\n",
       "      <th>2</th>\n",
       "      <td><img src=\"data:image/png;base64,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\"/></td>\n",
       "    </tr>\n",
       "    <tr>\n",
       "      <th>3</th>\n",
       "      <td><img src=\"data:image/png;base64,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\"/></td>\n",
       "    </tr>\n",
       "    <tr>\n",
       "      <th>4</th>\n",
       "      <td><img src=\"data:image/png;base64,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\"/></td>\n",
       "    </tr>\n",
       "  </tbody>\n",
       "</table>                          </body>                                                          </html>"
      ],
      "text/plain": [
       "<IPython.core.display.HTML object>"
      ]
     },
     "metadata": {},
     "output_type": "display_data"
    }
   ],
   "source": [
    "find_neighbours(8)"
   ]
  },
  {
   "cell_type": "markdown",
   "metadata": {},
   "source": [
    "## Category specific Image Retrieval"
   ]
  },
  {
   "cell_type": "code",
   "execution_count": 64,
   "metadata": {},
   "outputs": [
    {
     "data": {
      "text/plain": [
       "turicreate.data_structures.sframe.SFrame"
      ]
     },
     "execution_count": 64,
     "metadata": {},
     "output_type": "execute_result"
    }
   ],
   "source": [
    "type(image_test_set)"
   ]
  },
  {
   "cell_type": "markdown",
   "metadata": {},
   "source": [
    "# "
   ]
  },
  {
   "cell_type": "code",
   "execution_count": null,
   "metadata": {},
   "outputs": [],
   "source": []
  }
 ],
 "metadata": {
  "kernelspec": {
   "display_name": "Python 3",
   "language": "python",
   "name": "python3"
  },
  "language_info": {
   "codemirror_mode": {
    "name": "ipython",
    "version": 3
   },
   "file_extension": ".py",
   "mimetype": "text/x-python",
   "name": "python",
   "nbconvert_exporter": "python",
   "pygments_lexer": "ipython3",
   "version": "3.7.7"
  }
 },
 "nbformat": 4,
 "nbformat_minor": 4
}
